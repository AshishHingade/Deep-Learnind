{
 "cells": [
  {
   "cell_type": "code",
   "execution_count": 3,
   "metadata": {},
   "outputs": [
    {
     "name": "stdout",
     "output_type": "stream",
     "text": [
      "[{'asin': 'B074R8RQQ2', 'product_name': 'Maxracy 2 Set Peeler Silicone Easy Roll Tube Useful Garlic Odorfree Kitchen Tool (Red,Blue)', 'current_price': 6.59, 'is_prime': True, 'image_url': 'https://m.media-amazon.com/images/I/41EtHJCNHiL.jpg', 'locale': 'US', 'currency_symbol': '$'}, {'asin': 'B005YQZ1KE', 'product_name': 'T-fal Initiatives Nonstick Cookware Set 18 Piece Oven Safe 350F Pots and Pans, Dishwasher Safe Black', 'current_price': 95.99, 'is_prime': True, 'image_url': 'https://m.media-amazon.com/images/I/41pLhSHcuAL.jpg', 'locale': 'US', 'currency_symbol': '$'}, {'asin': 'B0CGY2KM7S', 'product_name': 'Bold N3 | 2023 | 5G | 3-Day Battery | Unlocked | 6.78” FHD+3D AMOLED Display | 256/8GB | Triple AI 50MP | NFC Capable | US Version | US Warranty | Sage Green', 'current_price': 249.99, 'is_prime': True, 'image_url': 'https://m.media-amazon.com/images/I/41sX9Ucwo3L.jpg', 'locale': 'US', 'currency_symbol': '$'}]\n"
     ]
    }
   ],
   "source": [
    "import requests\n",
    "\n",
    "url = \"https://amazon-product-price-data.p.rapidapi.com/product\"\n",
    "\n",
    "querystring = {\"asins\":\"B005YQZ1KE,B074R8RQQ2,B0CGY2KM7S\",\"locale\":\"US\"}\n",
    "\n",
    "headers = {\n",
    "\t\"X-RapidAPI-Key\": \"c088d6f555msh771a1ed9f26b90bp1ce178jsn5db0e0148ae0\",\n",
    "\t\"X-RapidAPI-Host\": \"amazon-product-price-data.p.rapidapi.com\"\n",
    "}\n",
    "\n",
    "response = requests.get(url, headers=headers, params=querystring)\n",
    "\n",
    "print(response.json())"
   ]
  },
  {
   "cell_type": "code",
   "execution_count": 4,
   "metadata": {},
   "outputs": [
    {
     "data": {
      "text/plain": [
       "[{'asin': 'B074R8RQQ2',\n",
       "  'product_name': 'Maxracy 2 Set Peeler Silicone Easy Roll Tube Useful Garlic Odorfree Kitchen Tool (Red,Blue)',\n",
       "  'current_price': 6.59,\n",
       "  'is_prime': True,\n",
       "  'image_url': 'https://m.media-amazon.com/images/I/41EtHJCNHiL.jpg',\n",
       "  'locale': 'US',\n",
       "  'currency_symbol': '$'},\n",
       " {'asin': 'B005YQZ1KE',\n",
       "  'product_name': 'T-fal Initiatives Nonstick Cookware Set 18 Piece Oven Safe 350F Pots and Pans, Dishwasher Safe Black',\n",
       "  'current_price': 95.99,\n",
       "  'is_prime': True,\n",
       "  'image_url': 'https://m.media-amazon.com/images/I/41pLhSHcuAL.jpg',\n",
       "  'locale': 'US',\n",
       "  'currency_symbol': '$'},\n",
       " {'asin': 'B0CGY2KM7S',\n",
       "  'product_name': 'Bold N3 | 2023 | 5G | 3-Day Battery | Unlocked | 6.78” FHD+3D AMOLED Display | 256/8GB | Triple AI 50MP | NFC Capable | US Version | US Warranty | Sage Green',\n",
       "  'current_price': 249.99,\n",
       "  'is_prime': True,\n",
       "  'image_url': 'https://m.media-amazon.com/images/I/41sX9Ucwo3L.jpg',\n",
       "  'locale': 'US',\n",
       "  'currency_symbol': '$'}]"
      ]
     },
     "execution_count": 4,
     "metadata": {},
     "output_type": "execute_result"
    }
   ],
   "source": [
    "data=response.json()\n",
    "data"
   ]
  },
  {
   "cell_type": "code",
   "execution_count": 5,
   "metadata": {},
   "outputs": [
    {
     "data": {
      "text/plain": [
       "3"
      ]
     },
     "execution_count": 5,
     "metadata": {},
     "output_type": "execute_result"
    }
   ],
   "source": [
    "len(data)"
   ]
  },
  {
   "cell_type": "code",
   "execution_count": 6,
   "metadata": {},
   "outputs": [
    {
     "name": "stdout",
     "output_type": "stream",
     "text": [
      "{'asin': 'B074R8RQQ2', 'product_name': 'Maxracy 2 Set Peeler Silicone Easy Roll Tube Useful Garlic Odorfree Kitchen Tool (Red,Blue)', 'current_price': 6.59, 'is_prime': True, 'image_url': 'https://m.media-amazon.com/images/I/41EtHJCNHiL.jpg', 'locale': 'US', 'currency_symbol': '$'}\n",
      "{'asin': 'B005YQZ1KE', 'product_name': 'T-fal Initiatives Nonstick Cookware Set 18 Piece Oven Safe 350F Pots and Pans, Dishwasher Safe Black', 'current_price': 95.99, 'is_prime': True, 'image_url': 'https://m.media-amazon.com/images/I/41pLhSHcuAL.jpg', 'locale': 'US', 'currency_symbol': '$'}\n",
      "{'asin': 'B0CGY2KM7S', 'product_name': 'Bold N3 | 2023 | 5G | 3-Day Battery | Unlocked | 6.78” FHD+3D AMOLED Display | 256/8GB | Triple AI 50MP | NFC Capable | US Version | US Warranty | Sage Green', 'current_price': 249.99, 'is_prime': True, 'image_url': 'https://m.media-amazon.com/images/I/41sX9Ucwo3L.jpg', 'locale': 'US', 'currency_symbol': '$'}\n"
     ]
    }
   ],
   "source": [
    "for i in data:\n",
    "    print(i)"
   ]
  },
  {
   "cell_type": "markdown",
   "metadata": {},
   "source": [
    "## Create list"
   ]
  },
  {
   "cell_type": "code",
   "execution_count": 7,
   "metadata": {},
   "outputs": [],
   "source": [
    "asin=[]\n",
    "product_name=[]\n",
    "current_price=[]\n",
    "for i in data:\n",
    "    asin.append(i['asin'])\n",
    "    product_name.append(i['product_name'])\n",
    "    current_price.append(i['current_price'])"
   ]
  },
  {
   "cell_type": "code",
   "execution_count": 8,
   "metadata": {},
   "outputs": [
    {
     "data": {
      "text/plain": [
       "['B074R8RQQ2', 'B005YQZ1KE', 'B0CGY2KM7S']"
      ]
     },
     "execution_count": 8,
     "metadata": {},
     "output_type": "execute_result"
    }
   ],
   "source": [
    "asin"
   ]
  },
  {
   "cell_type": "code",
   "execution_count": 9,
   "metadata": {},
   "outputs": [
    {
     "data": {
      "text/plain": [
       "['Maxracy 2 Set Peeler Silicone Easy Roll Tube Useful Garlic Odorfree Kitchen Tool (Red,Blue)',\n",
       " 'T-fal Initiatives Nonstick Cookware Set 18 Piece Oven Safe 350F Pots and Pans, Dishwasher Safe Black',\n",
       " 'Bold N3 | 2023 | 5G | 3-Day Battery | Unlocked | 6.78” FHD+3D AMOLED Display | 256/8GB | Triple AI 50MP | NFC Capable | US Version | US Warranty | Sage Green']"
      ]
     },
     "execution_count": 9,
     "metadata": {},
     "output_type": "execute_result"
    }
   ],
   "source": [
    "product_name"
   ]
  },
  {
   "cell_type": "code",
   "execution_count": 10,
   "metadata": {},
   "outputs": [
    {
     "data": {
      "text/plain": [
       "[6.59, 95.99, 249.99]"
      ]
     },
     "execution_count": 10,
     "metadata": {},
     "output_type": "execute_result"
    }
   ],
   "source": [
    "current_price"
   ]
  },
  {
   "cell_type": "markdown",
   "metadata": {},
   "source": [
    "## Convert into data frame"
   ]
  },
  {
   "cell_type": "code",
   "execution_count": 11,
   "metadata": {},
   "outputs": [],
   "source": [
    "dct={'asin':asin,\n",
    "     'product_name':product_name,\n",
    "     'current_price':current_price\n",
    "}"
   ]
  },
  {
   "cell_type": "code",
   "execution_count": 12,
   "metadata": {},
   "outputs": [
    {
     "data": {
      "text/html": [
       "<div>\n",
       "<style scoped>\n",
       "    .dataframe tbody tr th:only-of-type {\n",
       "        vertical-align: middle;\n",
       "    }\n",
       "\n",
       "    .dataframe tbody tr th {\n",
       "        vertical-align: top;\n",
       "    }\n",
       "\n",
       "    .dataframe thead th {\n",
       "        text-align: right;\n",
       "    }\n",
       "</style>\n",
       "<table border=\"1\" class=\"dataframe\">\n",
       "  <thead>\n",
       "    <tr style=\"text-align: right;\">\n",
       "      <th></th>\n",
       "      <th>asin</th>\n",
       "      <th>product_name</th>\n",
       "      <th>current_price</th>\n",
       "    </tr>\n",
       "  </thead>\n",
       "  <tbody>\n",
       "    <tr>\n",
       "      <th>0</th>\n",
       "      <td>B074R8RQQ2</td>\n",
       "      <td>Maxracy 2 Set Peeler Silicone Easy Roll Tube U...</td>\n",
       "      <td>6.59</td>\n",
       "    </tr>\n",
       "    <tr>\n",
       "      <th>1</th>\n",
       "      <td>B005YQZ1KE</td>\n",
       "      <td>T-fal Initiatives Nonstick Cookware Set 18 Pie...</td>\n",
       "      <td>95.99</td>\n",
       "    </tr>\n",
       "    <tr>\n",
       "      <th>2</th>\n",
       "      <td>B0CGY2KM7S</td>\n",
       "      <td>Bold N3 | 2023 | 5G | 3-Day Battery | Unlocked...</td>\n",
       "      <td>249.99</td>\n",
       "    </tr>\n",
       "  </tbody>\n",
       "</table>\n",
       "</div>"
      ],
      "text/plain": [
       "         asin                                       product_name  \\\n",
       "0  B074R8RQQ2  Maxracy 2 Set Peeler Silicone Easy Roll Tube U...   \n",
       "1  B005YQZ1KE  T-fal Initiatives Nonstick Cookware Set 18 Pie...   \n",
       "2  B0CGY2KM7S  Bold N3 | 2023 | 5G | 3-Day Battery | Unlocked...   \n",
       "\n",
       "   current_price  \n",
       "0           6.59  \n",
       "1          95.99  \n",
       "2         249.99  "
      ]
     },
     "execution_count": 12,
     "metadata": {},
     "output_type": "execute_result"
    }
   ],
   "source": [
    "import pandas as pd\n",
    "df=pd.DataFrame(dct)\n",
    "df"
   ]
  },
  {
   "cell_type": "code",
   "execution_count": null,
   "metadata": {},
   "outputs": [],
   "source": []
  }
 ],
 "metadata": {
  "kernelspec": {
   "display_name": "venv",
   "language": "python",
   "name": "python3"
  },
  "language_info": {
   "codemirror_mode": {
    "name": "ipython",
    "version": 3
   },
   "file_extension": ".py",
   "mimetype": "text/x-python",
   "name": "python",
   "nbconvert_exporter": "python",
   "pygments_lexer": "ipython3",
   "version": "3.10.9"
  }
 },
 "nbformat": 4,
 "nbformat_minor": 2
}
