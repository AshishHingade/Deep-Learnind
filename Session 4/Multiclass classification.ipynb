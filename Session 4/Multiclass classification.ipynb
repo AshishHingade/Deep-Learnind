{
 "cells": [
  {
   "cell_type": "markdown",
   "metadata": {},
   "source": [
    "## Multiclass classification"
   ]
  },
  {
   "cell_type": "code",
   "execution_count": 1,
   "metadata": {},
   "outputs": [],
   "source": [
    "from warnings import filterwarnings\n",
    "filterwarnings ('ignore')"
   ]
  },
  {
   "cell_type": "markdown",
   "metadata": {},
   "source": [
    "### Create multi class data"
   ]
  },
  {
   "cell_type": "code",
   "execution_count": 2,
   "metadata": {},
   "outputs": [],
   "source": [
    "from sklearn.datasets import make_classification\n",
    "X,Y=make_classification(n_samples=6000,n_features=30,n_informative=15,n_classes=3,random_state=42)"
   ]
  },
  {
   "cell_type": "code",
   "execution_count": 3,
   "metadata": {},
   "outputs": [
    {
     "data": {
      "text/plain": [
       "array([[-1.44143883,  0.99759432,  0.64881894, ...,  0.26075709,\n",
       "        -2.4917032 , -0.52457062],\n",
       "       [-5.14274116,  2.44379509,  0.59681357, ..., -0.67343933,\n",
       "         2.13880873, -1.34828698],\n",
       "       [ 0.65562953, -1.84153079,  0.80405201, ..., -1.45272723,\n",
       "        -3.46992694,  1.12992925],\n",
       "       ...,\n",
       "       [ 4.12653393, -4.34701772, -0.2590811 , ..., -0.28741425,\n",
       "         7.28922344, -1.18100918],\n",
       "       [-0.71009863,  3.94052935,  1.83897001, ...,  3.29290311,\n",
       "         6.91505595,  0.80226731],\n",
       "       [ 1.24909105,  3.92319056, -0.05696048, ..., -2.61261051,\n",
       "        -3.21501144, -0.04845804]])"
      ]
     },
     "execution_count": 3,
     "metadata": {},
     "output_type": "execute_result"
    }
   ],
   "source": [
    "X"
   ]
  },
  {
   "cell_type": "code",
   "execution_count": 4,
   "metadata": {},
   "outputs": [
    {
     "data": {
      "text/plain": [
       "array([2, 2, 0, ..., 1, 0, 2])"
      ]
     },
     "execution_count": 4,
     "metadata": {},
     "output_type": "execute_result"
    }
   ],
   "source": [
    "Y"
   ]
  },
  {
   "cell_type": "code",
   "execution_count": 5,
   "metadata": {},
   "outputs": [
    {
     "data": {
      "text/plain": [
       "(6000, 30)"
      ]
     },
     "execution_count": 5,
     "metadata": {},
     "output_type": "execute_result"
    }
   ],
   "source": [
    "X.shape"
   ]
  },
  {
   "cell_type": "code",
   "execution_count": 6,
   "metadata": {},
   "outputs": [
    {
     "data": {
      "text/plain": [
       "(6000,)"
      ]
     },
     "execution_count": 6,
     "metadata": {},
     "output_type": "execute_result"
    }
   ],
   "source": [
    "Y.shape"
   ]
  },
  {
   "cell_type": "markdown",
   "metadata": {},
   "source": [
    "### Convert X & Y into DataFrme"
   ]
  },
  {
   "cell_type": "code",
   "execution_count": 7,
   "metadata": {},
   "outputs": [
    {
     "data": {
      "text/plain": [
       "['X1',\n",
       " 'X2',\n",
       " 'X3',\n",
       " 'X4',\n",
       " 'X5',\n",
       " 'X6',\n",
       " 'X7',\n",
       " 'X8',\n",
       " 'X9',\n",
       " 'X10',\n",
       " 'X11',\n",
       " 'X12',\n",
       " 'X13',\n",
       " 'X14',\n",
       " 'X15',\n",
       " 'X16',\n",
       " 'X17',\n",
       " 'X18',\n",
       " 'X19',\n",
       " 'X20',\n",
       " 'X21',\n",
       " 'X22',\n",
       " 'X23',\n",
       " 'X24',\n",
       " 'X25',\n",
       " 'X26',\n",
       " 'X27',\n",
       " 'X28',\n",
       " 'X29',\n",
       " 'X30']"
      ]
     },
     "execution_count": 7,
     "metadata": {},
     "output_type": "execute_result"
    }
   ],
   "source": [
    "cols=[f'X{i+1}'for i in range(30)]\n",
    "cols"
   ]
  },
  {
   "cell_type": "code",
   "execution_count": 8,
   "metadata": {},
   "outputs": [
    {
     "data": {
      "text/html": [
       "<div>\n",
       "<style scoped>\n",
       "    .dataframe tbody tr th:only-of-type {\n",
       "        vertical-align: middle;\n",
       "    }\n",
       "\n",
       "    .dataframe tbody tr th {\n",
       "        vertical-align: top;\n",
       "    }\n",
       "\n",
       "    .dataframe thead th {\n",
       "        text-align: right;\n",
       "    }\n",
       "</style>\n",
       "<table border=\"1\" class=\"dataframe\">\n",
       "  <thead>\n",
       "    <tr style=\"text-align: right;\">\n",
       "      <th></th>\n",
       "      <th>X1</th>\n",
       "      <th>X2</th>\n",
       "      <th>X3</th>\n",
       "      <th>X4</th>\n",
       "      <th>X5</th>\n",
       "      <th>X6</th>\n",
       "      <th>X7</th>\n",
       "      <th>X8</th>\n",
       "      <th>X9</th>\n",
       "      <th>X10</th>\n",
       "      <th>...</th>\n",
       "      <th>X21</th>\n",
       "      <th>X22</th>\n",
       "      <th>X23</th>\n",
       "      <th>X24</th>\n",
       "      <th>X25</th>\n",
       "      <th>X26</th>\n",
       "      <th>X27</th>\n",
       "      <th>X28</th>\n",
       "      <th>X29</th>\n",
       "      <th>X30</th>\n",
       "    </tr>\n",
       "  </thead>\n",
       "  <tbody>\n",
       "    <tr>\n",
       "      <th>0</th>\n",
       "      <td>-1.441439</td>\n",
       "      <td>0.997594</td>\n",
       "      <td>0.648819</td>\n",
       "      <td>-0.939605</td>\n",
       "      <td>1.757397</td>\n",
       "      <td>0.578914</td>\n",
       "      <td>2.427303</td>\n",
       "      <td>-2.051151</td>\n",
       "      <td>2.229941</td>\n",
       "      <td>4.161986</td>\n",
       "      <td>...</td>\n",
       "      <td>-1.479880</td>\n",
       "      <td>-0.348015</td>\n",
       "      <td>-0.607153</td>\n",
       "      <td>-1.081817</td>\n",
       "      <td>-1.993413</td>\n",
       "      <td>1.533084</td>\n",
       "      <td>-1.496706</td>\n",
       "      <td>0.260757</td>\n",
       "      <td>-2.491703</td>\n",
       "      <td>-0.524571</td>\n",
       "    </tr>\n",
       "    <tr>\n",
       "      <th>1</th>\n",
       "      <td>-5.142741</td>\n",
       "      <td>2.443795</td>\n",
       "      <td>0.596814</td>\n",
       "      <td>-5.863056</td>\n",
       "      <td>1.387833</td>\n",
       "      <td>0.481951</td>\n",
       "      <td>4.083274</td>\n",
       "      <td>-0.973058</td>\n",
       "      <td>0.552966</td>\n",
       "      <td>2.620579</td>\n",
       "      <td>...</td>\n",
       "      <td>-0.743816</td>\n",
       "      <td>-0.382961</td>\n",
       "      <td>-0.274725</td>\n",
       "      <td>-0.832032</td>\n",
       "      <td>-1.148192</td>\n",
       "      <td>-0.926654</td>\n",
       "      <td>0.970663</td>\n",
       "      <td>-0.673439</td>\n",
       "      <td>2.138809</td>\n",
       "      <td>-1.348287</td>\n",
       "    </tr>\n",
       "    <tr>\n",
       "      <th>2</th>\n",
       "      <td>0.655630</td>\n",
       "      <td>-1.841531</td>\n",
       "      <td>0.804052</td>\n",
       "      <td>2.357834</td>\n",
       "      <td>-4.326275</td>\n",
       "      <td>-0.973050</td>\n",
       "      <td>-4.126278</td>\n",
       "      <td>-6.036214</td>\n",
       "      <td>-3.200378</td>\n",
       "      <td>1.758776</td>\n",
       "      <td>...</td>\n",
       "      <td>0.240042</td>\n",
       "      <td>-1.137683</td>\n",
       "      <td>-0.927894</td>\n",
       "      <td>0.697630</td>\n",
       "      <td>0.631764</td>\n",
       "      <td>0.240156</td>\n",
       "      <td>0.139782</td>\n",
       "      <td>-1.452727</td>\n",
       "      <td>-3.469927</td>\n",
       "      <td>1.129929</td>\n",
       "    </tr>\n",
       "    <tr>\n",
       "      <th>3</th>\n",
       "      <td>-1.598327</td>\n",
       "      <td>1.024581</td>\n",
       "      <td>0.237928</td>\n",
       "      <td>1.391549</td>\n",
       "      <td>-0.488321</td>\n",
       "      <td>-1.089719</td>\n",
       "      <td>-3.627360</td>\n",
       "      <td>0.757025</td>\n",
       "      <td>-0.750550</td>\n",
       "      <td>1.952786</td>\n",
       "      <td>...</td>\n",
       "      <td>1.769143</td>\n",
       "      <td>0.310551</td>\n",
       "      <td>1.196544</td>\n",
       "      <td>1.108069</td>\n",
       "      <td>0.824942</td>\n",
       "      <td>0.480005</td>\n",
       "      <td>1.255185</td>\n",
       "      <td>-1.671230</td>\n",
       "      <td>3.642342</td>\n",
       "      <td>-1.862065</td>\n",
       "    </tr>\n",
       "    <tr>\n",
       "      <th>4</th>\n",
       "      <td>-1.079465</td>\n",
       "      <td>-0.613138</td>\n",
       "      <td>-2.654921</td>\n",
       "      <td>1.533515</td>\n",
       "      <td>1.009928</td>\n",
       "      <td>-0.910633</td>\n",
       "      <td>-0.973801</td>\n",
       "      <td>-1.726216</td>\n",
       "      <td>-2.431381</td>\n",
       "      <td>1.305569</td>\n",
       "      <td>...</td>\n",
       "      <td>0.724812</td>\n",
       "      <td>1.708111</td>\n",
       "      <td>-0.302242</td>\n",
       "      <td>0.858970</td>\n",
       "      <td>0.878317</td>\n",
       "      <td>-0.369408</td>\n",
       "      <td>0.278626</td>\n",
       "      <td>-2.291166</td>\n",
       "      <td>-0.044003</td>\n",
       "      <td>0.627598</td>\n",
       "    </tr>\n",
       "    <tr>\n",
       "      <th>...</th>\n",
       "      <td>...</td>\n",
       "      <td>...</td>\n",
       "      <td>...</td>\n",
       "      <td>...</td>\n",
       "      <td>...</td>\n",
       "      <td>...</td>\n",
       "      <td>...</td>\n",
       "      <td>...</td>\n",
       "      <td>...</td>\n",
       "      <td>...</td>\n",
       "      <td>...</td>\n",
       "      <td>...</td>\n",
       "      <td>...</td>\n",
       "      <td>...</td>\n",
       "      <td>...</td>\n",
       "      <td>...</td>\n",
       "      <td>...</td>\n",
       "      <td>...</td>\n",
       "      <td>...</td>\n",
       "      <td>...</td>\n",
       "      <td>...</td>\n",
       "    </tr>\n",
       "    <tr>\n",
       "      <th>5995</th>\n",
       "      <td>-1.352297</td>\n",
       "      <td>1.308812</td>\n",
       "      <td>-0.292216</td>\n",
       "      <td>-4.360619</td>\n",
       "      <td>3.219576</td>\n",
       "      <td>-1.414710</td>\n",
       "      <td>1.659117</td>\n",
       "      <td>-0.817933</td>\n",
       "      <td>-1.303638</td>\n",
       "      <td>1.508209</td>\n",
       "      <td>...</td>\n",
       "      <td>-0.443174</td>\n",
       "      <td>-0.311552</td>\n",
       "      <td>0.573735</td>\n",
       "      <td>-1.125316</td>\n",
       "      <td>-0.464874</td>\n",
       "      <td>0.848691</td>\n",
       "      <td>-0.583535</td>\n",
       "      <td>-1.062656</td>\n",
       "      <td>-1.964248</td>\n",
       "      <td>0.134250</td>\n",
       "    </tr>\n",
       "    <tr>\n",
       "      <th>5996</th>\n",
       "      <td>-0.565883</td>\n",
       "      <td>0.774911</td>\n",
       "      <td>1.784169</td>\n",
       "      <td>0.707276</td>\n",
       "      <td>-0.433518</td>\n",
       "      <td>0.765008</td>\n",
       "      <td>1.453466</td>\n",
       "      <td>3.011684</td>\n",
       "      <td>-1.283930</td>\n",
       "      <td>-2.857633</td>\n",
       "      <td>...</td>\n",
       "      <td>0.876575</td>\n",
       "      <td>-0.286531</td>\n",
       "      <td>-0.634010</td>\n",
       "      <td>0.073769</td>\n",
       "      <td>2.967743</td>\n",
       "      <td>-1.948160</td>\n",
       "      <td>1.763242</td>\n",
       "      <td>2.833520</td>\n",
       "      <td>3.718549</td>\n",
       "      <td>0.543506</td>\n",
       "    </tr>\n",
       "    <tr>\n",
       "      <th>5997</th>\n",
       "      <td>4.126534</td>\n",
       "      <td>-4.347018</td>\n",
       "      <td>-0.259081</td>\n",
       "      <td>3.846398</td>\n",
       "      <td>4.249316</td>\n",
       "      <td>-1.771207</td>\n",
       "      <td>4.493676</td>\n",
       "      <td>1.056368</td>\n",
       "      <td>0.960528</td>\n",
       "      <td>0.478889</td>\n",
       "      <td>...</td>\n",
       "      <td>1.885957</td>\n",
       "      <td>-0.175634</td>\n",
       "      <td>1.035233</td>\n",
       "      <td>0.932677</td>\n",
       "      <td>1.694383</td>\n",
       "      <td>0.749621</td>\n",
       "      <td>-0.364088</td>\n",
       "      <td>-0.287414</td>\n",
       "      <td>7.289223</td>\n",
       "      <td>-1.181009</td>\n",
       "    </tr>\n",
       "    <tr>\n",
       "      <th>5998</th>\n",
       "      <td>-0.710099</td>\n",
       "      <td>3.940529</td>\n",
       "      <td>1.838970</td>\n",
       "      <td>2.662065</td>\n",
       "      <td>-0.479034</td>\n",
       "      <td>-0.255752</td>\n",
       "      <td>4.255773</td>\n",
       "      <td>-0.028932</td>\n",
       "      <td>-1.796933</td>\n",
       "      <td>-0.012895</td>\n",
       "      <td>...</td>\n",
       "      <td>0.834684</td>\n",
       "      <td>-2.085513</td>\n",
       "      <td>-1.620368</td>\n",
       "      <td>-0.560711</td>\n",
       "      <td>1.824532</td>\n",
       "      <td>1.029431</td>\n",
       "      <td>-2.108498</td>\n",
       "      <td>3.292903</td>\n",
       "      <td>6.915056</td>\n",
       "      <td>0.802267</td>\n",
       "    </tr>\n",
       "    <tr>\n",
       "      <th>5999</th>\n",
       "      <td>1.249091</td>\n",
       "      <td>3.923191</td>\n",
       "      <td>-0.056960</td>\n",
       "      <td>0.753219</td>\n",
       "      <td>-2.461334</td>\n",
       "      <td>1.136814</td>\n",
       "      <td>-0.157204</td>\n",
       "      <td>-0.550483</td>\n",
       "      <td>-4.618029</td>\n",
       "      <td>-1.426488</td>\n",
       "      <td>...</td>\n",
       "      <td>-0.773508</td>\n",
       "      <td>-1.684193</td>\n",
       "      <td>0.836616</td>\n",
       "      <td>0.139797</td>\n",
       "      <td>-1.467997</td>\n",
       "      <td>1.362739</td>\n",
       "      <td>-0.726354</td>\n",
       "      <td>-2.612611</td>\n",
       "      <td>-3.215011</td>\n",
       "      <td>-0.048458</td>\n",
       "    </tr>\n",
       "  </tbody>\n",
       "</table>\n",
       "<p>6000 rows × 30 columns</p>\n",
       "</div>"
      ],
      "text/plain": [
       "            X1        X2        X3        X4        X5        X6        X7  \\\n",
       "0    -1.441439  0.997594  0.648819 -0.939605  1.757397  0.578914  2.427303   \n",
       "1    -5.142741  2.443795  0.596814 -5.863056  1.387833  0.481951  4.083274   \n",
       "2     0.655630 -1.841531  0.804052  2.357834 -4.326275 -0.973050 -4.126278   \n",
       "3    -1.598327  1.024581  0.237928  1.391549 -0.488321 -1.089719 -3.627360   \n",
       "4    -1.079465 -0.613138 -2.654921  1.533515  1.009928 -0.910633 -0.973801   \n",
       "...        ...       ...       ...       ...       ...       ...       ...   \n",
       "5995 -1.352297  1.308812 -0.292216 -4.360619  3.219576 -1.414710  1.659117   \n",
       "5996 -0.565883  0.774911  1.784169  0.707276 -0.433518  0.765008  1.453466   \n",
       "5997  4.126534 -4.347018 -0.259081  3.846398  4.249316 -1.771207  4.493676   \n",
       "5998 -0.710099  3.940529  1.838970  2.662065 -0.479034 -0.255752  4.255773   \n",
       "5999  1.249091  3.923191 -0.056960  0.753219 -2.461334  1.136814 -0.157204   \n",
       "\n",
       "            X8        X9       X10  ...       X21       X22       X23  \\\n",
       "0    -2.051151  2.229941  4.161986  ... -1.479880 -0.348015 -0.607153   \n",
       "1    -0.973058  0.552966  2.620579  ... -0.743816 -0.382961 -0.274725   \n",
       "2    -6.036214 -3.200378  1.758776  ...  0.240042 -1.137683 -0.927894   \n",
       "3     0.757025 -0.750550  1.952786  ...  1.769143  0.310551  1.196544   \n",
       "4    -1.726216 -2.431381  1.305569  ...  0.724812  1.708111 -0.302242   \n",
       "...        ...       ...       ...  ...       ...       ...       ...   \n",
       "5995 -0.817933 -1.303638  1.508209  ... -0.443174 -0.311552  0.573735   \n",
       "5996  3.011684 -1.283930 -2.857633  ...  0.876575 -0.286531 -0.634010   \n",
       "5997  1.056368  0.960528  0.478889  ...  1.885957 -0.175634  1.035233   \n",
       "5998 -0.028932 -1.796933 -0.012895  ...  0.834684 -2.085513 -1.620368   \n",
       "5999 -0.550483 -4.618029 -1.426488  ... -0.773508 -1.684193  0.836616   \n",
       "\n",
       "           X24       X25       X26       X27       X28       X29       X30  \n",
       "0    -1.081817 -1.993413  1.533084 -1.496706  0.260757 -2.491703 -0.524571  \n",
       "1    -0.832032 -1.148192 -0.926654  0.970663 -0.673439  2.138809 -1.348287  \n",
       "2     0.697630  0.631764  0.240156  0.139782 -1.452727 -3.469927  1.129929  \n",
       "3     1.108069  0.824942  0.480005  1.255185 -1.671230  3.642342 -1.862065  \n",
       "4     0.858970  0.878317 -0.369408  0.278626 -2.291166 -0.044003  0.627598  \n",
       "...        ...       ...       ...       ...       ...       ...       ...  \n",
       "5995 -1.125316 -0.464874  0.848691 -0.583535 -1.062656 -1.964248  0.134250  \n",
       "5996  0.073769  2.967743 -1.948160  1.763242  2.833520  3.718549  0.543506  \n",
       "5997  0.932677  1.694383  0.749621 -0.364088 -0.287414  7.289223 -1.181009  \n",
       "5998 -0.560711  1.824532  1.029431 -2.108498  3.292903  6.915056  0.802267  \n",
       "5999  0.139797 -1.467997  1.362739 -0.726354 -2.612611 -3.215011 -0.048458  \n",
       "\n",
       "[6000 rows x 30 columns]"
      ]
     },
     "execution_count": 8,
     "metadata": {},
     "output_type": "execute_result"
    }
   ],
   "source": [
    "import pandas as pd\n",
    "X=pd.DataFrame(X,columns=cols)\n",
    "X"
   ]
  },
  {
   "cell_type": "code",
   "execution_count": 10,
   "metadata": {},
   "outputs": [
    {
     "data": {
      "text/html": [
       "<div>\n",
       "<style scoped>\n",
       "    .dataframe tbody tr th:only-of-type {\n",
       "        vertical-align: middle;\n",
       "    }\n",
       "\n",
       "    .dataframe tbody tr th {\n",
       "        vertical-align: top;\n",
       "    }\n",
       "\n",
       "    .dataframe thead th {\n",
       "        text-align: right;\n",
       "    }\n",
       "</style>\n",
       "<table border=\"1\" class=\"dataframe\">\n",
       "  <thead>\n",
       "    <tr style=\"text-align: right;\">\n",
       "      <th></th>\n",
       "      <th>target</th>\n",
       "    </tr>\n",
       "  </thead>\n",
       "  <tbody>\n",
       "    <tr>\n",
       "      <th>0</th>\n",
       "      <td>2</td>\n",
       "    </tr>\n",
       "    <tr>\n",
       "      <th>1</th>\n",
       "      <td>2</td>\n",
       "    </tr>\n",
       "    <tr>\n",
       "      <th>2</th>\n",
       "      <td>0</td>\n",
       "    </tr>\n",
       "    <tr>\n",
       "      <th>3</th>\n",
       "      <td>0</td>\n",
       "    </tr>\n",
       "    <tr>\n",
       "      <th>4</th>\n",
       "      <td>0</td>\n",
       "    </tr>\n",
       "  </tbody>\n",
       "</table>\n",
       "</div>"
      ],
      "text/plain": [
       "   target\n",
       "0       2\n",
       "1       2\n",
       "2       0\n",
       "3       0\n",
       "4       0"
      ]
     },
     "execution_count": 10,
     "metadata": {},
     "output_type": "execute_result"
    }
   ],
   "source": [
    "Y=pd.DataFrame(Y,columns=['target'])\n",
    "Y.head()"
   ]
  },
  {
   "cell_type": "code",
   "execution_count": 12,
   "metadata": {},
   "outputs": [
    {
     "data": {
      "text/plain": [
       "target\n",
       "1         2004\n",
       "2         2000\n",
       "0         1996\n",
       "Name: count, dtype: int64"
      ]
     },
     "execution_count": 12,
     "metadata": {},
     "output_type": "execute_result"
    }
   ],
   "source": [
    "Y.value_counts()"
   ]
  },
  {
   "cell_type": "markdown",
   "metadata": {},
   "source": [
    "### Create Preprocessing Pipeline"
   ]
  },
  {
   "cell_type": "code",
   "execution_count": 13,
   "metadata": {},
   "outputs": [],
   "source": [
    "from sklearn.pipeline import Pipeline\n",
    "from sklearn.impute import SimpleImputer\n",
    "from sklearn.preprocessing import StandardScaler"
   ]
  },
  {
   "cell_type": "code",
   "execution_count": 14,
   "metadata": {},
   "outputs": [],
   "source": [
    "num_pipe=Pipeline(steps=[('impute',SimpleImputer(strategy='median')),\n",
    "                         ('scaler',StandardScaler())])"
   ]
  },
  {
   "cell_type": "code",
   "execution_count": 15,
   "metadata": {},
   "outputs": [
    {
     "data": {
      "text/html": [
       "<style>#sk-container-id-1 {color: black;}#sk-container-id-1 pre{padding: 0;}#sk-container-id-1 div.sk-toggleable {background-color: white;}#sk-container-id-1 label.sk-toggleable__label {cursor: pointer;display: block;width: 100%;margin-bottom: 0;padding: 0.3em;box-sizing: border-box;text-align: center;}#sk-container-id-1 label.sk-toggleable__label-arrow:before {content: \"▸\";float: left;margin-right: 0.25em;color: #696969;}#sk-container-id-1 label.sk-toggleable__label-arrow:hover:before {color: black;}#sk-container-id-1 div.sk-estimator:hover label.sk-toggleable__label-arrow:before {color: black;}#sk-container-id-1 div.sk-toggleable__content {max-height: 0;max-width: 0;overflow: hidden;text-align: left;background-color: #f0f8ff;}#sk-container-id-1 div.sk-toggleable__content pre {margin: 0.2em;color: black;border-radius: 0.25em;background-color: #f0f8ff;}#sk-container-id-1 input.sk-toggleable__control:checked~div.sk-toggleable__content {max-height: 200px;max-width: 100%;overflow: auto;}#sk-container-id-1 input.sk-toggleable__control:checked~label.sk-toggleable__label-arrow:before {content: \"▾\";}#sk-container-id-1 div.sk-estimator input.sk-toggleable__control:checked~label.sk-toggleable__label {background-color: #d4ebff;}#sk-container-id-1 div.sk-label input.sk-toggleable__control:checked~label.sk-toggleable__label {background-color: #d4ebff;}#sk-container-id-1 input.sk-hidden--visually {border: 0;clip: rect(1px 1px 1px 1px);clip: rect(1px, 1px, 1px, 1px);height: 1px;margin: -1px;overflow: hidden;padding: 0;position: absolute;width: 1px;}#sk-container-id-1 div.sk-estimator {font-family: monospace;background-color: #f0f8ff;border: 1px dotted black;border-radius: 0.25em;box-sizing: border-box;margin-bottom: 0.5em;}#sk-container-id-1 div.sk-estimator:hover {background-color: #d4ebff;}#sk-container-id-1 div.sk-parallel-item::after {content: \"\";width: 100%;border-bottom: 1px solid gray;flex-grow: 1;}#sk-container-id-1 div.sk-label:hover label.sk-toggleable__label {background-color: #d4ebff;}#sk-container-id-1 div.sk-serial::before {content: \"\";position: absolute;border-left: 1px solid gray;box-sizing: border-box;top: 0;bottom: 0;left: 50%;z-index: 0;}#sk-container-id-1 div.sk-serial {display: flex;flex-direction: column;align-items: center;background-color: white;padding-right: 0.2em;padding-left: 0.2em;position: relative;}#sk-container-id-1 div.sk-item {position: relative;z-index: 1;}#sk-container-id-1 div.sk-parallel {display: flex;align-items: stretch;justify-content: center;background-color: white;position: relative;}#sk-container-id-1 div.sk-item::before, #sk-container-id-1 div.sk-parallel-item::before {content: \"\";position: absolute;border-left: 1px solid gray;box-sizing: border-box;top: 0;bottom: 0;left: 50%;z-index: -1;}#sk-container-id-1 div.sk-parallel-item {display: flex;flex-direction: column;z-index: 1;position: relative;background-color: white;}#sk-container-id-1 div.sk-parallel-item:first-child::after {align-self: flex-end;width: 50%;}#sk-container-id-1 div.sk-parallel-item:last-child::after {align-self: flex-start;width: 50%;}#sk-container-id-1 div.sk-parallel-item:only-child::after {width: 0;}#sk-container-id-1 div.sk-dashed-wrapped {border: 1px dashed gray;margin: 0 0.4em 0.5em 0.4em;box-sizing: border-box;padding-bottom: 0.4em;background-color: white;}#sk-container-id-1 div.sk-label label {font-family: monospace;font-weight: bold;display: inline-block;line-height: 1.2em;}#sk-container-id-1 div.sk-label-container {text-align: center;}#sk-container-id-1 div.sk-container {/* jupyter's `normalize.less` sets `[hidden] { display: none; }` but bootstrap.min.css set `[hidden] { display: none !important; }` so we also need the `!important` here to be able to override the default hidden behavior on the sphinx rendered scikit-learn.org. See: https://github.com/scikit-learn/scikit-learn/issues/21755 */display: inline-block !important;position: relative;}#sk-container-id-1 div.sk-text-repr-fallback {display: none;}</style><div id=\"sk-container-id-1\" class=\"sk-top-container\"><div class=\"sk-text-repr-fallback\"><pre>Pipeline(steps=[(&#x27;impute&#x27;, SimpleImputer(strategy=&#x27;median&#x27;)),\n",
       "                (&#x27;scaler&#x27;, StandardScaler())])</pre><b>In a Jupyter environment, please rerun this cell to show the HTML representation or trust the notebook. <br />On GitHub, the HTML representation is unable to render, please try loading this page with nbviewer.org.</b></div><div class=\"sk-container\" hidden><div class=\"sk-item sk-dashed-wrapped\"><div class=\"sk-label-container\"><div class=\"sk-label sk-toggleable\"><input class=\"sk-toggleable__control sk-hidden--visually\" id=\"sk-estimator-id-1\" type=\"checkbox\" ><label for=\"sk-estimator-id-1\" class=\"sk-toggleable__label sk-toggleable__label-arrow\">Pipeline</label><div class=\"sk-toggleable__content\"><pre>Pipeline(steps=[(&#x27;impute&#x27;, SimpleImputer(strategy=&#x27;median&#x27;)),\n",
       "                (&#x27;scaler&#x27;, StandardScaler())])</pre></div></div></div><div class=\"sk-serial\"><div class=\"sk-item\"><div class=\"sk-estimator sk-toggleable\"><input class=\"sk-toggleable__control sk-hidden--visually\" id=\"sk-estimator-id-2\" type=\"checkbox\" ><label for=\"sk-estimator-id-2\" class=\"sk-toggleable__label sk-toggleable__label-arrow\">SimpleImputer</label><div class=\"sk-toggleable__content\"><pre>SimpleImputer(strategy=&#x27;median&#x27;)</pre></div></div></div><div class=\"sk-item\"><div class=\"sk-estimator sk-toggleable\"><input class=\"sk-toggleable__control sk-hidden--visually\" id=\"sk-estimator-id-3\" type=\"checkbox\" ><label for=\"sk-estimator-id-3\" class=\"sk-toggleable__label sk-toggleable__label-arrow\">StandardScaler</label><div class=\"sk-toggleable__content\"><pre>StandardScaler()</pre></div></div></div></div></div></div></div>"
      ],
      "text/plain": [
       "Pipeline(steps=[('impute', SimpleImputer(strategy='median')),\n",
       "                ('scaler', StandardScaler())])"
      ]
     },
     "execution_count": 15,
     "metadata": {},
     "output_type": "execute_result"
    }
   ],
   "source": [
    "num_pipe"
   ]
  },
  {
   "cell_type": "code",
   "execution_count": 17,
   "metadata": {},
   "outputs": [
    {
     "data": {
      "text/plain": [
       "array([[-0.52671961,  0.27230193,  0.65623137, ...,  0.23135323,\n",
       "        -0.25895458, -0.52958856],\n",
       "       [-1.93121764,  0.87478938,  0.6049309 , ..., -0.14098636,\n",
       "         0.73357158, -1.35982943],\n",
       "       [ 0.269035  , -0.91047798,  0.80936035, ..., -0.45158456,\n",
       "        -0.46863176,  1.13801631],\n",
       "       ...,\n",
       "       [ 1.58610611, -1.95426419, -0.23936264, ...,  0.01287038,\n",
       "         1.8375362 , -1.19122665],\n",
       "       [-0.2492049 ,  1.49832908,  1.83025067, ...,  1.43986566,\n",
       "         1.75733535,  0.80775901],\n",
       "       [ 0.4942302 ,  1.49110574, -0.03998164, ..., -0.91387541,\n",
       "        -0.41399194, -0.04970478]])"
      ]
     },
     "execution_count": 17,
     "metadata": {},
     "output_type": "execute_result"
    }
   ],
   "source": [
    "X_pre=num_pipe.fit_transform(X)\n",
    "X_pre"
   ]
  },
  {
   "cell_type": "code",
   "execution_count": 19,
   "metadata": {},
   "outputs": [
    {
     "data": {
      "text/plain": [
       "array(['X1', 'X2', 'X3', 'X4', 'X5', 'X6', 'X7', 'X8', 'X9', 'X10', 'X11',\n",
       "       'X12', 'X13', 'X14', 'X15', 'X16', 'X17', 'X18', 'X19', 'X20',\n",
       "       'X21', 'X22', 'X23', 'X24', 'X25', 'X26', 'X27', 'X28', 'X29',\n",
       "       'X30'], dtype=object)"
      ]
     },
     "execution_count": 19,
     "metadata": {},
     "output_type": "execute_result"
    }
   ],
   "source": [
    "cols=num_pipe.get_feature_names_out()\n",
    "cols"
   ]
  },
  {
   "cell_type": "code",
   "execution_count": 21,
   "metadata": {},
   "outputs": [
    {
     "data": {
      "text/html": [
       "<div>\n",
       "<style scoped>\n",
       "    .dataframe tbody tr th:only-of-type {\n",
       "        vertical-align: middle;\n",
       "    }\n",
       "\n",
       "    .dataframe tbody tr th {\n",
       "        vertical-align: top;\n",
       "    }\n",
       "\n",
       "    .dataframe thead th {\n",
       "        text-align: right;\n",
       "    }\n",
       "</style>\n",
       "<table border=\"1\" class=\"dataframe\">\n",
       "  <thead>\n",
       "    <tr style=\"text-align: right;\">\n",
       "      <th></th>\n",
       "      <th>X1</th>\n",
       "      <th>X2</th>\n",
       "      <th>X3</th>\n",
       "      <th>X4</th>\n",
       "      <th>X5</th>\n",
       "      <th>X6</th>\n",
       "      <th>X7</th>\n",
       "      <th>X8</th>\n",
       "      <th>X9</th>\n",
       "      <th>X10</th>\n",
       "      <th>...</th>\n",
       "      <th>X21</th>\n",
       "      <th>X22</th>\n",
       "      <th>X23</th>\n",
       "      <th>X24</th>\n",
       "      <th>X25</th>\n",
       "      <th>X26</th>\n",
       "      <th>X27</th>\n",
       "      <th>X28</th>\n",
       "      <th>X29</th>\n",
       "      <th>X30</th>\n",
       "    </tr>\n",
       "  </thead>\n",
       "  <tbody>\n",
       "    <tr>\n",
       "      <th>0</th>\n",
       "      <td>-0.526720</td>\n",
       "      <td>0.272302</td>\n",
       "      <td>0.656231</td>\n",
       "      <td>-0.225921</td>\n",
       "      <td>0.751405</td>\n",
       "      <td>0.574286</td>\n",
       "      <td>1.249114</td>\n",
       "      <td>-0.570934</td>\n",
       "      <td>0.927751</td>\n",
       "      <td>1.673181</td>\n",
       "      <td>...</td>\n",
       "      <td>-1.489109</td>\n",
       "      <td>-0.340353</td>\n",
       "      <td>-0.625233</td>\n",
       "      <td>-1.075979</td>\n",
       "      <td>-0.827133</td>\n",
       "      <td>1.529565</td>\n",
       "      <td>-1.530454</td>\n",
       "      <td>0.231353</td>\n",
       "      <td>-0.258955</td>\n",
       "      <td>-0.529589</td>\n",
       "    </tr>\n",
       "    <tr>\n",
       "      <th>1</th>\n",
       "      <td>-1.931218</td>\n",
       "      <td>0.874789</td>\n",
       "      <td>0.604931</td>\n",
       "      <td>-2.081035</td>\n",
       "      <td>0.592913</td>\n",
       "      <td>0.476724</td>\n",
       "      <td>2.000062</td>\n",
       "      <td>-0.120260</td>\n",
       "      <td>0.223806</td>\n",
       "      <td>0.998535</td>\n",
       "      <td>...</td>\n",
       "      <td>-0.752340</td>\n",
       "      <td>-0.375454</td>\n",
       "      <td>-0.294869</td>\n",
       "      <td>-0.826403</td>\n",
       "      <td>-0.483039</td>\n",
       "      <td>-0.934985</td>\n",
       "      <td>0.957838</td>\n",
       "      <td>-0.140986</td>\n",
       "      <td>0.733572</td>\n",
       "      <td>-1.359829</td>\n",
       "    </tr>\n",
       "    <tr>\n",
       "      <th>2</th>\n",
       "      <td>0.269035</td>\n",
       "      <td>-0.910478</td>\n",
       "      <td>0.809360</td>\n",
       "      <td>1.016526</td>\n",
       "      <td>-1.857657</td>\n",
       "      <td>-0.987252</td>\n",
       "      <td>-1.722796</td>\n",
       "      <td>-2.236805</td>\n",
       "      <td>-1.351737</td>\n",
       "      <td>0.621340</td>\n",
       "      <td>...</td>\n",
       "      <td>0.232462</td>\n",
       "      <td>-1.133510</td>\n",
       "      <td>-0.943983</td>\n",
       "      <td>0.701980</td>\n",
       "      <td>0.241593</td>\n",
       "      <td>0.234107</td>\n",
       "      <td>0.119910</td>\n",
       "      <td>-0.451585</td>\n",
       "      <td>-0.468632</td>\n",
       "      <td>1.138016</td>\n",
       "    </tr>\n",
       "    <tr>\n",
       "      <th>3</th>\n",
       "      <td>-0.586253</td>\n",
       "      <td>0.283545</td>\n",
       "      <td>0.250910</td>\n",
       "      <td>0.652438</td>\n",
       "      <td>-0.211700</td>\n",
       "      <td>-1.104641</td>\n",
       "      <td>-1.496547</td>\n",
       "      <td>0.602964</td>\n",
       "      <td>-0.323371</td>\n",
       "      <td>0.706255</td>\n",
       "      <td>...</td>\n",
       "      <td>1.763030</td>\n",
       "      <td>0.321121</td>\n",
       "      <td>1.167266</td>\n",
       "      <td>1.112076</td>\n",
       "      <td>0.320237</td>\n",
       "      <td>0.474425</td>\n",
       "      <td>1.244772</td>\n",
       "      <td>-0.538672</td>\n",
       "      <td>1.055846</td>\n",
       "      <td>-1.877677</td>\n",
       "    </tr>\n",
       "    <tr>\n",
       "      <th>4</th>\n",
       "      <td>-0.389365</td>\n",
       "      <td>-0.398729</td>\n",
       "      <td>-2.602729</td>\n",
       "      <td>0.705930</td>\n",
       "      <td>0.430843</td>\n",
       "      <td>-0.924450</td>\n",
       "      <td>-0.293215</td>\n",
       "      <td>-0.435102</td>\n",
       "      <td>-1.028935</td>\n",
       "      <td>0.422980</td>\n",
       "      <td>...</td>\n",
       "      <td>0.717698</td>\n",
       "      <td>1.724856</td>\n",
       "      <td>-0.322215</td>\n",
       "      <td>0.863185</td>\n",
       "      <td>0.341966</td>\n",
       "      <td>-0.376649</td>\n",
       "      <td>0.259932</td>\n",
       "      <td>-0.785758</td>\n",
       "      <td>0.265697</td>\n",
       "      <td>0.631707</td>\n",
       "    </tr>\n",
       "  </tbody>\n",
       "</table>\n",
       "<p>5 rows × 30 columns</p>\n",
       "</div>"
      ],
      "text/plain": [
       "         X1        X2        X3        X4        X5        X6        X7  \\\n",
       "0 -0.526720  0.272302  0.656231 -0.225921  0.751405  0.574286  1.249114   \n",
       "1 -1.931218  0.874789  0.604931 -2.081035  0.592913  0.476724  2.000062   \n",
       "2  0.269035 -0.910478  0.809360  1.016526 -1.857657 -0.987252 -1.722796   \n",
       "3 -0.586253  0.283545  0.250910  0.652438 -0.211700 -1.104641 -1.496547   \n",
       "4 -0.389365 -0.398729 -2.602729  0.705930  0.430843 -0.924450 -0.293215   \n",
       "\n",
       "         X8        X9       X10  ...       X21       X22       X23       X24  \\\n",
       "0 -0.570934  0.927751  1.673181  ... -1.489109 -0.340353 -0.625233 -1.075979   \n",
       "1 -0.120260  0.223806  0.998535  ... -0.752340 -0.375454 -0.294869 -0.826403   \n",
       "2 -2.236805 -1.351737  0.621340  ...  0.232462 -1.133510 -0.943983  0.701980   \n",
       "3  0.602964 -0.323371  0.706255  ...  1.763030  0.321121  1.167266  1.112076   \n",
       "4 -0.435102 -1.028935  0.422980  ...  0.717698  1.724856 -0.322215  0.863185   \n",
       "\n",
       "        X25       X26       X27       X28       X29       X30  \n",
       "0 -0.827133  1.529565 -1.530454  0.231353 -0.258955 -0.529589  \n",
       "1 -0.483039 -0.934985  0.957838 -0.140986  0.733572 -1.359829  \n",
       "2  0.241593  0.234107  0.119910 -0.451585 -0.468632  1.138016  \n",
       "3  0.320237  0.474425  1.244772 -0.538672  1.055846 -1.877677  \n",
       "4  0.341966 -0.376649  0.259932 -0.785758  0.265697  0.631707  \n",
       "\n",
       "[5 rows x 30 columns]"
      ]
     },
     "execution_count": 21,
     "metadata": {},
     "output_type": "execute_result"
    }
   ],
   "source": [
    "X_pre=pd.DataFrame(X_pre,columns=cols)\n",
    "X_pre.head()"
   ]
  },
  {
   "cell_type": "code",
   "execution_count": 22,
   "metadata": {},
   "outputs": [],
   "source": [
    "### Apply Train Test Split"
   ]
  },
  {
   "cell_type": "code",
   "execution_count": 23,
   "metadata": {},
   "outputs": [],
   "source": [
    "from sklearn.model_selection import train_test_split\n",
    "Xtrain,Xtest,Ytrain,Ytest=train_test_split(X_pre,Y,test_size=0.2,random_state=42)"
   ]
  },
  {
   "cell_type": "code",
   "execution_count": 24,
   "metadata": {},
   "outputs": [
    {
     "data": {
      "text/html": [
       "<div>\n",
       "<style scoped>\n",
       "    .dataframe tbody tr th:only-of-type {\n",
       "        vertical-align: middle;\n",
       "    }\n",
       "\n",
       "    .dataframe tbody tr th {\n",
       "        vertical-align: top;\n",
       "    }\n",
       "\n",
       "    .dataframe thead th {\n",
       "        text-align: right;\n",
       "    }\n",
       "</style>\n",
       "<table border=\"1\" class=\"dataframe\">\n",
       "  <thead>\n",
       "    <tr style=\"text-align: right;\">\n",
       "      <th></th>\n",
       "      <th>X1</th>\n",
       "      <th>X2</th>\n",
       "      <th>X3</th>\n",
       "      <th>X4</th>\n",
       "      <th>X5</th>\n",
       "      <th>X6</th>\n",
       "      <th>X7</th>\n",
       "      <th>X8</th>\n",
       "      <th>X9</th>\n",
       "      <th>X10</th>\n",
       "      <th>...</th>\n",
       "      <th>X21</th>\n",
       "      <th>X22</th>\n",
       "      <th>X23</th>\n",
       "      <th>X24</th>\n",
       "      <th>X25</th>\n",
       "      <th>X26</th>\n",
       "      <th>X27</th>\n",
       "      <th>X28</th>\n",
       "      <th>X29</th>\n",
       "      <th>X30</th>\n",
       "    </tr>\n",
       "  </thead>\n",
       "  <tbody>\n",
       "    <tr>\n",
       "      <th>3897</th>\n",
       "      <td>-0.543571</td>\n",
       "      <td>-0.019042</td>\n",
       "      <td>0.045309</td>\n",
       "      <td>-0.580487</td>\n",
       "      <td>0.152804</td>\n",
       "      <td>0.893800</td>\n",
       "      <td>0.457580</td>\n",
       "      <td>0.162031</td>\n",
       "      <td>0.012832</td>\n",
       "      <td>-1.475231</td>\n",
       "      <td>...</td>\n",
       "      <td>1.748269</td>\n",
       "      <td>-0.323666</td>\n",
       "      <td>-1.498440</td>\n",
       "      <td>-0.801106</td>\n",
       "      <td>-0.019642</td>\n",
       "      <td>0.594704</td>\n",
       "      <td>0.302236</td>\n",
       "      <td>0.513468</td>\n",
       "      <td>-0.285997</td>\n",
       "      <td>0.303386</td>\n",
       "    </tr>\n",
       "    <tr>\n",
       "      <th>5628</th>\n",
       "      <td>1.011186</td>\n",
       "      <td>-0.020967</td>\n",
       "      <td>-1.607443</td>\n",
       "      <td>-2.033375</td>\n",
       "      <td>0.045647</td>\n",
       "      <td>-0.149993</td>\n",
       "      <td>0.266554</td>\n",
       "      <td>0.243799</td>\n",
       "      <td>-0.008622</td>\n",
       "      <td>1.253602</td>\n",
       "      <td>...</td>\n",
       "      <td>-0.809695</td>\n",
       "      <td>-1.039981</td>\n",
       "      <td>0.965447</td>\n",
       "      <td>-0.832631</td>\n",
       "      <td>-2.027918</td>\n",
       "      <td>-0.157857</td>\n",
       "      <td>0.679601</td>\n",
       "      <td>-0.088923</td>\n",
       "      <td>-0.944892</td>\n",
       "      <td>-0.699163</td>\n",
       "    </tr>\n",
       "    <tr>\n",
       "      <th>1756</th>\n",
       "      <td>-1.697553</td>\n",
       "      <td>-0.875006</td>\n",
       "      <td>-0.394224</td>\n",
       "      <td>-1.912509</td>\n",
       "      <td>0.167416</td>\n",
       "      <td>-0.617574</td>\n",
       "      <td>0.588293</td>\n",
       "      <td>0.809653</td>\n",
       "      <td>1.569820</td>\n",
       "      <td>0.648541</td>\n",
       "      <td>...</td>\n",
       "      <td>1.052694</td>\n",
       "      <td>1.478953</td>\n",
       "      <td>2.051413</td>\n",
       "      <td>0.138883</td>\n",
       "      <td>-0.957434</td>\n",
       "      <td>0.526127</td>\n",
       "      <td>-0.019683</td>\n",
       "      <td>-0.842406</td>\n",
       "      <td>-0.879651</td>\n",
       "      <td>-0.759638</td>\n",
       "    </tr>\n",
       "    <tr>\n",
       "      <th>2346</th>\n",
       "      <td>-0.695023</td>\n",
       "      <td>-1.402155</td>\n",
       "      <td>1.975044</td>\n",
       "      <td>0.467674</td>\n",
       "      <td>-0.199899</td>\n",
       "      <td>-1.841401</td>\n",
       "      <td>-0.883977</td>\n",
       "      <td>-0.010609</td>\n",
       "      <td>-0.403109</td>\n",
       "      <td>-0.744025</td>\n",
       "      <td>...</td>\n",
       "      <td>-0.640925</td>\n",
       "      <td>1.804151</td>\n",
       "      <td>-0.465239</td>\n",
       "      <td>-1.137112</td>\n",
       "      <td>0.155095</td>\n",
       "      <td>-0.143831</td>\n",
       "      <td>0.758476</td>\n",
       "      <td>-0.075998</td>\n",
       "      <td>-1.059547</td>\n",
       "      <td>-0.109672</td>\n",
       "    </tr>\n",
       "    <tr>\n",
       "      <th>2996</th>\n",
       "      <td>0.690033</td>\n",
       "      <td>-0.477324</td>\n",
       "      <td>1.024073</td>\n",
       "      <td>1.154438</td>\n",
       "      <td>0.391757</td>\n",
       "      <td>-0.042410</td>\n",
       "      <td>1.986831</td>\n",
       "      <td>1.671135</td>\n",
       "      <td>1.869289</td>\n",
       "      <td>-0.692286</td>\n",
       "      <td>...</td>\n",
       "      <td>1.615828</td>\n",
       "      <td>-0.709746</td>\n",
       "      <td>-0.478441</td>\n",
       "      <td>1.359778</td>\n",
       "      <td>0.281754</td>\n",
       "      <td>-1.950171</td>\n",
       "      <td>-0.372190</td>\n",
       "      <td>0.497917</td>\n",
       "      <td>1.159817</td>\n",
       "      <td>0.812185</td>\n",
       "    </tr>\n",
       "  </tbody>\n",
       "</table>\n",
       "<p>5 rows × 30 columns</p>\n",
       "</div>"
      ],
      "text/plain": [
       "            X1        X2        X3        X4        X5        X6        X7  \\\n",
       "3897 -0.543571 -0.019042  0.045309 -0.580487  0.152804  0.893800  0.457580   \n",
       "5628  1.011186 -0.020967 -1.607443 -2.033375  0.045647 -0.149993  0.266554   \n",
       "1756 -1.697553 -0.875006 -0.394224 -1.912509  0.167416 -0.617574  0.588293   \n",
       "2346 -0.695023 -1.402155  1.975044  0.467674 -0.199899 -1.841401 -0.883977   \n",
       "2996  0.690033 -0.477324  1.024073  1.154438  0.391757 -0.042410  1.986831   \n",
       "\n",
       "            X8        X9       X10  ...       X21       X22       X23  \\\n",
       "3897  0.162031  0.012832 -1.475231  ...  1.748269 -0.323666 -1.498440   \n",
       "5628  0.243799 -0.008622  1.253602  ... -0.809695 -1.039981  0.965447   \n",
       "1756  0.809653  1.569820  0.648541  ...  1.052694  1.478953  2.051413   \n",
       "2346 -0.010609 -0.403109 -0.744025  ... -0.640925  1.804151 -0.465239   \n",
       "2996  1.671135  1.869289 -0.692286  ...  1.615828 -0.709746 -0.478441   \n",
       "\n",
       "           X24       X25       X26       X27       X28       X29       X30  \n",
       "3897 -0.801106 -0.019642  0.594704  0.302236  0.513468 -0.285997  0.303386  \n",
       "5628 -0.832631 -2.027918 -0.157857  0.679601 -0.088923 -0.944892 -0.699163  \n",
       "1756  0.138883 -0.957434  0.526127 -0.019683 -0.842406 -0.879651 -0.759638  \n",
       "2346 -1.137112  0.155095 -0.143831  0.758476 -0.075998 -1.059547 -0.109672  \n",
       "2996  1.359778  0.281754 -1.950171 -0.372190  0.497917  1.159817  0.812185  \n",
       "\n",
       "[5 rows x 30 columns]"
      ]
     },
     "execution_count": 24,
     "metadata": {},
     "output_type": "execute_result"
    }
   ],
   "source": [
    "Xtrain.head()"
   ]
  },
  {
   "cell_type": "code",
   "execution_count": 25,
   "metadata": {},
   "outputs": [
    {
     "data": {
      "text/html": [
       "<div>\n",
       "<style scoped>\n",
       "    .dataframe tbody tr th:only-of-type {\n",
       "        vertical-align: middle;\n",
       "    }\n",
       "\n",
       "    .dataframe tbody tr th {\n",
       "        vertical-align: top;\n",
       "    }\n",
       "\n",
       "    .dataframe thead th {\n",
       "        text-align: right;\n",
       "    }\n",
       "</style>\n",
       "<table border=\"1\" class=\"dataframe\">\n",
       "  <thead>\n",
       "    <tr style=\"text-align: right;\">\n",
       "      <th></th>\n",
       "      <th>target</th>\n",
       "    </tr>\n",
       "  </thead>\n",
       "  <tbody>\n",
       "    <tr>\n",
       "      <th>3897</th>\n",
       "      <td>1</td>\n",
       "    </tr>\n",
       "    <tr>\n",
       "      <th>5628</th>\n",
       "      <td>2</td>\n",
       "    </tr>\n",
       "    <tr>\n",
       "      <th>1756</th>\n",
       "      <td>0</td>\n",
       "    </tr>\n",
       "    <tr>\n",
       "      <th>2346</th>\n",
       "      <td>1</td>\n",
       "    </tr>\n",
       "    <tr>\n",
       "      <th>2996</th>\n",
       "      <td>1</td>\n",
       "    </tr>\n",
       "  </tbody>\n",
       "</table>\n",
       "</div>"
      ],
      "text/plain": [
       "      target\n",
       "3897       1\n",
       "5628       2\n",
       "1756       0\n",
       "2346       1\n",
       "2996       1"
      ]
     },
     "execution_count": 25,
     "metadata": {},
     "output_type": "execute_result"
    }
   ],
   "source": [
    "Ytrain.head()"
   ]
  },
  {
   "cell_type": "code",
   "execution_count": 28,
   "metadata": {},
   "outputs": [
    {
     "data": {
      "text/plain": [
       "target\n",
       "2         1608\n",
       "1         1601\n",
       "0         1591\n",
       "Name: count, dtype: int64"
      ]
     },
     "execution_count": 28,
     "metadata": {},
     "output_type": "execute_result"
    }
   ],
   "source": [
    "Ytrain.value_counts()"
   ]
  },
  {
   "cell_type": "code",
   "execution_count": 26,
   "metadata": {},
   "outputs": [
    {
     "data": {
      "text/html": [
       "<div>\n",
       "<style scoped>\n",
       "    .dataframe tbody tr th:only-of-type {\n",
       "        vertical-align: middle;\n",
       "    }\n",
       "\n",
       "    .dataframe tbody tr th {\n",
       "        vertical-align: top;\n",
       "    }\n",
       "\n",
       "    .dataframe thead th {\n",
       "        text-align: right;\n",
       "    }\n",
       "</style>\n",
       "<table border=\"1\" class=\"dataframe\">\n",
       "  <thead>\n",
       "    <tr style=\"text-align: right;\">\n",
       "      <th></th>\n",
       "      <th>X1</th>\n",
       "      <th>X2</th>\n",
       "      <th>X3</th>\n",
       "      <th>X4</th>\n",
       "      <th>X5</th>\n",
       "      <th>X6</th>\n",
       "      <th>X7</th>\n",
       "      <th>X8</th>\n",
       "      <th>X9</th>\n",
       "      <th>X10</th>\n",
       "      <th>...</th>\n",
       "      <th>X21</th>\n",
       "      <th>X22</th>\n",
       "      <th>X23</th>\n",
       "      <th>X24</th>\n",
       "      <th>X25</th>\n",
       "      <th>X26</th>\n",
       "      <th>X27</th>\n",
       "      <th>X28</th>\n",
       "      <th>X29</th>\n",
       "      <th>X30</th>\n",
       "    </tr>\n",
       "  </thead>\n",
       "  <tbody>\n",
       "    <tr>\n",
       "      <th>1782</th>\n",
       "      <td>-1.541585</td>\n",
       "      <td>-0.621096</td>\n",
       "      <td>1.446116</td>\n",
       "      <td>0.526833</td>\n",
       "      <td>0.092480</td>\n",
       "      <td>-0.872741</td>\n",
       "      <td>0.763647</td>\n",
       "      <td>-0.005977</td>\n",
       "      <td>0.803367</td>\n",
       "      <td>-1.141591</td>\n",
       "      <td>...</td>\n",
       "      <td>0.455955</td>\n",
       "      <td>-1.193269</td>\n",
       "      <td>-1.074553</td>\n",
       "      <td>0.600377</td>\n",
       "      <td>0.909267</td>\n",
       "      <td>-0.736203</td>\n",
       "      <td>-0.555873</td>\n",
       "      <td>-0.802501</td>\n",
       "      <td>0.419976</td>\n",
       "      <td>0.590310</td>\n",
       "    </tr>\n",
       "    <tr>\n",
       "      <th>3917</th>\n",
       "      <td>0.195244</td>\n",
       "      <td>-0.789687</td>\n",
       "      <td>-2.082877</td>\n",
       "      <td>0.086383</td>\n",
       "      <td>0.500841</td>\n",
       "      <td>-0.817277</td>\n",
       "      <td>0.081145</td>\n",
       "      <td>0.734700</td>\n",
       "      <td>0.783167</td>\n",
       "      <td>0.804133</td>\n",
       "      <td>...</td>\n",
       "      <td>-0.758443</td>\n",
       "      <td>0.380874</td>\n",
       "      <td>0.542159</td>\n",
       "      <td>-0.324582</td>\n",
       "      <td>-0.505033</td>\n",
       "      <td>-0.188219</td>\n",
       "      <td>-0.230193</td>\n",
       "      <td>-0.030395</td>\n",
       "      <td>-0.044454</td>\n",
       "      <td>-0.496936</td>\n",
       "    </tr>\n",
       "    <tr>\n",
       "      <th>221</th>\n",
       "      <td>1.194991</td>\n",
       "      <td>-0.064019</td>\n",
       "      <td>0.585004</td>\n",
       "      <td>1.023460</td>\n",
       "      <td>0.796115</td>\n",
       "      <td>-0.058792</td>\n",
       "      <td>0.621334</td>\n",
       "      <td>1.283837</td>\n",
       "      <td>0.847144</td>\n",
       "      <td>0.590837</td>\n",
       "      <td>...</td>\n",
       "      <td>-0.117730</td>\n",
       "      <td>2.156139</td>\n",
       "      <td>-0.052305</td>\n",
       "      <td>0.966632</td>\n",
       "      <td>-0.532152</td>\n",
       "      <td>0.421381</td>\n",
       "      <td>0.331739</td>\n",
       "      <td>-2.059234</td>\n",
       "      <td>-0.222865</td>\n",
       "      <td>0.206466</td>\n",
       "    </tr>\n",
       "    <tr>\n",
       "      <th>2135</th>\n",
       "      <td>0.346122</td>\n",
       "      <td>-0.267713</td>\n",
       "      <td>-0.046916</td>\n",
       "      <td>-0.878599</td>\n",
       "      <td>0.394272</td>\n",
       "      <td>-1.503213</td>\n",
       "      <td>0.633133</td>\n",
       "      <td>0.949152</td>\n",
       "      <td>-0.097784</td>\n",
       "      <td>1.383897</td>\n",
       "      <td>...</td>\n",
       "      <td>0.312512</td>\n",
       "      <td>-0.631066</td>\n",
       "      <td>-0.183804</td>\n",
       "      <td>-0.157119</td>\n",
       "      <td>0.659853</td>\n",
       "      <td>0.047864</td>\n",
       "      <td>-0.633288</td>\n",
       "      <td>0.607493</td>\n",
       "      <td>0.463069</td>\n",
       "      <td>-1.438327</td>\n",
       "    </tr>\n",
       "    <tr>\n",
       "      <th>5224</th>\n",
       "      <td>0.736885</td>\n",
       "      <td>0.647841</td>\n",
       "      <td>-0.495896</td>\n",
       "      <td>0.317570</td>\n",
       "      <td>-0.551170</td>\n",
       "      <td>1.034425</td>\n",
       "      <td>0.252213</td>\n",
       "      <td>-0.464908</td>\n",
       "      <td>-0.701343</td>\n",
       "      <td>-0.305647</td>\n",
       "      <td>...</td>\n",
       "      <td>0.777272</td>\n",
       "      <td>0.567679</td>\n",
       "      <td>0.607205</td>\n",
       "      <td>-1.105710</td>\n",
       "      <td>0.868539</td>\n",
       "      <td>-2.016291</td>\n",
       "      <td>-0.972826</td>\n",
       "      <td>0.877120</td>\n",
       "      <td>0.616826</td>\n",
       "      <td>1.055217</td>\n",
       "    </tr>\n",
       "  </tbody>\n",
       "</table>\n",
       "<p>5 rows × 30 columns</p>\n",
       "</div>"
      ],
      "text/plain": [
       "            X1        X2        X3        X4        X5        X6        X7  \\\n",
       "1782 -1.541585 -0.621096  1.446116  0.526833  0.092480 -0.872741  0.763647   \n",
       "3917  0.195244 -0.789687 -2.082877  0.086383  0.500841 -0.817277  0.081145   \n",
       "221   1.194991 -0.064019  0.585004  1.023460  0.796115 -0.058792  0.621334   \n",
       "2135  0.346122 -0.267713 -0.046916 -0.878599  0.394272 -1.503213  0.633133   \n",
       "5224  0.736885  0.647841 -0.495896  0.317570 -0.551170  1.034425  0.252213   \n",
       "\n",
       "            X8        X9       X10  ...       X21       X22       X23  \\\n",
       "1782 -0.005977  0.803367 -1.141591  ...  0.455955 -1.193269 -1.074553   \n",
       "3917  0.734700  0.783167  0.804133  ... -0.758443  0.380874  0.542159   \n",
       "221   1.283837  0.847144  0.590837  ... -0.117730  2.156139 -0.052305   \n",
       "2135  0.949152 -0.097784  1.383897  ...  0.312512 -0.631066 -0.183804   \n",
       "5224 -0.464908 -0.701343 -0.305647  ...  0.777272  0.567679  0.607205   \n",
       "\n",
       "           X24       X25       X26       X27       X28       X29       X30  \n",
       "1782  0.600377  0.909267 -0.736203 -0.555873 -0.802501  0.419976  0.590310  \n",
       "3917 -0.324582 -0.505033 -0.188219 -0.230193 -0.030395 -0.044454 -0.496936  \n",
       "221   0.966632 -0.532152  0.421381  0.331739 -2.059234 -0.222865  0.206466  \n",
       "2135 -0.157119  0.659853  0.047864 -0.633288  0.607493  0.463069 -1.438327  \n",
       "5224 -1.105710  0.868539 -2.016291 -0.972826  0.877120  0.616826  1.055217  \n",
       "\n",
       "[5 rows x 30 columns]"
      ]
     },
     "execution_count": 26,
     "metadata": {},
     "output_type": "execute_result"
    }
   ],
   "source": [
    "Xtest.head()"
   ]
  },
  {
   "cell_type": "code",
   "execution_count": 27,
   "metadata": {},
   "outputs": [
    {
     "data": {
      "text/html": [
       "<div>\n",
       "<style scoped>\n",
       "    .dataframe tbody tr th:only-of-type {\n",
       "        vertical-align: middle;\n",
       "    }\n",
       "\n",
       "    .dataframe tbody tr th {\n",
       "        vertical-align: top;\n",
       "    }\n",
       "\n",
       "    .dataframe thead th {\n",
       "        text-align: right;\n",
       "    }\n",
       "</style>\n",
       "<table border=\"1\" class=\"dataframe\">\n",
       "  <thead>\n",
       "    <tr style=\"text-align: right;\">\n",
       "      <th></th>\n",
       "      <th>target</th>\n",
       "    </tr>\n",
       "  </thead>\n",
       "  <tbody>\n",
       "    <tr>\n",
       "      <th>1782</th>\n",
       "      <td>0</td>\n",
       "    </tr>\n",
       "    <tr>\n",
       "      <th>3917</th>\n",
       "      <td>2</td>\n",
       "    </tr>\n",
       "    <tr>\n",
       "      <th>221</th>\n",
       "      <td>2</td>\n",
       "    </tr>\n",
       "    <tr>\n",
       "      <th>2135</th>\n",
       "      <td>2</td>\n",
       "    </tr>\n",
       "    <tr>\n",
       "      <th>5224</th>\n",
       "      <td>2</td>\n",
       "    </tr>\n",
       "  </tbody>\n",
       "</table>\n",
       "</div>"
      ],
      "text/plain": [
       "      target\n",
       "1782       0\n",
       "3917       2\n",
       "221        2\n",
       "2135       2\n",
       "5224       2"
      ]
     },
     "execution_count": 27,
     "metadata": {},
     "output_type": "execute_result"
    }
   ],
   "source": [
    "Ytest.head()"
   ]
  },
  {
   "cell_type": "code",
   "execution_count": 30,
   "metadata": {},
   "outputs": [
    {
     "data": {
      "text/plain": [
       "(4800, 30)"
      ]
     },
     "execution_count": 30,
     "metadata": {},
     "output_type": "execute_result"
    }
   ],
   "source": [
    "Xtrain.shape"
   ]
  },
  {
   "cell_type": "code",
   "execution_count": 31,
   "metadata": {},
   "outputs": [
    {
     "data": {
      "text/plain": [
       "(1200, 30)"
      ]
     },
     "execution_count": 31,
     "metadata": {},
     "output_type": "execute_result"
    }
   ],
   "source": [
    "Xtest.shape"
   ]
  },
  {
   "cell_type": "markdown",
   "metadata": {},
   "source": [
    "### One hot encoder for Y featurs"
   ]
  },
  {
   "cell_type": "code",
   "execution_count": 32,
   "metadata": {},
   "outputs": [],
   "source": [
    "from keras.utils import to_categorical\n",
    "Ytrain_cat=to_categorical(Ytrain)\n",
    "Ytest_cat=to_categorical(Ytest)"
   ]
  },
  {
   "cell_type": "code",
   "execution_count": 33,
   "metadata": {},
   "outputs": [
    {
     "data": {
      "text/plain": [
       "array([[0., 1., 0.],\n",
       "       [0., 0., 1.],\n",
       "       [1., 0., 0.],\n",
       "       [0., 1., 0.],\n",
       "       [0., 1., 0.]], dtype=float32)"
      ]
     },
     "execution_count": 33,
     "metadata": {},
     "output_type": "execute_result"
    }
   ],
   "source": [
    "Ytrain_cat[0:5]"
   ]
  },
  {
   "cell_type": "code",
   "execution_count": 34,
   "metadata": {},
   "outputs": [
    {
     "data": {
      "text/plain": [
       "array([[1., 0., 0.],\n",
       "       [0., 0., 1.],\n",
       "       [0., 0., 1.],\n",
       "       [0., 0., 1.],\n",
       "       [0., 0., 1.]], dtype=float32)"
      ]
     },
     "execution_count": 34,
     "metadata": {},
     "output_type": "execute_result"
    }
   ],
   "source": [
    "Ytest_cat[0:5]"
   ]
  },
  {
   "cell_type": "markdown",
   "metadata": {},
   "source": [
    "### Create a neural network"
   ]
  },
  {
   "cell_type": "code",
   "execution_count": 35,
   "metadata": {},
   "outputs": [],
   "source": [
    "from keras.models import Sequential\n",
    "from keras.layers import Dense,Dropout\n",
    "from keras.callbacks import EarlyStopping"
   ]
  },
  {
   "cell_type": "code",
   "execution_count": 38,
   "metadata": {},
   "outputs": [],
   "source": [
    "model=Sequential()\n",
    "\n",
    "# Layer 1\n",
    "model.add(Dense(64,activation='relu',input_dim=Xtrain.shape[1]))\n",
    "model.add(Dropout(0.3))\n",
    "\n",
    "# Layer 2\n",
    "model.add(Dense(32,activation='relu'))\n",
    "model.add(Dropout(0.3))\n",
    "\n",
    "# Output Layer 3\n",
    "model.add(Dense(3,activation='softmax'))"
   ]
  },
  {
   "cell_type": "code",
   "execution_count": 39,
   "metadata": {},
   "outputs": [
    {
     "name": "stdout",
     "output_type": "stream",
     "text": [
      "Model: \"sequential\"\n",
      "_________________________________________________________________\n",
      " Layer (type)                Output Shape              Param #   \n",
      "=================================================================\n",
      " dense_2 (Dense)             (None, 64)                1984      \n",
      "                                                                 \n",
      " dropout (Dropout)           (None, 64)                0         \n",
      "                                                                 \n",
      " dense_3 (Dense)             (None, 32)                2080      \n",
      "                                                                 \n",
      " dropout_1 (Dropout)         (None, 32)                0         \n",
      "                                                                 \n",
      " dense_4 (Dense)             (None, 3)                 99        \n",
      "                                                                 \n",
      "=================================================================\n",
      "Total params: 4163 (16.26 KB)\n",
      "Trainable params: 4163 (16.26 KB)\n",
      "Non-trainable params: 0 (0.00 Byte)\n",
      "_________________________________________________________________\n"
     ]
    }
   ],
   "source": [
    "model.summary()"
   ]
  },
  {
   "cell_type": "markdown",
   "metadata": {},
   "source": [
    "### Compile the model"
   ]
  },
  {
   "cell_type": "code",
   "execution_count": 49,
   "metadata": {},
   "outputs": [],
   "source": [
    "model.compile(loss='categorical_crossentropy', optimizer='adam', metrics=['accuracy'])"
   ]
  },
  {
   "cell_type": "code",
   "execution_count": 50,
   "metadata": {},
   "outputs": [],
   "source": [
    "early_stop = EarlyStopping(monitor='val_loss', patience=10)"
   ]
  },
  {
   "cell_type": "code",
   "execution_count": 51,
   "metadata": {},
   "outputs": [
    {
     "name": "stdout",
     "output_type": "stream",
     "text": [
      "Epoch 1/200\n",
      "WARNING:tensorflow:From d:\\Cources\\Deep Learning\\repository\\venv\\lib\\site-packages\\keras\\src\\utils\\tf_utils.py:492: The name tf.ragged.RaggedTensorValue is deprecated. Please use tf.compat.v1.ragged.RaggedTensorValue instead.\n",
      "\n",
      "WARNING:tensorflow:From d:\\Cources\\Deep Learning\\repository\\venv\\lib\\site-packages\\keras\\src\\engine\\base_layer_utils.py:384: The name tf.executing_eagerly_outside_functions is deprecated. Please use tf.compat.v1.executing_eagerly_outside_functions instead.\n",
      "\n",
      "120/120 [==============================] - 3s 6ms/step - loss: 1.0336 - accuracy: 0.4648 - val_loss: 0.8581 - val_accuracy: 0.6406\n",
      "Epoch 2/200\n",
      "120/120 [==============================] - 1s 6ms/step - loss: 0.8694 - accuracy: 0.6049 - val_loss: 0.7266 - val_accuracy: 0.7198\n",
      "Epoch 3/200\n",
      "120/120 [==============================] - 1s 4ms/step - loss: 0.7891 - accuracy: 0.6326 - val_loss: 0.6354 - val_accuracy: 0.7688\n",
      "Epoch 4/200\n",
      "120/120 [==============================] - 1s 6ms/step - loss: 0.7005 - accuracy: 0.6844 - val_loss: 0.5692 - val_accuracy: 0.7937\n",
      "Epoch 5/200\n",
      "120/120 [==============================] - 1s 6ms/step - loss: 0.6390 - accuracy: 0.7268 - val_loss: 0.5120 - val_accuracy: 0.8198\n",
      "Epoch 6/200\n",
      "120/120 [==============================] - 1s 5ms/step - loss: 0.5993 - accuracy: 0.7479 - val_loss: 0.4700 - val_accuracy: 0.8323\n",
      "Epoch 7/200\n",
      "120/120 [==============================] - 1s 4ms/step - loss: 0.5659 - accuracy: 0.7669 - val_loss: 0.4370 - val_accuracy: 0.8406\n",
      "Epoch 8/200\n",
      "120/120 [==============================] - 1s 5ms/step - loss: 0.5443 - accuracy: 0.7758 - val_loss: 0.4166 - val_accuracy: 0.8438\n",
      "Epoch 9/200\n",
      "120/120 [==============================] - 1s 5ms/step - loss: 0.4979 - accuracy: 0.7987 - val_loss: 0.3938 - val_accuracy: 0.8510\n",
      "Epoch 10/200\n",
      "120/120 [==============================] - 1s 5ms/step - loss: 0.4914 - accuracy: 0.7982 - val_loss: 0.3750 - val_accuracy: 0.8521\n",
      "Epoch 11/200\n",
      "120/120 [==============================] - 1s 4ms/step - loss: 0.4672 - accuracy: 0.8083 - val_loss: 0.3590 - val_accuracy: 0.8635\n",
      "Epoch 12/200\n",
      "120/120 [==============================] - 0s 4ms/step - loss: 0.4505 - accuracy: 0.8159 - val_loss: 0.3463 - val_accuracy: 0.8687\n",
      "Epoch 13/200\n",
      "120/120 [==============================] - 0s 4ms/step - loss: 0.4394 - accuracy: 0.8229 - val_loss: 0.3323 - val_accuracy: 0.8740\n",
      "Epoch 14/200\n",
      "120/120 [==============================] - 0s 4ms/step - loss: 0.4185 - accuracy: 0.8352 - val_loss: 0.3226 - val_accuracy: 0.8802\n",
      "Epoch 15/200\n",
      "120/120 [==============================] - 1s 5ms/step - loss: 0.3941 - accuracy: 0.8393 - val_loss: 0.3097 - val_accuracy: 0.8844\n",
      "Epoch 16/200\n",
      "120/120 [==============================] - 0s 3ms/step - loss: 0.3936 - accuracy: 0.8440 - val_loss: 0.3001 - val_accuracy: 0.8833\n",
      "Epoch 17/200\n",
      "120/120 [==============================] - 0s 4ms/step - loss: 0.3856 - accuracy: 0.8477 - val_loss: 0.2974 - val_accuracy: 0.8896\n",
      "Epoch 18/200\n",
      "120/120 [==============================] - 1s 6ms/step - loss: 0.3739 - accuracy: 0.8497 - val_loss: 0.2836 - val_accuracy: 0.9010\n",
      "Epoch 19/200\n",
      "120/120 [==============================] - 0s 4ms/step - loss: 0.3559 - accuracy: 0.8612 - val_loss: 0.2784 - val_accuracy: 0.8958\n",
      "Epoch 20/200\n",
      "120/120 [==============================] - 1s 5ms/step - loss: 0.3447 - accuracy: 0.8633 - val_loss: 0.2728 - val_accuracy: 0.8938\n",
      "Epoch 21/200\n",
      "120/120 [==============================] - 1s 5ms/step - loss: 0.3345 - accuracy: 0.8727 - val_loss: 0.2636 - val_accuracy: 0.9010\n",
      "Epoch 22/200\n",
      "120/120 [==============================] - 0s 4ms/step - loss: 0.3539 - accuracy: 0.8609 - val_loss: 0.2566 - val_accuracy: 0.9062\n",
      "Epoch 23/200\n",
      "120/120 [==============================] - 0s 4ms/step - loss: 0.3246 - accuracy: 0.8805 - val_loss: 0.2541 - val_accuracy: 0.9000\n",
      "Epoch 24/200\n",
      "120/120 [==============================] - 0s 4ms/step - loss: 0.3177 - accuracy: 0.8776 - val_loss: 0.2497 - val_accuracy: 0.9125\n",
      "Epoch 25/200\n",
      "120/120 [==============================] - 1s 6ms/step - loss: 0.3178 - accuracy: 0.8836 - val_loss: 0.2511 - val_accuracy: 0.9031\n",
      "Epoch 26/200\n",
      "120/120 [==============================] - 1s 5ms/step - loss: 0.3168 - accuracy: 0.8792 - val_loss: 0.2461 - val_accuracy: 0.9094\n",
      "Epoch 27/200\n",
      "120/120 [==============================] - 1s 5ms/step - loss: 0.3136 - accuracy: 0.8846 - val_loss: 0.2400 - val_accuracy: 0.9167\n",
      "Epoch 28/200\n",
      "120/120 [==============================] - 1s 6ms/step - loss: 0.2841 - accuracy: 0.8904 - val_loss: 0.2381 - val_accuracy: 0.9094\n",
      "Epoch 29/200\n",
      "120/120 [==============================] - 1s 4ms/step - loss: 0.2898 - accuracy: 0.8906 - val_loss: 0.2320 - val_accuracy: 0.9156\n",
      "Epoch 30/200\n",
      "120/120 [==============================] - 1s 5ms/step - loss: 0.2791 - accuracy: 0.8977 - val_loss: 0.2373 - val_accuracy: 0.9094\n",
      "Epoch 31/200\n",
      "120/120 [==============================] - 1s 4ms/step - loss: 0.2749 - accuracy: 0.8984 - val_loss: 0.2366 - val_accuracy: 0.9198\n",
      "Epoch 32/200\n",
      "120/120 [==============================] - 0s 4ms/step - loss: 0.2808 - accuracy: 0.8971 - val_loss: 0.2235 - val_accuracy: 0.9177\n",
      "Epoch 33/200\n",
      "120/120 [==============================] - 0s 3ms/step - loss: 0.2731 - accuracy: 0.9052 - val_loss: 0.2233 - val_accuracy: 0.9198\n",
      "Epoch 34/200\n",
      "120/120 [==============================] - 0s 4ms/step - loss: 0.2758 - accuracy: 0.8982 - val_loss: 0.2260 - val_accuracy: 0.9167\n",
      "Epoch 35/200\n",
      "120/120 [==============================] - 0s 3ms/step - loss: 0.2667 - accuracy: 0.9086 - val_loss: 0.2231 - val_accuracy: 0.9240\n",
      "Epoch 36/200\n",
      "120/120 [==============================] - 0s 4ms/step - loss: 0.2551 - accuracy: 0.9094 - val_loss: 0.2209 - val_accuracy: 0.9240\n",
      "Epoch 37/200\n",
      "120/120 [==============================] - 0s 4ms/step - loss: 0.2580 - accuracy: 0.9047 - val_loss: 0.2167 - val_accuracy: 0.9229\n",
      "Epoch 38/200\n",
      "120/120 [==============================] - 0s 4ms/step - loss: 0.2566 - accuracy: 0.9081 - val_loss: 0.2211 - val_accuracy: 0.9167\n",
      "Epoch 39/200\n",
      "120/120 [==============================] - 1s 5ms/step - loss: 0.2419 - accuracy: 0.9133 - val_loss: 0.2220 - val_accuracy: 0.9240\n",
      "Epoch 40/200\n",
      "120/120 [==============================] - 0s 4ms/step - loss: 0.2402 - accuracy: 0.9151 - val_loss: 0.2180 - val_accuracy: 0.9240\n",
      "Epoch 41/200\n",
      "120/120 [==============================] - 0s 4ms/step - loss: 0.2438 - accuracy: 0.9159 - val_loss: 0.2200 - val_accuracy: 0.9250\n",
      "Epoch 42/200\n",
      "120/120 [==============================] - 0s 4ms/step - loss: 0.2397 - accuracy: 0.9120 - val_loss: 0.2180 - val_accuracy: 0.9271\n",
      "Epoch 43/200\n",
      "120/120 [==============================] - 0s 3ms/step - loss: 0.2345 - accuracy: 0.9135 - val_loss: 0.2227 - val_accuracy: 0.9208\n",
      "Epoch 44/200\n",
      "120/120 [==============================] - 0s 4ms/step - loss: 0.2229 - accuracy: 0.9211 - val_loss: 0.2202 - val_accuracy: 0.9229\n",
      "Epoch 45/200\n",
      "120/120 [==============================] - 0s 3ms/step - loss: 0.2323 - accuracy: 0.9198 - val_loss: 0.2246 - val_accuracy: 0.9250\n",
      "Epoch 46/200\n",
      "120/120 [==============================] - 1s 5ms/step - loss: 0.2194 - accuracy: 0.9232 - val_loss: 0.2254 - val_accuracy: 0.9281\n",
      "Epoch 47/200\n",
      "120/120 [==============================] - 1s 5ms/step - loss: 0.2398 - accuracy: 0.9151 - val_loss: 0.2193 - val_accuracy: 0.9240\n"
     ]
    }
   ],
   "source": [
    "\n",
    "hist = model.fit(Xtrain, Ytrain_cat, validation_split=0.2, epochs=200, callbacks=[early_stop])"
   ]
  },
  {
   "cell_type": "markdown",
   "metadata": {},
   "source": [
    "### Plot learning curve"
   ]
  },
  {
   "cell_type": "code",
   "execution_count": 52,
   "metadata": {},
   "outputs": [],
   "source": [
    "import matplotlib.pyplot as plt"
   ]
  },
  {
   "cell_type": "code",
   "execution_count": 53,
   "metadata": {},
   "outputs": [
    {
     "data": {
      "image/png": "[encoded data removed]",
      "text/plain": [
       "<Figure size 2000x1000 with 1 Axes>"
      ]
     },
     "metadata": {},
     "output_type": "display_data"
    }
   ],
   "source": [
    "plt.figure(figsize=(20,10))\n",
    "plt.plot(hist.history['loss'],label='treaning_loss')\n",
    "plt.plot(hist.history['val_loss'],label ='validation loss')\n",
    "plt.xlabel('epochs')\n",
    "plt.ylabel('Categorical_cross_entropy')\n",
    "plt.title('Learning Curve')\n",
    "plt.show()"
   ]
  },
  {
   "cell_type": "code",
   "execution_count": null,
   "metadata": {},
   "outputs": [],
   "source": []
  }
 ],
 "metadata": {
  "kernelspec": {
   "display_name": "venv",
   "language": "python",
   "name": "python3"
  },
  "language_info": {
   "codemirror_mode": {
    "name": "ipython",
    "version": 3
   },
   "file_extension": ".py",
   "mimetype": "text/x-python",
   "name": "python",
   "nbconvert_exporter": "python",
   "pygments_lexer": "ipython3",
   "version": "3.10.9"
  }
 },
 "nbformat": 4,
 "nbformat_minor": 2
}
