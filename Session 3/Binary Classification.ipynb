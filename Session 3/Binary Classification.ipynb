{
 "cells": [
  {
   "cell_type": "markdown",
   "metadata": {},
   "source": [
    "## Binary classification\n"
   ]
  },
  {
   "cell_type": "markdown",
   "metadata": {},
   "source": []
  },
  {
   "cell_type": "code",
   "execution_count": 1,
   "metadata": {},
   "outputs": [],
   "source": [
    "# Booking calculation data sets "
   ]
  },
  {
   "cell_type": "code",
   "execution_count": 2,
   "metadata": {},
   "outputs": [],
   "source": [
    "from warnings import filterwarnings\n",
    "filterwarnings (\"ignore\")"
   ]
  },
  {
   "cell_type": "code",
   "execution_count": 3,
   "metadata": {},
   "outputs": [],
   "source": [
    "## Read the Data sets"
   ]
  },
  {
   "cell_type": "code",
   "execution_count": 4,
   "metadata": {},
   "outputs": [
    {
     "data": {
      "text/html": [
       "<div>\n",
       "<style scoped>\n",
       "    .dataframe tbody tr th:only-of-type {\n",
       "        vertical-align: middle;\n",
       "    }\n",
       "\n",
       "    .dataframe tbody tr th {\n",
       "        vertical-align: top;\n",
       "    }\n",
       "\n",
       "    .dataframe thead th {\n",
       "        text-align: right;\n",
       "    }\n",
       "</style>\n",
       "<table border=\"1\" class=\"dataframe\">\n",
       "  <thead>\n",
       "    <tr style=\"text-align: right;\">\n",
       "      <th></th>\n",
       "      <th>id</th>\n",
       "      <th>no_of_adults</th>\n",
       "      <th>no_of_children</th>\n",
       "      <th>no_of_weekend_nights</th>\n",
       "      <th>no_of_week_nights</th>\n",
       "      <th>type_of_meal_plan</th>\n",
       "      <th>required_car_parking_space</th>\n",
       "      <th>room_type_reserved</th>\n",
       "      <th>lead_time</th>\n",
       "      <th>arrival_year</th>\n",
       "      <th>arrival_month</th>\n",
       "      <th>arrival_date</th>\n",
       "      <th>market_segment_type</th>\n",
       "      <th>repeated_guest</th>\n",
       "      <th>no_of_previous_cancellations</th>\n",
       "      <th>no_of_previous_bookings_not_canceled</th>\n",
       "      <th>avg_price_per_room</th>\n",
       "      <th>no_of_special_requests</th>\n",
       "      <th>booking_status</th>\n",
       "    </tr>\n",
       "  </thead>\n",
       "  <tbody>\n",
       "    <tr>\n",
       "      <th>0</th>\n",
       "      <td>0</td>\n",
       "      <td>2</td>\n",
       "      <td>0</td>\n",
       "      <td>0</td>\n",
       "      <td>2</td>\n",
       "      <td>1</td>\n",
       "      <td>0</td>\n",
       "      <td>0</td>\n",
       "      <td>9</td>\n",
       "      <td>2018</td>\n",
       "      <td>1</td>\n",
       "      <td>14</td>\n",
       "      <td>1</td>\n",
       "      <td>1</td>\n",
       "      <td>11</td>\n",
       "      <td>0</td>\n",
       "      <td>67.50</td>\n",
       "      <td>0</td>\n",
       "      <td>0</td>\n",
       "    </tr>\n",
       "    <tr>\n",
       "      <th>1</th>\n",
       "      <td>1</td>\n",
       "      <td>2</td>\n",
       "      <td>0</td>\n",
       "      <td>1</td>\n",
       "      <td>2</td>\n",
       "      <td>0</td>\n",
       "      <td>0</td>\n",
       "      <td>0</td>\n",
       "      <td>117</td>\n",
       "      <td>2018</td>\n",
       "      <td>7</td>\n",
       "      <td>29</td>\n",
       "      <td>0</td>\n",
       "      <td>0</td>\n",
       "      <td>0</td>\n",
       "      <td>0</td>\n",
       "      <td>72.25</td>\n",
       "      <td>0</td>\n",
       "      <td>0</td>\n",
       "    </tr>\n",
       "    <tr>\n",
       "      <th>2</th>\n",
       "      <td>2</td>\n",
       "      <td>2</td>\n",
       "      <td>0</td>\n",
       "      <td>0</td>\n",
       "      <td>1</td>\n",
       "      <td>0</td>\n",
       "      <td>0</td>\n",
       "      <td>0</td>\n",
       "      <td>315</td>\n",
       "      <td>2018</td>\n",
       "      <td>12</td>\n",
       "      <td>2</td>\n",
       "      <td>0</td>\n",
       "      <td>0</td>\n",
       "      <td>0</td>\n",
       "      <td>0</td>\n",
       "      <td>52.00</td>\n",
       "      <td>0</td>\n",
       "      <td>0</td>\n",
       "    </tr>\n",
       "    <tr>\n",
       "      <th>3</th>\n",
       "      <td>3</td>\n",
       "      <td>1</td>\n",
       "      <td>0</td>\n",
       "      <td>0</td>\n",
       "      <td>2</td>\n",
       "      <td>1</td>\n",
       "      <td>0</td>\n",
       "      <td>0</td>\n",
       "      <td>32</td>\n",
       "      <td>2018</td>\n",
       "      <td>12</td>\n",
       "      <td>1</td>\n",
       "      <td>1</td>\n",
       "      <td>0</td>\n",
       "      <td>0</td>\n",
       "      <td>0</td>\n",
       "      <td>56.00</td>\n",
       "      <td>0</td>\n",
       "      <td>0</td>\n",
       "    </tr>\n",
       "    <tr>\n",
       "      <th>4</th>\n",
       "      <td>4</td>\n",
       "      <td>2</td>\n",
       "      <td>0</td>\n",
       "      <td>1</td>\n",
       "      <td>0</td>\n",
       "      <td>0</td>\n",
       "      <td>0</td>\n",
       "      <td>0</td>\n",
       "      <td>258</td>\n",
       "      <td>2018</td>\n",
       "      <td>10</td>\n",
       "      <td>16</td>\n",
       "      <td>0</td>\n",
       "      <td>0</td>\n",
       "      <td>0</td>\n",
       "      <td>0</td>\n",
       "      <td>100.00</td>\n",
       "      <td>0</td>\n",
       "      <td>1</td>\n",
       "    </tr>\n",
       "  </tbody>\n",
       "</table>\n",
       "</div>"
      ],
      "text/plain": [
       "   id  no_of_adults  no_of_children  no_of_weekend_nights  no_of_week_nights  \\\n",
       "0   0             2               0                     0                  2   \n",
       "1   1             2               0                     1                  2   \n",
       "2   2             2               0                     0                  1   \n",
       "3   3             1               0                     0                  2   \n",
       "4   4             2               0                     1                  0   \n",
       "\n",
       "   type_of_meal_plan  required_car_parking_space  room_type_reserved  \\\n",
       "0                  1                           0                   0   \n",
       "1                  0                           0                   0   \n",
       "2                  0                           0                   0   \n",
       "3                  1                           0                   0   \n",
       "4                  0                           0                   0   \n",
       "\n",
       "   lead_time  arrival_year  arrival_month  arrival_date  market_segment_type  \\\n",
       "0          9          2018              1            14                    1   \n",
       "1        117          2018              7            29                    0   \n",
       "2        315          2018             12             2                    0   \n",
       "3         32          2018             12             1                    1   \n",
       "4        258          2018             10            16                    0   \n",
       "\n",
       "   repeated_guest  no_of_previous_cancellations  \\\n",
       "0               1                            11   \n",
       "1               0                             0   \n",
       "2               0                             0   \n",
       "3               0                             0   \n",
       "4               0                             0   \n",
       "\n",
       "   no_of_previous_bookings_not_canceled  avg_price_per_room  \\\n",
       "0                                     0               67.50   \n",
       "1                                     0               72.25   \n",
       "2                                     0               52.00   \n",
       "3                                     0               56.00   \n",
       "4                                     0              100.00   \n",
       "\n",
       "   no_of_special_requests  booking_status  \n",
       "0                       0               0  \n",
       "1                       0               0  \n",
       "2                       0               0  \n",
       "3                       0               0  \n",
       "4                       0               1  "
      ]
     },
     "execution_count": 4,
     "metadata": {},
     "output_type": "execute_result"
    }
   ],
   "source": [
    "import pandas as pd \n",
    "df=pd.read_csv(\"train_booking.csv\")\n",
    "df.head()"
   ]
  },
  {
   "cell_type": "code",
   "execution_count": 5,
   "metadata": {},
   "outputs": [
    {
     "name": "stdout",
     "output_type": "stream",
     "text": [
      "<class 'pandas.core.frame.DataFrame'>\n",
      "RangeIndex: 42100 entries, 0 to 42099\n",
      "Data columns (total 19 columns):\n",
      " #   Column                                Non-Null Count  Dtype  \n",
      "---  ------                                --------------  -----  \n",
      " 0   id                                    42100 non-null  int64  \n",
      " 1   no_of_adults                          42100 non-null  int64  \n",
      " 2   no_of_children                        42100 non-null  int64  \n",
      " 3   no_of_weekend_nights                  42100 non-null  int64  \n",
      " 4   no_of_week_nights                     42100 non-null  int64  \n",
      " 5   type_of_meal_plan                     42100 non-null  int64  \n",
      " 6   required_car_parking_space            42100 non-null  int64  \n",
      " 7   room_type_reserved                    42100 non-null  int64  \n",
      " 8   lead_time                             42100 non-null  int64  \n",
      " 9   arrival_year                          42100 non-null  int64  \n",
      " 10  arrival_month                         42100 non-null  int64  \n",
      " 11  arrival_date                          42100 non-null  int64  \n",
      " 12  market_segment_type                   42100 non-null  int64  \n",
      " 13  repeated_guest                        42100 non-null  int64  \n",
      " 14  no_of_previous_cancellations          42100 non-null  int64  \n",
      " 15  no_of_previous_bookings_not_canceled  42100 non-null  int64  \n",
      " 16  avg_price_per_room                    42100 non-null  float64\n",
      " 17  no_of_special_requests                42100 non-null  int64  \n",
      " 18  booking_status                        42100 non-null  int64  \n",
      "dtypes: float64(1), int64(18)\n",
      "memory usage: 6.1 MB\n"
     ]
    }
   ],
   "source": [
    "df.info()"
   ]
  },
  {
   "cell_type": "code",
   "execution_count": 6,
   "metadata": {},
   "outputs": [
    {
     "data": {
      "text/plain": [
       "id                                      0\n",
       "no_of_adults                            0\n",
       "no_of_children                          0\n",
       "no_of_weekend_nights                    0\n",
       "no_of_week_nights                       0\n",
       "type_of_meal_plan                       0\n",
       "required_car_parking_space              0\n",
       "room_type_reserved                      0\n",
       "lead_time                               0\n",
       "arrival_year                            0\n",
       "arrival_month                           0\n",
       "arrival_date                            0\n",
       "market_segment_type                     0\n",
       "repeated_guest                          0\n",
       "no_of_previous_cancellations            0\n",
       "no_of_previous_bookings_not_canceled    0\n",
       "avg_price_per_room                      0\n",
       "no_of_special_requests                  0\n",
       "booking_status                          0\n",
       "dtype: int64"
      ]
     },
     "execution_count": 6,
     "metadata": {},
     "output_type": "execute_result"
    }
   ],
   "source": [
    "df.isna().sum()"
   ]
  },
  {
   "cell_type": "code",
   "execution_count": 7,
   "metadata": {},
   "outputs": [
    {
     "data": {
      "text/plain": [
       "0"
      ]
     },
     "execution_count": 7,
     "metadata": {},
     "output_type": "execute_result"
    }
   ],
   "source": [
    "df.duplicated().sum()"
   ]
  },
  {
   "cell_type": "code",
   "execution_count": 8,
   "metadata": {},
   "outputs": [],
   "source": [
    "# Apply Seperate X & Y"
   ]
  },
  {
   "cell_type": "code",
   "execution_count": 9,
   "metadata": {},
   "outputs": [],
   "source": [
    "X=df.drop(columns=[\"id\",\"booking_status\"])\n",
    "Y=df[['booking_status']]"
   ]
  },
  {
   "cell_type": "code",
   "execution_count": 10,
   "metadata": {},
   "outputs": [
    {
     "data": {
      "text/html": [
       "<div>\n",
       "<style scoped>\n",
       "    .dataframe tbody tr th:only-of-type {\n",
       "        vertical-align: middle;\n",
       "    }\n",
       "\n",
       "    .dataframe tbody tr th {\n",
       "        vertical-align: top;\n",
       "    }\n",
       "\n",
       "    .dataframe thead th {\n",
       "        text-align: right;\n",
       "    }\n",
       "</style>\n",
       "<table border=\"1\" class=\"dataframe\">\n",
       "  <thead>\n",
       "    <tr style=\"text-align: right;\">\n",
       "      <th></th>\n",
       "      <th>no_of_adults</th>\n",
       "      <th>no_of_children</th>\n",
       "      <th>no_of_weekend_nights</th>\n",
       "      <th>no_of_week_nights</th>\n",
       "      <th>type_of_meal_plan</th>\n",
       "      <th>required_car_parking_space</th>\n",
       "      <th>room_type_reserved</th>\n",
       "      <th>lead_time</th>\n",
       "      <th>arrival_year</th>\n",
       "      <th>arrival_month</th>\n",
       "      <th>arrival_date</th>\n",
       "      <th>market_segment_type</th>\n",
       "      <th>repeated_guest</th>\n",
       "      <th>no_of_previous_cancellations</th>\n",
       "      <th>no_of_previous_bookings_not_canceled</th>\n",
       "      <th>avg_price_per_room</th>\n",
       "      <th>no_of_special_requests</th>\n",
       "    </tr>\n",
       "  </thead>\n",
       "  <tbody>\n",
       "    <tr>\n",
       "      <th>0</th>\n",
       "      <td>2</td>\n",
       "      <td>0</td>\n",
       "      <td>0</td>\n",
       "      <td>2</td>\n",
       "      <td>1</td>\n",
       "      <td>0</td>\n",
       "      <td>0</td>\n",
       "      <td>9</td>\n",
       "      <td>2018</td>\n",
       "      <td>1</td>\n",
       "      <td>14</td>\n",
       "      <td>1</td>\n",
       "      <td>1</td>\n",
       "      <td>11</td>\n",
       "      <td>0</td>\n",
       "      <td>67.50</td>\n",
       "      <td>0</td>\n",
       "    </tr>\n",
       "    <tr>\n",
       "      <th>1</th>\n",
       "      <td>2</td>\n",
       "      <td>0</td>\n",
       "      <td>1</td>\n",
       "      <td>2</td>\n",
       "      <td>0</td>\n",
       "      <td>0</td>\n",
       "      <td>0</td>\n",
       "      <td>117</td>\n",
       "      <td>2018</td>\n",
       "      <td>7</td>\n",
       "      <td>29</td>\n",
       "      <td>0</td>\n",
       "      <td>0</td>\n",
       "      <td>0</td>\n",
       "      <td>0</td>\n",
       "      <td>72.25</td>\n",
       "      <td>0</td>\n",
       "    </tr>\n",
       "    <tr>\n",
       "      <th>2</th>\n",
       "      <td>2</td>\n",
       "      <td>0</td>\n",
       "      <td>0</td>\n",
       "      <td>1</td>\n",
       "      <td>0</td>\n",
       "      <td>0</td>\n",
       "      <td>0</td>\n",
       "      <td>315</td>\n",
       "      <td>2018</td>\n",
       "      <td>12</td>\n",
       "      <td>2</td>\n",
       "      <td>0</td>\n",
       "      <td>0</td>\n",
       "      <td>0</td>\n",
       "      <td>0</td>\n",
       "      <td>52.00</td>\n",
       "      <td>0</td>\n",
       "    </tr>\n",
       "    <tr>\n",
       "      <th>3</th>\n",
       "      <td>1</td>\n",
       "      <td>0</td>\n",
       "      <td>0</td>\n",
       "      <td>2</td>\n",
       "      <td>1</td>\n",
       "      <td>0</td>\n",
       "      <td>0</td>\n",
       "      <td>32</td>\n",
       "      <td>2018</td>\n",
       "      <td>12</td>\n",
       "      <td>1</td>\n",
       "      <td>1</td>\n",
       "      <td>0</td>\n",
       "      <td>0</td>\n",
       "      <td>0</td>\n",
       "      <td>56.00</td>\n",
       "      <td>0</td>\n",
       "    </tr>\n",
       "    <tr>\n",
       "      <th>4</th>\n",
       "      <td>2</td>\n",
       "      <td>0</td>\n",
       "      <td>1</td>\n",
       "      <td>0</td>\n",
       "      <td>0</td>\n",
       "      <td>0</td>\n",
       "      <td>0</td>\n",
       "      <td>258</td>\n",
       "      <td>2018</td>\n",
       "      <td>10</td>\n",
       "      <td>16</td>\n",
       "      <td>0</td>\n",
       "      <td>0</td>\n",
       "      <td>0</td>\n",
       "      <td>0</td>\n",
       "      <td>100.00</td>\n",
       "      <td>0</td>\n",
       "    </tr>\n",
       "  </tbody>\n",
       "</table>\n",
       "</div>"
      ],
      "text/plain": [
       "   no_of_adults  no_of_children  no_of_weekend_nights  no_of_week_nights  \\\n",
       "0             2               0                     0                  2   \n",
       "1             2               0                     1                  2   \n",
       "2             2               0                     0                  1   \n",
       "3             1               0                     0                  2   \n",
       "4             2               0                     1                  0   \n",
       "\n",
       "   type_of_meal_plan  required_car_parking_space  room_type_reserved  \\\n",
       "0                  1                           0                   0   \n",
       "1                  0                           0                   0   \n",
       "2                  0                           0                   0   \n",
       "3                  1                           0                   0   \n",
       "4                  0                           0                   0   \n",
       "\n",
       "   lead_time  arrival_year  arrival_month  arrival_date  market_segment_type  \\\n",
       "0          9          2018              1            14                    1   \n",
       "1        117          2018              7            29                    0   \n",
       "2        315          2018             12             2                    0   \n",
       "3         32          2018             12             1                    1   \n",
       "4        258          2018             10            16                    0   \n",
       "\n",
       "   repeated_guest  no_of_previous_cancellations  \\\n",
       "0               1                            11   \n",
       "1               0                             0   \n",
       "2               0                             0   \n",
       "3               0                             0   \n",
       "4               0                             0   \n",
       "\n",
       "   no_of_previous_bookings_not_canceled  avg_price_per_room  \\\n",
       "0                                     0               67.50   \n",
       "1                                     0               72.25   \n",
       "2                                     0               52.00   \n",
       "3                                     0               56.00   \n",
       "4                                     0              100.00   \n",
       "\n",
       "   no_of_special_requests  \n",
       "0                       0  \n",
       "1                       0  \n",
       "2                       0  \n",
       "3                       0  \n",
       "4                       0  "
      ]
     },
     "execution_count": 10,
     "metadata": {},
     "output_type": "execute_result"
    }
   ],
   "source": [
    "X.head()"
   ]
  },
  {
   "cell_type": "code",
   "execution_count": 11,
   "metadata": {},
   "outputs": [
    {
     "data": {
      "text/html": [
       "<div>\n",
       "<style scoped>\n",
       "    .dataframe tbody tr th:only-of-type {\n",
       "        vertical-align: middle;\n",
       "    }\n",
       "\n",
       "    .dataframe tbody tr th {\n",
       "        vertical-align: top;\n",
       "    }\n",
       "\n",
       "    .dataframe thead th {\n",
       "        text-align: right;\n",
       "    }\n",
       "</style>\n",
       "<table border=\"1\" class=\"dataframe\">\n",
       "  <thead>\n",
       "    <tr style=\"text-align: right;\">\n",
       "      <th></th>\n",
       "      <th>booking_status</th>\n",
       "    </tr>\n",
       "  </thead>\n",
       "  <tbody>\n",
       "    <tr>\n",
       "      <th>0</th>\n",
       "      <td>0</td>\n",
       "    </tr>\n",
       "    <tr>\n",
       "      <th>1</th>\n",
       "      <td>0</td>\n",
       "    </tr>\n",
       "    <tr>\n",
       "      <th>2</th>\n",
       "      <td>0</td>\n",
       "    </tr>\n",
       "    <tr>\n",
       "      <th>3</th>\n",
       "      <td>0</td>\n",
       "    </tr>\n",
       "    <tr>\n",
       "      <th>4</th>\n",
       "      <td>1</td>\n",
       "    </tr>\n",
       "  </tbody>\n",
       "</table>\n",
       "</div>"
      ],
      "text/plain": [
       "   booking_status\n",
       "0               0\n",
       "1               0\n",
       "2               0\n",
       "3               0\n",
       "4               1"
      ]
     },
     "execution_count": 11,
     "metadata": {},
     "output_type": "execute_result"
    }
   ],
   "source": [
    "Y.head()"
   ]
  },
  {
   "cell_type": "markdown",
   "metadata": {},
   "source": [
    "## Booking status 0=Not Cancle  ;  1= Cancle"
   ]
  },
  {
   "cell_type": "code",
   "execution_count": 12,
   "metadata": {},
   "outputs": [
    {
     "data": {
      "text/plain": [
       "booking_status\n",
       "0                 25596\n",
       "1                 16504\n",
       "Name: count, dtype: int64"
      ]
     },
     "execution_count": 12,
     "metadata": {},
     "output_type": "execute_result"
    }
   ],
   "source": [
    "Y.value_counts()"
   ]
  },
  {
   "cell_type": "code",
   "execution_count": 13,
   "metadata": {},
   "outputs": [
    {
     "data": {
      "text/plain": [
       "no_of_adults                              int64\n",
       "no_of_children                            int64\n",
       "no_of_weekend_nights                      int64\n",
       "no_of_week_nights                         int64\n",
       "type_of_meal_plan                         int64\n",
       "required_car_parking_space                int64\n",
       "room_type_reserved                        int64\n",
       "lead_time                                 int64\n",
       "arrival_year                              int64\n",
       "arrival_month                             int64\n",
       "arrival_date                              int64\n",
       "market_segment_type                       int64\n",
       "repeated_guest                            int64\n",
       "no_of_previous_cancellations              int64\n",
       "no_of_previous_bookings_not_canceled      int64\n",
       "avg_price_per_room                      float64\n",
       "no_of_special_requests                    int64\n",
       "dtype: object"
      ]
     },
     "execution_count": 13,
     "metadata": {},
     "output_type": "execute_result"
    }
   ],
   "source": [
    "X.dtypes"
   ]
  },
  {
   "cell_type": "code",
   "execution_count": 14,
   "metadata": {},
   "outputs": [],
   "source": [
    "## Create Preprosing a pipe line"
   ]
  },
  {
   "cell_type": "code",
   "execution_count": 15,
   "metadata": {},
   "outputs": [],
   "source": [
    "from sklearn.pipeline import Pipeline\n",
    "from sklearn.impute import SimpleImputer\n",
    "from sklearn.preprocessing import StandardScaler"
   ]
  },
  {
   "cell_type": "code",
   "execution_count": 16,
   "metadata": {},
   "outputs": [],
   "source": [
    "num_pipe=Pipeline(steps=[('impute',SimpleImputer(strategy='median')),\n",
    "                         ('scaler',StandardScaler())])"
   ]
  },
  {
   "cell_type": "code",
   "execution_count": 17,
   "metadata": {},
   "outputs": [
    {
     "data": {
      "text/html": [
       "<style>#sk-container-id-1 {color: black;}#sk-container-id-1 pre{padding: 0;}#sk-container-id-1 div.sk-toggleable {background-color: white;}#sk-container-id-1 label.sk-toggleable__label {cursor: pointer;display: block;width: 100%;margin-bottom: 0;padding: 0.3em;box-sizing: border-box;text-align: center;}#sk-container-id-1 label.sk-toggleable__label-arrow:before {content: \"▸\";float: left;margin-right: 0.25em;color: #696969;}#sk-container-id-1 label.sk-toggleable__label-arrow:hover:before {color: black;}#sk-container-id-1 div.sk-estimator:hover label.sk-toggleable__label-arrow:before {color: black;}#sk-container-id-1 div.sk-toggleable__content {max-height: 0;max-width: 0;overflow: hidden;text-align: left;background-color: #f0f8ff;}#sk-container-id-1 div.sk-toggleable__content pre {margin: 0.2em;color: black;border-radius: 0.25em;background-color: #f0f8ff;}#sk-container-id-1 input.sk-toggleable__control:checked~div.sk-toggleable__content {max-height: 200px;max-width: 100%;overflow: auto;}#sk-container-id-1 input.sk-toggleable__control:checked~label.sk-toggleable__label-arrow:before {content: \"▾\";}#sk-container-id-1 div.sk-estimator input.sk-toggleable__control:checked~label.sk-toggleable__label {background-color: #d4ebff;}#sk-container-id-1 div.sk-label input.sk-toggleable__control:checked~label.sk-toggleable__label {background-color: #d4ebff;}#sk-container-id-1 input.sk-hidden--visually {border: 0;clip: rect(1px 1px 1px 1px);clip: rect(1px, 1px, 1px, 1px);height: 1px;margin: -1px;overflow: hidden;padding: 0;position: absolute;width: 1px;}#sk-container-id-1 div.sk-estimator {font-family: monospace;background-color: #f0f8ff;border: 1px dotted black;border-radius: 0.25em;box-sizing: border-box;margin-bottom: 0.5em;}#sk-container-id-1 div.sk-estimator:hover {background-color: #d4ebff;}#sk-container-id-1 div.sk-parallel-item::after {content: \"\";width: 100%;border-bottom: 1px solid gray;flex-grow: 1;}#sk-container-id-1 div.sk-label:hover label.sk-toggleable__label {background-color: #d4ebff;}#sk-container-id-1 div.sk-serial::before {content: \"\";position: absolute;border-left: 1px solid gray;box-sizing: border-box;top: 0;bottom: 0;left: 50%;z-index: 0;}#sk-container-id-1 div.sk-serial {display: flex;flex-direction: column;align-items: center;background-color: white;padding-right: 0.2em;padding-left: 0.2em;position: relative;}#sk-container-id-1 div.sk-item {position: relative;z-index: 1;}#sk-container-id-1 div.sk-parallel {display: flex;align-items: stretch;justify-content: center;background-color: white;position: relative;}#sk-container-id-1 div.sk-item::before, #sk-container-id-1 div.sk-parallel-item::before {content: \"\";position: absolute;border-left: 1px solid gray;box-sizing: border-box;top: 0;bottom: 0;left: 50%;z-index: -1;}#sk-container-id-1 div.sk-parallel-item {display: flex;flex-direction: column;z-index: 1;position: relative;background-color: white;}#sk-container-id-1 div.sk-parallel-item:first-child::after {align-self: flex-end;width: 50%;}#sk-container-id-1 div.sk-parallel-item:last-child::after {align-self: flex-start;width: 50%;}#sk-container-id-1 div.sk-parallel-item:only-child::after {width: 0;}#sk-container-id-1 div.sk-dashed-wrapped {border: 1px dashed gray;margin: 0 0.4em 0.5em 0.4em;box-sizing: border-box;padding-bottom: 0.4em;background-color: white;}#sk-container-id-1 div.sk-label label {font-family: monospace;font-weight: bold;display: inline-block;line-height: 1.2em;}#sk-container-id-1 div.sk-label-container {text-align: center;}#sk-container-id-1 div.sk-container {/* jupyter's `normalize.less` sets `[hidden] { display: none; }` but bootstrap.min.css set `[hidden] { display: none !important; }` so we also need the `!important` here to be able to override the default hidden behavior on the sphinx rendered scikit-learn.org. See: https://github.com/scikit-learn/scikit-learn/issues/21755 */display: inline-block !important;position: relative;}#sk-container-id-1 div.sk-text-repr-fallback {display: none;}</style><div id=\"sk-container-id-1\" class=\"sk-top-container\"><div class=\"sk-text-repr-fallback\"><pre>Pipeline(steps=[(&#x27;impute&#x27;, SimpleImputer(strategy=&#x27;median&#x27;)),\n",
       "                (&#x27;scaler&#x27;, StandardScaler())])</pre><b>In a Jupyter environment, please rerun this cell to show the HTML representation or trust the notebook. <br />On GitHub, the HTML representation is unable to render, please try loading this page with nbviewer.org.</b></div><div class=\"sk-container\" hidden><div class=\"sk-item sk-dashed-wrapped\"><div class=\"sk-label-container\"><div class=\"sk-label sk-toggleable\"><input class=\"sk-toggleable__control sk-hidden--visually\" id=\"sk-estimator-id-1\" type=\"checkbox\" ><label for=\"sk-estimator-id-1\" class=\"sk-toggleable__label sk-toggleable__label-arrow\">Pipeline</label><div class=\"sk-toggleable__content\"><pre>Pipeline(steps=[(&#x27;impute&#x27;, SimpleImputer(strategy=&#x27;median&#x27;)),\n",
       "                (&#x27;scaler&#x27;, StandardScaler())])</pre></div></div></div><div class=\"sk-serial\"><div class=\"sk-item\"><div class=\"sk-estimator sk-toggleable\"><input class=\"sk-toggleable__control sk-hidden--visually\" id=\"sk-estimator-id-2\" type=\"checkbox\" ><label for=\"sk-estimator-id-2\" class=\"sk-toggleable__label sk-toggleable__label-arrow\">SimpleImputer</label><div class=\"sk-toggleable__content\"><pre>SimpleImputer(strategy=&#x27;median&#x27;)</pre></div></div></div><div class=\"sk-item\"><div class=\"sk-estimator sk-toggleable\"><input class=\"sk-toggleable__control sk-hidden--visually\" id=\"sk-estimator-id-3\" type=\"checkbox\" ><label for=\"sk-estimator-id-3\" class=\"sk-toggleable__label sk-toggleable__label-arrow\">StandardScaler</label><div class=\"sk-toggleable__content\"><pre>StandardScaler()</pre></div></div></div></div></div></div></div>"
      ],
      "text/plain": [
       "Pipeline(steps=[('impute', SimpleImputer(strategy='median')),\n",
       "                ('scaler', StandardScaler())])"
      ]
     },
     "execution_count": 17,
     "metadata": {},
     "output_type": "execute_result"
    }
   ],
   "source": [
    "num_pipe"
   ]
  },
  {
   "cell_type": "code",
   "execution_count": 18,
   "metadata": {},
   "outputs": [
    {
     "data": {
      "text/plain": [
       "array([[ 0.15103974, -0.31345354, -0.99881361, ..., -0.10147907,\n",
       "        -0.99805198, -0.73769133],\n",
       "       [ 0.15103974, -0.31345354,  0.13025905, ..., -0.10147907,\n",
       "        -0.87015314, -0.73769133],\n",
       "       [ 0.15103974, -0.31345354, -0.99881361, ..., -0.10147907,\n",
       "        -1.41540612, -0.73769133],\n",
       "       ...,\n",
       "       [ 0.15103974, -0.31345354, -0.99881361, ..., -0.10147907,\n",
       "        -0.2306589 , -0.73769133],\n",
       "       [-1.75392524, -0.31345354, -0.99881361, ..., -0.10147907,\n",
       "         0.41556686, -0.73769133],\n",
       "       [ 0.15103974, -0.31345354,  0.13025905, ..., -0.10147907,\n",
       "        -1.06536717, -0.73769133]])"
      ]
     },
     "execution_count": 18,
     "metadata": {},
     "output_type": "execute_result"
    }
   ],
   "source": [
    "X_pre=num_pipe.fit_transform(X)\n",
    "X_pre"
   ]
  },
  {
   "cell_type": "code",
   "execution_count": 19,
   "metadata": {},
   "outputs": [
    {
     "data": {
      "text/plain": [
       "array(['no_of_adults', 'no_of_children', 'no_of_weekend_nights',\n",
       "       'no_of_week_nights', 'type_of_meal_plan',\n",
       "       'required_car_parking_space', 'room_type_reserved', 'lead_time',\n",
       "       'arrival_year', 'arrival_month', 'arrival_date',\n",
       "       'market_segment_type', 'repeated_guest',\n",
       "       'no_of_previous_cancellations',\n",
       "       'no_of_previous_bookings_not_canceled', 'avg_price_per_room',\n",
       "       'no_of_special_requests'], dtype=object)"
      ]
     },
     "execution_count": 19,
     "metadata": {},
     "output_type": "execute_result"
    }
   ],
   "source": [
    "cols=num_pipe.get_feature_names_out()\n",
    "cols"
   ]
  },
  {
   "cell_type": "code",
   "execution_count": 20,
   "metadata": {},
   "outputs": [
    {
     "data": {
      "text/html": [
       "<div>\n",
       "<style scoped>\n",
       "    .dataframe tbody tr th:only-of-type {\n",
       "        vertical-align: middle;\n",
       "    }\n",
       "\n",
       "    .dataframe tbody tr th {\n",
       "        vertical-align: top;\n",
       "    }\n",
       "\n",
       "    .dataframe thead th {\n",
       "        text-align: right;\n",
       "    }\n",
       "</style>\n",
       "<table border=\"1\" class=\"dataframe\">\n",
       "  <thead>\n",
       "    <tr style=\"text-align: right;\">\n",
       "      <th></th>\n",
       "      <th>no_of_adults</th>\n",
       "      <th>no_of_children</th>\n",
       "      <th>no_of_weekend_nights</th>\n",
       "      <th>no_of_week_nights</th>\n",
       "      <th>type_of_meal_plan</th>\n",
       "      <th>required_car_parking_space</th>\n",
       "      <th>room_type_reserved</th>\n",
       "      <th>lead_time</th>\n",
       "      <th>arrival_year</th>\n",
       "      <th>arrival_month</th>\n",
       "      <th>arrival_date</th>\n",
       "      <th>market_segment_type</th>\n",
       "      <th>repeated_guest</th>\n",
       "      <th>no_of_previous_cancellations</th>\n",
       "      <th>no_of_previous_bookings_not_canceled</th>\n",
       "      <th>avg_price_per_room</th>\n",
       "      <th>no_of_special_requests</th>\n",
       "    </tr>\n",
       "  </thead>\n",
       "  <tbody>\n",
       "    <tr>\n",
       "      <th>0</th>\n",
       "      <td>0.151040</td>\n",
       "      <td>-0.313454</td>\n",
       "      <td>-0.998814</td>\n",
       "      <td>-0.278849</td>\n",
       "      <td>1.294624</td>\n",
       "      <td>-0.160945</td>\n",
       "      <td>-0.515173</td>\n",
       "      <td>-1.170469</td>\n",
       "      <td>0.409661</td>\n",
       "      <td>-2.330398</td>\n",
       "      <td>-0.214091</td>\n",
       "      <td>0.428551</td>\n",
       "      <td>5.766758</td>\n",
       "      <td>33.699120</td>\n",
       "      <td>-0.101479</td>\n",
       "      <td>-0.998052</td>\n",
       "      <td>-0.737691</td>\n",
       "    </tr>\n",
       "    <tr>\n",
       "      <th>1</th>\n",
       "      <td>0.151040</td>\n",
       "      <td>-0.313454</td>\n",
       "      <td>0.130259</td>\n",
       "      <td>-0.278849</td>\n",
       "      <td>-0.407020</td>\n",
       "      <td>-0.160945</td>\n",
       "      <td>-0.515173</td>\n",
       "      <td>0.161740</td>\n",
       "      <td>0.409661</td>\n",
       "      <td>-0.209778</td>\n",
       "      <td>1.473487</td>\n",
       "      <td>-1.149928</td>\n",
       "      <td>-0.173408</td>\n",
       "      <td>-0.060506</td>\n",
       "      <td>-0.101479</td>\n",
       "      <td>-0.870153</td>\n",
       "      <td>-0.737691</td>\n",
       "    </tr>\n",
       "    <tr>\n",
       "      <th>2</th>\n",
       "      <td>0.151040</td>\n",
       "      <td>-0.313454</td>\n",
       "      <td>-0.998814</td>\n",
       "      <td>-0.979466</td>\n",
       "      <td>-0.407020</td>\n",
       "      <td>-0.160945</td>\n",
       "      <td>-0.515173</td>\n",
       "      <td>2.604122</td>\n",
       "      <td>0.409661</td>\n",
       "      <td>1.557404</td>\n",
       "      <td>-1.564154</td>\n",
       "      <td>-1.149928</td>\n",
       "      <td>-0.173408</td>\n",
       "      <td>-0.060506</td>\n",
       "      <td>-0.101479</td>\n",
       "      <td>-1.415406</td>\n",
       "      <td>-0.737691</td>\n",
       "    </tr>\n",
       "    <tr>\n",
       "      <th>3</th>\n",
       "      <td>-1.753925</td>\n",
       "      <td>-0.313454</td>\n",
       "      <td>-0.998814</td>\n",
       "      <td>-0.278849</td>\n",
       "      <td>1.294624</td>\n",
       "      <td>-0.160945</td>\n",
       "      <td>-0.515173</td>\n",
       "      <td>-0.886758</td>\n",
       "      <td>0.409661</td>\n",
       "      <td>1.557404</td>\n",
       "      <td>-1.676659</td>\n",
       "      <td>0.428551</td>\n",
       "      <td>-0.173408</td>\n",
       "      <td>-0.060506</td>\n",
       "      <td>-0.101479</td>\n",
       "      <td>-1.307702</td>\n",
       "      <td>-0.737691</td>\n",
       "    </tr>\n",
       "    <tr>\n",
       "      <th>4</th>\n",
       "      <td>0.151040</td>\n",
       "      <td>-0.313454</td>\n",
       "      <td>0.130259</td>\n",
       "      <td>-1.680084</td>\n",
       "      <td>-0.407020</td>\n",
       "      <td>-0.160945</td>\n",
       "      <td>-0.515173</td>\n",
       "      <td>1.901012</td>\n",
       "      <td>0.409661</td>\n",
       "      <td>0.850531</td>\n",
       "      <td>0.010919</td>\n",
       "      <td>-1.149928</td>\n",
       "      <td>-0.173408</td>\n",
       "      <td>-0.060506</td>\n",
       "      <td>-0.101479</td>\n",
       "      <td>-0.122955</td>\n",
       "      <td>-0.737691</td>\n",
       "    </tr>\n",
       "  </tbody>\n",
       "</table>\n",
       "</div>"
      ],
      "text/plain": [
       "   no_of_adults  no_of_children  no_of_weekend_nights  no_of_week_nights  \\\n",
       "0      0.151040       -0.313454             -0.998814          -0.278849   \n",
       "1      0.151040       -0.313454              0.130259          -0.278849   \n",
       "2      0.151040       -0.313454             -0.998814          -0.979466   \n",
       "3     -1.753925       -0.313454             -0.998814          -0.278849   \n",
       "4      0.151040       -0.313454              0.130259          -1.680084   \n",
       "\n",
       "   type_of_meal_plan  required_car_parking_space  room_type_reserved  \\\n",
       "0           1.294624                   -0.160945           -0.515173   \n",
       "1          -0.407020                   -0.160945           -0.515173   \n",
       "2          -0.407020                   -0.160945           -0.515173   \n",
       "3           1.294624                   -0.160945           -0.515173   \n",
       "4          -0.407020                   -0.160945           -0.515173   \n",
       "\n",
       "   lead_time  arrival_year  arrival_month  arrival_date  market_segment_type  \\\n",
       "0  -1.170469      0.409661      -2.330398     -0.214091             0.428551   \n",
       "1   0.161740      0.409661      -0.209778      1.473487            -1.149928   \n",
       "2   2.604122      0.409661       1.557404     -1.564154            -1.149928   \n",
       "3  -0.886758      0.409661       1.557404     -1.676659             0.428551   \n",
       "4   1.901012      0.409661       0.850531      0.010919            -1.149928   \n",
       "\n",
       "   repeated_guest  no_of_previous_cancellations  \\\n",
       "0        5.766758                     33.699120   \n",
       "1       -0.173408                     -0.060506   \n",
       "2       -0.173408                     -0.060506   \n",
       "3       -0.173408                     -0.060506   \n",
       "4       -0.173408                     -0.060506   \n",
       "\n",
       "   no_of_previous_bookings_not_canceled  avg_price_per_room  \\\n",
       "0                             -0.101479           -0.998052   \n",
       "1                             -0.101479           -0.870153   \n",
       "2                             -0.101479           -1.415406   \n",
       "3                             -0.101479           -1.307702   \n",
       "4                             -0.101479           -0.122955   \n",
       "\n",
       "   no_of_special_requests  \n",
       "0               -0.737691  \n",
       "1               -0.737691  \n",
       "2               -0.737691  \n",
       "3               -0.737691  \n",
       "4               -0.737691  "
      ]
     },
     "execution_count": 20,
     "metadata": {},
     "output_type": "execute_result"
    }
   ],
   "source": [
    "X_pre=pd.DataFrame(X_pre,columns=cols)\n",
    "X_pre.head()"
   ]
  },
  {
   "cell_type": "markdown",
   "metadata": {},
   "source": [
    "### Test train split"
   ]
  },
  {
   "cell_type": "code",
   "execution_count": 21,
   "metadata": {},
   "outputs": [],
   "source": [
    "from sklearn.model_selection import train_test_split\n",
    "Xtrain,Xtest,Ytrain,Ytest=train_test_split(X_pre,Y,test_size=0.2,random_state=42)"
   ]
  },
  {
   "cell_type": "code",
   "execution_count": 22,
   "metadata": {},
   "outputs": [
    {
     "data": {
      "text/html": [
       "<div>\n",
       "<style scoped>\n",
       "    .dataframe tbody tr th:only-of-type {\n",
       "        vertical-align: middle;\n",
       "    }\n",
       "\n",
       "    .dataframe tbody tr th {\n",
       "        vertical-align: top;\n",
       "    }\n",
       "\n",
       "    .dataframe thead th {\n",
       "        text-align: right;\n",
       "    }\n",
       "</style>\n",
       "<table border=\"1\" class=\"dataframe\">\n",
       "  <thead>\n",
       "    <tr style=\"text-align: right;\">\n",
       "      <th></th>\n",
       "      <th>no_of_adults</th>\n",
       "      <th>no_of_children</th>\n",
       "      <th>no_of_weekend_nights</th>\n",
       "      <th>no_of_week_nights</th>\n",
       "      <th>type_of_meal_plan</th>\n",
       "      <th>required_car_parking_space</th>\n",
       "      <th>room_type_reserved</th>\n",
       "      <th>lead_time</th>\n",
       "      <th>arrival_year</th>\n",
       "      <th>arrival_month</th>\n",
       "      <th>arrival_date</th>\n",
       "      <th>market_segment_type</th>\n",
       "      <th>repeated_guest</th>\n",
       "      <th>no_of_previous_cancellations</th>\n",
       "      <th>no_of_previous_bookings_not_canceled</th>\n",
       "      <th>avg_price_per_room</th>\n",
       "      <th>no_of_special_requests</th>\n",
       "    </tr>\n",
       "  </thead>\n",
       "  <tbody>\n",
       "    <tr>\n",
       "      <th>15559</th>\n",
       "      <td>0.151040</td>\n",
       "      <td>-0.313454</td>\n",
       "      <td>-0.998814</td>\n",
       "      <td>0.421768</td>\n",
       "      <td>-0.407020</td>\n",
       "      <td>-0.160945</td>\n",
       "      <td>0.685890</td>\n",
       "      <td>-0.479694</td>\n",
       "      <td>0.409661</td>\n",
       "      <td>1.203968</td>\n",
       "      <td>-1.564154</td>\n",
       "      <td>-1.149928</td>\n",
       "      <td>-0.173408</td>\n",
       "      <td>-0.060506</td>\n",
       "      <td>-0.101479</td>\n",
       "      <td>-1.199998</td>\n",
       "      <td>1.842849</td>\n",
       "    </tr>\n",
       "    <tr>\n",
       "      <th>32783</th>\n",
       "      <td>0.151040</td>\n",
       "      <td>-0.313454</td>\n",
       "      <td>0.130259</td>\n",
       "      <td>1.122386</td>\n",
       "      <td>-0.407020</td>\n",
       "      <td>-0.160945</td>\n",
       "      <td>0.685890</td>\n",
       "      <td>-0.381012</td>\n",
       "      <td>0.409661</td>\n",
       "      <td>1.557404</td>\n",
       "      <td>1.135971</td>\n",
       "      <td>0.428551</td>\n",
       "      <td>-0.173408</td>\n",
       "      <td>-0.060506</td>\n",
       "      <td>-0.101479</td>\n",
       "      <td>0.189388</td>\n",
       "      <td>0.552579</td>\n",
       "    </tr>\n",
       "    <tr>\n",
       "      <th>11797</th>\n",
       "      <td>2.056005</td>\n",
       "      <td>-0.313454</td>\n",
       "      <td>-0.998814</td>\n",
       "      <td>0.421768</td>\n",
       "      <td>-0.407020</td>\n",
       "      <td>-0.160945</td>\n",
       "      <td>0.685890</td>\n",
       "      <td>-0.282330</td>\n",
       "      <td>0.409661</td>\n",
       "      <td>0.497095</td>\n",
       "      <td>-0.889123</td>\n",
       "      <td>0.428551</td>\n",
       "      <td>-0.173408</td>\n",
       "      <td>-0.060506</td>\n",
       "      <td>-0.101479</td>\n",
       "      <td>1.716096</td>\n",
       "      <td>-0.737691</td>\n",
       "    </tr>\n",
       "    <tr>\n",
       "      <th>39750</th>\n",
       "      <td>0.151040</td>\n",
       "      <td>-0.313454</td>\n",
       "      <td>-0.998814</td>\n",
       "      <td>-0.979466</td>\n",
       "      <td>2.996268</td>\n",
       "      <td>-0.160945</td>\n",
       "      <td>-0.515173</td>\n",
       "      <td>1.444607</td>\n",
       "      <td>0.409661</td>\n",
       "      <td>0.143658</td>\n",
       "      <td>-0.439102</td>\n",
       "      <td>-1.149928</td>\n",
       "      <td>-0.173408</td>\n",
       "      <td>-0.060506</td>\n",
       "      <td>-0.101479</td>\n",
       "      <td>0.280936</td>\n",
       "      <td>0.552579</td>\n",
       "    </tr>\n",
       "    <tr>\n",
       "      <th>28711</th>\n",
       "      <td>0.151040</td>\n",
       "      <td>-0.313454</td>\n",
       "      <td>1.259332</td>\n",
       "      <td>0.421768</td>\n",
       "      <td>-0.407020</td>\n",
       "      <td>-0.160945</td>\n",
       "      <td>0.685890</td>\n",
       "      <td>-0.109636</td>\n",
       "      <td>0.409661</td>\n",
       "      <td>0.850531</td>\n",
       "      <td>-1.001628</td>\n",
       "      <td>0.428551</td>\n",
       "      <td>-0.173408</td>\n",
       "      <td>-0.060506</td>\n",
       "      <td>-0.101479</td>\n",
       "      <td>0.746758</td>\n",
       "      <td>-0.737691</td>\n",
       "    </tr>\n",
       "  </tbody>\n",
       "</table>\n",
       "</div>"
      ],
      "text/plain": [
       "       no_of_adults  no_of_children  no_of_weekend_nights  no_of_week_nights  \\\n",
       "15559      0.151040       -0.313454             -0.998814           0.421768   \n",
       "32783      0.151040       -0.313454              0.130259           1.122386   \n",
       "11797      2.056005       -0.313454             -0.998814           0.421768   \n",
       "39750      0.151040       -0.313454             -0.998814          -0.979466   \n",
       "28711      0.151040       -0.313454              1.259332           0.421768   \n",
       "\n",
       "       type_of_meal_plan  required_car_parking_space  room_type_reserved  \\\n",
       "15559          -0.407020                   -0.160945            0.685890   \n",
       "32783          -0.407020                   -0.160945            0.685890   \n",
       "11797          -0.407020                   -0.160945            0.685890   \n",
       "39750           2.996268                   -0.160945           -0.515173   \n",
       "28711          -0.407020                   -0.160945            0.685890   \n",
       "\n",
       "       lead_time  arrival_year  arrival_month  arrival_date  \\\n",
       "15559  -0.479694      0.409661       1.203968     -1.564154   \n",
       "32783  -0.381012      0.409661       1.557404      1.135971   \n",
       "11797  -0.282330      0.409661       0.497095     -0.889123   \n",
       "39750   1.444607      0.409661       0.143658     -0.439102   \n",
       "28711  -0.109636      0.409661       0.850531     -1.001628   \n",
       "\n",
       "       market_segment_type  repeated_guest  no_of_previous_cancellations  \\\n",
       "15559            -1.149928       -0.173408                     -0.060506   \n",
       "32783             0.428551       -0.173408                     -0.060506   \n",
       "11797             0.428551       -0.173408                     -0.060506   \n",
       "39750            -1.149928       -0.173408                     -0.060506   \n",
       "28711             0.428551       -0.173408                     -0.060506   \n",
       "\n",
       "       no_of_previous_bookings_not_canceled  avg_price_per_room  \\\n",
       "15559                             -0.101479           -1.199998   \n",
       "32783                             -0.101479            0.189388   \n",
       "11797                             -0.101479            1.716096   \n",
       "39750                             -0.101479            0.280936   \n",
       "28711                             -0.101479            0.746758   \n",
       "\n",
       "       no_of_special_requests  \n",
       "15559                1.842849  \n",
       "32783                0.552579  \n",
       "11797               -0.737691  \n",
       "39750                0.552579  \n",
       "28711               -0.737691  "
      ]
     },
     "execution_count": 22,
     "metadata": {},
     "output_type": "execute_result"
    }
   ],
   "source": [
    "Xtrain.head()"
   ]
  },
  {
   "cell_type": "code",
   "execution_count": 23,
   "metadata": {},
   "outputs": [
    {
     "data": {
      "text/html": [
       "<div>\n",
       "<style scoped>\n",
       "    .dataframe tbody tr th:only-of-type {\n",
       "        vertical-align: middle;\n",
       "    }\n",
       "\n",
       "    .dataframe tbody tr th {\n",
       "        vertical-align: top;\n",
       "    }\n",
       "\n",
       "    .dataframe thead th {\n",
       "        text-align: right;\n",
       "    }\n",
       "</style>\n",
       "<table border=\"1\" class=\"dataframe\">\n",
       "  <thead>\n",
       "    <tr style=\"text-align: right;\">\n",
       "      <th></th>\n",
       "      <th>booking_status</th>\n",
       "    </tr>\n",
       "  </thead>\n",
       "  <tbody>\n",
       "    <tr>\n",
       "      <th>15559</th>\n",
       "      <td>0</td>\n",
       "    </tr>\n",
       "    <tr>\n",
       "      <th>32783</th>\n",
       "      <td>0</td>\n",
       "    </tr>\n",
       "    <tr>\n",
       "      <th>11797</th>\n",
       "      <td>1</td>\n",
       "    </tr>\n",
       "    <tr>\n",
       "      <th>39750</th>\n",
       "      <td>1</td>\n",
       "    </tr>\n",
       "    <tr>\n",
       "      <th>28711</th>\n",
       "      <td>1</td>\n",
       "    </tr>\n",
       "  </tbody>\n",
       "</table>\n",
       "</div>"
      ],
      "text/plain": [
       "       booking_status\n",
       "15559               0\n",
       "32783               0\n",
       "11797               1\n",
       "39750               1\n",
       "28711               1"
      ]
     },
     "execution_count": 23,
     "metadata": {},
     "output_type": "execute_result"
    }
   ],
   "source": [
    "Ytrain.head()"
   ]
  },
  {
   "cell_type": "code",
   "execution_count": 24,
   "metadata": {},
   "outputs": [
    {
     "data": {
      "text/html": [
       "<div>\n",
       "<style scoped>\n",
       "    .dataframe tbody tr th:only-of-type {\n",
       "        vertical-align: middle;\n",
       "    }\n",
       "\n",
       "    .dataframe tbody tr th {\n",
       "        vertical-align: top;\n",
       "    }\n",
       "\n",
       "    .dataframe thead th {\n",
       "        text-align: right;\n",
       "    }\n",
       "</style>\n",
       "<table border=\"1\" class=\"dataframe\">\n",
       "  <thead>\n",
       "    <tr style=\"text-align: right;\">\n",
       "      <th></th>\n",
       "      <th>no_of_adults</th>\n",
       "      <th>no_of_children</th>\n",
       "      <th>no_of_weekend_nights</th>\n",
       "      <th>no_of_week_nights</th>\n",
       "      <th>type_of_meal_plan</th>\n",
       "      <th>required_car_parking_space</th>\n",
       "      <th>room_type_reserved</th>\n",
       "      <th>lead_time</th>\n",
       "      <th>arrival_year</th>\n",
       "      <th>arrival_month</th>\n",
       "      <th>arrival_date</th>\n",
       "      <th>market_segment_type</th>\n",
       "      <th>repeated_guest</th>\n",
       "      <th>no_of_previous_cancellations</th>\n",
       "      <th>no_of_previous_bookings_not_canceled</th>\n",
       "      <th>avg_price_per_room</th>\n",
       "      <th>no_of_special_requests</th>\n",
       "    </tr>\n",
       "  </thead>\n",
       "  <tbody>\n",
       "    <tr>\n",
       "      <th>8768</th>\n",
       "      <td>0.15104</td>\n",
       "      <td>-0.313454</td>\n",
       "      <td>-0.998814</td>\n",
       "      <td>0.421768</td>\n",
       "      <td>-0.40702</td>\n",
       "      <td>-0.160945</td>\n",
       "      <td>-0.515173</td>\n",
       "      <td>-0.566041</td>\n",
       "      <td>0.409661</td>\n",
       "      <td>-2.330398</td>\n",
       "      <td>1.135971</td>\n",
       "      <td>-1.149928</td>\n",
       "      <td>-0.173408</td>\n",
       "      <td>-0.060506</td>\n",
       "      <td>-0.101479</td>\n",
       "      <td>-0.643436</td>\n",
       "      <td>0.552579</td>\n",
       "    </tr>\n",
       "    <tr>\n",
       "      <th>38340</th>\n",
       "      <td>0.15104</td>\n",
       "      <td>-0.313454</td>\n",
       "      <td>-0.998814</td>\n",
       "      <td>-0.278849</td>\n",
       "      <td>-0.40702</td>\n",
       "      <td>-0.160945</td>\n",
       "      <td>-0.515173</td>\n",
       "      <td>1.481613</td>\n",
       "      <td>0.409661</td>\n",
       "      <td>0.143658</td>\n",
       "      <td>-1.564154</td>\n",
       "      <td>0.428551</td>\n",
       "      <td>-0.173408</td>\n",
       "      <td>-0.060506</td>\n",
       "      <td>-0.101479</td>\n",
       "      <td>-0.285588</td>\n",
       "      <td>-0.737691</td>\n",
       "    </tr>\n",
       "    <tr>\n",
       "      <th>7104</th>\n",
       "      <td>0.15104</td>\n",
       "      <td>-0.313454</td>\n",
       "      <td>1.259332</td>\n",
       "      <td>-0.979466</td>\n",
       "      <td>-0.40702</td>\n",
       "      <td>-0.160945</td>\n",
       "      <td>4.289080</td>\n",
       "      <td>-0.553706</td>\n",
       "      <td>0.409661</td>\n",
       "      <td>-1.623525</td>\n",
       "      <td>1.023466</td>\n",
       "      <td>0.428551</td>\n",
       "      <td>-0.173408</td>\n",
       "      <td>-0.060506</td>\n",
       "      <td>-0.101479</td>\n",
       "      <td>0.002252</td>\n",
       "      <td>-0.737691</td>\n",
       "    </tr>\n",
       "    <tr>\n",
       "      <th>36898</th>\n",
       "      <td>0.15104</td>\n",
       "      <td>1.908162</td>\n",
       "      <td>1.259332</td>\n",
       "      <td>1.122386</td>\n",
       "      <td>-0.40702</td>\n",
       "      <td>-0.160945</td>\n",
       "      <td>-0.515173</td>\n",
       "      <td>-0.566041</td>\n",
       "      <td>0.409661</td>\n",
       "      <td>1.203968</td>\n",
       "      <td>-0.551607</td>\n",
       "      <td>0.428551</td>\n",
       "      <td>-0.173408</td>\n",
       "      <td>-0.060506</td>\n",
       "      <td>-0.101479</td>\n",
       "      <td>0.541312</td>\n",
       "      <td>3.133119</td>\n",
       "    </tr>\n",
       "    <tr>\n",
       "      <th>9747</th>\n",
       "      <td>0.15104</td>\n",
       "      <td>-0.313454</td>\n",
       "      <td>1.259332</td>\n",
       "      <td>0.421768</td>\n",
       "      <td>-0.40702</td>\n",
       "      <td>-0.160945</td>\n",
       "      <td>-0.515173</td>\n",
       "      <td>0.507127</td>\n",
       "      <td>0.409661</td>\n",
       "      <td>-1.270088</td>\n",
       "      <td>1.585992</td>\n",
       "      <td>0.428551</td>\n",
       "      <td>-0.173408</td>\n",
       "      <td>-0.060506</td>\n",
       "      <td>-0.101479</td>\n",
       "      <td>-0.366636</td>\n",
       "      <td>0.552579</td>\n",
       "    </tr>\n",
       "  </tbody>\n",
       "</table>\n",
       "</div>"
      ],
      "text/plain": [
       "       no_of_adults  no_of_children  no_of_weekend_nights  no_of_week_nights  \\\n",
       "8768        0.15104       -0.313454             -0.998814           0.421768   \n",
       "38340       0.15104       -0.313454             -0.998814          -0.278849   \n",
       "7104        0.15104       -0.313454              1.259332          -0.979466   \n",
       "36898       0.15104        1.908162              1.259332           1.122386   \n",
       "9747        0.15104       -0.313454              1.259332           0.421768   \n",
       "\n",
       "       type_of_meal_plan  required_car_parking_space  room_type_reserved  \\\n",
       "8768            -0.40702                   -0.160945           -0.515173   \n",
       "38340           -0.40702                   -0.160945           -0.515173   \n",
       "7104            -0.40702                   -0.160945            4.289080   \n",
       "36898           -0.40702                   -0.160945           -0.515173   \n",
       "9747            -0.40702                   -0.160945           -0.515173   \n",
       "\n",
       "       lead_time  arrival_year  arrival_month  arrival_date  \\\n",
       "8768   -0.566041      0.409661      -2.330398      1.135971   \n",
       "38340   1.481613      0.409661       0.143658     -1.564154   \n",
       "7104   -0.553706      0.409661      -1.623525      1.023466   \n",
       "36898  -0.566041      0.409661       1.203968     -0.551607   \n",
       "9747    0.507127      0.409661      -1.270088      1.585992   \n",
       "\n",
       "       market_segment_type  repeated_guest  no_of_previous_cancellations  \\\n",
       "8768             -1.149928       -0.173408                     -0.060506   \n",
       "38340             0.428551       -0.173408                     -0.060506   \n",
       "7104              0.428551       -0.173408                     -0.060506   \n",
       "36898             0.428551       -0.173408                     -0.060506   \n",
       "9747              0.428551       -0.173408                     -0.060506   \n",
       "\n",
       "       no_of_previous_bookings_not_canceled  avg_price_per_room  \\\n",
       "8768                              -0.101479           -0.643436   \n",
       "38340                             -0.101479           -0.285588   \n",
       "7104                              -0.101479            0.002252   \n",
       "36898                             -0.101479            0.541312   \n",
       "9747                              -0.101479           -0.366636   \n",
       "\n",
       "       no_of_special_requests  \n",
       "8768                 0.552579  \n",
       "38340               -0.737691  \n",
       "7104                -0.737691  \n",
       "36898                3.133119  \n",
       "9747                 0.552579  "
      ]
     },
     "execution_count": 24,
     "metadata": {},
     "output_type": "execute_result"
    }
   ],
   "source": [
    "Xtest.head()"
   ]
  },
  {
   "cell_type": "code",
   "execution_count": 25,
   "metadata": {},
   "outputs": [
    {
     "data": {
      "text/html": [
       "<div>\n",
       "<style scoped>\n",
       "    .dataframe tbody tr th:only-of-type {\n",
       "        vertical-align: middle;\n",
       "    }\n",
       "\n",
       "    .dataframe tbody tr th {\n",
       "        vertical-align: top;\n",
       "    }\n",
       "\n",
       "    .dataframe thead th {\n",
       "        text-align: right;\n",
       "    }\n",
       "</style>\n",
       "<table border=\"1\" class=\"dataframe\">\n",
       "  <thead>\n",
       "    <tr style=\"text-align: right;\">\n",
       "      <th></th>\n",
       "      <th>booking_status</th>\n",
       "    </tr>\n",
       "  </thead>\n",
       "  <tbody>\n",
       "    <tr>\n",
       "      <th>8768</th>\n",
       "      <td>0</td>\n",
       "    </tr>\n",
       "    <tr>\n",
       "      <th>38340</th>\n",
       "      <td>1</td>\n",
       "    </tr>\n",
       "    <tr>\n",
       "      <th>7104</th>\n",
       "      <td>0</td>\n",
       "    </tr>\n",
       "    <tr>\n",
       "      <th>36898</th>\n",
       "      <td>0</td>\n",
       "    </tr>\n",
       "    <tr>\n",
       "      <th>9747</th>\n",
       "      <td>0</td>\n",
       "    </tr>\n",
       "  </tbody>\n",
       "</table>\n",
       "</div>"
      ],
      "text/plain": [
       "       booking_status\n",
       "8768                0\n",
       "38340               1\n",
       "7104                0\n",
       "36898               0\n",
       "9747                0"
      ]
     },
     "execution_count": 25,
     "metadata": {},
     "output_type": "execute_result"
    }
   ],
   "source": [
    "Ytest.head()"
   ]
  },
  {
   "cell_type": "code",
   "execution_count": 26,
   "metadata": {},
   "outputs": [
    {
     "data": {
      "text/plain": [
       "(33680, 17)"
      ]
     },
     "execution_count": 26,
     "metadata": {},
     "output_type": "execute_result"
    }
   ],
   "source": [
    "Xtrain.shape"
   ]
  },
  {
   "cell_type": "code",
   "execution_count": 27,
   "metadata": {},
   "outputs": [
    {
     "data": {
      "text/plain": [
       "(8420, 17)"
      ]
     },
     "execution_count": 27,
     "metadata": {},
     "output_type": "execute_result"
    }
   ],
   "source": [
    "Xtest.shape"
   ]
  },
  {
   "cell_type": "code",
   "execution_count": 28,
   "metadata": {},
   "outputs": [
    {
     "data": {
      "text/plain": [
       "(33680, 1)"
      ]
     },
     "execution_count": 28,
     "metadata": {},
     "output_type": "execute_result"
    }
   ],
   "source": [
    "Ytrain.shape"
   ]
  },
  {
   "cell_type": "code",
   "execution_count": 29,
   "metadata": {},
   "outputs": [
    {
     "data": {
      "text/plain": [
       "17"
      ]
     },
     "execution_count": 29,
     "metadata": {},
     "output_type": "execute_result"
    }
   ],
   "source": [
    "Xtrain.shape[1]"
   ]
  },
  {
   "cell_type": "code",
   "execution_count": 30,
   "metadata": {},
   "outputs": [
    {
     "data": {
      "text/plain": [
       "(8420, 1)"
      ]
     },
     "execution_count": 30,
     "metadata": {},
     "output_type": "execute_result"
    }
   ],
   "source": [
    "Ytest.shape"
   ]
  },
  {
   "attachments": {
    "Capture4.JPG": {
     "image/jpeg": "[encoded data removed]"
    }
   },
   "cell_type": "markdown",
   "metadata": {},
   "source": [
    "![Capture4.JPG](attachment:Capture4.JPG)"
   ]
  },
  {
   "cell_type": "markdown",
   "metadata": {},
   "source": [
    "## Create Neural Network"
   ]
  },
  {
   "cell_type": "code",
   "execution_count": 31,
   "metadata": {},
   "outputs": [
    {
     "name": "stdout",
     "output_type": "stream",
     "text": [
      "WARNING:tensorflow:From d:\\Cources\\Deep Learning\\repository\\venv\\lib\\site-packages\\keras\\src\\losses.py:2976: The name tf.losses.sparse_softmax_cross_entropy is deprecated. Please use tf.compat.v1.losses.sparse_softmax_cross_entropy instead.\n",
      "\n"
     ]
    }
   ],
   "source": [
    "# Drop out layer\n",
    "from keras.models import Sequential\n",
    "from keras.layers import Dense,Dropout"
   ]
  },
  {
   "cell_type": "code",
   "execution_count": 32,
   "metadata": {},
   "outputs": [
    {
     "name": "stdout",
     "output_type": "stream",
     "text": [
      "WARNING:tensorflow:From d:\\Cources\\Deep Learning\\repository\\venv\\lib\\site-packages\\keras\\src\\backend.py:873: The name tf.get_default_graph is deprecated. Please use tf.compat.v1.get_default_graph instead.\n",
      "\n"
     ]
    }
   ],
   "source": [
    "model = Sequential()\n",
    "\n",
    "# Hidden Layer 1 with 17 input neurons\n",
    "model.add(Dense(64, activation='relu', input_dim=Xtrain.shape[1]))\n",
    "model.add(Dropout(0.4))\n",
    "\n",
    "# Hidden Layer 2\n",
    "model.add(Dense(32, activation='relu'))\n",
    "model.add(Dropout(0.3))\n",
    "\n",
    "# Output Layer Binary Classification - Sigmoid\n",
    "model.add(Dense(1, activation='sigmoid'))"
   ]
  },
  {
   "cell_type": "code",
   "execution_count": 33,
   "metadata": {},
   "outputs": [
    {
     "name": "stdout",
     "output_type": "stream",
     "text": [
      "Model: \"sequential\"\n",
      "_________________________________________________________________\n",
      " Layer (type)                Output Shape              Param #   \n",
      "=================================================================\n",
      " dense (Dense)               (None, 64)                1152      \n",
      "                                                                 \n",
      " dropout (Dropout)           (None, 64)                0         \n",
      "                                                                 \n",
      " dense_1 (Dense)             (None, 32)                2080      \n",
      "                                                                 \n",
      " dropout_1 (Dropout)         (None, 32)                0         \n",
      "                                                                 \n",
      " dense_2 (Dense)             (None, 1)                 33        \n",
      "                                                                 \n",
      "=================================================================\n",
      "Total params: 3265 (12.75 KB)\n",
      "Trainable params: 3265 (12.75 KB)\n",
      "Non-trainable params: 0 (0.00 Byte)\n",
      "_________________________________________________________________\n"
     ]
    }
   ],
   "source": [
    "model.summary()"
   ]
  },
  {
   "cell_type": "markdown",
   "metadata": {},
   "source": [
    "# Compile the model"
   ]
  },
  {
   "cell_type": "code",
   "execution_count": 34,
   "metadata": {},
   "outputs": [
    {
     "name": "stdout",
     "output_type": "stream",
     "text": [
      "WARNING:tensorflow:From d:\\Cources\\Deep Learning\\repository\\venv\\lib\\site-packages\\keras\\src\\optimizers\\__init__.py:309: The name tf.train.Optimizer is deprecated. Please use tf.compat.v1.train.Optimizer instead.\n",
      "\n"
     ]
    }
   ],
   "source": [
    "model.compile(optimizer='adam', loss='binary_crossentropy', metrics=['accuracy'])"
   ]
  },
  {
   "cell_type": "markdown",
   "metadata": {},
   "source": [
    "# Fit your model"
   ]
  },
  {
   "cell_type": "code",
   "execution_count": 35,
   "metadata": {},
   "outputs": [
    {
     "name": "stdout",
     "output_type": "stream",
     "text": [
      "Epoch 1/100\n",
      "WARNING:tensorflow:From d:\\Cources\\Deep Learning\\repository\\venv\\lib\\site-packages\\keras\\src\\utils\\tf_utils.py:492: The name tf.ragged.RaggedTensorValue is deprecated. Please use tf.compat.v1.ragged.RaggedTensorValue instead.\n",
      "\n",
      "WARNING:tensorflow:From d:\\Cources\\Deep Learning\\repository\\venv\\lib\\site-packages\\keras\\src\\engine\\base_layer_utils.py:384: The name tf.executing_eagerly_outside_functions is deprecated. Please use tf.compat.v1.executing_eagerly_outside_functions instead.\n",
      "\n",
      "842/842 [==============================] - 4s 3ms/step - loss: 0.5307 - accuracy: 0.7342 - val_loss: 0.4867 - val_accuracy: 0.7643\n",
      "Epoch 2/100\n",
      "842/842 [==============================] - 2s 3ms/step - loss: 0.4875 - accuracy: 0.7678 - val_loss: 0.4774 - val_accuracy: 0.7758\n",
      "Epoch 3/100\n",
      "842/842 [==============================] - 2s 3ms/step - loss: 0.4799 - accuracy: 0.7721 - val_loss: 0.4713 - val_accuracy: 0.7794\n",
      "Epoch 4/100\n",
      "842/842 [==============================] - 2s 3ms/step - loss: 0.4747 - accuracy: 0.7777 - val_loss: 0.4677 - val_accuracy: 0.7789\n",
      "Epoch 5/100\n",
      "842/842 [==============================] - 3s 4ms/step - loss: 0.4713 - accuracy: 0.7784 - val_loss: 0.4654 - val_accuracy: 0.7809\n",
      "Epoch 6/100\n",
      "842/842 [==============================] - 3s 3ms/step - loss: 0.4669 - accuracy: 0.7808 - val_loss: 0.4626 - val_accuracy: 0.7813\n",
      "Epoch 7/100\n",
      "842/842 [==============================] - 3s 3ms/step - loss: 0.4652 - accuracy: 0.7828 - val_loss: 0.4605 - val_accuracy: 0.7853\n",
      "Epoch 8/100\n",
      "842/842 [==============================] - 3s 3ms/step - loss: 0.4638 - accuracy: 0.7872 - val_loss: 0.4593 - val_accuracy: 0.7887\n",
      "Epoch 9/100\n",
      "842/842 [==============================] - 3s 3ms/step - loss: 0.4611 - accuracy: 0.7879 - val_loss: 0.4596 - val_accuracy: 0.7907\n",
      "Epoch 10/100\n",
      "842/842 [==============================] - 3s 3ms/step - loss: 0.4600 - accuracy: 0.7882 - val_loss: 0.4586 - val_accuracy: 0.7893\n",
      "Epoch 11/100\n",
      "842/842 [==============================] - 3s 3ms/step - loss: 0.4583 - accuracy: 0.7907 - val_loss: 0.4544 - val_accuracy: 0.7920\n",
      "Epoch 12/100\n",
      "842/842 [==============================] - 3s 3ms/step - loss: 0.4569 - accuracy: 0.7912 - val_loss: 0.4548 - val_accuracy: 0.7953\n",
      "Epoch 13/100\n",
      "842/842 [==============================] - 3s 3ms/step - loss: 0.4558 - accuracy: 0.7910 - val_loss: 0.4550 - val_accuracy: 0.7939\n",
      "Epoch 14/100\n",
      "842/842 [==============================] - 3s 3ms/step - loss: 0.4530 - accuracy: 0.7927 - val_loss: 0.4545 - val_accuracy: 0.7928\n",
      "Epoch 15/100\n",
      "842/842 [==============================] - 3s 3ms/step - loss: 0.4556 - accuracy: 0.7933 - val_loss: 0.4540 - val_accuracy: 0.7938\n",
      "Epoch 16/100\n",
      "842/842 [==============================] - 3s 3ms/step - loss: 0.4520 - accuracy: 0.7942 - val_loss: 0.4525 - val_accuracy: 0.7962\n",
      "Epoch 17/100\n",
      "842/842 [==============================] - 3s 4ms/step - loss: 0.4506 - accuracy: 0.7933 - val_loss: 0.4523 - val_accuracy: 0.7956\n",
      "Epoch 18/100\n",
      "842/842 [==============================] - 3s 3ms/step - loss: 0.4506 - accuracy: 0.7935 - val_loss: 0.4519 - val_accuracy: 0.7990\n",
      "Epoch 19/100\n",
      "842/842 [==============================] - 3s 3ms/step - loss: 0.4515 - accuracy: 0.7927 - val_loss: 0.4515 - val_accuracy: 0.7941\n",
      "Epoch 20/100\n",
      "842/842 [==============================] - 3s 3ms/step - loss: 0.4502 - accuracy: 0.7949 - val_loss: 0.4504 - val_accuracy: 0.7948\n",
      "Epoch 21/100\n",
      "842/842 [==============================] - 3s 3ms/step - loss: 0.4502 - accuracy: 0.7944 - val_loss: 0.4506 - val_accuracy: 0.7977\n",
      "Epoch 22/100\n",
      "842/842 [==============================] - 3s 3ms/step - loss: 0.4483 - accuracy: 0.7971 - val_loss: 0.4494 - val_accuracy: 0.7997\n",
      "Epoch 23/100\n",
      "842/842 [==============================] - 3s 3ms/step - loss: 0.4500 - accuracy: 0.7962 - val_loss: 0.4488 - val_accuracy: 0.7968\n",
      "Epoch 24/100\n",
      "842/842 [==============================] - 3s 3ms/step - loss: 0.4484 - accuracy: 0.7962 - val_loss: 0.4482 - val_accuracy: 0.7978\n",
      "Epoch 25/100\n",
      "842/842 [==============================] - 3s 3ms/step - loss: 0.4453 - accuracy: 0.7987 - val_loss: 0.4479 - val_accuracy: 0.7997\n",
      "Epoch 26/100\n",
      "842/842 [==============================] - 3s 3ms/step - loss: 0.4455 - accuracy: 0.7991 - val_loss: 0.4484 - val_accuracy: 0.8008\n",
      "Epoch 27/100\n",
      "842/842 [==============================] - 3s 3ms/step - loss: 0.4453 - accuracy: 0.7976 - val_loss: 0.4466 - val_accuracy: 0.8002\n",
      "Epoch 28/100\n",
      "842/842 [==============================] - 3s 3ms/step - loss: 0.4446 - accuracy: 0.7982 - val_loss: 0.4498 - val_accuracy: 0.7980\n",
      "Epoch 29/100\n",
      "842/842 [==============================] - 3s 3ms/step - loss: 0.4437 - accuracy: 0.7983 - val_loss: 0.4484 - val_accuracy: 0.8018\n",
      "Epoch 30/100\n",
      "842/842 [==============================] - 3s 3ms/step - loss: 0.4459 - accuracy: 0.7986 - val_loss: 0.4477 - val_accuracy: 0.8026\n",
      "Epoch 31/100\n",
      "842/842 [==============================] - 3s 3ms/step - loss: 0.4445 - accuracy: 0.7977 - val_loss: 0.4466 - val_accuracy: 0.7988\n",
      "Epoch 32/100\n",
      "842/842 [==============================] - 3s 3ms/step - loss: 0.4445 - accuracy: 0.7967 - val_loss: 0.4471 - val_accuracy: 0.8003\n",
      "Epoch 33/100\n",
      "842/842 [==============================] - 3s 3ms/step - loss: 0.4427 - accuracy: 0.7991 - val_loss: 0.4453 - val_accuracy: 0.7981\n",
      "Epoch 34/100\n",
      "842/842 [==============================] - 3s 3ms/step - loss: 0.4434 - accuracy: 0.7991 - val_loss: 0.4450 - val_accuracy: 0.8002\n",
      "Epoch 35/100\n",
      "842/842 [==============================] - 3s 3ms/step - loss: 0.4429 - accuracy: 0.7982 - val_loss: 0.4458 - val_accuracy: 0.8033\n",
      "Epoch 36/100\n",
      "842/842 [==============================] - 3s 3ms/step - loss: 0.4436 - accuracy: 0.7985 - val_loss: 0.4454 - val_accuracy: 0.8009\n",
      "Epoch 37/100\n",
      "842/842 [==============================] - 3s 3ms/step - loss: 0.4420 - accuracy: 0.8002 - val_loss: 0.4463 - val_accuracy: 0.8002\n",
      "Epoch 38/100\n",
      "842/842 [==============================] - 3s 4ms/step - loss: 0.4426 - accuracy: 0.7995 - val_loss: 0.4452 - val_accuracy: 0.8020\n",
      "Epoch 39/100\n",
      "842/842 [==============================] - 3s 3ms/step - loss: 0.4415 - accuracy: 0.7997 - val_loss: 0.4449 - val_accuracy: 0.8037\n",
      "Epoch 40/100\n",
      "842/842 [==============================] - 3s 3ms/step - loss: 0.4421 - accuracy: 0.7986 - val_loss: 0.4454 - val_accuracy: 0.8030\n",
      "Epoch 41/100\n",
      "842/842 [==============================] - 3s 3ms/step - loss: 0.4414 - accuracy: 0.7991 - val_loss: 0.4444 - val_accuracy: 0.8015\n",
      "Epoch 42/100\n",
      "842/842 [==============================] - 3s 3ms/step - loss: 0.4394 - accuracy: 0.8010 - val_loss: 0.4444 - val_accuracy: 0.8048\n",
      "Epoch 43/100\n",
      "842/842 [==============================] - 3s 3ms/step - loss: 0.4409 - accuracy: 0.8006 - val_loss: 0.4445 - val_accuracy: 0.8014\n",
      "Epoch 44/100\n",
      "842/842 [==============================] - 3s 3ms/step - loss: 0.4404 - accuracy: 0.7998 - val_loss: 0.4432 - val_accuracy: 0.8052\n",
      "Epoch 45/100\n",
      "842/842 [==============================] - 3s 3ms/step - loss: 0.4409 - accuracy: 0.8001 - val_loss: 0.4457 - val_accuracy: 0.8039\n",
      "Epoch 46/100\n",
      "842/842 [==============================] - 3s 3ms/step - loss: 0.4411 - accuracy: 0.8000 - val_loss: 0.4456 - val_accuracy: 0.8036\n",
      "Epoch 47/100\n",
      "842/842 [==============================] - 3s 3ms/step - loss: 0.4407 - accuracy: 0.7999 - val_loss: 0.4454 - val_accuracy: 0.8027\n",
      "Epoch 48/100\n",
      "842/842 [==============================] - 3s 3ms/step - loss: 0.4407 - accuracy: 0.8008 - val_loss: 0.4428 - val_accuracy: 0.8027\n",
      "Epoch 49/100\n",
      "842/842 [==============================] - 3s 3ms/step - loss: 0.4379 - accuracy: 0.8018 - val_loss: 0.4435 - val_accuracy: 0.8027\n",
      "Epoch 50/100\n",
      "842/842 [==============================] - 3s 3ms/step - loss: 0.4396 - accuracy: 0.8005 - val_loss: 0.4420 - val_accuracy: 0.8036\n",
      "Epoch 51/100\n",
      "842/842 [==============================] - 3s 3ms/step - loss: 0.4370 - accuracy: 0.8018 - val_loss: 0.4442 - val_accuracy: 0.8021\n",
      "Epoch 52/100\n",
      "842/842 [==============================] - 3s 3ms/step - loss: 0.4391 - accuracy: 0.8003 - val_loss: 0.4447 - val_accuracy: 0.8023\n",
      "Epoch 53/100\n",
      "842/842 [==============================] - 3s 3ms/step - loss: 0.4393 - accuracy: 0.8015 - val_loss: 0.4439 - val_accuracy: 0.8015\n",
      "Epoch 54/100\n",
      "842/842 [==============================] - 3s 3ms/step - loss: 0.4385 - accuracy: 0.8010 - val_loss: 0.4428 - val_accuracy: 0.8021\n",
      "Epoch 55/100\n",
      "842/842 [==============================] - 3s 3ms/step - loss: 0.4369 - accuracy: 0.8011 - val_loss: 0.4438 - val_accuracy: 0.8012\n",
      "Epoch 56/100\n",
      "842/842 [==============================] - 3s 3ms/step - loss: 0.4385 - accuracy: 0.8023 - val_loss: 0.4446 - val_accuracy: 0.8037\n",
      "Epoch 57/100\n",
      "842/842 [==============================] - 3s 3ms/step - loss: 0.4369 - accuracy: 0.8022 - val_loss: 0.4432 - val_accuracy: 0.8029\n",
      "Epoch 58/100\n",
      "842/842 [==============================] - 3s 3ms/step - loss: 0.4368 - accuracy: 0.8016 - val_loss: 0.4433 - val_accuracy: 0.8042\n",
      "Epoch 59/100\n",
      "842/842 [==============================] - 3s 3ms/step - loss: 0.4381 - accuracy: 0.8026 - val_loss: 0.4433 - val_accuracy: 0.8033\n",
      "Epoch 60/100\n",
      "842/842 [==============================] - 3s 4ms/step - loss: 0.4385 - accuracy: 0.8007 - val_loss: 0.4441 - val_accuracy: 0.8020\n",
      "Epoch 61/100\n",
      "842/842 [==============================] - 3s 3ms/step - loss: 0.4369 - accuracy: 0.8015 - val_loss: 0.4442 - val_accuracy: 0.8027\n",
      "Epoch 62/100\n",
      "842/842 [==============================] - 3s 3ms/step - loss: 0.4389 - accuracy: 0.8027 - val_loss: 0.4442 - val_accuracy: 0.8027\n",
      "Epoch 63/100\n",
      "842/842 [==============================] - 3s 3ms/step - loss: 0.4379 - accuracy: 0.8032 - val_loss: 0.4441 - val_accuracy: 0.8030\n",
      "Epoch 64/100\n",
      "842/842 [==============================] - 3s 4ms/step - loss: 0.4359 - accuracy: 0.8034 - val_loss: 0.4423 - val_accuracy: 0.8012\n",
      "Epoch 65/100\n",
      "842/842 [==============================] - 3s 4ms/step - loss: 0.4370 - accuracy: 0.8020 - val_loss: 0.4434 - val_accuracy: 0.8030\n",
      "Epoch 66/100\n",
      "842/842 [==============================] - 3s 3ms/step - loss: 0.4369 - accuracy: 0.8030 - val_loss: 0.4433 - val_accuracy: 0.8002\n",
      "Epoch 67/100\n",
      "842/842 [==============================] - 3s 3ms/step - loss: 0.4374 - accuracy: 0.8019 - val_loss: 0.4440 - val_accuracy: 0.8011\n",
      "Epoch 68/100\n",
      "842/842 [==============================] - 3s 3ms/step - loss: 0.4342 - accuracy: 0.8043 - val_loss: 0.4435 - val_accuracy: 0.8018\n",
      "Epoch 69/100\n",
      "842/842 [==============================] - 3s 3ms/step - loss: 0.4371 - accuracy: 0.8028 - val_loss: 0.4426 - val_accuracy: 0.8018\n",
      "Epoch 70/100\n",
      "842/842 [==============================] - 3s 3ms/step - loss: 0.4349 - accuracy: 0.8023 - val_loss: 0.4436 - val_accuracy: 0.8011\n",
      "Epoch 71/100\n",
      "842/842 [==============================] - 3s 3ms/step - loss: 0.4379 - accuracy: 0.8013 - val_loss: 0.4458 - val_accuracy: 0.8018\n",
      "Epoch 72/100\n",
      "842/842 [==============================] - 3s 3ms/step - loss: 0.4355 - accuracy: 0.7998 - val_loss: 0.4432 - val_accuracy: 0.8021\n",
      "Epoch 73/100\n",
      "842/842 [==============================] - 3s 3ms/step - loss: 0.4359 - accuracy: 0.8040 - val_loss: 0.4446 - val_accuracy: 0.8017\n",
      "Epoch 74/100\n",
      "842/842 [==============================] - 3s 3ms/step - loss: 0.4368 - accuracy: 0.8023 - val_loss: 0.4443 - val_accuracy: 0.8005\n",
      "Epoch 75/100\n",
      "842/842 [==============================] - 3s 3ms/step - loss: 0.4372 - accuracy: 0.8017 - val_loss: 0.4433 - val_accuracy: 0.8023\n",
      "Epoch 76/100\n",
      "842/842 [==============================] - 3s 3ms/step - loss: 0.4375 - accuracy: 0.8015 - val_loss: 0.4459 - val_accuracy: 0.8000\n",
      "Epoch 77/100\n",
      "842/842 [==============================] - 3s 4ms/step - loss: 0.4364 - accuracy: 0.8009 - val_loss: 0.4449 - val_accuracy: 0.8057\n",
      "Epoch 78/100\n",
      "842/842 [==============================] - 3s 3ms/step - loss: 0.4347 - accuracy: 0.8045 - val_loss: 0.4436 - val_accuracy: 0.8064\n",
      "Epoch 79/100\n",
      "842/842 [==============================] - 3s 3ms/step - loss: 0.4354 - accuracy: 0.8057 - val_loss: 0.4445 - val_accuracy: 0.8055\n",
      "Epoch 80/100\n",
      "842/842 [==============================] - 3s 3ms/step - loss: 0.4355 - accuracy: 0.8025 - val_loss: 0.4439 - val_accuracy: 0.8045\n",
      "Epoch 81/100\n",
      "842/842 [==============================] - 3s 3ms/step - loss: 0.4336 - accuracy: 0.8050 - val_loss: 0.4452 - val_accuracy: 0.8026\n",
      "Epoch 82/100\n",
      "842/842 [==============================] - 3s 4ms/step - loss: 0.4375 - accuracy: 0.8033 - val_loss: 0.4449 - val_accuracy: 0.8037\n",
      "Epoch 83/100\n",
      "842/842 [==============================] - 3s 3ms/step - loss: 0.4357 - accuracy: 0.8023 - val_loss: 0.4433 - val_accuracy: 0.8046\n",
      "Epoch 84/100\n",
      "842/842 [==============================] - 3s 3ms/step - loss: 0.4338 - accuracy: 0.8024 - val_loss: 0.4442 - val_accuracy: 0.8039\n",
      "Epoch 85/100\n",
      "842/842 [==============================] - 3s 3ms/step - loss: 0.4350 - accuracy: 0.8033 - val_loss: 0.4445 - val_accuracy: 0.8046\n",
      "Epoch 86/100\n",
      "842/842 [==============================] - 3s 3ms/step - loss: 0.4360 - accuracy: 0.8019 - val_loss: 0.4456 - val_accuracy: 0.8051\n",
      "Epoch 87/100\n",
      "842/842 [==============================] - 3s 3ms/step - loss: 0.4344 - accuracy: 0.8033 - val_loss: 0.4432 - val_accuracy: 0.8040\n",
      "Epoch 88/100\n",
      "842/842 [==============================] - 3s 3ms/step - loss: 0.4347 - accuracy: 0.8036 - val_loss: 0.4430 - val_accuracy: 0.8043\n",
      "Epoch 89/100\n",
      "842/842 [==============================] - 3s 3ms/step - loss: 0.4344 - accuracy: 0.8041 - val_loss: 0.4438 - val_accuracy: 0.8067\n",
      "Epoch 90/100\n",
      "842/842 [==============================] - 3s 3ms/step - loss: 0.4351 - accuracy: 0.8035 - val_loss: 0.4430 - val_accuracy: 0.8036\n",
      "Epoch 91/100\n",
      "842/842 [==============================] - 3s 3ms/step - loss: 0.4359 - accuracy: 0.8029 - val_loss: 0.4441 - val_accuracy: 0.8027\n",
      "Epoch 92/100\n",
      "842/842 [==============================] - 3s 3ms/step - loss: 0.4355 - accuracy: 0.8024 - val_loss: 0.4461 - val_accuracy: 0.8017\n",
      "Epoch 93/100\n",
      "842/842 [==============================] - 3s 3ms/step - loss: 0.4333 - accuracy: 0.8023 - val_loss: 0.4426 - val_accuracy: 0.8033\n",
      "Epoch 94/100\n",
      "842/842 [==============================] - 3s 3ms/step - loss: 0.4341 - accuracy: 0.8028 - val_loss: 0.4434 - val_accuracy: 0.8026\n",
      "Epoch 95/100\n",
      "842/842 [==============================] - 3s 3ms/step - loss: 0.4358 - accuracy: 0.8033 - val_loss: 0.4440 - val_accuracy: 0.8040\n",
      "Epoch 96/100\n",
      "842/842 [==============================] - 3s 3ms/step - loss: 0.4350 - accuracy: 0.8031 - val_loss: 0.4433 - val_accuracy: 0.8026\n",
      "Epoch 97/100\n",
      "842/842 [==============================] - 3s 3ms/step - loss: 0.4341 - accuracy: 0.8060 - val_loss: 0.4446 - val_accuracy: 0.8027\n",
      "Epoch 98/100\n",
      "842/842 [==============================] - 3s 3ms/step - loss: 0.4339 - accuracy: 0.8022 - val_loss: 0.4434 - val_accuracy: 0.8033\n",
      "Epoch 99/100\n",
      "842/842 [==============================] - 3s 4ms/step - loss: 0.4345 - accuracy: 0.8039 - val_loss: 0.4436 - val_accuracy: 0.8048\n",
      "Epoch 100/100\n",
      "842/842 [==============================] - 3s 4ms/step - loss: 0.4341 - accuracy: 0.8031 - val_loss: 0.4436 - val_accuracy: 0.8040\n"
     ]
    }
   ],
   "source": [
    "hist = model.fit(Xtrain, Ytrain, validation_split=0.2, epochs=100)"
   ]
  },
  {
   "cell_type": "code",
   "execution_count": 36,
   "metadata": {},
   "outputs": [],
   "source": [
    "## Plot learning curve for above data"
   ]
  },
  {
   "cell_type": "code",
   "execution_count": 39,
   "metadata": {},
   "outputs": [
    {
     "data": {
      "image/png": "[encoded data removed]",
      "text/plain": [
       "<Figure size 1600x800 with 1 Axes>"
      ]
     },
     "metadata": {},
     "output_type": "display_data"
    }
   ],
   "source": [
    "import matplotlib.pyplot as plt\n",
    "plt.figure(figsize=(16,8))\n",
    "plt.plot(hist.history['loss'], label='Training Loss')\n",
    "plt.plot(hist.history['val_loss'], label='Validation Loss')\n",
    "plt.xlabel('Epochs')\n",
    "plt.ylabel('Binary Cross Entropy Loss')\n",
    "plt.title('Learing Curve')\n",
    "plt.legend()\n",
    "plt.show()"
   ]
  },
  {
   "cell_type": "markdown",
   "metadata": {},
   "source": [
    "## Evalute model"
   ]
  },
  {
   "cell_type": "code",
   "execution_count": 40,
   "metadata": {},
   "outputs": [
    {
     "name": "stdout",
     "output_type": "stream",
     "text": [
      "1053/1053 [==============================] - 4s 3ms/step - loss: 0.4170 - accuracy: 0.8121\n"
     ]
    },
    {
     "data": {
      "text/plain": [
       "[0.4170445203781128, 0.8121140003204346]"
      ]
     },
     "execution_count": 40,
     "metadata": {},
     "output_type": "execute_result"
    }
   ],
   "source": [
    "model.evaluate(Xtrain,Ytrain)"
   ]
  },
  {
   "cell_type": "code",
   "execution_count": 41,
   "metadata": {},
   "outputs": [
    {
     "name": "stdout",
     "output_type": "stream",
     "text": [
      "264/264 [==============================] - 1s 3ms/step - loss: 0.4282 - accuracy: 0.8084\n"
     ]
    },
    {
     "data": {
      "text/plain": [
       "[0.4282161593437195, 0.8084322810173035]"
      ]
     },
     "execution_count": 41,
     "metadata": {},
     "output_type": "execute_result"
    }
   ],
   "source": [
    "model.evaluate(Xtest,Ytest)"
   ]
  },
  {
   "cell_type": "markdown",
   "metadata": {},
   "source": [
    "## Predict the probailities"
   ]
  },
  {
   "cell_type": "code",
   "execution_count": 42,
   "metadata": {},
   "outputs": [
    {
     "name": "stdout",
     "output_type": "stream",
     "text": [
      "1053/1053 [==============================] - 3s 3ms/step\n",
      "264/264 [==============================] - 1s 2ms/step\n"
     ]
    }
   ],
   "source": [
    "Yprob_tr=model.predict(Xtrain)\n",
    "Yprob_ts=model.predict(Xtest)"
   ]
  },
  {
   "cell_type": "code",
   "execution_count": 43,
   "metadata": {},
   "outputs": [
    {
     "data": {
      "text/plain": [
       "array([[0.00764525],\n",
       "       [0.1570651 ],\n",
       "       [0.83791745],\n",
       "       [0.7267902 ],\n",
       "       [0.86828834]], dtype=float32)"
      ]
     },
     "execution_count": 43,
     "metadata": {},
     "output_type": "execute_result"
    }
   ],
   "source": [
    "Yprob_tr[0:5]"
   ]
  },
  {
   "cell_type": "code",
   "execution_count": 44,
   "metadata": {},
   "outputs": [
    {
     "data": {
      "text/plain": [
       "array([[0.02945115],\n",
       "       [0.89175683],\n",
       "       [0.38613403],\n",
       "       [0.00169115],\n",
       "       [0.17730957]], dtype=float32)"
      ]
     },
     "execution_count": 44,
     "metadata": {},
     "output_type": "execute_result"
    }
   ],
   "source": [
    "Yprob_ts[0:5]"
   ]
  },
  {
   "cell_type": "markdown",
   "metadata": {},
   "source": [
    "## Get predection "
   ]
  },
  {
   "cell_type": "code",
   "execution_count": 45,
   "metadata": {},
   "outputs": [
    {
     "data": {
      "text/plain": [
       "[0, 0, 1, 1, 1]"
      ]
     },
     "execution_count": 45,
     "metadata": {},
     "output_type": "execute_result"
    }
   ],
   "source": [
    "Ypred_tr=[1 if i>=0.5 else 0 for i in Yprob_tr]\n",
    "Ypred_tr[0:5]"
   ]
  },
  {
   "cell_type": "code",
   "execution_count": 46,
   "metadata": {},
   "outputs": [
    {
     "data": {
      "text/html": [
       "<div>\n",
       "<style scoped>\n",
       "    .dataframe tbody tr th:only-of-type {\n",
       "        vertical-align: middle;\n",
       "    }\n",
       "\n",
       "    .dataframe tbody tr th {\n",
       "        vertical-align: top;\n",
       "    }\n",
       "\n",
       "    .dataframe thead th {\n",
       "        text-align: right;\n",
       "    }\n",
       "</style>\n",
       "<table border=\"1\" class=\"dataframe\">\n",
       "  <thead>\n",
       "    <tr style=\"text-align: right;\">\n",
       "      <th></th>\n",
       "      <th>booking_status</th>\n",
       "    </tr>\n",
       "  </thead>\n",
       "  <tbody>\n",
       "    <tr>\n",
       "      <th>15559</th>\n",
       "      <td>0</td>\n",
       "    </tr>\n",
       "    <tr>\n",
       "      <th>32783</th>\n",
       "      <td>0</td>\n",
       "    </tr>\n",
       "    <tr>\n",
       "      <th>11797</th>\n",
       "      <td>1</td>\n",
       "    </tr>\n",
       "    <tr>\n",
       "      <th>39750</th>\n",
       "      <td>1</td>\n",
       "    </tr>\n",
       "    <tr>\n",
       "      <th>28711</th>\n",
       "      <td>1</td>\n",
       "    </tr>\n",
       "  </tbody>\n",
       "</table>\n",
       "</div>"
      ],
      "text/plain": [
       "       booking_status\n",
       "15559               0\n",
       "32783               0\n",
       "11797               1\n",
       "39750               1\n",
       "28711               1"
      ]
     },
     "execution_count": 46,
     "metadata": {},
     "output_type": "execute_result"
    }
   ],
   "source": [
    "Ytrain.head()"
   ]
  },
  {
   "cell_type": "code",
   "execution_count": 47,
   "metadata": {},
   "outputs": [
    {
     "data": {
      "text/plain": [
       "[0, 1, 0, 0, 0]"
      ]
     },
     "execution_count": 47,
     "metadata": {},
     "output_type": "execute_result"
    }
   ],
   "source": [
    "Ypred_ts=[1 if i>=0.5 else 0 for i in Yprob_ts]\n",
    "Ypred_ts[0:5]"
   ]
  },
  {
   "cell_type": "code",
   "execution_count": 48,
   "metadata": {},
   "outputs": [
    {
     "data": {
      "text/html": [
       "<div>\n",
       "<style scoped>\n",
       "    .dataframe tbody tr th:only-of-type {\n",
       "        vertical-align: middle;\n",
       "    }\n",
       "\n",
       "    .dataframe tbody tr th {\n",
       "        vertical-align: top;\n",
       "    }\n",
       "\n",
       "    .dataframe thead th {\n",
       "        text-align: right;\n",
       "    }\n",
       "</style>\n",
       "<table border=\"1\" class=\"dataframe\">\n",
       "  <thead>\n",
       "    <tr style=\"text-align: right;\">\n",
       "      <th></th>\n",
       "      <th>booking_status</th>\n",
       "    </tr>\n",
       "  </thead>\n",
       "  <tbody>\n",
       "    <tr>\n",
       "      <th>8768</th>\n",
       "      <td>0</td>\n",
       "    </tr>\n",
       "    <tr>\n",
       "      <th>38340</th>\n",
       "      <td>1</td>\n",
       "    </tr>\n",
       "    <tr>\n",
       "      <th>7104</th>\n",
       "      <td>0</td>\n",
       "    </tr>\n",
       "    <tr>\n",
       "      <th>36898</th>\n",
       "      <td>0</td>\n",
       "    </tr>\n",
       "    <tr>\n",
       "      <th>9747</th>\n",
       "      <td>0</td>\n",
       "    </tr>\n",
       "  </tbody>\n",
       "</table>\n",
       "</div>"
      ],
      "text/plain": [
       "       booking_status\n",
       "8768                0\n",
       "38340               1\n",
       "7104                0\n",
       "36898               0\n",
       "9747                0"
      ]
     },
     "execution_count": 48,
     "metadata": {},
     "output_type": "execute_result"
    }
   ],
   "source": [
    "Ytest.head()"
   ]
  },
  {
   "cell_type": "markdown",
   "metadata": {},
   "source": [
    "## Create Confuction metrix"
   ]
  },
  {
   "cell_type": "code",
   "execution_count": 50,
   "metadata": {},
   "outputs": [],
   "source": [
    "from sklearn.metrics import confusion_matrix, ConfusionMatrixDisplay"
   ]
  },
  {
   "cell_type": "code",
   "execution_count": 51,
   "metadata": {},
   "outputs": [
    {
     "data": {
      "text/plain": [
       "<sklearn.metrics._plot.confusion_matrix.ConfusionMatrixDisplay at 0x228e533dcc0>"
      ]
     },
     "execution_count": 51,
     "metadata": {},
     "output_type": "execute_result"
    },
    {
     "data": {
      "image/png": "[encoded data removed]",
      "text/plain": [
       "<Figure size 640x480 with 2 Axes>"
      ]
     },
     "metadata": {},
     "output_type": "display_data"
    }
   ],
   "source": [
    "cf= confusion_matrix(Ytest,Ypred_ts)\n",
    "cfd=ConfusionMatrixDisplay(cf)\n",
    "cfd.plot()"
   ]
  },
  {
   "cell_type": "markdown",
   "metadata": {},
   "source": [
    "## Classification Report"
   ]
  },
  {
   "cell_type": "code",
   "execution_count": 52,
   "metadata": {},
   "outputs": [
    {
     "name": "stdout",
     "output_type": "stream",
     "text": [
      "              precision    recall  f1-score   support\n",
      "\n",
      "           0       0.83      0.86      0.85      5150\n",
      "           1       0.77      0.73      0.75      3270\n",
      "\n",
      "    accuracy                           0.81      8420\n",
      "   macro avg       0.80      0.79      0.80      8420\n",
      "weighted avg       0.81      0.81      0.81      8420\n",
      "\n"
     ]
    }
   ],
   "source": [
    "from sklearn.metrics import classification_report\n",
    "print(classification_report(Ytest,Ypred_ts))"
   ]
  },
  {
   "cell_type": "markdown",
   "metadata": {},
   "source": [
    "## Save the model for future use"
   ]
  },
  {
   "cell_type": "code",
   "execution_count": 53,
   "metadata": {},
   "outputs": [],
   "source": [
    "model.save('Bookingmodel.keras')"
   ]
  },
  {
   "cell_type": "markdown",
   "metadata": {},
   "source": [
    "## Load the model"
   ]
  },
  {
   "cell_type": "code",
   "execution_count": 54,
   "metadata": {},
   "outputs": [
    {
     "name": "stdout",
     "output_type": "stream",
     "text": [
      "Model: \"sequential\"\n",
      "_________________________________________________________________\n",
      " Layer (type)                Output Shape              Param #   \n",
      "=================================================================\n",
      " dense (Dense)               (None, 64)                1152      \n",
      "                                                                 \n",
      " dropout (Dropout)           (None, 64)                0         \n",
      "                                                                 \n",
      " dense_1 (Dense)             (None, 32)                2080      \n",
      "                                                                 \n",
      " dropout_1 (Dropout)         (None, 32)                0         \n",
      "                                                                 \n",
      " dense_2 (Dense)             (None, 1)                 33        \n",
      "                                                                 \n",
      "=================================================================\n",
      "Total params: 3265 (12.75 KB)\n",
      "Trainable params: 3265 (12.75 KB)\n",
      "Non-trainable params: 0 (0.00 Byte)\n",
      "_________________________________________________________________\n"
     ]
    }
   ],
   "source": [
    "from keras.models import load_model\n",
    "nn=load_model('Bookingmodel.keras')\n",
    "nn.summary()"
   ]
  },
  {
   "cell_type": "markdown",
   "metadata": {},
   "source": [
    "## Preduction on Test booking.csv"
   ]
  },
  {
   "cell_type": "code",
   "execution_count": 56,
   "metadata": {},
   "outputs": [
    {
     "data": {
      "text/html": [
       "<div>\n",
       "<style scoped>\n",
       "    .dataframe tbody tr th:only-of-type {\n",
       "        vertical-align: middle;\n",
       "    }\n",
       "\n",
       "    .dataframe tbody tr th {\n",
       "        vertical-align: top;\n",
       "    }\n",
       "\n",
       "    .dataframe thead th {\n",
       "        text-align: right;\n",
       "    }\n",
       "</style>\n",
       "<table border=\"1\" class=\"dataframe\">\n",
       "  <thead>\n",
       "    <tr style=\"text-align: right;\">\n",
       "      <th></th>\n",
       "      <th>id</th>\n",
       "      <th>no_of_adults</th>\n",
       "      <th>no_of_children</th>\n",
       "      <th>no_of_weekend_nights</th>\n",
       "      <th>no_of_week_nights</th>\n",
       "      <th>type_of_meal_plan</th>\n",
       "      <th>required_car_parking_space</th>\n",
       "      <th>room_type_reserved</th>\n",
       "      <th>lead_time</th>\n",
       "      <th>arrival_year</th>\n",
       "      <th>arrival_month</th>\n",
       "      <th>arrival_date</th>\n",
       "      <th>market_segment_type</th>\n",
       "      <th>repeated_guest</th>\n",
       "      <th>no_of_previous_cancellations</th>\n",
       "      <th>no_of_previous_bookings_not_canceled</th>\n",
       "      <th>avg_price_per_room</th>\n",
       "      <th>no_of_special_requests</th>\n",
       "    </tr>\n",
       "  </thead>\n",
       "  <tbody>\n",
       "    <tr>\n",
       "      <th>0</th>\n",
       "      <td>42100</td>\n",
       "      <td>3</td>\n",
       "      <td>0</td>\n",
       "      <td>1</td>\n",
       "      <td>4</td>\n",
       "      <td>0</td>\n",
       "      <td>0</td>\n",
       "      <td>1</td>\n",
       "      <td>111</td>\n",
       "      <td>2018</td>\n",
       "      <td>12</td>\n",
       "      <td>5</td>\n",
       "      <td>1</td>\n",
       "      <td>0</td>\n",
       "      <td>0</td>\n",
       "      <td>0</td>\n",
       "      <td>115.60</td>\n",
       "      <td>2</td>\n",
       "    </tr>\n",
       "    <tr>\n",
       "      <th>1</th>\n",
       "      <td>42101</td>\n",
       "      <td>2</td>\n",
       "      <td>0</td>\n",
       "      <td>0</td>\n",
       "      <td>3</td>\n",
       "      <td>0</td>\n",
       "      <td>0</td>\n",
       "      <td>0</td>\n",
       "      <td>22</td>\n",
       "      <td>2017</td>\n",
       "      <td>10</td>\n",
       "      <td>21</td>\n",
       "      <td>0</td>\n",
       "      <td>0</td>\n",
       "      <td>0</td>\n",
       "      <td>0</td>\n",
       "      <td>85.00</td>\n",
       "      <td>0</td>\n",
       "    </tr>\n",
       "    <tr>\n",
       "      <th>2</th>\n",
       "      <td>42102</td>\n",
       "      <td>2</td>\n",
       "      <td>2</td>\n",
       "      <td>0</td>\n",
       "      <td>1</td>\n",
       "      <td>0</td>\n",
       "      <td>0</td>\n",
       "      <td>3</td>\n",
       "      <td>18</td>\n",
       "      <td>2018</td>\n",
       "      <td>8</td>\n",
       "      <td>10</td>\n",
       "      <td>1</td>\n",
       "      <td>0</td>\n",
       "      <td>0</td>\n",
       "      <td>0</td>\n",
       "      <td>240.00</td>\n",
       "      <td>1</td>\n",
       "    </tr>\n",
       "    <tr>\n",
       "      <th>3</th>\n",
       "      <td>42103</td>\n",
       "      <td>2</td>\n",
       "      <td>0</td>\n",
       "      <td>0</td>\n",
       "      <td>3</td>\n",
       "      <td>0</td>\n",
       "      <td>0</td>\n",
       "      <td>0</td>\n",
       "      <td>88</td>\n",
       "      <td>2018</td>\n",
       "      <td>5</td>\n",
       "      <td>30</td>\n",
       "      <td>0</td>\n",
       "      <td>0</td>\n",
       "      <td>0</td>\n",
       "      <td>0</td>\n",
       "      <td>80.75</td>\n",
       "      <td>0</td>\n",
       "    </tr>\n",
       "    <tr>\n",
       "      <th>4</th>\n",
       "      <td>42104</td>\n",
       "      <td>1</td>\n",
       "      <td>0</td>\n",
       "      <td>0</td>\n",
       "      <td>2</td>\n",
       "      <td>2</td>\n",
       "      <td>0</td>\n",
       "      <td>0</td>\n",
       "      <td>7</td>\n",
       "      <td>2018</td>\n",
       "      <td>9</td>\n",
       "      <td>21</td>\n",
       "      <td>1</td>\n",
       "      <td>0</td>\n",
       "      <td>0</td>\n",
       "      <td>0</td>\n",
       "      <td>144.00</td>\n",
       "      <td>0</td>\n",
       "    </tr>\n",
       "  </tbody>\n",
       "</table>\n",
       "</div>"
      ],
      "text/plain": [
       "      id  no_of_adults  no_of_children  no_of_weekend_nights  \\\n",
       "0  42100             3               0                     1   \n",
       "1  42101             2               0                     0   \n",
       "2  42102             2               2                     0   \n",
       "3  42103             2               0                     0   \n",
       "4  42104             1               0                     0   \n",
       "\n",
       "   no_of_week_nights  type_of_meal_plan  required_car_parking_space  \\\n",
       "0                  4                  0                           0   \n",
       "1                  3                  0                           0   \n",
       "2                  1                  0                           0   \n",
       "3                  3                  0                           0   \n",
       "4                  2                  2                           0   \n",
       "\n",
       "   room_type_reserved  lead_time  arrival_year  arrival_month  arrival_date  \\\n",
       "0                   1        111          2018             12             5   \n",
       "1                   0         22          2017             10            21   \n",
       "2                   3         18          2018              8            10   \n",
       "3                   0         88          2018              5            30   \n",
       "4                   0          7          2018              9            21   \n",
       "\n",
       "   market_segment_type  repeated_guest  no_of_previous_cancellations  \\\n",
       "0                    1               0                             0   \n",
       "1                    0               0                             0   \n",
       "2                    1               0                             0   \n",
       "3                    0               0                             0   \n",
       "4                    1               0                             0   \n",
       "\n",
       "   no_of_previous_bookings_not_canceled  avg_price_per_room  \\\n",
       "0                                     0              115.60   \n",
       "1                                     0               85.00   \n",
       "2                                     0              240.00   \n",
       "3                                     0               80.75   \n",
       "4                                     0              144.00   \n",
       "\n",
       "   no_of_special_requests  \n",
       "0                       2  \n",
       "1                       0  \n",
       "2                       1  \n",
       "3                       0  \n",
       "4                       0  "
      ]
     },
     "execution_count": 56,
     "metadata": {},
     "output_type": "execute_result"
    }
   ],
   "source": [
    "Xnew=pd.read_csv('test_booking.csv')\n",
    "Xnew.head()"
   ]
  },
  {
   "cell_type": "code",
   "execution_count": 57,
   "metadata": {},
   "outputs": [
    {
     "name": "stdout",
     "output_type": "stream",
     "text": [
      "<class 'pandas.core.frame.DataFrame'>\n",
      "RangeIndex: 28068 entries, 0 to 28067\n",
      "Data columns (total 18 columns):\n",
      " #   Column                                Non-Null Count  Dtype  \n",
      "---  ------                                --------------  -----  \n",
      " 0   id                                    28068 non-null  int64  \n",
      " 1   no_of_adults                          28068 non-null  int64  \n",
      " 2   no_of_children                        28068 non-null  int64  \n",
      " 3   no_of_weekend_nights                  28068 non-null  int64  \n",
      " 4   no_of_week_nights                     28068 non-null  int64  \n",
      " 5   type_of_meal_plan                     28068 non-null  int64  \n",
      " 6   required_car_parking_space            28068 non-null  int64  \n",
      " 7   room_type_reserved                    28068 non-null  int64  \n",
      " 8   lead_time                             28068 non-null  int64  \n",
      " 9   arrival_year                          28068 non-null  int64  \n",
      " 10  arrival_month                         28068 non-null  int64  \n",
      " 11  arrival_date                          28068 non-null  int64  \n",
      " 12  market_segment_type                   28068 non-null  int64  \n",
      " 13  repeated_guest                        28068 non-null  int64  \n",
      " 14  no_of_previous_cancellations          28068 non-null  int64  \n",
      " 15  no_of_previous_bookings_not_canceled  28068 non-null  int64  \n",
      " 16  avg_price_per_room                    28068 non-null  float64\n",
      " 17  no_of_special_requests                28068 non-null  int64  \n",
      "dtypes: float64(1), int64(17)\n",
      "memory usage: 3.9 MB\n"
     ]
    }
   ],
   "source": [
    "Xnew.info()"
   ]
  },
  {
   "cell_type": "code",
   "execution_count": 58,
   "metadata": {},
   "outputs": [
    {
     "data": {
      "text/plain": [
       "id                                      0\n",
       "no_of_adults                            0\n",
       "no_of_children                          0\n",
       "no_of_weekend_nights                    0\n",
       "no_of_week_nights                       0\n",
       "type_of_meal_plan                       0\n",
       "required_car_parking_space              0\n",
       "room_type_reserved                      0\n",
       "lead_time                               0\n",
       "arrival_year                            0\n",
       "arrival_month                           0\n",
       "arrival_date                            0\n",
       "market_segment_type                     0\n",
       "repeated_guest                          0\n",
       "no_of_previous_cancellations            0\n",
       "no_of_previous_bookings_not_canceled    0\n",
       "avg_price_per_room                      0\n",
       "no_of_special_requests                  0\n",
       "dtype: int64"
      ]
     },
     "execution_count": 58,
     "metadata": {},
     "output_type": "execute_result"
    }
   ],
   "source": [
    "Xnew.isna().sum()"
   ]
  },
  {
   "cell_type": "code",
   "execution_count": 59,
   "metadata": {},
   "outputs": [
    {
     "data": {
      "text/plain": [
       "0"
      ]
     },
     "execution_count": 59,
     "metadata": {},
     "output_type": "execute_result"
    }
   ],
   "source": [
    "Xnew.duplicated().sum()"
   ]
  },
  {
   "cell_type": "code",
   "execution_count": 62,
   "metadata": {},
   "outputs": [
    {
     "data": {
      "text/html": [
       "<div>\n",
       "<style scoped>\n",
       "    .dataframe tbody tr th:only-of-type {\n",
       "        vertical-align: middle;\n",
       "    }\n",
       "\n",
       "    .dataframe tbody tr th {\n",
       "        vertical-align: top;\n",
       "    }\n",
       "\n",
       "    .dataframe thead th {\n",
       "        text-align: right;\n",
       "    }\n",
       "</style>\n",
       "<table border=\"1\" class=\"dataframe\">\n",
       "  <thead>\n",
       "    <tr style=\"text-align: right;\">\n",
       "      <th></th>\n",
       "      <th>no_of_adults</th>\n",
       "      <th>no_of_children</th>\n",
       "      <th>no_of_weekend_nights</th>\n",
       "      <th>no_of_week_nights</th>\n",
       "      <th>type_of_meal_plan</th>\n",
       "      <th>required_car_parking_space</th>\n",
       "      <th>room_type_reserved</th>\n",
       "      <th>lead_time</th>\n",
       "      <th>arrival_year</th>\n",
       "      <th>arrival_month</th>\n",
       "      <th>arrival_date</th>\n",
       "      <th>market_segment_type</th>\n",
       "      <th>repeated_guest</th>\n",
       "      <th>no_of_previous_cancellations</th>\n",
       "      <th>no_of_previous_bookings_not_canceled</th>\n",
       "      <th>avg_price_per_room</th>\n",
       "      <th>no_of_special_requests</th>\n",
       "    </tr>\n",
       "  </thead>\n",
       "  <tbody>\n",
       "    <tr>\n",
       "      <th>0</th>\n",
       "      <td>3</td>\n",
       "      <td>0</td>\n",
       "      <td>1</td>\n",
       "      <td>4</td>\n",
       "      <td>0</td>\n",
       "      <td>0</td>\n",
       "      <td>1</td>\n",
       "      <td>111</td>\n",
       "      <td>2018</td>\n",
       "      <td>12</td>\n",
       "      <td>5</td>\n",
       "      <td>1</td>\n",
       "      <td>0</td>\n",
       "      <td>0</td>\n",
       "      <td>0</td>\n",
       "      <td>115.60</td>\n",
       "      <td>2</td>\n",
       "    </tr>\n",
       "    <tr>\n",
       "      <th>1</th>\n",
       "      <td>2</td>\n",
       "      <td>0</td>\n",
       "      <td>0</td>\n",
       "      <td>3</td>\n",
       "      <td>0</td>\n",
       "      <td>0</td>\n",
       "      <td>0</td>\n",
       "      <td>22</td>\n",
       "      <td>2017</td>\n",
       "      <td>10</td>\n",
       "      <td>21</td>\n",
       "      <td>0</td>\n",
       "      <td>0</td>\n",
       "      <td>0</td>\n",
       "      <td>0</td>\n",
       "      <td>85.00</td>\n",
       "      <td>0</td>\n",
       "    </tr>\n",
       "    <tr>\n",
       "      <th>2</th>\n",
       "      <td>2</td>\n",
       "      <td>2</td>\n",
       "      <td>0</td>\n",
       "      <td>1</td>\n",
       "      <td>0</td>\n",
       "      <td>0</td>\n",
       "      <td>3</td>\n",
       "      <td>18</td>\n",
       "      <td>2018</td>\n",
       "      <td>8</td>\n",
       "      <td>10</td>\n",
       "      <td>1</td>\n",
       "      <td>0</td>\n",
       "      <td>0</td>\n",
       "      <td>0</td>\n",
       "      <td>240.00</td>\n",
       "      <td>1</td>\n",
       "    </tr>\n",
       "    <tr>\n",
       "      <th>3</th>\n",
       "      <td>2</td>\n",
       "      <td>0</td>\n",
       "      <td>0</td>\n",
       "      <td>3</td>\n",
       "      <td>0</td>\n",
       "      <td>0</td>\n",
       "      <td>0</td>\n",
       "      <td>88</td>\n",
       "      <td>2018</td>\n",
       "      <td>5</td>\n",
       "      <td>30</td>\n",
       "      <td>0</td>\n",
       "      <td>0</td>\n",
       "      <td>0</td>\n",
       "      <td>0</td>\n",
       "      <td>80.75</td>\n",
       "      <td>0</td>\n",
       "    </tr>\n",
       "    <tr>\n",
       "      <th>4</th>\n",
       "      <td>1</td>\n",
       "      <td>0</td>\n",
       "      <td>0</td>\n",
       "      <td>2</td>\n",
       "      <td>2</td>\n",
       "      <td>0</td>\n",
       "      <td>0</td>\n",
       "      <td>7</td>\n",
       "      <td>2018</td>\n",
       "      <td>9</td>\n",
       "      <td>21</td>\n",
       "      <td>1</td>\n",
       "      <td>0</td>\n",
       "      <td>0</td>\n",
       "      <td>0</td>\n",
       "      <td>144.00</td>\n",
       "      <td>0</td>\n",
       "    </tr>\n",
       "  </tbody>\n",
       "</table>\n",
       "</div>"
      ],
      "text/plain": [
       "   no_of_adults  no_of_children  no_of_weekend_nights  no_of_week_nights  \\\n",
       "0             3               0                     1                  4   \n",
       "1             2               0                     0                  3   \n",
       "2             2               2                     0                  1   \n",
       "3             2               0                     0                  3   \n",
       "4             1               0                     0                  2   \n",
       "\n",
       "   type_of_meal_plan  required_car_parking_space  room_type_reserved  \\\n",
       "0                  0                           0                   1   \n",
       "1                  0                           0                   0   \n",
       "2                  0                           0                   3   \n",
       "3                  0                           0                   0   \n",
       "4                  2                           0                   0   \n",
       "\n",
       "   lead_time  arrival_year  arrival_month  arrival_date  market_segment_type  \\\n",
       "0        111          2018             12             5                    1   \n",
       "1         22          2017             10            21                    0   \n",
       "2         18          2018              8            10                    1   \n",
       "3         88          2018              5            30                    0   \n",
       "4          7          2018              9            21                    1   \n",
       "\n",
       "   repeated_guest  no_of_previous_cancellations  \\\n",
       "0               0                             0   \n",
       "1               0                             0   \n",
       "2               0                             0   \n",
       "3               0                             0   \n",
       "4               0                             0   \n",
       "\n",
       "   no_of_previous_bookings_not_canceled  avg_price_per_room  \\\n",
       "0                                     0              115.60   \n",
       "1                                     0               85.00   \n",
       "2                                     0              240.00   \n",
       "3                                     0               80.75   \n",
       "4                                     0              144.00   \n",
       "\n",
       "   no_of_special_requests  \n",
       "0                       2  \n",
       "1                       0  \n",
       "2                       1  \n",
       "3                       0  \n",
       "4                       0  "
      ]
     },
     "execution_count": 62,
     "metadata": {},
     "output_type": "execute_result"
    }
   ],
   "source": [
    "Xnew1=Xnew.drop (columns=['id'])\n",
    "Xnew1.head()"
   ]
  },
  {
   "cell_type": "code",
   "execution_count": 63,
   "metadata": {},
   "outputs": [
    {
     "data": {
      "text/plain": [
       "array([[ 2.05600472, -0.31345354,  0.13025905, ..., -0.10147907,\n",
       "         0.29709213,  1.84284918],\n",
       "       [ 0.15103974, -0.31345354, -0.99881361, ..., -0.10147907,\n",
       "        -0.5268457 , -0.73769133],\n",
       "       [ 0.15103974,  4.12977678, -0.99881361, ..., -0.10147907,\n",
       "         3.64669564,  0.55257892],\n",
       "       ...,\n",
       "       [ 0.15103974, -0.31345354,  0.13025905, ..., -0.10147907,\n",
       "        -0.5268457 , -0.73769133],\n",
       "       [ 2.05600472, -0.31345354, -0.99881361, ..., -0.10147907,\n",
       "         1.56665649, -0.73769133],\n",
       "       [ 0.15103974, -0.31345354,  1.25933171, ..., -0.10147907,\n",
       "        -0.54542469, -0.73769133]])"
      ]
     },
     "execution_count": 63,
     "metadata": {},
     "output_type": "execute_result"
    }
   ],
   "source": [
    "Xnew_pre=num_pipe.transform(Xnew1)\n",
    "Xnew_pre"
   ]
  },
  {
   "cell_type": "code",
   "execution_count": 65,
   "metadata": {},
   "outputs": [
    {
     "data": {
      "text/html": [
       "<div>\n",
       "<style scoped>\n",
       "    .dataframe tbody tr th:only-of-type {\n",
       "        vertical-align: middle;\n",
       "    }\n",
       "\n",
       "    .dataframe tbody tr th {\n",
       "        vertical-align: top;\n",
       "    }\n",
       "\n",
       "    .dataframe thead th {\n",
       "        text-align: right;\n",
       "    }\n",
       "</style>\n",
       "<table border=\"1\" class=\"dataframe\">\n",
       "  <thead>\n",
       "    <tr style=\"text-align: right;\">\n",
       "      <th></th>\n",
       "      <th>no_of_adults</th>\n",
       "      <th>no_of_children</th>\n",
       "      <th>no_of_weekend_nights</th>\n",
       "      <th>no_of_week_nights</th>\n",
       "      <th>type_of_meal_plan</th>\n",
       "      <th>required_car_parking_space</th>\n",
       "      <th>room_type_reserved</th>\n",
       "      <th>lead_time</th>\n",
       "      <th>arrival_year</th>\n",
       "      <th>arrival_month</th>\n",
       "      <th>arrival_date</th>\n",
       "      <th>market_segment_type</th>\n",
       "      <th>repeated_guest</th>\n",
       "      <th>no_of_previous_cancellations</th>\n",
       "      <th>no_of_previous_bookings_not_canceled</th>\n",
       "      <th>avg_price_per_room</th>\n",
       "      <th>no_of_special_requests</th>\n",
       "    </tr>\n",
       "  </thead>\n",
       "  <tbody>\n",
       "    <tr>\n",
       "      <th>0</th>\n",
       "      <td>2.056005</td>\n",
       "      <td>-0.313454</td>\n",
       "      <td>0.130259</td>\n",
       "      <td>1.122386</td>\n",
       "      <td>-0.407020</td>\n",
       "      <td>-0.160945</td>\n",
       "      <td>0.685890</td>\n",
       "      <td>0.087728</td>\n",
       "      <td>0.409661</td>\n",
       "      <td>1.557404</td>\n",
       "      <td>-1.226638</td>\n",
       "      <td>0.428551</td>\n",
       "      <td>-0.173408</td>\n",
       "      <td>-0.060506</td>\n",
       "      <td>-0.101479</td>\n",
       "      <td>0.297092</td>\n",
       "      <td>1.842849</td>\n",
       "    </tr>\n",
       "    <tr>\n",
       "      <th>1</th>\n",
       "      <td>0.151040</td>\n",
       "      <td>-0.313454</td>\n",
       "      <td>-0.998814</td>\n",
       "      <td>0.421768</td>\n",
       "      <td>-0.407020</td>\n",
       "      <td>-0.160945</td>\n",
       "      <td>-0.515173</td>\n",
       "      <td>-1.010111</td>\n",
       "      <td>-2.441040</td>\n",
       "      <td>0.850531</td>\n",
       "      <td>0.573445</td>\n",
       "      <td>-1.149928</td>\n",
       "      <td>-0.173408</td>\n",
       "      <td>-0.060506</td>\n",
       "      <td>-0.101479</td>\n",
       "      <td>-0.526846</td>\n",
       "      <td>-0.737691</td>\n",
       "    </tr>\n",
       "    <tr>\n",
       "      <th>2</th>\n",
       "      <td>0.151040</td>\n",
       "      <td>4.129777</td>\n",
       "      <td>-0.998814</td>\n",
       "      <td>-0.979466</td>\n",
       "      <td>-0.407020</td>\n",
       "      <td>-0.160945</td>\n",
       "      <td>3.088017</td>\n",
       "      <td>-1.059452</td>\n",
       "      <td>0.409661</td>\n",
       "      <td>0.143658</td>\n",
       "      <td>-0.664112</td>\n",
       "      <td>0.428551</td>\n",
       "      <td>-0.173408</td>\n",
       "      <td>-0.060506</td>\n",
       "      <td>-0.101479</td>\n",
       "      <td>3.646696</td>\n",
       "      <td>0.552579</td>\n",
       "    </tr>\n",
       "    <tr>\n",
       "      <th>3</th>\n",
       "      <td>0.151040</td>\n",
       "      <td>-0.313454</td>\n",
       "      <td>-0.998814</td>\n",
       "      <td>0.421768</td>\n",
       "      <td>-0.407020</td>\n",
       "      <td>-0.160945</td>\n",
       "      <td>-0.515173</td>\n",
       "      <td>-0.195983</td>\n",
       "      <td>0.409661</td>\n",
       "      <td>-0.916652</td>\n",
       "      <td>1.585992</td>\n",
       "      <td>-1.149928</td>\n",
       "      <td>-0.173408</td>\n",
       "      <td>-0.060506</td>\n",
       "      <td>-0.101479</td>\n",
       "      <td>-0.641282</td>\n",
       "      <td>-0.737691</td>\n",
       "    </tr>\n",
       "    <tr>\n",
       "      <th>4</th>\n",
       "      <td>-1.753925</td>\n",
       "      <td>-0.313454</td>\n",
       "      <td>-0.998814</td>\n",
       "      <td>-0.278849</td>\n",
       "      <td>2.996268</td>\n",
       "      <td>-0.160945</td>\n",
       "      <td>-0.515173</td>\n",
       "      <td>-1.195140</td>\n",
       "      <td>0.409661</td>\n",
       "      <td>0.497095</td>\n",
       "      <td>0.573445</td>\n",
       "      <td>0.428551</td>\n",
       "      <td>-0.173408</td>\n",
       "      <td>-0.060506</td>\n",
       "      <td>-0.101479</td>\n",
       "      <td>1.061793</td>\n",
       "      <td>-0.737691</td>\n",
       "    </tr>\n",
       "  </tbody>\n",
       "</table>\n",
       "</div>"
      ],
      "text/plain": [
       "   no_of_adults  no_of_children  no_of_weekend_nights  no_of_week_nights  \\\n",
       "0      2.056005       -0.313454              0.130259           1.122386   \n",
       "1      0.151040       -0.313454             -0.998814           0.421768   \n",
       "2      0.151040        4.129777             -0.998814          -0.979466   \n",
       "3      0.151040       -0.313454             -0.998814           0.421768   \n",
       "4     -1.753925       -0.313454             -0.998814          -0.278849   \n",
       "\n",
       "   type_of_meal_plan  required_car_parking_space  room_type_reserved  \\\n",
       "0          -0.407020                   -0.160945            0.685890   \n",
       "1          -0.407020                   -0.160945           -0.515173   \n",
       "2          -0.407020                   -0.160945            3.088017   \n",
       "3          -0.407020                   -0.160945           -0.515173   \n",
       "4           2.996268                   -0.160945           -0.515173   \n",
       "\n",
       "   lead_time  arrival_year  arrival_month  arrival_date  market_segment_type  \\\n",
       "0   0.087728      0.409661       1.557404     -1.226638             0.428551   \n",
       "1  -1.010111     -2.441040       0.850531      0.573445            -1.149928   \n",
       "2  -1.059452      0.409661       0.143658     -0.664112             0.428551   \n",
       "3  -0.195983      0.409661      -0.916652      1.585992            -1.149928   \n",
       "4  -1.195140      0.409661       0.497095      0.573445             0.428551   \n",
       "\n",
       "   repeated_guest  no_of_previous_cancellations  \\\n",
       "0       -0.173408                     -0.060506   \n",
       "1       -0.173408                     -0.060506   \n",
       "2       -0.173408                     -0.060506   \n",
       "3       -0.173408                     -0.060506   \n",
       "4       -0.173408                     -0.060506   \n",
       "\n",
       "   no_of_previous_bookings_not_canceled  avg_price_per_room  \\\n",
       "0                             -0.101479            0.297092   \n",
       "1                             -0.101479           -0.526846   \n",
       "2                             -0.101479            3.646696   \n",
       "3                             -0.101479           -0.641282   \n",
       "4                             -0.101479            1.061793   \n",
       "\n",
       "   no_of_special_requests  \n",
       "0                1.842849  \n",
       "1               -0.737691  \n",
       "2                0.552579  \n",
       "3               -0.737691  \n",
       "4               -0.737691  "
      ]
     },
     "execution_count": 65,
     "metadata": {},
     "output_type": "execute_result"
    }
   ],
   "source": [
    "Xnew_pre=pd.DataFrame(Xnew_pre,columns=cols)\n",
    "Xnew_pre.head()"
   ]
  },
  {
   "cell_type": "markdown",
   "metadata": {},
   "source": [
    "## Get Probibalities prdidection for above data"
   ]
  },
  {
   "cell_type": "code",
   "execution_count": 66,
   "metadata": {},
   "outputs": [
    {
     "name": "stdout",
     "output_type": "stream",
     "text": [
      "878/878 [==============================] - 4s 4ms/step\n"
     ]
    },
    {
     "data": {
      "text/plain": [
       "array([[0.08057949],\n",
       "       [0.03471389],\n",
       "       [0.40284136],\n",
       "       [0.16935329],\n",
       "       [0.5117791 ]], dtype=float32)"
      ]
     },
     "execution_count": 66,
     "metadata": {},
     "output_type": "execute_result"
    }
   ],
   "source": [
    "prob=model.predict(Xnew_pre)\n",
    "prob[0:5]"
   ]
  },
  {
   "cell_type": "markdown",
   "metadata": {},
   "source": [
    "## Predection are \n",
    "0=Not cancle Booking\n",
    "1=Cancle Booking"
   ]
  },
  {
   "cell_type": "code",
   "execution_count": 68,
   "metadata": {},
   "outputs": [
    {
     "data": {
      "text/plain": [
       "[0, 0, 0, 0, 1]"
      ]
     },
     "execution_count": 68,
     "metadata": {},
     "output_type": "execute_result"
    }
   ],
   "source": [
    "preds = [1 if i>=0.5 else 0 for i in prob]\n",
    "preds[0:5]"
   ]
  },
  {
   "cell_type": "markdown",
   "metadata": {},
   "source": [
    "## Save above values in Xnew DataFrame"
   ]
  },
  {
   "cell_type": "code",
   "execution_count": 69,
   "metadata": {},
   "outputs": [
    {
     "data": {
      "text/html": [
       "<div>\n",
       "<style scoped>\n",
       "    .dataframe tbody tr th:only-of-type {\n",
       "        vertical-align: middle;\n",
       "    }\n",
       "\n",
       "    .dataframe tbody tr th {\n",
       "        vertical-align: top;\n",
       "    }\n",
       "\n",
       "    .dataframe thead th {\n",
       "        text-align: right;\n",
       "    }\n",
       "</style>\n",
       "<table border=\"1\" class=\"dataframe\">\n",
       "  <thead>\n",
       "    <tr style=\"text-align: right;\">\n",
       "      <th></th>\n",
       "      <th>id</th>\n",
       "    </tr>\n",
       "  </thead>\n",
       "  <tbody>\n",
       "    <tr>\n",
       "      <th>0</th>\n",
       "      <td>42100</td>\n",
       "    </tr>\n",
       "    <tr>\n",
       "      <th>1</th>\n",
       "      <td>42101</td>\n",
       "    </tr>\n",
       "    <tr>\n",
       "      <th>2</th>\n",
       "      <td>42102</td>\n",
       "    </tr>\n",
       "    <tr>\n",
       "      <th>3</th>\n",
       "      <td>42103</td>\n",
       "    </tr>\n",
       "    <tr>\n",
       "      <th>4</th>\n",
       "      <td>42104</td>\n",
       "    </tr>\n",
       "  </tbody>\n",
       "</table>\n",
       "</div>"
      ],
      "text/plain": [
       "      id\n",
       "0  42100\n",
       "1  42101\n",
       "2  42102\n",
       "3  42103\n",
       "4  42104"
      ]
     },
     "execution_count": 69,
     "metadata": {},
     "output_type": "execute_result"
    }
   ],
   "source": [
    "df_final=Xnew[['id']]\n",
    "df_final.head()"
   ]
  },
  {
   "cell_type": "code",
   "execution_count": 70,
   "metadata": {},
   "outputs": [],
   "source": [
    "df_final['booking_status_pred']=preds"
   ]
  },
  {
   "cell_type": "code",
   "execution_count": 71,
   "metadata": {},
   "outputs": [],
   "source": [
    "df_final['Cancellation_prob'] = prob"
   ]
  },
  {
   "cell_type": "code",
   "execution_count": 73,
   "metadata": {},
   "outputs": [
    {
     "data": {
      "text/html": [
       "<div>\n",
       "<style scoped>\n",
       "    .dataframe tbody tr th:only-of-type {\n",
       "        vertical-align: middle;\n",
       "    }\n",
       "\n",
       "    .dataframe tbody tr th {\n",
       "        vertical-align: top;\n",
       "    }\n",
       "\n",
       "    .dataframe thead th {\n",
       "        text-align: right;\n",
       "    }\n",
       "</style>\n",
       "<table border=\"1\" class=\"dataframe\">\n",
       "  <thead>\n",
       "    <tr style=\"text-align: right;\">\n",
       "      <th></th>\n",
       "      <th>id</th>\n",
       "      <th>booking_status_pred</th>\n",
       "      <th>Cancellation_prob</th>\n",
       "    </tr>\n",
       "  </thead>\n",
       "  <tbody>\n",
       "    <tr>\n",
       "      <th>0</th>\n",
       "      <td>42100</td>\n",
       "      <td>0</td>\n",
       "      <td>0.080579</td>\n",
       "    </tr>\n",
       "    <tr>\n",
       "      <th>1</th>\n",
       "      <td>42101</td>\n",
       "      <td>0</td>\n",
       "      <td>0.034714</td>\n",
       "    </tr>\n",
       "    <tr>\n",
       "      <th>2</th>\n",
       "      <td>42102</td>\n",
       "      <td>0</td>\n",
       "      <td>0.402841</td>\n",
       "    </tr>\n",
       "    <tr>\n",
       "      <th>3</th>\n",
       "      <td>42103</td>\n",
       "      <td>0</td>\n",
       "      <td>0.169353</td>\n",
       "    </tr>\n",
       "    <tr>\n",
       "      <th>4</th>\n",
       "      <td>42104</td>\n",
       "      <td>1</td>\n",
       "      <td>0.511779</td>\n",
       "    </tr>\n",
       "  </tbody>\n",
       "</table>\n",
       "</div>"
      ],
      "text/plain": [
       "      id  booking_status_pred  Cancellation_prob\n",
       "0  42100                    0           0.080579\n",
       "1  42101                    0           0.034714\n",
       "2  42102                    0           0.402841\n",
       "3  42103                    0           0.169353\n",
       "4  42104                    1           0.511779"
      ]
     },
     "execution_count": 73,
     "metadata": {},
     "output_type": "execute_result"
    }
   ],
   "source": [
    "df_final.head()"
   ]
  },
  {
   "cell_type": "code",
   "execution_count": 74,
   "metadata": {},
   "outputs": [
    {
     "data": {
      "text/plain": [
       "booking_status_pred\n",
       "0    17716\n",
       "1    10352\n",
       "Name: count, dtype: int64"
      ]
     },
     "execution_count": 74,
     "metadata": {},
     "output_type": "execute_result"
    }
   ],
   "source": [
    "df_final['booking_status_pred'].value_counts()"
   ]
  },
  {
   "cell_type": "markdown",
   "metadata": {},
   "source": [
    "## Barplot for booking status"
   ]
  },
  {
   "cell_type": "code",
   "execution_count": 75,
   "metadata": {},
   "outputs": [
    {
     "data": {
      "text/plain": [
       "<Axes: title={'center': 'Count plot for booking status preduction'}, xlabel='booking_status_pred'>"
      ]
     },
     "execution_count": 75,
     "metadata": {},
     "output_type": "execute_result"
    },
    {
     "data": {
      "image/png": "[encoded data removed]",
      "text/plain": [
       "<Figure size 640x480 with 1 Axes>"
      ]
     },
     "metadata": {},
     "output_type": "display_data"
    }
   ],
   "source": [
    "df_final['booking_status_pred'].value_counts().plot(kind='bar',title='Count plot for booking status preduction')"
   ]
  },
  {
   "cell_type": "markdown",
   "metadata": {},
   "source": [
    "## Save the file into csv"
   ]
  },
  {
   "cell_type": "code",
   "execution_count": 78,
   "metadata": {},
   "outputs": [],
   "source": [
    "df_final.to_csv ('Booking Result.csv',index=False)"
   ]
  },
  {
   "cell_type": "code",
   "execution_count": null,
   "metadata": {},
   "outputs": [],
   "source": []
  }
 ],
 "metadata": {
  "kernelspec": {
   "display_name": "venv",
   "language": "python",
   "name": "python3"
  },
  "language_info": {
   "codemirror_mode": {
    "name": "ipython",
    "version": 3
   },
   "file_extension": ".py",
   "mimetype": "text/x-python",
   "name": "python",
   "nbconvert_exporter": "python",
   "pygments_lexer": "ipython3",
   "version": "3.10.9"
  }
 },
 "nbformat": 4,
 "nbformat_minor": 2
}
