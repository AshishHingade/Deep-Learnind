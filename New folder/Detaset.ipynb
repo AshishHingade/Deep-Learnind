{
 "cells": [
  {
   "cell_type": "code",
   "execution_count": 1,
   "metadata": {},
   "outputs": [],
   "source": [
    "from warnings import filterwarnings\n",
    "filterwarnings (\"ignore\")"
   ]
  },
  {
   "cell_type": "code",
   "execution_count": 2,
   "metadata": {},
   "outputs": [],
   "source": [
    "# Read Te Data set "
   ]
  },
  {
   "cell_type": "code",
   "execution_count": 3,
   "metadata": {},
   "outputs": [],
   "source": [
    "import pandas as pd"
   ]
  },
  {
   "cell_type": "code",
   "execution_count": 4,
   "metadata": {},
   "outputs": [
    {
     "data": {
      "text/html": [
       "<div>\n",
       "<style scoped>\n",
       "    .dataframe tbody tr th:only-of-type {\n",
       "        vertical-align: middle;\n",
       "    }\n",
       "\n",
       "    .dataframe tbody tr th {\n",
       "        vertical-align: top;\n",
       "    }\n",
       "\n",
       "    .dataframe thead th {\n",
       "        text-align: right;\n",
       "    }\n",
       "</style>\n",
       "<table border=\"1\" class=\"dataframe\">\n",
       "  <thead>\n",
       "    <tr style=\"text-align: right;\">\n",
       "      <th></th>\n",
       "      <th>ID</th>\n",
       "      <th>Sender_IP</th>\n",
       "      <th>Sender_Port</th>\n",
       "      <th>Target_IP</th>\n",
       "      <th>Target_Port</th>\n",
       "      <th>Transport_Protocol</th>\n",
       "      <th>Duration</th>\n",
       "      <th>AvgDuration</th>\n",
       "      <th>PBS</th>\n",
       "      <th>AvgPBS</th>\n",
       "      <th>TBS</th>\n",
       "      <th>PBR</th>\n",
       "      <th>AvgPBR</th>\n",
       "      <th>TBR</th>\n",
       "      <th>Missed_Bytes</th>\n",
       "      <th>Packets_Sent</th>\n",
       "      <th>Packets_Received</th>\n",
       "      <th>SRPR</th>\n",
       "      <th>class</th>\n",
       "    </tr>\n",
       "  </thead>\n",
       "  <tbody>\n",
       "    <tr>\n",
       "      <th>0</th>\n",
       "      <td>10.42.0.211-104.97.95.172-59522-80-6</td>\n",
       "      <td>192.168.2.112</td>\n",
       "      <td>2142</td>\n",
       "      <td>75.126.101.175</td>\n",
       "      <td>443</td>\n",
       "      <td>1</td>\n",
       "      <td>4.28</td>\n",
       "      <td>6.039028</td>\n",
       "      <td>1174</td>\n",
       "      <td>856.833333</td>\n",
       "      <td>1894</td>\n",
       "      <td>11862</td>\n",
       "      <td>27450.72222</td>\n",
       "      <td>12462</td>\n",
       "      <td>0</td>\n",
       "      <td>18</td>\n",
       "      <td>15</td>\n",
       "      <td>0.833333</td>\n",
       "      <td>0</td>\n",
       "    </tr>\n",
       "    <tr>\n",
       "      <th>1</th>\n",
       "      <td>216.58.217.68-10.42.0.211-443-59345-6</td>\n",
       "      <td>147.32.84.170</td>\n",
       "      <td>2108</td>\n",
       "      <td>208.100.48.73</td>\n",
       "      <td>22</td>\n",
       "      <td>1</td>\n",
       "      <td>3.00</td>\n",
       "      <td>1.500000</td>\n",
       "      <td>0</td>\n",
       "      <td>0.000000</td>\n",
       "      <td>192</td>\n",
       "      <td>0</td>\n",
       "      <td>0.00000</td>\n",
       "      <td>0</td>\n",
       "      <td>0</td>\n",
       "      <td>4</td>\n",
       "      <td>0</td>\n",
       "      <td>0.000000</td>\n",
       "      <td>1</td>\n",
       "    </tr>\n",
       "    <tr>\n",
       "      <th>2</th>\n",
       "      <td>10.42.0.151-54.192.38.7-52510-443-6</td>\n",
       "      <td>147.32.84.170</td>\n",
       "      <td>3805</td>\n",
       "      <td>125.14.233.194</td>\n",
       "      <td>22</td>\n",
       "      <td>1</td>\n",
       "      <td>0.00</td>\n",
       "      <td>1.500000</td>\n",
       "      <td>0</td>\n",
       "      <td>0.000000</td>\n",
       "      <td>96</td>\n",
       "      <td>0</td>\n",
       "      <td>0.00000</td>\n",
       "      <td>0</td>\n",
       "      <td>0</td>\n",
       "      <td>2</td>\n",
       "      <td>0</td>\n",
       "      <td>0.000000</td>\n",
       "      <td>1</td>\n",
       "    </tr>\n",
       "    <tr>\n",
       "      <th>3</th>\n",
       "      <td>216.58.219.206-10.42.0.42-443-53294-6</td>\n",
       "      <td>147.32.84.180</td>\n",
       "      <td>3008</td>\n",
       "      <td>205.188.146.193</td>\n",
       "      <td>25</td>\n",
       "      <td>1</td>\n",
       "      <td>2.96</td>\n",
       "      <td>2.021923</td>\n",
       "      <td>0</td>\n",
       "      <td>0.000000</td>\n",
       "      <td>96</td>\n",
       "      <td>0</td>\n",
       "      <td>0.00000</td>\n",
       "      <td>0</td>\n",
       "      <td>0</td>\n",
       "      <td>2</td>\n",
       "      <td>0</td>\n",
       "      <td>0.000000</td>\n",
       "      <td>1</td>\n",
       "    </tr>\n",
       "    <tr>\n",
       "      <th>4</th>\n",
       "      <td>10.42.0.1-10.42.0.42-53-62597-17</td>\n",
       "      <td>147.32.84.160</td>\n",
       "      <td>11697</td>\n",
       "      <td>184.173.217.40</td>\n",
       "      <td>443</td>\n",
       "      <td>1</td>\n",
       "      <td>0.15</td>\n",
       "      <td>0.159373</td>\n",
       "      <td>0</td>\n",
       "      <td>0.000000</td>\n",
       "      <td>96</td>\n",
       "      <td>0</td>\n",
       "      <td>0.00000</td>\n",
       "      <td>40</td>\n",
       "      <td>0</td>\n",
       "      <td>2</td>\n",
       "      <td>1</td>\n",
       "      <td>0.500000</td>\n",
       "      <td>1</td>\n",
       "    </tr>\n",
       "  </tbody>\n",
       "</table>\n",
       "</div>"
      ],
      "text/plain": [
       "                                      ID      Sender_IP  Sender_Port  \\\n",
       "0   10.42.0.211-104.97.95.172-59522-80-6  192.168.2.112         2142   \n",
       "1  216.58.217.68-10.42.0.211-443-59345-6  147.32.84.170         2108   \n",
       "2    10.42.0.151-54.192.38.7-52510-443-6  147.32.84.170         3805   \n",
       "3  216.58.219.206-10.42.0.42-443-53294-6  147.32.84.180         3008   \n",
       "4       10.42.0.1-10.42.0.42-53-62597-17  147.32.84.160        11697   \n",
       "\n",
       "         Target_IP  Target_Port  Transport_Protocol  Duration  AvgDuration  \\\n",
       "0   75.126.101.175          443                   1      4.28     6.039028   \n",
       "1    208.100.48.73           22                   1      3.00     1.500000   \n",
       "2   125.14.233.194           22                   1      0.00     1.500000   \n",
       "3  205.188.146.193           25                   1      2.96     2.021923   \n",
       "4   184.173.217.40          443                   1      0.15     0.159373   \n",
       "\n",
       "    PBS      AvgPBS   TBS    PBR       AvgPBR    TBR  Missed_Bytes  \\\n",
       "0  1174  856.833333  1894  11862  27450.72222  12462             0   \n",
       "1     0    0.000000   192      0      0.00000      0             0   \n",
       "2     0    0.000000    96      0      0.00000      0             0   \n",
       "3     0    0.000000    96      0      0.00000      0             0   \n",
       "4     0    0.000000    96      0      0.00000     40             0   \n",
       "\n",
       "   Packets_Sent  Packets_Received      SRPR  class  \n",
       "0            18                15  0.833333      0  \n",
       "1             4                 0  0.000000      1  \n",
       "2             2                 0  0.000000      1  \n",
       "3             2                 0  0.000000      1  \n",
       "4             2                 1  0.500000      1  "
      ]
     },
     "execution_count": 4,
     "metadata": {},
     "output_type": "execute_result"
    }
   ],
   "source": [
    "df=pd.read_csv(\"Datasets.csv\")\n",
    "df.head()"
   ]
  },
  {
   "cell_type": "code",
   "execution_count": 5,
   "metadata": {},
   "outputs": [
    {
     "name": "stdout",
     "output_type": "stream",
     "text": [
      "<class 'pandas.core.frame.DataFrame'>\n",
      "RangeIndex: 5472 entries, 0 to 5471\n",
      "Data columns (total 19 columns):\n",
      " #   Column              Non-Null Count  Dtype  \n",
      "---  ------              --------------  -----  \n",
      " 0   ID                  5472 non-null   object \n",
      " 1   Sender_IP           5472 non-null   object \n",
      " 2   Sender_Port         5472 non-null   int64  \n",
      " 3   Target_IP           5472 non-null   object \n",
      " 4   Target_Port         5472 non-null   int64  \n",
      " 5   Transport_Protocol  5472 non-null   int64  \n",
      " 6   Duration            5472 non-null   float64\n",
      " 7   AvgDuration         5472 non-null   float64\n",
      " 8   PBS                 5472 non-null   int64  \n",
      " 9   AvgPBS              5472 non-null   float64\n",
      " 10  TBS                 5472 non-null   int64  \n",
      " 11  PBR                 5472 non-null   int64  \n",
      " 12  AvgPBR              5472 non-null   float64\n",
      " 13  TBR                 5472 non-null   int64  \n",
      " 14  Missed_Bytes        5472 non-null   int64  \n",
      " 15  Packets_Sent        5472 non-null   int64  \n",
      " 16  Packets_Received    5472 non-null   int64  \n",
      " 17  SRPR                5472 non-null   float64\n",
      " 18  class               5472 non-null   int64  \n",
      "dtypes: float64(5), int64(11), object(3)\n",
      "memory usage: 812.4+ KB\n"
     ]
    }
   ],
   "source": [
    "df.info()"
   ]
  },
  {
   "cell_type": "code",
   "execution_count": 6,
   "metadata": {},
   "outputs": [],
   "source": [
    "s=df.isna().sum()"
   ]
  },
  {
   "cell_type": "code",
   "execution_count": 7,
   "metadata": {},
   "outputs": [
    {
     "data": {
      "text/plain": [
       "0"
      ]
     },
     "execution_count": 7,
     "metadata": {},
     "output_type": "execute_result"
    }
   ],
   "source": [
    "s=df.duplicated().sum()\n",
    "s"
   ]
  },
  {
   "cell_type": "code",
   "execution_count": 8,
   "metadata": {},
   "outputs": [
    {
     "data": {
      "text/plain": [
       "array([], dtype=int64)"
      ]
     },
     "execution_count": 8,
     "metadata": {},
     "output_type": "execute_result"
    }
   ],
   "source": [
    "s[s>0]"
   ]
  },
  {
   "cell_type": "code",
   "execution_count": 9,
   "metadata": {},
   "outputs": [],
   "source": [
    "X = df.drop(columns=['ID','Sender_IP','Target_IP','class'])\n",
    "Y = df[['class']]"
   ]
  },
  {
   "cell_type": "code",
   "execution_count": 10,
   "metadata": {},
   "outputs": [
    {
     "data": {
      "text/html": [
       "<div>\n",
       "<style scoped>\n",
       "    .dataframe tbody tr th:only-of-type {\n",
       "        vertical-align: middle;\n",
       "    }\n",
       "\n",
       "    .dataframe tbody tr th {\n",
       "        vertical-align: top;\n",
       "    }\n",
       "\n",
       "    .dataframe thead th {\n",
       "        text-align: right;\n",
       "    }\n",
       "</style>\n",
       "<table border=\"1\" class=\"dataframe\">\n",
       "  <thead>\n",
       "    <tr style=\"text-align: right;\">\n",
       "      <th></th>\n",
       "      <th>class</th>\n",
       "    </tr>\n",
       "  </thead>\n",
       "  <tbody>\n",
       "    <tr>\n",
       "      <th>0</th>\n",
       "      <td>0</td>\n",
       "    </tr>\n",
       "    <tr>\n",
       "      <th>1</th>\n",
       "      <td>1</td>\n",
       "    </tr>\n",
       "    <tr>\n",
       "      <th>2</th>\n",
       "      <td>1</td>\n",
       "    </tr>\n",
       "    <tr>\n",
       "      <th>3</th>\n",
       "      <td>1</td>\n",
       "    </tr>\n",
       "    <tr>\n",
       "      <th>4</th>\n",
       "      <td>1</td>\n",
       "    </tr>\n",
       "  </tbody>\n",
       "</table>\n",
       "</div>"
      ],
      "text/plain": [
       "   class\n",
       "0      0\n",
       "1      1\n",
       "2      1\n",
       "3      1\n",
       "4      1"
      ]
     },
     "execution_count": 10,
     "metadata": {},
     "output_type": "execute_result"
    }
   ],
   "source": [
    "Y.head()"
   ]
  },
  {
   "cell_type": "code",
   "execution_count": 11,
   "metadata": {},
   "outputs": [
    {
     "data": {
      "text/html": [
       "<div>\n",
       "<style scoped>\n",
       "    .dataframe tbody tr th:only-of-type {\n",
       "        vertical-align: middle;\n",
       "    }\n",
       "\n",
       "    .dataframe tbody tr th {\n",
       "        vertical-align: top;\n",
       "    }\n",
       "\n",
       "    .dataframe thead th {\n",
       "        text-align: right;\n",
       "    }\n",
       "</style>\n",
       "<table border=\"1\" class=\"dataframe\">\n",
       "  <thead>\n",
       "    <tr style=\"text-align: right;\">\n",
       "      <th></th>\n",
       "      <th>Sender_Port</th>\n",
       "      <th>Target_Port</th>\n",
       "      <th>Transport_Protocol</th>\n",
       "      <th>Duration</th>\n",
       "      <th>AvgDuration</th>\n",
       "      <th>PBS</th>\n",
       "      <th>AvgPBS</th>\n",
       "      <th>TBS</th>\n",
       "      <th>PBR</th>\n",
       "      <th>AvgPBR</th>\n",
       "      <th>TBR</th>\n",
       "      <th>Missed_Bytes</th>\n",
       "      <th>Packets_Sent</th>\n",
       "      <th>Packets_Received</th>\n",
       "      <th>SRPR</th>\n",
       "    </tr>\n",
       "  </thead>\n",
       "  <tbody>\n",
       "    <tr>\n",
       "      <th>0</th>\n",
       "      <td>2142</td>\n",
       "      <td>443</td>\n",
       "      <td>1</td>\n",
       "      <td>4.28</td>\n",
       "      <td>6.039028</td>\n",
       "      <td>1174</td>\n",
       "      <td>856.833333</td>\n",
       "      <td>1894</td>\n",
       "      <td>11862</td>\n",
       "      <td>27450.72222</td>\n",
       "      <td>12462</td>\n",
       "      <td>0</td>\n",
       "      <td>18</td>\n",
       "      <td>15</td>\n",
       "      <td>0.833333</td>\n",
       "    </tr>\n",
       "    <tr>\n",
       "      <th>1</th>\n",
       "      <td>2108</td>\n",
       "      <td>22</td>\n",
       "      <td>1</td>\n",
       "      <td>3.00</td>\n",
       "      <td>1.500000</td>\n",
       "      <td>0</td>\n",
       "      <td>0.000000</td>\n",
       "      <td>192</td>\n",
       "      <td>0</td>\n",
       "      <td>0.00000</td>\n",
       "      <td>0</td>\n",
       "      <td>0</td>\n",
       "      <td>4</td>\n",
       "      <td>0</td>\n",
       "      <td>0.000000</td>\n",
       "    </tr>\n",
       "    <tr>\n",
       "      <th>2</th>\n",
       "      <td>3805</td>\n",
       "      <td>22</td>\n",
       "      <td>1</td>\n",
       "      <td>0.00</td>\n",
       "      <td>1.500000</td>\n",
       "      <td>0</td>\n",
       "      <td>0.000000</td>\n",
       "      <td>96</td>\n",
       "      <td>0</td>\n",
       "      <td>0.00000</td>\n",
       "      <td>0</td>\n",
       "      <td>0</td>\n",
       "      <td>2</td>\n",
       "      <td>0</td>\n",
       "      <td>0.000000</td>\n",
       "    </tr>\n",
       "    <tr>\n",
       "      <th>3</th>\n",
       "      <td>3008</td>\n",
       "      <td>25</td>\n",
       "      <td>1</td>\n",
       "      <td>2.96</td>\n",
       "      <td>2.021923</td>\n",
       "      <td>0</td>\n",
       "      <td>0.000000</td>\n",
       "      <td>96</td>\n",
       "      <td>0</td>\n",
       "      <td>0.00000</td>\n",
       "      <td>0</td>\n",
       "      <td>0</td>\n",
       "      <td>2</td>\n",
       "      <td>0</td>\n",
       "      <td>0.000000</td>\n",
       "    </tr>\n",
       "    <tr>\n",
       "      <th>4</th>\n",
       "      <td>11697</td>\n",
       "      <td>443</td>\n",
       "      <td>1</td>\n",
       "      <td>0.15</td>\n",
       "      <td>0.159373</td>\n",
       "      <td>0</td>\n",
       "      <td>0.000000</td>\n",
       "      <td>96</td>\n",
       "      <td>0</td>\n",
       "      <td>0.00000</td>\n",
       "      <td>40</td>\n",
       "      <td>0</td>\n",
       "      <td>2</td>\n",
       "      <td>1</td>\n",
       "      <td>0.500000</td>\n",
       "    </tr>\n",
       "  </tbody>\n",
       "</table>\n",
       "</div>"
      ],
      "text/plain": [
       "   Sender_Port  Target_Port  Transport_Protocol  Duration  AvgDuration   PBS  \\\n",
       "0         2142          443                   1      4.28     6.039028  1174   \n",
       "1         2108           22                   1      3.00     1.500000     0   \n",
       "2         3805           22                   1      0.00     1.500000     0   \n",
       "3         3008           25                   1      2.96     2.021923     0   \n",
       "4        11697          443                   1      0.15     0.159373     0   \n",
       "\n",
       "       AvgPBS   TBS    PBR       AvgPBR    TBR  Missed_Bytes  Packets_Sent  \\\n",
       "0  856.833333  1894  11862  27450.72222  12462             0            18   \n",
       "1    0.000000   192      0      0.00000      0             0             4   \n",
       "2    0.000000    96      0      0.00000      0             0             2   \n",
       "3    0.000000    96      0      0.00000      0             0             2   \n",
       "4    0.000000    96      0      0.00000     40             0             2   \n",
       "\n",
       "   Packets_Received      SRPR  \n",
       "0                15  0.833333  \n",
       "1                 0  0.000000  \n",
       "2                 0  0.000000  \n",
       "3                 0  0.000000  \n",
       "4                 1  0.500000  "
      ]
     },
     "execution_count": 11,
     "metadata": {},
     "output_type": "execute_result"
    }
   ],
   "source": [
    "X.head()"
   ]
  },
  {
   "cell_type": "code",
   "execution_count": 12,
   "metadata": {},
   "outputs": [
    {
     "data": {
      "text/plain": [
       "class\n",
       "1        3447\n",
       "0        2025\n",
       "Name: count, dtype: int64"
      ]
     },
     "execution_count": 12,
     "metadata": {},
     "output_type": "execute_result"
    }
   ],
   "source": [
    "Y.value_counts()"
   ]
  },
  {
   "cell_type": "code",
   "execution_count": 13,
   "metadata": {},
   "outputs": [
    {
     "data": {
      "text/plain": [
       "Sender_Port             int64\n",
       "Target_Port             int64\n",
       "Transport_Protocol      int64\n",
       "Duration              float64\n",
       "AvgDuration           float64\n",
       "PBS                     int64\n",
       "AvgPBS                float64\n",
       "TBS                     int64\n",
       "PBR                     int64\n",
       "AvgPBR                float64\n",
       "TBR                     int64\n",
       "Missed_Bytes            int64\n",
       "Packets_Sent            int64\n",
       "Packets_Received        int64\n",
       "SRPR                  float64\n",
       "dtype: object"
      ]
     },
     "execution_count": 13,
     "metadata": {},
     "output_type": "execute_result"
    }
   ],
   "source": [
    "X.dtypes"
   ]
  },
  {
   "cell_type": "code",
   "execution_count": 14,
   "metadata": {},
   "outputs": [],
   "source": [
    "# Create Preprocessing pipe line"
   ]
  },
  {
   "cell_type": "code",
   "execution_count": 15,
   "metadata": {},
   "outputs": [],
   "source": [
    "from sklearn.pipeline import Pipeline\n",
    "from sklearn.impute import SimpleImputer\n",
    "from sklearn.preprocessing import OneHotEncoder, StandardScaler\n",
    "from sklearn.compose import ColumnTransformer"
   ]
  },
  {
   "cell_type": "code",
   "execution_count": 16,
   "metadata": {},
   "outputs": [],
   "source": [
    "num_pipe = Pipeline(steps=[('impute', SimpleImputer(strategy='most_frequent')),\n",
    "                           ('scaler', StandardScaler())])"
   ]
  },
  {
   "cell_type": "code",
   "execution_count": 17,
   "metadata": {},
   "outputs": [
    {
     "data": {
      "text/html": [
       "<style>#sk-container-id-1 {color: black;}#sk-container-id-1 pre{padding: 0;}#sk-container-id-1 div.sk-toggleable {background-color: white;}#sk-container-id-1 label.sk-toggleable__label {cursor: pointer;display: block;width: 100%;margin-bottom: 0;padding: 0.3em;box-sizing: border-box;text-align: center;}#sk-container-id-1 label.sk-toggleable__label-arrow:before {content: \"▸\";float: left;margin-right: 0.25em;color: #696969;}#sk-container-id-1 label.sk-toggleable__label-arrow:hover:before {color: black;}#sk-container-id-1 div.sk-estimator:hover label.sk-toggleable__label-arrow:before {color: black;}#sk-container-id-1 div.sk-toggleable__content {max-height: 0;max-width: 0;overflow: hidden;text-align: left;background-color: #f0f8ff;}#sk-container-id-1 div.sk-toggleable__content pre {margin: 0.2em;color: black;border-radius: 0.25em;background-color: #f0f8ff;}#sk-container-id-1 input.sk-toggleable__control:checked~div.sk-toggleable__content {max-height: 200px;max-width: 100%;overflow: auto;}#sk-container-id-1 input.sk-toggleable__control:checked~label.sk-toggleable__label-arrow:before {content: \"▾\";}#sk-container-id-1 div.sk-estimator input.sk-toggleable__control:checked~label.sk-toggleable__label {background-color: #d4ebff;}#sk-container-id-1 div.sk-label input.sk-toggleable__control:checked~label.sk-toggleable__label {background-color: #d4ebff;}#sk-container-id-1 input.sk-hidden--visually {border: 0;clip: rect(1px 1px 1px 1px);clip: rect(1px, 1px, 1px, 1px);height: 1px;margin: -1px;overflow: hidden;padding: 0;position: absolute;width: 1px;}#sk-container-id-1 div.sk-estimator {font-family: monospace;background-color: #f0f8ff;border: 1px dotted black;border-radius: 0.25em;box-sizing: border-box;margin-bottom: 0.5em;}#sk-container-id-1 div.sk-estimator:hover {background-color: #d4ebff;}#sk-container-id-1 div.sk-parallel-item::after {content: \"\";width: 100%;border-bottom: 1px solid gray;flex-grow: 1;}#sk-container-id-1 div.sk-label:hover label.sk-toggleable__label {background-color: #d4ebff;}#sk-container-id-1 div.sk-serial::before {content: \"\";position: absolute;border-left: 1px solid gray;box-sizing: border-box;top: 0;bottom: 0;left: 50%;z-index: 0;}#sk-container-id-1 div.sk-serial {display: flex;flex-direction: column;align-items: center;background-color: white;padding-right: 0.2em;padding-left: 0.2em;position: relative;}#sk-container-id-1 div.sk-item {position: relative;z-index: 1;}#sk-container-id-1 div.sk-parallel {display: flex;align-items: stretch;justify-content: center;background-color: white;position: relative;}#sk-container-id-1 div.sk-item::before, #sk-container-id-1 div.sk-parallel-item::before {content: \"\";position: absolute;border-left: 1px solid gray;box-sizing: border-box;top: 0;bottom: 0;left: 50%;z-index: -1;}#sk-container-id-1 div.sk-parallel-item {display: flex;flex-direction: column;z-index: 1;position: relative;background-color: white;}#sk-container-id-1 div.sk-parallel-item:first-child::after {align-self: flex-end;width: 50%;}#sk-container-id-1 div.sk-parallel-item:last-child::after {align-self: flex-start;width: 50%;}#sk-container-id-1 div.sk-parallel-item:only-child::after {width: 0;}#sk-container-id-1 div.sk-dashed-wrapped {border: 1px dashed gray;margin: 0 0.4em 0.5em 0.4em;box-sizing: border-box;padding-bottom: 0.4em;background-color: white;}#sk-container-id-1 div.sk-label label {font-family: monospace;font-weight: bold;display: inline-block;line-height: 1.2em;}#sk-container-id-1 div.sk-label-container {text-align: center;}#sk-container-id-1 div.sk-container {/* jupyter's `normalize.less` sets `[hidden] { display: none; }` but bootstrap.min.css set `[hidden] { display: none !important; }` so we also need the `!important` here to be able to override the default hidden behavior on the sphinx rendered scikit-learn.org. See: https://github.com/scikit-learn/scikit-learn/issues/21755 */display: inline-block !important;position: relative;}#sk-container-id-1 div.sk-text-repr-fallback {display: none;}</style><div id=\"sk-container-id-1\" class=\"sk-top-container\"><div class=\"sk-text-repr-fallback\"><pre>Pipeline(steps=[(&#x27;impute&#x27;, SimpleImputer(strategy=&#x27;most_frequent&#x27;)),\n",
       "                (&#x27;scaler&#x27;, StandardScaler())])</pre><b>In a Jupyter environment, please rerun this cell to show the HTML representation or trust the notebook. <br />On GitHub, the HTML representation is unable to render, please try loading this page with nbviewer.org.</b></div><div class=\"sk-container\" hidden><div class=\"sk-item sk-dashed-wrapped\"><div class=\"sk-label-container\"><div class=\"sk-label sk-toggleable\"><input class=\"sk-toggleable__control sk-hidden--visually\" id=\"sk-estimator-id-1\" type=\"checkbox\" ><label for=\"sk-estimator-id-1\" class=\"sk-toggleable__label sk-toggleable__label-arrow\">Pipeline</label><div class=\"sk-toggleable__content\"><pre>Pipeline(steps=[(&#x27;impute&#x27;, SimpleImputer(strategy=&#x27;most_frequent&#x27;)),\n",
       "                (&#x27;scaler&#x27;, StandardScaler())])</pre></div></div></div><div class=\"sk-serial\"><div class=\"sk-item\"><div class=\"sk-estimator sk-toggleable\"><input class=\"sk-toggleable__control sk-hidden--visually\" id=\"sk-estimator-id-2\" type=\"checkbox\" ><label for=\"sk-estimator-id-2\" class=\"sk-toggleable__label sk-toggleable__label-arrow\">SimpleImputer</label><div class=\"sk-toggleable__content\"><pre>SimpleImputer(strategy=&#x27;most_frequent&#x27;)</pre></div></div></div><div class=\"sk-item\"><div class=\"sk-estimator sk-toggleable\"><input class=\"sk-toggleable__control sk-hidden--visually\" id=\"sk-estimator-id-3\" type=\"checkbox\" ><label for=\"sk-estimator-id-3\" class=\"sk-toggleable__label sk-toggleable__label-arrow\">StandardScaler</label><div class=\"sk-toggleable__content\"><pre>StandardScaler()</pre></div></div></div></div></div></div></div>"
      ],
      "text/plain": [
       "Pipeline(steps=[('impute', SimpleImputer(strategy='most_frequent')),\n",
       "                ('scaler', StandardScaler())])"
      ]
     },
     "execution_count": 17,
     "metadata": {},
     "output_type": "execute_result"
    }
   ],
   "source": [
    "num_pipe"
   ]
  },
  {
   "cell_type": "code",
   "execution_count": 18,
   "metadata": {},
   "outputs": [
    {
     "data": {
      "text/plain": [
       "array([[-0.79436522, -0.32979132, -0.79803078, ...,  0.07480286,\n",
       "         0.02927054,  0.20327772],\n",
       "       [-0.79622687, -0.37456109, -0.79803078, ..., -0.05964958,\n",
       "        -0.10511397, -1.18269475],\n",
       "       [-0.70330875, -0.37456109, -0.79803078, ..., -0.07885707,\n",
       "        -0.10511397, -1.18269475],\n",
       "       ...,\n",
       "       [-0.85552582, -0.37126451,  1.2530845 , ..., -0.07885707,\n",
       "        -0.096155  , -0.35111127],\n",
       "       [-0.80706823, -0.36839329, -0.79803078, ..., -0.05004584,\n",
       "        -0.0692781 ,  0.14783882],\n",
       "       [-0.75970572, -0.37456109, -0.79803078, ..., -0.07885707,\n",
       "        -0.096155  , -0.35111127]])"
      ]
     },
     "execution_count": 18,
     "metadata": {},
     "output_type": "execute_result"
    }
   ],
   "source": [
    "X_pre = num_pipe.fit_transform(X)\n",
    "X_pre"
   ]
  },
  {
   "cell_type": "code",
   "execution_count": 19,
   "metadata": {},
   "outputs": [
    {
     "data": {
      "text/plain": [
       "array(['Sender_Port', 'Target_Port', 'Transport_Protocol', 'Duration',\n",
       "       'AvgDuration', 'PBS', 'AvgPBS', 'TBS', 'PBR', 'AvgPBR', 'TBR',\n",
       "       'Missed_Bytes', 'Packets_Sent', 'Packets_Received', 'SRPR'],\n",
       "      dtype=object)"
      ]
     },
     "execution_count": 19,
     "metadata": {},
     "output_type": "execute_result"
    }
   ],
   "source": [
    "cols = num_pipe.get_feature_names_out()\n",
    "cols"
   ]
  },
  {
   "cell_type": "code",
   "execution_count": 20,
   "metadata": {},
   "outputs": [
    {
     "data": {
      "text/html": [
       "<div>\n",
       "<style scoped>\n",
       "    .dataframe tbody tr th:only-of-type {\n",
       "        vertical-align: middle;\n",
       "    }\n",
       "\n",
       "    .dataframe tbody tr th {\n",
       "        vertical-align: top;\n",
       "    }\n",
       "\n",
       "    .dataframe thead th {\n",
       "        text-align: right;\n",
       "    }\n",
       "</style>\n",
       "<table border=\"1\" class=\"dataframe\">\n",
       "  <thead>\n",
       "    <tr style=\"text-align: right;\">\n",
       "      <th></th>\n",
       "      <th>Sender_Port</th>\n",
       "      <th>Target_Port</th>\n",
       "      <th>Transport_Protocol</th>\n",
       "      <th>Duration</th>\n",
       "      <th>AvgDuration</th>\n",
       "      <th>PBS</th>\n",
       "      <th>AvgPBS</th>\n",
       "      <th>TBS</th>\n",
       "      <th>PBR</th>\n",
       "      <th>AvgPBR</th>\n",
       "      <th>TBR</th>\n",
       "      <th>Missed_Bytes</th>\n",
       "      <th>Packets_Sent</th>\n",
       "      <th>Packets_Received</th>\n",
       "      <th>SRPR</th>\n",
       "    </tr>\n",
       "  </thead>\n",
       "  <tbody>\n",
       "    <tr>\n",
       "      <th>0</th>\n",
       "      <td>-0.794365</td>\n",
       "      <td>-0.329791</td>\n",
       "      <td>-0.798031</td>\n",
       "      <td>-0.028472</td>\n",
       "      <td>-0.017330</td>\n",
       "      <td>0.22938</td>\n",
       "      <td>0.006815</td>\n",
       "      <td>0.163849</td>\n",
       "      <td>-0.006183</td>\n",
       "      <td>0.108409</td>\n",
       "      <td>-0.003710</td>\n",
       "      <td>-0.026931</td>\n",
       "      <td>0.074803</td>\n",
       "      <td>0.029271</td>\n",
       "      <td>0.203278</td>\n",
       "    </tr>\n",
       "    <tr>\n",
       "      <th>1</th>\n",
       "      <td>-0.796227</td>\n",
       "      <td>-0.374561</td>\n",
       "      <td>-0.798031</td>\n",
       "      <td>-0.032668</td>\n",
       "      <td>-0.022471</td>\n",
       "      <td>-0.08520</td>\n",
       "      <td>-0.039158</td>\n",
       "      <td>-0.081971</td>\n",
       "      <td>-0.070396</td>\n",
       "      <td>-0.100785</td>\n",
       "      <td>-0.069985</td>\n",
       "      <td>-0.026931</td>\n",
       "      <td>-0.059650</td>\n",
       "      <td>-0.105114</td>\n",
       "      <td>-1.182695</td>\n",
       "    </tr>\n",
       "    <tr>\n",
       "      <th>2</th>\n",
       "      <td>-0.703309</td>\n",
       "      <td>-0.374561</td>\n",
       "      <td>-0.798031</td>\n",
       "      <td>-0.042503</td>\n",
       "      <td>-0.022471</td>\n",
       "      <td>-0.08520</td>\n",
       "      <td>-0.039158</td>\n",
       "      <td>-0.095836</td>\n",
       "      <td>-0.070396</td>\n",
       "      <td>-0.100785</td>\n",
       "      <td>-0.069985</td>\n",
       "      <td>-0.026931</td>\n",
       "      <td>-0.078857</td>\n",
       "      <td>-0.105114</td>\n",
       "      <td>-1.182695</td>\n",
       "    </tr>\n",
       "    <tr>\n",
       "      <th>3</th>\n",
       "      <td>-0.746948</td>\n",
       "      <td>-0.374242</td>\n",
       "      <td>-0.798031</td>\n",
       "      <td>-0.032799</td>\n",
       "      <td>-0.021880</td>\n",
       "      <td>-0.08520</td>\n",
       "      <td>-0.039158</td>\n",
       "      <td>-0.095836</td>\n",
       "      <td>-0.070396</td>\n",
       "      <td>-0.100785</td>\n",
       "      <td>-0.069985</td>\n",
       "      <td>-0.026931</td>\n",
       "      <td>-0.078857</td>\n",
       "      <td>-0.105114</td>\n",
       "      <td>-1.182695</td>\n",
       "    </tr>\n",
       "    <tr>\n",
       "      <th>4</th>\n",
       "      <td>-0.271187</td>\n",
       "      <td>-0.329791</td>\n",
       "      <td>-0.798031</td>\n",
       "      <td>-0.042011</td>\n",
       "      <td>-0.023989</td>\n",
       "      <td>-0.08520</td>\n",
       "      <td>-0.039158</td>\n",
       "      <td>-0.095836</td>\n",
       "      <td>-0.070396</td>\n",
       "      <td>-0.100785</td>\n",
       "      <td>-0.069773</td>\n",
       "      <td>-0.026931</td>\n",
       "      <td>-0.078857</td>\n",
       "      <td>-0.096155</td>\n",
       "      <td>-0.351111</td>\n",
       "    </tr>\n",
       "  </tbody>\n",
       "</table>\n",
       "</div>"
      ],
      "text/plain": [
       "   Sender_Port  Target_Port  Transport_Protocol  Duration  AvgDuration  \\\n",
       "0    -0.794365    -0.329791           -0.798031 -0.028472    -0.017330   \n",
       "1    -0.796227    -0.374561           -0.798031 -0.032668    -0.022471   \n",
       "2    -0.703309    -0.374561           -0.798031 -0.042503    -0.022471   \n",
       "3    -0.746948    -0.374242           -0.798031 -0.032799    -0.021880   \n",
       "4    -0.271187    -0.329791           -0.798031 -0.042011    -0.023989   \n",
       "\n",
       "       PBS    AvgPBS       TBS       PBR    AvgPBR       TBR  Missed_Bytes  \\\n",
       "0  0.22938  0.006815  0.163849 -0.006183  0.108409 -0.003710     -0.026931   \n",
       "1 -0.08520 -0.039158 -0.081971 -0.070396 -0.100785 -0.069985     -0.026931   \n",
       "2 -0.08520 -0.039158 -0.095836 -0.070396 -0.100785 -0.069985     -0.026931   \n",
       "3 -0.08520 -0.039158 -0.095836 -0.070396 -0.100785 -0.069985     -0.026931   \n",
       "4 -0.08520 -0.039158 -0.095836 -0.070396 -0.100785 -0.069773     -0.026931   \n",
       "\n",
       "   Packets_Sent  Packets_Received      SRPR  \n",
       "0      0.074803          0.029271  0.203278  \n",
       "1     -0.059650         -0.105114 -1.182695  \n",
       "2     -0.078857         -0.105114 -1.182695  \n",
       "3     -0.078857         -0.105114 -1.182695  \n",
       "4     -0.078857         -0.096155 -0.351111  "
      ]
     },
     "execution_count": 20,
     "metadata": {},
     "output_type": "execute_result"
    }
   ],
   "source": [
    "X_pre = pd.DataFrame(X_pre, columns=cols)\n",
    "X_pre.head()"
   ]
  },
  {
   "cell_type": "code",
   "execution_count": 21,
   "metadata": {},
   "outputs": [],
   "source": [
    "# Apply Test Train split"
   ]
  },
  {
   "cell_type": "code",
   "execution_count": 22,
   "metadata": {},
   "outputs": [],
   "source": [
    "from sklearn.model_selection import train_test_split\n",
    "xtrain, xtest, ytrain, ytest = train_test_split(X_pre, Y, test_size=0.1, random_state=42)"
   ]
  },
  {
   "cell_type": "code",
   "execution_count": 23,
   "metadata": {},
   "outputs": [
    {
     "data": {
      "text/html": [
       "<div>\n",
       "<style scoped>\n",
       "    .dataframe tbody tr th:only-of-type {\n",
       "        vertical-align: middle;\n",
       "    }\n",
       "\n",
       "    .dataframe tbody tr th {\n",
       "        vertical-align: top;\n",
       "    }\n",
       "\n",
       "    .dataframe thead th {\n",
       "        text-align: right;\n",
       "    }\n",
       "</style>\n",
       "<table border=\"1\" class=\"dataframe\">\n",
       "  <thead>\n",
       "    <tr style=\"text-align: right;\">\n",
       "      <th></th>\n",
       "      <th>Sender_Port</th>\n",
       "      <th>Target_Port</th>\n",
       "      <th>Transport_Protocol</th>\n",
       "      <th>Duration</th>\n",
       "      <th>AvgDuration</th>\n",
       "      <th>PBS</th>\n",
       "      <th>AvgPBS</th>\n",
       "      <th>TBS</th>\n",
       "      <th>PBR</th>\n",
       "      <th>AvgPBR</th>\n",
       "      <th>TBR</th>\n",
       "      <th>Missed_Bytes</th>\n",
       "      <th>Packets_Sent</th>\n",
       "      <th>Packets_Received</th>\n",
       "      <th>SRPR</th>\n",
       "    </tr>\n",
       "  </thead>\n",
       "  <tbody>\n",
       "    <tr>\n",
       "      <th>1128</th>\n",
       "      <td>1.696574</td>\n",
       "      <td>-0.368393</td>\n",
       "      <td>-0.798031</td>\n",
       "      <td>-0.041552</td>\n",
       "      <td>-0.023790</td>\n",
       "      <td>-0.043399</td>\n",
       "      <td>-0.031112</td>\n",
       "      <td>-0.048463</td>\n",
       "      <td>-0.063878</td>\n",
       "      <td>-0.091186</td>\n",
       "      <td>-0.062157</td>\n",
       "      <td>0.052292</td>\n",
       "      <td>-0.050046</td>\n",
       "      <td>-0.060319</td>\n",
       "      <td>0.480472</td>\n",
       "    </tr>\n",
       "    <tr>\n",
       "      <th>3732</th>\n",
       "      <td>1.887557</td>\n",
       "      <td>-0.371265</td>\n",
       "      <td>1.253084</td>\n",
       "      <td>-0.042503</td>\n",
       "      <td>-0.024156</td>\n",
       "      <td>-0.077430</td>\n",
       "      <td>-0.037074</td>\n",
       "      <td>-0.101469</td>\n",
       "      <td>-0.069849</td>\n",
       "      <td>-0.099710</td>\n",
       "      <td>-0.069985</td>\n",
       "      <td>-0.026931</td>\n",
       "      <td>-0.088461</td>\n",
       "      <td>-0.105114</td>\n",
       "      <td>-1.182695</td>\n",
       "    </tr>\n",
       "    <tr>\n",
       "      <th>1370</th>\n",
       "      <td>1.121106</td>\n",
       "      <td>-0.371265</td>\n",
       "      <td>1.253084</td>\n",
       "      <td>-0.042503</td>\n",
       "      <td>-0.024156</td>\n",
       "      <td>-0.077430</td>\n",
       "      <td>-0.037074</td>\n",
       "      <td>-0.101469</td>\n",
       "      <td>-0.069849</td>\n",
       "      <td>-0.099710</td>\n",
       "      <td>-0.069985</td>\n",
       "      <td>-0.026931</td>\n",
       "      <td>-0.088461</td>\n",
       "      <td>-0.105114</td>\n",
       "      <td>-1.182695</td>\n",
       "    </tr>\n",
       "    <tr>\n",
       "      <th>1297</th>\n",
       "      <td>1.133371</td>\n",
       "      <td>-0.368393</td>\n",
       "      <td>-0.798031</td>\n",
       "      <td>-0.041782</td>\n",
       "      <td>-0.023802</td>\n",
       "      <td>-0.043399</td>\n",
       "      <td>-0.031125</td>\n",
       "      <td>-0.048463</td>\n",
       "      <td>-0.063429</td>\n",
       "      <td>-0.091186</td>\n",
       "      <td>-0.061716</td>\n",
       "      <td>0.057127</td>\n",
       "      <td>-0.050046</td>\n",
       "      <td>-0.060319</td>\n",
       "      <td>0.480472</td>\n",
       "    </tr>\n",
       "    <tr>\n",
       "      <th>4650</th>\n",
       "      <td>-0.808985</td>\n",
       "      <td>-0.368393</td>\n",
       "      <td>-0.798031</td>\n",
       "      <td>-0.033881</td>\n",
       "      <td>-0.021191</td>\n",
       "      <td>-0.085200</td>\n",
       "      <td>-0.039158</td>\n",
       "      <td>-0.061173</td>\n",
       "      <td>-0.070396</td>\n",
       "      <td>-0.100785</td>\n",
       "      <td>-0.069305</td>\n",
       "      <td>-0.026931</td>\n",
       "      <td>-0.021235</td>\n",
       "      <td>-0.078237</td>\n",
       "      <td>-0.559007</td>\n",
       "    </tr>\n",
       "  </tbody>\n",
       "</table>\n",
       "</div>"
      ],
      "text/plain": [
       "      Sender_Port  Target_Port  Transport_Protocol  Duration  AvgDuration  \\\n",
       "1128     1.696574    -0.368393           -0.798031 -0.041552    -0.023790   \n",
       "3732     1.887557    -0.371265            1.253084 -0.042503    -0.024156   \n",
       "1370     1.121106    -0.371265            1.253084 -0.042503    -0.024156   \n",
       "1297     1.133371    -0.368393           -0.798031 -0.041782    -0.023802   \n",
       "4650    -0.808985    -0.368393           -0.798031 -0.033881    -0.021191   \n",
       "\n",
       "           PBS    AvgPBS       TBS       PBR    AvgPBR       TBR  \\\n",
       "1128 -0.043399 -0.031112 -0.048463 -0.063878 -0.091186 -0.062157   \n",
       "3732 -0.077430 -0.037074 -0.101469 -0.069849 -0.099710 -0.069985   \n",
       "1370 -0.077430 -0.037074 -0.101469 -0.069849 -0.099710 -0.069985   \n",
       "1297 -0.043399 -0.031125 -0.048463 -0.063429 -0.091186 -0.061716   \n",
       "4650 -0.085200 -0.039158 -0.061173 -0.070396 -0.100785 -0.069305   \n",
       "\n",
       "      Missed_Bytes  Packets_Sent  Packets_Received      SRPR  \n",
       "1128      0.052292     -0.050046         -0.060319  0.480472  \n",
       "3732     -0.026931     -0.088461         -0.105114 -1.182695  \n",
       "1370     -0.026931     -0.088461         -0.105114 -1.182695  \n",
       "1297      0.057127     -0.050046         -0.060319  0.480472  \n",
       "4650     -0.026931     -0.021235         -0.078237 -0.559007  "
      ]
     },
     "execution_count": 23,
     "metadata": {},
     "output_type": "execute_result"
    }
   ],
   "source": [
    "xtrain.head()"
   ]
  },
  {
   "cell_type": "code",
   "execution_count": 24,
   "metadata": {},
   "outputs": [
    {
     "data": {
      "text/html": [
       "<div>\n",
       "<style scoped>\n",
       "    .dataframe tbody tr th:only-of-type {\n",
       "        vertical-align: middle;\n",
       "    }\n",
       "\n",
       "    .dataframe tbody tr th {\n",
       "        vertical-align: top;\n",
       "    }\n",
       "\n",
       "    .dataframe thead th {\n",
       "        text-align: right;\n",
       "    }\n",
       "</style>\n",
       "<table border=\"1\" class=\"dataframe\">\n",
       "  <thead>\n",
       "    <tr style=\"text-align: right;\">\n",
       "      <th></th>\n",
       "      <th>class</th>\n",
       "    </tr>\n",
       "  </thead>\n",
       "  <tbody>\n",
       "    <tr>\n",
       "      <th>1128</th>\n",
       "      <td>1</td>\n",
       "    </tr>\n",
       "    <tr>\n",
       "      <th>3732</th>\n",
       "      <td>1</td>\n",
       "    </tr>\n",
       "    <tr>\n",
       "      <th>1370</th>\n",
       "      <td>1</td>\n",
       "    </tr>\n",
       "    <tr>\n",
       "      <th>1297</th>\n",
       "      <td>1</td>\n",
       "    </tr>\n",
       "    <tr>\n",
       "      <th>4650</th>\n",
       "      <td>1</td>\n",
       "    </tr>\n",
       "  </tbody>\n",
       "</table>\n",
       "</div>"
      ],
      "text/plain": [
       "      class\n",
       "1128      1\n",
       "3732      1\n",
       "1370      1\n",
       "1297      1\n",
       "4650      1"
      ]
     },
     "execution_count": 24,
     "metadata": {},
     "output_type": "execute_result"
    }
   ],
   "source": [
    "ytrain.head()"
   ]
  },
  {
   "cell_type": "code",
   "execution_count": 25,
   "metadata": {},
   "outputs": [
    {
     "data": {
      "text/html": [
       "<div>\n",
       "<style scoped>\n",
       "    .dataframe tbody tr th:only-of-type {\n",
       "        vertical-align: middle;\n",
       "    }\n",
       "\n",
       "    .dataframe tbody tr th {\n",
       "        vertical-align: top;\n",
       "    }\n",
       "\n",
       "    .dataframe thead th {\n",
       "        text-align: right;\n",
       "    }\n",
       "</style>\n",
       "<table border=\"1\" class=\"dataframe\">\n",
       "  <thead>\n",
       "    <tr style=\"text-align: right;\">\n",
       "      <th></th>\n",
       "      <th>class</th>\n",
       "    </tr>\n",
       "  </thead>\n",
       "  <tbody>\n",
       "    <tr>\n",
       "      <th>5441</th>\n",
       "      <td>1</td>\n",
       "    </tr>\n",
       "    <tr>\n",
       "      <th>4359</th>\n",
       "      <td>1</td>\n",
       "    </tr>\n",
       "    <tr>\n",
       "      <th>1084</th>\n",
       "      <td>1</td>\n",
       "    </tr>\n",
       "    <tr>\n",
       "      <th>896</th>\n",
       "      <td>0</td>\n",
       "    </tr>\n",
       "    <tr>\n",
       "      <th>3964</th>\n",
       "      <td>0</td>\n",
       "    </tr>\n",
       "  </tbody>\n",
       "</table>\n",
       "</div>"
      ],
      "text/plain": [
       "      class\n",
       "5441      1\n",
       "4359      1\n",
       "1084      1\n",
       "896       0\n",
       "3964      0"
      ]
     },
     "execution_count": 25,
     "metadata": {},
     "output_type": "execute_result"
    }
   ],
   "source": [
    "ytest.head()"
   ]
  },
  {
   "cell_type": "code",
   "execution_count": 26,
   "metadata": {},
   "outputs": [
    {
     "data": {
      "text/html": [
       "<div>\n",
       "<style scoped>\n",
       "    .dataframe tbody tr th:only-of-type {\n",
       "        vertical-align: middle;\n",
       "    }\n",
       "\n",
       "    .dataframe tbody tr th {\n",
       "        vertical-align: top;\n",
       "    }\n",
       "\n",
       "    .dataframe thead th {\n",
       "        text-align: right;\n",
       "    }\n",
       "</style>\n",
       "<table border=\"1\" class=\"dataframe\">\n",
       "  <thead>\n",
       "    <tr style=\"text-align: right;\">\n",
       "      <th></th>\n",
       "      <th>Sender_Port</th>\n",
       "      <th>Target_Port</th>\n",
       "      <th>Transport_Protocol</th>\n",
       "      <th>Duration</th>\n",
       "      <th>AvgDuration</th>\n",
       "      <th>PBS</th>\n",
       "      <th>AvgPBS</th>\n",
       "      <th>TBS</th>\n",
       "      <th>PBR</th>\n",
       "      <th>AvgPBR</th>\n",
       "      <th>TBR</th>\n",
       "      <th>Missed_Bytes</th>\n",
       "      <th>Packets_Sent</th>\n",
       "      <th>Packets_Received</th>\n",
       "      <th>SRPR</th>\n",
       "    </tr>\n",
       "  </thead>\n",
       "  <tbody>\n",
       "    <tr>\n",
       "      <th>5441</th>\n",
       "      <td>-0.795789</td>\n",
       "      <td>-0.362119</td>\n",
       "      <td>-0.798031</td>\n",
       "      <td>-0.042470</td>\n",
       "      <td>-0.024069</td>\n",
       "      <td>0.177664</td>\n",
       "      <td>0.013477</td>\n",
       "      <td>0.096689</td>\n",
       "      <td>-0.066547</td>\n",
       "      <td>-0.095367</td>\n",
       "      <td>-0.064034</td>\n",
       "      <td>-0.026931</td>\n",
       "      <td>0.007577</td>\n",
       "      <td>-0.015524</td>\n",
       "      <td>0.329275</td>\n",
       "    </tr>\n",
       "    <tr>\n",
       "      <th>4359</th>\n",
       "      <td>-0.792668</td>\n",
       "      <td>-0.368393</td>\n",
       "      <td>-0.798031</td>\n",
       "      <td>0.027686</td>\n",
       "      <td>-0.016007</td>\n",
       "      <td>0.515556</td>\n",
       "      <td>-0.005233</td>\n",
       "      <td>0.375439</td>\n",
       "      <td>-0.011358</td>\n",
       "      <td>0.137524</td>\n",
       "      <td>-0.007518</td>\n",
       "      <td>-0.026931</td>\n",
       "      <td>0.142029</td>\n",
       "      <td>0.083024</td>\n",
       "      <td>0.214366</td>\n",
       "    </tr>\n",
       "    <tr>\n",
       "      <th>1084</th>\n",
       "      <td>-0.628186</td>\n",
       "      <td>-0.329791</td>\n",
       "      <td>-0.798031</td>\n",
       "      <td>-0.042011</td>\n",
       "      <td>-0.023989</td>\n",
       "      <td>-0.085200</td>\n",
       "      <td>-0.039158</td>\n",
       "      <td>-0.095836</td>\n",
       "      <td>-0.070396</td>\n",
       "      <td>-0.100785</td>\n",
       "      <td>-0.069773</td>\n",
       "      <td>-0.026931</td>\n",
       "      <td>-0.078857</td>\n",
       "      <td>-0.096155</td>\n",
       "      <td>-0.351111</td>\n",
       "    </tr>\n",
       "    <tr>\n",
       "      <th>896</th>\n",
       "      <td>-0.275677</td>\n",
       "      <td>-0.371265</td>\n",
       "      <td>1.253084</td>\n",
       "      <td>-0.041651</td>\n",
       "      <td>-0.023871</td>\n",
       "      <td>-0.075554</td>\n",
       "      <td>-0.037263</td>\n",
       "      <td>-0.100458</td>\n",
       "      <td>-0.069470</td>\n",
       "      <td>-0.098928</td>\n",
       "      <td>-0.068927</td>\n",
       "      <td>-0.026931</td>\n",
       "      <td>-0.088461</td>\n",
       "      <td>-0.096155</td>\n",
       "      <td>0.480472</td>\n",
       "    </tr>\n",
       "    <tr>\n",
       "      <th>3964</th>\n",
       "      <td>0.853905</td>\n",
       "      <td>2.036839</td>\n",
       "      <td>1.253084</td>\n",
       "      <td>-0.006474</td>\n",
       "      <td>-0.003498</td>\n",
       "      <td>-0.071803</td>\n",
       "      <td>-0.036029</td>\n",
       "      <td>-0.094392</td>\n",
       "      <td>-0.070396</td>\n",
       "      <td>-0.100785</td>\n",
       "      <td>-0.069985</td>\n",
       "      <td>-0.026931</td>\n",
       "      <td>-0.078857</td>\n",
       "      <td>-0.105114</td>\n",
       "      <td>-1.182695</td>\n",
       "    </tr>\n",
       "  </tbody>\n",
       "</table>\n",
       "</div>"
      ],
      "text/plain": [
       "      Sender_Port  Target_Port  Transport_Protocol  Duration  AvgDuration  \\\n",
       "5441    -0.795789    -0.362119           -0.798031 -0.042470    -0.024069   \n",
       "4359    -0.792668    -0.368393           -0.798031  0.027686    -0.016007   \n",
       "1084    -0.628186    -0.329791           -0.798031 -0.042011    -0.023989   \n",
       "896     -0.275677    -0.371265            1.253084 -0.041651    -0.023871   \n",
       "3964     0.853905     2.036839            1.253084 -0.006474    -0.003498   \n",
       "\n",
       "           PBS    AvgPBS       TBS       PBR    AvgPBR       TBR  \\\n",
       "5441  0.177664  0.013477  0.096689 -0.066547 -0.095367 -0.064034   \n",
       "4359  0.515556 -0.005233  0.375439 -0.011358  0.137524 -0.007518   \n",
       "1084 -0.085200 -0.039158 -0.095836 -0.070396 -0.100785 -0.069773   \n",
       "896  -0.075554 -0.037263 -0.100458 -0.069470 -0.098928 -0.068927   \n",
       "3964 -0.071803 -0.036029 -0.094392 -0.070396 -0.100785 -0.069985   \n",
       "\n",
       "      Missed_Bytes  Packets_Sent  Packets_Received      SRPR  \n",
       "5441     -0.026931      0.007577         -0.015524  0.329275  \n",
       "4359     -0.026931      0.142029          0.083024  0.214366  \n",
       "1084     -0.026931     -0.078857         -0.096155 -0.351111  \n",
       "896      -0.026931     -0.088461         -0.096155  0.480472  \n",
       "3964     -0.026931     -0.078857         -0.105114 -1.182695  "
      ]
     },
     "execution_count": 26,
     "metadata": {},
     "output_type": "execute_result"
    }
   ],
   "source": [
    "xtest.head()"
   ]
  },
  {
   "cell_type": "code",
   "execution_count": 27,
   "metadata": {},
   "outputs": [
    {
     "data": {
      "text/plain": [
       "(4924, 15)"
      ]
     },
     "execution_count": 27,
     "metadata": {},
     "output_type": "execute_result"
    }
   ],
   "source": [
    "xtrain.shape"
   ]
  },
  {
   "cell_type": "code",
   "execution_count": 28,
   "metadata": {},
   "outputs": [
    {
     "data": {
      "text/plain": [
       "(548, 15)"
      ]
     },
     "execution_count": 28,
     "metadata": {},
     "output_type": "execute_result"
    }
   ],
   "source": [
    "xtest.shape"
   ]
  },
  {
   "cell_type": "code",
   "execution_count": 29,
   "metadata": {},
   "outputs": [
    {
     "name": "stdout",
     "output_type": "stream",
     "text": [
      "WARNING:tensorflow:From d:\\Cources\\Deep Learning\\repository\\venv\\lib\\site-packages\\keras\\src\\losses.py:2976: The name tf.losses.sparse_softmax_cross_entropy is deprecated. Please use tf.compat.v1.losses.sparse_softmax_cross_entropy instead.\n",
      "\n"
     ]
    }
   ],
   "source": [
    "from keras.models import Sequential\n",
    "from keras.layers import Dense, Dropout"
   ]
  },
  {
   "cell_type": "code",
   "execution_count": 30,
   "metadata": {},
   "outputs": [
    {
     "name": "stdout",
     "output_type": "stream",
     "text": [
      "WARNING:tensorflow:From d:\\Cources\\Deep Learning\\repository\\venv\\lib\\site-packages\\keras\\src\\backend.py:873: The name tf.get_default_graph is deprecated. Please use tf.compat.v1.get_default_graph instead.\n",
      "\n"
     ]
    }
   ],
   "source": [
    "model = Sequential()\n",
    "\n",
    "# Hidden Layer 1 with 17 input neurons\n",
    "model.add(Dense(64, activation='relu', input_dim=xtrain.shape[1]))\n",
    "model.add(Dropout(0.4))\n",
    "\n",
    "# Hidden Layer 2\n",
    "model.add(Dense(32, activation='relu'))\n",
    "model.add(Dropout(0.3))\n",
    "\n",
    "# Output Layer Binary Classification - Sigmoid\n",
    "model.add(Dense(1, activation='sigmoid'))"
   ]
  },
  {
   "cell_type": "code",
   "execution_count": 31,
   "metadata": {},
   "outputs": [
    {
     "name": "stdout",
     "output_type": "stream",
     "text": [
      "Model: \"sequential\"\n",
      "_________________________________________________________________\n",
      " Layer (type)                Output Shape              Param #   \n",
      "=================================================================\n",
      " dense (Dense)               (None, 64)                1024      \n",
      "                                                                 \n",
      " dropout (Dropout)           (None, 64)                0         \n",
      "                                                                 \n",
      " dense_1 (Dense)             (None, 32)                2080      \n",
      "                                                                 \n",
      " dropout_1 (Dropout)         (None, 32)                0         \n",
      "                                                                 \n",
      " dense_2 (Dense)             (None, 1)                 33        \n",
      "                                                                 \n",
      "=================================================================\n",
      "Total params: 3137 (12.25 KB)\n",
      "Trainable params: 3137 (12.25 KB)\n",
      "Non-trainable params: 0 (0.00 Byte)\n",
      "_________________________________________________________________\n"
     ]
    }
   ],
   "source": [
    "model.summary()"
   ]
  },
  {
   "cell_type": "code",
   "execution_count": 32,
   "metadata": {},
   "outputs": [],
   "source": [
    "# COmpile the model"
   ]
  },
  {
   "cell_type": "code",
   "execution_count": 33,
   "metadata": {},
   "outputs": [
    {
     "name": "stdout",
     "output_type": "stream",
     "text": [
      "WARNING:tensorflow:From d:\\Cources\\Deep Learning\\repository\\venv\\lib\\site-packages\\keras\\src\\optimizers\\__init__.py:309: The name tf.train.Optimizer is deprecated. Please use tf.compat.v1.train.Optimizer instead.\n",
      "\n"
     ]
    }
   ],
   "source": [
    "model.compile(optimizer='adam', loss='binary_crossentropy', metrics=['accuracy'])"
   ]
  },
  {
   "cell_type": "code",
   "execution_count": 34,
   "metadata": {},
   "outputs": [],
   "source": [
    "# Fit model"
   ]
  },
  {
   "cell_type": "code",
   "execution_count": 35,
   "metadata": {},
   "outputs": [
    {
     "name": "stdout",
     "output_type": "stream",
     "text": [
      "Epoch 1/100\n",
      "WARNING:tensorflow:From d:\\Cources\\Deep Learning\\repository\\venv\\lib\\site-packages\\keras\\src\\utils\\tf_utils.py:492: The name tf.ragged.RaggedTensorValue is deprecated. Please use tf.compat.v1.ragged.RaggedTensorValue instead.\n",
      "\n",
      "WARNING:tensorflow:From d:\\Cources\\Deep Learning\\repository\\venv\\lib\\site-packages\\keras\\src\\engine\\base_layer_utils.py:384: The name tf.executing_eagerly_outside_functions is deprecated. Please use tf.compat.v1.executing_eagerly_outside_functions instead.\n",
      "\n",
      "139/139 [==============================] - 3s 7ms/step - loss: 0.5720 - accuracy: 0.6888 - val_loss: 0.4520 - val_accuracy: 0.7992\n",
      "Epoch 2/100\n",
      "139/139 [==============================] - 1s 9ms/step - loss: 0.4714 - accuracy: 0.7644 - val_loss: 0.4267 - val_accuracy: 0.7992\n",
      "Epoch 3/100\n",
      "139/139 [==============================] - 2s 12ms/step - loss: 0.4483 - accuracy: 0.7732 - val_loss: 0.4207 - val_accuracy: 0.8032\n",
      "Epoch 4/100\n",
      "139/139 [==============================] - 1s 8ms/step - loss: 0.4320 - accuracy: 0.7777 - val_loss: 0.4208 - val_accuracy: 0.7708\n",
      "Epoch 5/100\n",
      "139/139 [==============================] - 1s 9ms/step - loss: 0.4180 - accuracy: 0.7894 - val_loss: 0.4176 - val_accuracy: 0.7748\n",
      "Epoch 6/100\n",
      "139/139 [==============================] - 1s 7ms/step - loss: 0.4195 - accuracy: 0.7894 - val_loss: 0.4177 - val_accuracy: 0.7728\n",
      "Epoch 7/100\n",
      "139/139 [==============================] - 1s 7ms/step - loss: 0.4214 - accuracy: 0.7827 - val_loss: 0.4171 - val_accuracy: 0.7647\n",
      "Epoch 8/100\n",
      "139/139 [==============================] - 1s 6ms/step - loss: 0.4082 - accuracy: 0.7883 - val_loss: 0.4164 - val_accuracy: 0.7667\n",
      "Epoch 9/100\n",
      "139/139 [==============================] - 1s 7ms/step - loss: 0.4092 - accuracy: 0.7906 - val_loss: 0.4166 - val_accuracy: 0.7606\n",
      "Epoch 10/100\n",
      "139/139 [==============================] - 1s 6ms/step - loss: 0.4043 - accuracy: 0.7894 - val_loss: 0.4158 - val_accuracy: 0.7606\n",
      "Epoch 11/100\n",
      "139/139 [==============================] - 1s 9ms/step - loss: 0.4085 - accuracy: 0.7912 - val_loss: 0.4145 - val_accuracy: 0.7566\n",
      "Epoch 12/100\n",
      "139/139 [==============================] - 1s 9ms/step - loss: 0.3957 - accuracy: 0.8014 - val_loss: 0.4144 - val_accuracy: 0.7546\n",
      "Epoch 13/100\n",
      "139/139 [==============================] - 1s 6ms/step - loss: 0.3969 - accuracy: 0.7949 - val_loss: 0.4122 - val_accuracy: 0.7566\n",
      "Epoch 14/100\n",
      "139/139 [==============================] - 1s 6ms/step - loss: 0.3959 - accuracy: 0.7982 - val_loss: 0.4124 - val_accuracy: 0.7505\n",
      "Epoch 15/100\n",
      "139/139 [==============================] - 1s 7ms/step - loss: 0.3948 - accuracy: 0.7935 - val_loss: 0.4122 - val_accuracy: 0.7525\n",
      "Epoch 16/100\n",
      "139/139 [==============================] - 1s 6ms/step - loss: 0.3896 - accuracy: 0.7973 - val_loss: 0.4127 - val_accuracy: 0.7566\n",
      "Epoch 17/100\n",
      "139/139 [==============================] - 1s 6ms/step - loss: 0.3920 - accuracy: 0.7976 - val_loss: 0.4133 - val_accuracy: 0.7606\n",
      "Epoch 18/100\n",
      "139/139 [==============================] - 1s 6ms/step - loss: 0.3907 - accuracy: 0.7960 - val_loss: 0.4118 - val_accuracy: 0.7606\n",
      "Epoch 19/100\n",
      "139/139 [==============================] - 1s 7ms/step - loss: 0.3889 - accuracy: 0.8043 - val_loss: 0.4097 - val_accuracy: 0.7627\n",
      "Epoch 20/100\n",
      "139/139 [==============================] - 1s 9ms/step - loss: 0.3872 - accuracy: 0.7937 - val_loss: 0.4104 - val_accuracy: 0.7566\n",
      "Epoch 21/100\n",
      "139/139 [==============================] - 1s 8ms/step - loss: 0.3950 - accuracy: 0.7985 - val_loss: 0.4064 - val_accuracy: 0.7525\n",
      "Epoch 22/100\n",
      "139/139 [==============================] - 1s 6ms/step - loss: 0.3825 - accuracy: 0.8003 - val_loss: 0.4086 - val_accuracy: 0.7485\n",
      "Epoch 23/100\n",
      "139/139 [==============================] - 1s 5ms/step - loss: 0.3820 - accuracy: 0.8057 - val_loss: 0.4062 - val_accuracy: 0.7586\n",
      "Epoch 24/100\n",
      "139/139 [==============================] - 1s 6ms/step - loss: 0.3848 - accuracy: 0.7978 - val_loss: 0.4045 - val_accuracy: 0.7586\n",
      "Epoch 25/100\n",
      "139/139 [==============================] - 1s 6ms/step - loss: 0.3821 - accuracy: 0.8050 - val_loss: 0.4030 - val_accuracy: 0.7606\n",
      "Epoch 26/100\n",
      "139/139 [==============================] - 1s 6ms/step - loss: 0.3754 - accuracy: 0.8019 - val_loss: 0.4023 - val_accuracy: 0.7566\n",
      "Epoch 27/100\n",
      "139/139 [==============================] - 1s 6ms/step - loss: 0.3775 - accuracy: 0.8041 - val_loss: 0.4032 - val_accuracy: 0.7606\n",
      "Epoch 28/100\n",
      "139/139 [==============================] - 1s 6ms/step - loss: 0.3757 - accuracy: 0.8050 - val_loss: 0.4009 - val_accuracy: 0.7606\n",
      "Epoch 29/100\n",
      "139/139 [==============================] - 1s 7ms/step - loss: 0.3741 - accuracy: 0.8059 - val_loss: 0.4001 - val_accuracy: 0.7566\n",
      "Epoch 30/100\n",
      "139/139 [==============================] - 1s 6ms/step - loss: 0.3713 - accuracy: 0.7978 - val_loss: 0.3980 - val_accuracy: 0.7606\n",
      "Epoch 31/100\n",
      "139/139 [==============================] - 1s 9ms/step - loss: 0.3736 - accuracy: 0.8007 - val_loss: 0.3993 - val_accuracy: 0.7586\n",
      "Epoch 32/100\n",
      "139/139 [==============================] - 2s 11ms/step - loss: 0.3699 - accuracy: 0.7985 - val_loss: 0.3990 - val_accuracy: 0.7566\n",
      "Epoch 33/100\n",
      "139/139 [==============================] - 1s 7ms/step - loss: 0.3648 - accuracy: 0.8034 - val_loss: 0.3957 - val_accuracy: 0.7525\n",
      "Epoch 34/100\n",
      "139/139 [==============================] - 1s 7ms/step - loss: 0.3657 - accuracy: 0.8075 - val_loss: 0.3962 - val_accuracy: 0.7627\n",
      "Epoch 35/100\n",
      "139/139 [==============================] - 1s 8ms/step - loss: 0.3625 - accuracy: 0.8116 - val_loss: 0.3924 - val_accuracy: 0.7627\n",
      "Epoch 36/100\n",
      "139/139 [==============================] - 1s 7ms/step - loss: 0.3631 - accuracy: 0.8061 - val_loss: 0.3918 - val_accuracy: 0.7688\n",
      "Epoch 37/100\n",
      "139/139 [==============================] - 1s 8ms/step - loss: 0.3623 - accuracy: 0.8025 - val_loss: 0.3910 - val_accuracy: 0.7647\n",
      "Epoch 38/100\n",
      "139/139 [==============================] - 1s 10ms/step - loss: 0.3627 - accuracy: 0.8100 - val_loss: 0.3906 - val_accuracy: 0.7647\n",
      "Epoch 39/100\n",
      "139/139 [==============================] - 1s 7ms/step - loss: 0.3601 - accuracy: 0.8111 - val_loss: 0.3882 - val_accuracy: 0.7667\n",
      "Epoch 40/100\n",
      "139/139 [==============================] - 1s 7ms/step - loss: 0.3528 - accuracy: 0.8120 - val_loss: 0.3880 - val_accuracy: 0.7870\n",
      "Epoch 41/100\n",
      "139/139 [==============================] - 1s 9ms/step - loss: 0.3545 - accuracy: 0.8138 - val_loss: 0.3902 - val_accuracy: 0.7688\n",
      "Epoch 42/100\n",
      "139/139 [==============================] - 1s 7ms/step - loss: 0.3565 - accuracy: 0.8122 - val_loss: 0.3850 - val_accuracy: 0.7809\n",
      "Epoch 43/100\n",
      "139/139 [==============================] - 1s 8ms/step - loss: 0.3510 - accuracy: 0.8097 - val_loss: 0.3876 - val_accuracy: 0.7870\n",
      "Epoch 44/100\n",
      "139/139 [==============================] - 1s 7ms/step - loss: 0.3558 - accuracy: 0.8122 - val_loss: 0.3856 - val_accuracy: 0.7728\n",
      "Epoch 45/100\n",
      "139/139 [==============================] - 1s 7ms/step - loss: 0.3537 - accuracy: 0.8113 - val_loss: 0.3861 - val_accuracy: 0.7606\n",
      "Epoch 46/100\n",
      "139/139 [==============================] - 1s 9ms/step - loss: 0.3514 - accuracy: 0.8113 - val_loss: 0.3842 - val_accuracy: 0.7789\n",
      "Epoch 47/100\n",
      "139/139 [==============================] - 1s 6ms/step - loss: 0.3483 - accuracy: 0.8163 - val_loss: 0.3839 - val_accuracy: 0.7748\n",
      "Epoch 48/100\n",
      "139/139 [==============================] - 1s 7ms/step - loss: 0.3511 - accuracy: 0.8213 - val_loss: 0.3854 - val_accuracy: 0.7647\n",
      "Epoch 49/100\n",
      "139/139 [==============================] - 1s 10ms/step - loss: 0.3464 - accuracy: 0.8147 - val_loss: 0.3825 - val_accuracy: 0.7728\n",
      "Epoch 50/100\n",
      "139/139 [==============================] - 1s 9ms/step - loss: 0.3524 - accuracy: 0.8116 - val_loss: 0.3817 - val_accuracy: 0.7708\n",
      "Epoch 51/100\n",
      "139/139 [==============================] - 1s 8ms/step - loss: 0.3433 - accuracy: 0.8100 - val_loss: 0.3837 - val_accuracy: 0.7688\n",
      "Epoch 52/100\n",
      "139/139 [==============================] - 1s 7ms/step - loss: 0.3408 - accuracy: 0.8120 - val_loss: 0.3807 - val_accuracy: 0.7809\n",
      "Epoch 53/100\n",
      "139/139 [==============================] - 1s 7ms/step - loss: 0.3419 - accuracy: 0.8174 - val_loss: 0.3804 - val_accuracy: 0.7728\n",
      "Epoch 54/100\n",
      "139/139 [==============================] - 1s 6ms/step - loss: 0.3446 - accuracy: 0.8131 - val_loss: 0.3897 - val_accuracy: 0.7606\n",
      "Epoch 55/100\n",
      "139/139 [==============================] - 1s 7ms/step - loss: 0.3440 - accuracy: 0.8167 - val_loss: 0.3837 - val_accuracy: 0.7789\n",
      "Epoch 56/100\n",
      "139/139 [==============================] - 1s 4ms/step - loss: 0.3393 - accuracy: 0.8134 - val_loss: 0.3837 - val_accuracy: 0.7728\n",
      "Epoch 57/100\n",
      "139/139 [==============================] - 1s 7ms/step - loss: 0.3417 - accuracy: 0.8145 - val_loss: 0.3808 - val_accuracy: 0.7708\n",
      "Epoch 58/100\n",
      "139/139 [==============================] - 1s 8ms/step - loss: 0.3385 - accuracy: 0.8116 - val_loss: 0.3786 - val_accuracy: 0.7647\n",
      "Epoch 59/100\n",
      "139/139 [==============================] - 1s 5ms/step - loss: 0.3362 - accuracy: 0.8170 - val_loss: 0.3781 - val_accuracy: 0.7647\n",
      "Epoch 60/100\n",
      "139/139 [==============================] - 1s 6ms/step - loss: 0.3380 - accuracy: 0.8140 - val_loss: 0.3750 - val_accuracy: 0.7809\n",
      "Epoch 61/100\n",
      "139/139 [==============================] - 1s 6ms/step - loss: 0.3346 - accuracy: 0.8152 - val_loss: 0.3794 - val_accuracy: 0.7688\n",
      "Epoch 62/100\n",
      "139/139 [==============================] - 1s 11ms/step - loss: 0.3413 - accuracy: 0.8136 - val_loss: 0.3833 - val_accuracy: 0.7647\n",
      "Epoch 63/100\n",
      "139/139 [==============================] - 1s 7ms/step - loss: 0.3429 - accuracy: 0.8147 - val_loss: 0.3800 - val_accuracy: 0.7769\n",
      "Epoch 64/100\n",
      "139/139 [==============================] - 1s 8ms/step - loss: 0.3395 - accuracy: 0.8188 - val_loss: 0.3787 - val_accuracy: 0.7728\n",
      "Epoch 65/100\n",
      "139/139 [==============================] - 1s 8ms/step - loss: 0.3366 - accuracy: 0.8111 - val_loss: 0.3765 - val_accuracy: 0.7830\n",
      "Epoch 66/100\n",
      "139/139 [==============================] - 1s 6ms/step - loss: 0.3329 - accuracy: 0.8167 - val_loss: 0.3749 - val_accuracy: 0.7748\n",
      "Epoch 67/100\n",
      "139/139 [==============================] - 1s 7ms/step - loss: 0.3324 - accuracy: 0.8120 - val_loss: 0.3749 - val_accuracy: 0.7728\n",
      "Epoch 68/100\n",
      "139/139 [==============================] - 1s 7ms/step - loss: 0.3320 - accuracy: 0.8158 - val_loss: 0.3750 - val_accuracy: 0.7830\n",
      "Epoch 69/100\n",
      "139/139 [==============================] - 1s 10ms/step - loss: 0.3354 - accuracy: 0.8165 - val_loss: 0.3769 - val_accuracy: 0.7748\n",
      "Epoch 70/100\n",
      "139/139 [==============================] - 1s 6ms/step - loss: 0.3287 - accuracy: 0.8222 - val_loss: 0.3748 - val_accuracy: 0.7748\n",
      "Epoch 71/100\n",
      "139/139 [==============================] - 2s 11ms/step - loss: 0.3364 - accuracy: 0.8170 - val_loss: 0.3701 - val_accuracy: 0.7789\n",
      "Epoch 72/100\n",
      "139/139 [==============================] - 1s 11ms/step - loss: 0.3295 - accuracy: 0.8219 - val_loss: 0.3749 - val_accuracy: 0.7708\n",
      "Epoch 73/100\n",
      "139/139 [==============================] - 1s 10ms/step - loss: 0.3304 - accuracy: 0.8134 - val_loss: 0.3704 - val_accuracy: 0.7748\n",
      "Epoch 74/100\n",
      "139/139 [==============================] - 1s 8ms/step - loss: 0.3332 - accuracy: 0.8176 - val_loss: 0.3712 - val_accuracy: 0.7688\n",
      "Epoch 75/100\n",
      "139/139 [==============================] - 1s 5ms/step - loss: 0.3261 - accuracy: 0.8161 - val_loss: 0.3751 - val_accuracy: 0.7728\n",
      "Epoch 76/100\n",
      "139/139 [==============================] - 1s 5ms/step - loss: 0.3366 - accuracy: 0.8167 - val_loss: 0.3675 - val_accuracy: 0.7809\n",
      "Epoch 77/100\n",
      "139/139 [==============================] - 1s 6ms/step - loss: 0.3298 - accuracy: 0.8213 - val_loss: 0.3709 - val_accuracy: 0.7789\n",
      "Epoch 78/100\n",
      "139/139 [==============================] - 1s 7ms/step - loss: 0.3265 - accuracy: 0.8163 - val_loss: 0.3684 - val_accuracy: 0.7769\n",
      "Epoch 79/100\n",
      "139/139 [==============================] - 1s 7ms/step - loss: 0.3275 - accuracy: 0.8219 - val_loss: 0.3697 - val_accuracy: 0.7850\n",
      "Epoch 80/100\n",
      "139/139 [==============================] - 1s 6ms/step - loss: 0.3250 - accuracy: 0.8206 - val_loss: 0.3694 - val_accuracy: 0.7789\n",
      "Epoch 81/100\n",
      "139/139 [==============================] - 1s 5ms/step - loss: 0.3328 - accuracy: 0.8197 - val_loss: 0.3654 - val_accuracy: 0.7769\n",
      "Epoch 82/100\n",
      "139/139 [==============================] - 1s 5ms/step - loss: 0.3259 - accuracy: 0.8179 - val_loss: 0.3704 - val_accuracy: 0.7809\n",
      "Epoch 83/100\n",
      "139/139 [==============================] - 1s 6ms/step - loss: 0.3239 - accuracy: 0.8242 - val_loss: 0.3694 - val_accuracy: 0.7769\n",
      "Epoch 84/100\n",
      "139/139 [==============================] - 1s 6ms/step - loss: 0.3279 - accuracy: 0.8154 - val_loss: 0.3629 - val_accuracy: 0.7870\n",
      "Epoch 85/100\n",
      "139/139 [==============================] - 1s 5ms/step - loss: 0.3291 - accuracy: 0.8201 - val_loss: 0.3712 - val_accuracy: 0.7688\n",
      "Epoch 86/100\n",
      "139/139 [==============================] - 1s 7ms/step - loss: 0.3320 - accuracy: 0.8183 - val_loss: 0.3639 - val_accuracy: 0.7870\n",
      "Epoch 87/100\n",
      "139/139 [==============================] - 1s 5ms/step - loss: 0.3248 - accuracy: 0.8154 - val_loss: 0.3745 - val_accuracy: 0.7789\n",
      "Epoch 88/100\n",
      "139/139 [==============================] - 1s 6ms/step - loss: 0.3258 - accuracy: 0.8147 - val_loss: 0.3655 - val_accuracy: 0.7870\n",
      "Epoch 89/100\n",
      "139/139 [==============================] - 1s 6ms/step - loss: 0.3244 - accuracy: 0.8167 - val_loss: 0.3693 - val_accuracy: 0.7789\n",
      "Epoch 90/100\n",
      "139/139 [==============================] - 1s 6ms/step - loss: 0.3283 - accuracy: 0.8233 - val_loss: 0.3654 - val_accuracy: 0.7728\n",
      "Epoch 91/100\n",
      "139/139 [==============================] - 1s 5ms/step - loss: 0.3269 - accuracy: 0.8152 - val_loss: 0.3656 - val_accuracy: 0.7688\n",
      "Epoch 92/100\n",
      "139/139 [==============================] - 1s 5ms/step - loss: 0.3271 - accuracy: 0.8176 - val_loss: 0.3630 - val_accuracy: 0.7769\n",
      "Epoch 93/100\n",
      "139/139 [==============================] - 1s 6ms/step - loss: 0.3219 - accuracy: 0.8217 - val_loss: 0.3633 - val_accuracy: 0.7647\n",
      "Epoch 94/100\n",
      "139/139 [==============================] - 1s 10ms/step - loss: 0.3214 - accuracy: 0.8249 - val_loss: 0.3628 - val_accuracy: 0.7789\n",
      "Epoch 95/100\n",
      "139/139 [==============================] - 1s 11ms/step - loss: 0.3235 - accuracy: 0.8276 - val_loss: 0.3611 - val_accuracy: 0.7748\n",
      "Epoch 96/100\n",
      "139/139 [==============================] - 1s 10ms/step - loss: 0.3241 - accuracy: 0.8242 - val_loss: 0.3618 - val_accuracy: 0.7870\n",
      "Epoch 97/100\n",
      "139/139 [==============================] - 1s 10ms/step - loss: 0.3247 - accuracy: 0.8287 - val_loss: 0.3659 - val_accuracy: 0.7830\n",
      "Epoch 98/100\n",
      "139/139 [==============================] - 4s 32ms/step - loss: 0.3231 - accuracy: 0.8235 - val_loss: 0.3634 - val_accuracy: 0.7850\n",
      "Epoch 99/100\n",
      "139/139 [==============================] - 2s 16ms/step - loss: 0.3198 - accuracy: 0.8192 - val_loss: 0.3625 - val_accuracy: 0.7890\n",
      "Epoch 100/100\n",
      "139/139 [==============================] - 2s 11ms/step - loss: 0.3227 - accuracy: 0.8208 - val_loss: 0.3623 - val_accuracy: 0.7931\n"
     ]
    }
   ],
   "source": [
    "hist = model.fit(xtrain, ytrain, validation_split=0.1, epochs=100)"
   ]
  },
  {
   "cell_type": "code",
   "execution_count": 36,
   "metadata": {},
   "outputs": [
    {
     "data": {
      "image/png": "[encoded data removed]",
      "text/plain": [
       "<Figure size 1600x800 with 1 Axes>"
      ]
     },
     "metadata": {},
     "output_type": "display_data"
    }
   ],
   "source": [
    "import matplotlib.pyplot as plt\n",
    "plt.figure(figsize=(16,8))\n",
    "plt.plot(hist.history['loss'], label='Training Loss')\n",
    "plt.plot(hist.history['val_loss'], label='Validation Loss')\n",
    "plt.xlabel('Epochs')\n",
    "plt.ylabel('Binary Cross Entropy Loss')\n",
    "plt.title('Learing Curve')\n",
    "plt.legend()\n",
    "plt.show()"
   ]
  },
  {
   "cell_type": "code",
   "execution_count": 37,
   "metadata": {},
   "outputs": [],
   "source": [
    "# Evalute model"
   ]
  },
  {
   "cell_type": "code",
   "execution_count": 38,
   "metadata": {},
   "outputs": [
    {
     "name": "stdout",
     "output_type": "stream",
     "text": [
      "154/154 [==============================] - 1s 7ms/step - loss: 0.3108 - accuracy: 0.8266\n"
     ]
    },
    {
     "data": {
      "text/plain": [
       "[0.3108066916465759, 0.8265637755393982]"
      ]
     },
     "execution_count": 38,
     "metadata": {},
     "output_type": "execute_result"
    }
   ],
   "source": [
    "model.evaluate(xtrain, ytrain)"
   ]
  },
  {
   "cell_type": "code",
   "execution_count": 39,
   "metadata": {},
   "outputs": [
    {
     "name": "stdout",
     "output_type": "stream",
     "text": [
      "18/18 [==============================] - 0s 12ms/step - loss: 0.3406 - accuracy: 0.8212\n"
     ]
    },
    {
     "data": {
      "text/plain": [
       "[0.34056374430656433, 0.8211678862571716]"
      ]
     },
     "execution_count": 39,
     "metadata": {},
     "output_type": "execute_result"
    }
   ],
   "source": [
    "model.evaluate(xtest, ytest)"
   ]
  },
  {
   "cell_type": "code",
   "execution_count": 40,
   "metadata": {},
   "outputs": [],
   "source": [
    "# Predect the probilities"
   ]
  },
  {
   "cell_type": "code",
   "execution_count": 41,
   "metadata": {},
   "outputs": [
    {
     "name": "stdout",
     "output_type": "stream",
     "text": [
      "154/154 [==============================] - 1s 6ms/step\n",
      "18/18 [==============================] - 0s 4ms/step\n"
     ]
    }
   ],
   "source": [
    "yprob_tr = model.predict(xtrain)\n",
    "yprob_ts = model.predict(xtest)"
   ]
  },
  {
   "cell_type": "code",
   "execution_count": 43,
   "metadata": {},
   "outputs": [
    {
     "data": {
      "text/plain": [
       "array([[0.9643505 ],\n",
       "       [0.99985486],\n",
       "       [0.9994338 ],\n",
       "       [0.93446416],\n",
       "       [0.99659175]], dtype=float32)"
      ]
     },
     "execution_count": 43,
     "metadata": {},
     "output_type": "execute_result"
    }
   ],
   "source": [
    "yprob_tr[0:5]"
   ]
  },
  {
   "cell_type": "code",
   "execution_count": 44,
   "metadata": {},
   "outputs": [
    {
     "data": {
      "text/plain": [
       "array([[5.6683016e-01],\n",
       "       [5.7631618e-01],\n",
       "       [9.7191411e-01],\n",
       "       [2.8182375e-01],\n",
       "       [8.9348308e-05]], dtype=float32)"
      ]
     },
     "execution_count": 44,
     "metadata": {},
     "output_type": "execute_result"
    }
   ],
   "source": [
    "yprob_ts[0:5]"
   ]
  },
  {
   "cell_type": "code",
   "execution_count": 45,
   "metadata": {},
   "outputs": [
    {
     "data": {
      "text/plain": [
       "[1, 1, 1, 1, 1]"
      ]
     },
     "execution_count": 45,
     "metadata": {},
     "output_type": "execute_result"
    }
   ],
   "source": [
    "ypred_tr=[1 if i>=0.5 else 0 for i in yprob_tr]\n",
    "ypred_tr[0:5]"
   ]
  },
  {
   "cell_type": "code",
   "execution_count": 46,
   "metadata": {},
   "outputs": [
    {
     "data": {
      "text/html": [
       "<div>\n",
       "<style scoped>\n",
       "    .dataframe tbody tr th:only-of-type {\n",
       "        vertical-align: middle;\n",
       "    }\n",
       "\n",
       "    .dataframe tbody tr th {\n",
       "        vertical-align: top;\n",
       "    }\n",
       "\n",
       "    .dataframe thead th {\n",
       "        text-align: right;\n",
       "    }\n",
       "</style>\n",
       "<table border=\"1\" class=\"dataframe\">\n",
       "  <thead>\n",
       "    <tr style=\"text-align: right;\">\n",
       "      <th></th>\n",
       "      <th>class</th>\n",
       "    </tr>\n",
       "  </thead>\n",
       "  <tbody>\n",
       "    <tr>\n",
       "      <th>1128</th>\n",
       "      <td>1</td>\n",
       "    </tr>\n",
       "    <tr>\n",
       "      <th>3732</th>\n",
       "      <td>1</td>\n",
       "    </tr>\n",
       "    <tr>\n",
       "      <th>1370</th>\n",
       "      <td>1</td>\n",
       "    </tr>\n",
       "    <tr>\n",
       "      <th>1297</th>\n",
       "      <td>1</td>\n",
       "    </tr>\n",
       "    <tr>\n",
       "      <th>4650</th>\n",
       "      <td>1</td>\n",
       "    </tr>\n",
       "  </tbody>\n",
       "</table>\n",
       "</div>"
      ],
      "text/plain": [
       "      class\n",
       "1128      1\n",
       "3732      1\n",
       "1370      1\n",
       "1297      1\n",
       "4650      1"
      ]
     },
     "execution_count": 46,
     "metadata": {},
     "output_type": "execute_result"
    }
   ],
   "source": [
    "ytrain.head()"
   ]
  },
  {
   "cell_type": "code",
   "execution_count": 49,
   "metadata": {},
   "outputs": [
    {
     "data": {
      "text/plain": [
       "[1, 1, 1, 0, 0]"
      ]
     },
     "execution_count": 49,
     "metadata": {},
     "output_type": "execute_result"
    }
   ],
   "source": [
    "ypred_ts = [1 if i>=0.5 else 0 for i in yprob_ts]\n",
    "ypred_ts[0:5]"
   ]
  },
  {
   "cell_type": "code",
   "execution_count": 48,
   "metadata": {},
   "outputs": [
    {
     "data": {
      "text/html": [
       "<div>\n",
       "<style scoped>\n",
       "    .dataframe tbody tr th:only-of-type {\n",
       "        vertical-align: middle;\n",
       "    }\n",
       "\n",
       "    .dataframe tbody tr th {\n",
       "        vertical-align: top;\n",
       "    }\n",
       "\n",
       "    .dataframe thead th {\n",
       "        text-align: right;\n",
       "    }\n",
       "</style>\n",
       "<table border=\"1\" class=\"dataframe\">\n",
       "  <thead>\n",
       "    <tr style=\"text-align: right;\">\n",
       "      <th></th>\n",
       "      <th>class</th>\n",
       "    </tr>\n",
       "  </thead>\n",
       "  <tbody>\n",
       "    <tr>\n",
       "      <th>5441</th>\n",
       "      <td>1</td>\n",
       "    </tr>\n",
       "    <tr>\n",
       "      <th>4359</th>\n",
       "      <td>1</td>\n",
       "    </tr>\n",
       "    <tr>\n",
       "      <th>1084</th>\n",
       "      <td>1</td>\n",
       "    </tr>\n",
       "    <tr>\n",
       "      <th>896</th>\n",
       "      <td>0</td>\n",
       "    </tr>\n",
       "    <tr>\n",
       "      <th>3964</th>\n",
       "      <td>0</td>\n",
       "    </tr>\n",
       "  </tbody>\n",
       "</table>\n",
       "</div>"
      ],
      "text/plain": [
       "      class\n",
       "5441      1\n",
       "4359      1\n",
       "1084      1\n",
       "896       0\n",
       "3964      0"
      ]
     },
     "execution_count": 48,
     "metadata": {},
     "output_type": "execute_result"
    }
   ],
   "source": [
    "ytest.head()"
   ]
  },
  {
   "cell_type": "code",
   "execution_count": 50,
   "metadata": {},
   "outputs": [],
   "source": [
    "# Create confuction matrix"
   ]
  },
  {
   "cell_type": "code",
   "execution_count": 51,
   "metadata": {},
   "outputs": [
    {
     "data": {
      "text/plain": [
       "<sklearn.metrics._plot.confusion_matrix.ConfusionMatrixDisplay at 0x2414f977ca0>"
      ]
     },
     "execution_count": 51,
     "metadata": {},
     "output_type": "execute_result"
    },
    {
     "data": {
      "image/png": "[encoded data removed]",
      "text/plain": [
       "<Figure size 640x480 with 2 Axes>"
      ]
     },
     "metadata": {},
     "output_type": "display_data"
    }
   ],
   "source": [
    "from sklearn.metrics import confusion_matrix, ConfusionMatrixDisplay\n",
    "cf=confusion_matrix(ytest, ypred_ts)\n",
    "cfd=ConfusionMatrixDisplay(cf)\n",
    "cfd.plot()"
   ]
  },
  {
   "cell_type": "code",
   "execution_count": 52,
   "metadata": {},
   "outputs": [],
   "source": [
    "# Check classafication report"
   ]
  },
  {
   "cell_type": "code",
   "execution_count": 53,
   "metadata": {},
   "outputs": [
    {
     "name": "stdout",
     "output_type": "stream",
     "text": [
      "              precision    recall  f1-score   support\n",
      "\n",
      "           0       0.78      0.68      0.73       192\n",
      "           1       0.84      0.90      0.87       356\n",
      "\n",
      "    accuracy                           0.82       548\n",
      "   macro avg       0.81      0.79      0.80       548\n",
      "weighted avg       0.82      0.82      0.82       548\n",
      "\n"
     ]
    }
   ],
   "source": [
    "from sklearn.metrics import classification_report\n",
    "print(classification_report(ytest, ypred_ts))"
   ]
  },
  {
   "cell_type": "code",
   "execution_count": 55,
   "metadata": {},
   "outputs": [
    {
     "name": "stdout",
     "output_type": "stream",
     "text": [
      "INFO:tensorflow:Assets written to: Dataset keras\\assets\n"
     ]
    },
    {
     "name": "stderr",
     "output_type": "stream",
     "text": [
      "INFO:tensorflow:Assets written to: Dataset keras\\assets\n"
     ]
    }
   ],
   "source": [
    "model.save('Dataset keras')"
   ]
  },
  {
   "cell_type": "code",
   "execution_count": null,
   "metadata": {},
   "outputs": [],
   "source": []
  }
 ],
 "metadata": {
  "kernelspec": {
   "display_name": "venv",
   "language": "python",
   "name": "python3"
  },
  "language_info": {
   "codemirror_mode": {
    "name": "ipython",
    "version": 3
   },
   "file_extension": ".py",
   "mimetype": "text/x-python",
   "name": "python",
   "nbconvert_exporter": "python",
   "pygments_lexer": "ipython3",
   "version": "3.10.9"
  }
 },
 "nbformat": 4,
 "nbformat_minor": 2
}
