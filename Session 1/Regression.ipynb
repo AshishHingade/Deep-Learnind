{
 "cells": [
  {
   "cell_type": "code",
   "execution_count": 1,
   "metadata": {},
   "outputs": [],
   "source": [
    "## Create Regression deta set"
   ]
  },
  {
   "cell_type": "code",
   "execution_count": 2,
   "metadata": {},
   "outputs": [],
   "source": [
    "from warnings import filterwarnings\n",
    "filterwarnings (\"ignore\") "
   ]
  },
  {
   "cell_type": "code",
   "execution_count": 3,
   "metadata": {},
   "outputs": [],
   "source": [
    "from sklearn.datasets import make_regression"
   ]
  },
  {
   "cell_type": "code",
   "execution_count": 4,
   "metadata": {},
   "outputs": [],
   "source": [
    "X,Y=make_regression(n_samples=5000,n_features=30,n_informative=25,noise=10,random_state=42)"
   ]
  },
  {
   "cell_type": "code",
   "execution_count": 5,
   "metadata": {},
   "outputs": [
    {
     "data": {
      "text/plain": [
       "array([[-1.05245683, -0.94496269, -1.79989659, ..., -1.83442393,\n",
       "        -0.07956011,  1.20745263],\n",
       "       [-0.84747383,  0.31840811,  0.24796167, ..., -0.2390554 ,\n",
       "        -0.69763862,  1.31984005],\n",
       "       [-0.94602775,  0.2383774 , -1.6176638 , ..., -0.09142036,\n",
       "        -0.74652074, -2.21823553],\n",
       "       ...,\n",
       "       [-0.22097737,  1.14453288, -0.39354952, ..., -0.90184457,\n",
       "        -0.07424546, -0.2463316 ],\n",
       "       [-0.95614616,  0.03256098, -1.12885675, ..., -0.00963513,\n",
       "        -1.43734832,  0.63541106],\n",
       "       [ 1.51114116, -0.00270833, -1.26097476, ..., -0.15650465,\n",
       "         0.50981791,  1.19398227]])"
      ]
     },
     "execution_count": 5,
     "metadata": {},
     "output_type": "execute_result"
    }
   ],
   "source": [
    "X\n"
   ]
  },
  {
   "cell_type": "code",
   "execution_count": 6,
   "metadata": {},
   "outputs": [
    {
     "data": {
      "text/plain": [
       "array([-232.93639282, -144.45063306,  -30.67109763, ...,  143.2968639 ,\n",
       "       -248.32988778,  -19.83229819])"
      ]
     },
     "execution_count": 6,
     "metadata": {},
     "output_type": "execute_result"
    }
   ],
   "source": [
    "Y"
   ]
  },
  {
   "cell_type": "code",
   "execution_count": 7,
   "metadata": {},
   "outputs": [],
   "source": [
    "# Save X & Y in DataFrame"
   ]
  },
  {
   "cell_type": "code",
   "execution_count": 8,
   "metadata": {},
   "outputs": [
    {
     "data": {
      "text/plain": [
       "['X1',\n",
       " 'X2',\n",
       " 'X3',\n",
       " 'X4',\n",
       " 'X5',\n",
       " 'X6',\n",
       " 'X7',\n",
       " 'X8',\n",
       " 'X9',\n",
       " 'X10',\n",
       " 'X11',\n",
       " 'X12',\n",
       " 'X13',\n",
       " 'X14',\n",
       " 'X15',\n",
       " 'X16',\n",
       " 'X17',\n",
       " 'X18',\n",
       " 'X19',\n",
       " 'X20',\n",
       " 'X21',\n",
       " 'X22',\n",
       " 'X23',\n",
       " 'X24',\n",
       " 'X25',\n",
       " 'X26',\n",
       " 'X27',\n",
       " 'X28',\n",
       " 'X29',\n",
       " 'X30']"
      ]
     },
     "execution_count": 8,
     "metadata": {},
     "output_type": "execute_result"
    }
   ],
   "source": [
    "cols=[f'X{i+1}'for i in range (30)]\n",
    "cols"
   ]
  },
  {
   "cell_type": "code",
   "execution_count": 9,
   "metadata": {},
   "outputs": [],
   "source": [
    "## import pandas"
   ]
  },
  {
   "cell_type": "code",
   "execution_count": 10,
   "metadata": {},
   "outputs": [
    {
     "data": {
      "text/html": [
       "<div>\n",
       "<style scoped>\n",
       "    .dataframe tbody tr th:only-of-type {\n",
       "        vertical-align: middle;\n",
       "    }\n",
       "\n",
       "    .dataframe tbody tr th {\n",
       "        vertical-align: top;\n",
       "    }\n",
       "\n",
       "    .dataframe thead th {\n",
       "        text-align: right;\n",
       "    }\n",
       "</style>\n",
       "<table border=\"1\" class=\"dataframe\">\n",
       "  <thead>\n",
       "    <tr style=\"text-align: right;\">\n",
       "      <th></th>\n",
       "      <th>X1</th>\n",
       "      <th>X2</th>\n",
       "      <th>X3</th>\n",
       "      <th>X4</th>\n",
       "      <th>X5</th>\n",
       "      <th>X6</th>\n",
       "      <th>X7</th>\n",
       "      <th>X8</th>\n",
       "      <th>X9</th>\n",
       "      <th>X10</th>\n",
       "      <th>...</th>\n",
       "      <th>X21</th>\n",
       "      <th>X22</th>\n",
       "      <th>X23</th>\n",
       "      <th>X24</th>\n",
       "      <th>X25</th>\n",
       "      <th>X26</th>\n",
       "      <th>X27</th>\n",
       "      <th>X28</th>\n",
       "      <th>X29</th>\n",
       "      <th>X30</th>\n",
       "    </tr>\n",
       "  </thead>\n",
       "  <tbody>\n",
       "    <tr>\n",
       "      <th>0</th>\n",
       "      <td>-1.052457</td>\n",
       "      <td>-0.944963</td>\n",
       "      <td>-1.799897</td>\n",
       "      <td>-0.034799</td>\n",
       "      <td>-1.482409</td>\n",
       "      <td>1.613543</td>\n",
       "      <td>-0.748163</td>\n",
       "      <td>-0.645310</td>\n",
       "      <td>1.063117</td>\n",
       "      <td>-1.335465</td>\n",
       "      <td>...</td>\n",
       "      <td>-0.398323</td>\n",
       "      <td>0.326932</td>\n",
       "      <td>2.042239</td>\n",
       "      <td>-0.301699</td>\n",
       "      <td>-1.361063</td>\n",
       "      <td>1.454857</td>\n",
       "      <td>-0.066823</td>\n",
       "      <td>-1.834424</td>\n",
       "      <td>-0.079560</td>\n",
       "      <td>1.207453</td>\n",
       "    </tr>\n",
       "    <tr>\n",
       "      <th>1</th>\n",
       "      <td>-0.847474</td>\n",
       "      <td>0.318408</td>\n",
       "      <td>0.247962</td>\n",
       "      <td>0.176165</td>\n",
       "      <td>0.550274</td>\n",
       "      <td>-0.695864</td>\n",
       "      <td>0.599538</td>\n",
       "      <td>-0.050914</td>\n",
       "      <td>1.363157</td>\n",
       "      <td>-1.201647</td>\n",
       "      <td>...</td>\n",
       "      <td>-1.368967</td>\n",
       "      <td>-0.403174</td>\n",
       "      <td>0.125837</td>\n",
       "      <td>-1.231097</td>\n",
       "      <td>-0.042579</td>\n",
       "      <td>-0.293594</td>\n",
       "      <td>-0.505876</td>\n",
       "      <td>-0.239055</td>\n",
       "      <td>-0.697639</td>\n",
       "      <td>1.319840</td>\n",
       "    </tr>\n",
       "    <tr>\n",
       "      <th>2</th>\n",
       "      <td>-0.946028</td>\n",
       "      <td>0.238377</td>\n",
       "      <td>-1.617664</td>\n",
       "      <td>-2.253756</td>\n",
       "      <td>-1.057629</td>\n",
       "      <td>-0.011553</td>\n",
       "      <td>1.400647</td>\n",
       "      <td>0.990803</td>\n",
       "      <td>-0.262228</td>\n",
       "      <td>-0.396235</td>\n",
       "      <td>...</td>\n",
       "      <td>-0.400736</td>\n",
       "      <td>0.007432</td>\n",
       "      <td>0.219753</td>\n",
       "      <td>2.205187</td>\n",
       "      <td>0.746020</td>\n",
       "      <td>-0.175596</td>\n",
       "      <td>-1.132978</td>\n",
       "      <td>-0.091420</td>\n",
       "      <td>-0.746521</td>\n",
       "      <td>-2.218236</td>\n",
       "    </tr>\n",
       "    <tr>\n",
       "      <th>3</th>\n",
       "      <td>-0.365222</td>\n",
       "      <td>0.004347</td>\n",
       "      <td>1.459301</td>\n",
       "      <td>1.650519</td>\n",
       "      <td>-3.114990</td>\n",
       "      <td>0.718841</td>\n",
       "      <td>1.669763</td>\n",
       "      <td>0.594568</td>\n",
       "      <td>0.350614</td>\n",
       "      <td>-0.528732</td>\n",
       "      <td>...</td>\n",
       "      <td>0.587610</td>\n",
       "      <td>0.050495</td>\n",
       "      <td>0.692244</td>\n",
       "      <td>0.492412</td>\n",
       "      <td>-0.118160</td>\n",
       "      <td>0.151945</td>\n",
       "      <td>-0.299890</td>\n",
       "      <td>1.009559</td>\n",
       "      <td>-0.779756</td>\n",
       "      <td>1.105541</td>\n",
       "    </tr>\n",
       "    <tr>\n",
       "      <th>4</th>\n",
       "      <td>-0.937119</td>\n",
       "      <td>0.038862</td>\n",
       "      <td>0.267291</td>\n",
       "      <td>-2.321520</td>\n",
       "      <td>-0.519995</td>\n",
       "      <td>1.281711</td>\n",
       "      <td>-0.447109</td>\n",
       "      <td>1.847404</td>\n",
       "      <td>-0.179080</td>\n",
       "      <td>0.073799</td>\n",
       "      <td>...</td>\n",
       "      <td>-0.985717</td>\n",
       "      <td>0.734585</td>\n",
       "      <td>-0.870311</td>\n",
       "      <td>0.316585</td>\n",
       "      <td>0.373045</td>\n",
       "      <td>-0.594102</td>\n",
       "      <td>-1.388615</td>\n",
       "      <td>1.262913</td>\n",
       "      <td>-0.668793</td>\n",
       "      <td>-0.049186</td>\n",
       "    </tr>\n",
       "  </tbody>\n",
       "</table>\n",
       "<p>5 rows × 30 columns</p>\n",
       "</div>"
      ],
      "text/plain": [
       "         X1        X2        X3        X4        X5        X6        X7  \\\n",
       "0 -1.052457 -0.944963 -1.799897 -0.034799 -1.482409  1.613543 -0.748163   \n",
       "1 -0.847474  0.318408  0.247962  0.176165  0.550274 -0.695864  0.599538   \n",
       "2 -0.946028  0.238377 -1.617664 -2.253756 -1.057629 -0.011553  1.400647   \n",
       "3 -0.365222  0.004347  1.459301  1.650519 -3.114990  0.718841  1.669763   \n",
       "4 -0.937119  0.038862  0.267291 -2.321520 -0.519995  1.281711 -0.447109   \n",
       "\n",
       "         X8        X9       X10  ...       X21       X22       X23       X24  \\\n",
       "0 -0.645310  1.063117 -1.335465  ... -0.398323  0.326932  2.042239 -0.301699   \n",
       "1 -0.050914  1.363157 -1.201647  ... -1.368967 -0.403174  0.125837 -1.231097   \n",
       "2  0.990803 -0.262228 -0.396235  ... -0.400736  0.007432  0.219753  2.205187   \n",
       "3  0.594568  0.350614 -0.528732  ...  0.587610  0.050495  0.692244  0.492412   \n",
       "4  1.847404 -0.179080  0.073799  ... -0.985717  0.734585 -0.870311  0.316585   \n",
       "\n",
       "        X25       X26       X27       X28       X29       X30  \n",
       "0 -1.361063  1.454857 -0.066823 -1.834424 -0.079560  1.207453  \n",
       "1 -0.042579 -0.293594 -0.505876 -0.239055 -0.697639  1.319840  \n",
       "2  0.746020 -0.175596 -1.132978 -0.091420 -0.746521 -2.218236  \n",
       "3 -0.118160  0.151945 -0.299890  1.009559 -0.779756  1.105541  \n",
       "4  0.373045 -0.594102 -1.388615  1.262913 -0.668793 -0.049186  \n",
       "\n",
       "[5 rows x 30 columns]"
      ]
     },
     "execution_count": 10,
     "metadata": {},
     "output_type": "execute_result"
    }
   ],
   "source": [
    "import pandas as pd\n",
    "X=pd.DataFrame(X,columns=cols)\n",
    "X.head()"
   ]
  },
  {
   "cell_type": "code",
   "execution_count": 11,
   "metadata": {},
   "outputs": [
    {
     "name": "stdout",
     "output_type": "stream",
     "text": [
      "<class 'pandas.core.frame.DataFrame'>\n",
      "RangeIndex: 5000 entries, 0 to 4999\n",
      "Data columns (total 30 columns):\n",
      " #   Column  Non-Null Count  Dtype  \n",
      "---  ------  --------------  -----  \n",
      " 0   X1      5000 non-null   float64\n",
      " 1   X2      5000 non-null   float64\n",
      " 2   X3      5000 non-null   float64\n",
      " 3   X4      5000 non-null   float64\n",
      " 4   X5      5000 non-null   float64\n",
      " 5   X6      5000 non-null   float64\n",
      " 6   X7      5000 non-null   float64\n",
      " 7   X8      5000 non-null   float64\n",
      " 8   X9      5000 non-null   float64\n",
      " 9   X10     5000 non-null   float64\n",
      " 10  X11     5000 non-null   float64\n",
      " 11  X12     5000 non-null   float64\n",
      " 12  X13     5000 non-null   float64\n",
      " 13  X14     5000 non-null   float64\n",
      " 14  X15     5000 non-null   float64\n",
      " 15  X16     5000 non-null   float64\n",
      " 16  X17     5000 non-null   float64\n",
      " 17  X18     5000 non-null   float64\n",
      " 18  X19     5000 non-null   float64\n",
      " 19  X20     5000 non-null   float64\n",
      " 20  X21     5000 non-null   float64\n",
      " 21  X22     5000 non-null   float64\n",
      " 22  X23     5000 non-null   float64\n",
      " 23  X24     5000 non-null   float64\n",
      " 24  X25     5000 non-null   float64\n",
      " 25  X26     5000 non-null   float64\n",
      " 26  X27     5000 non-null   float64\n",
      " 27  X28     5000 non-null   float64\n",
      " 28  X29     5000 non-null   float64\n",
      " 29  X30     5000 non-null   float64\n",
      "dtypes: float64(30)\n",
      "memory usage: 1.1 MB\n"
     ]
    }
   ],
   "source": [
    "X.info()"
   ]
  },
  {
   "cell_type": "code",
   "execution_count": 12,
   "metadata": {},
   "outputs": [
    {
     "data": {
      "text/html": [
       "<div>\n",
       "<style scoped>\n",
       "    .dataframe tbody tr th:only-of-type {\n",
       "        vertical-align: middle;\n",
       "    }\n",
       "\n",
       "    .dataframe tbody tr th {\n",
       "        vertical-align: top;\n",
       "    }\n",
       "\n",
       "    .dataframe thead th {\n",
       "        text-align: right;\n",
       "    }\n",
       "</style>\n",
       "<table border=\"1\" class=\"dataframe\">\n",
       "  <thead>\n",
       "    <tr style=\"text-align: right;\">\n",
       "      <th></th>\n",
       "      <th>Y</th>\n",
       "    </tr>\n",
       "  </thead>\n",
       "  <tbody>\n",
       "    <tr>\n",
       "      <th>0</th>\n",
       "      <td>-232.936393</td>\n",
       "    </tr>\n",
       "    <tr>\n",
       "      <th>1</th>\n",
       "      <td>-144.450633</td>\n",
       "    </tr>\n",
       "    <tr>\n",
       "      <th>2</th>\n",
       "      <td>-30.671098</td>\n",
       "    </tr>\n",
       "    <tr>\n",
       "      <th>3</th>\n",
       "      <td>165.764197</td>\n",
       "    </tr>\n",
       "    <tr>\n",
       "      <th>4</th>\n",
       "      <td>-252.068764</td>\n",
       "    </tr>\n",
       "  </tbody>\n",
       "</table>\n",
       "</div>"
      ],
      "text/plain": [
       "            Y\n",
       "0 -232.936393\n",
       "1 -144.450633\n",
       "2  -30.671098\n",
       "3  165.764197\n",
       "4 -252.068764"
      ]
     },
     "execution_count": 12,
     "metadata": {},
     "output_type": "execute_result"
    }
   ],
   "source": [
    "Y = pd.DataFrame(Y,columns=['Y'])\n",
    "Y.head()"
   ]
  },
  {
   "cell_type": "code",
   "execution_count": 13,
   "metadata": {},
   "outputs": [
    {
     "name": "stdout",
     "output_type": "stream",
     "text": [
      "<class 'pandas.core.frame.DataFrame'>\n",
      "RangeIndex: 5000 entries, 0 to 4999\n",
      "Data columns (total 1 columns):\n",
      " #   Column  Non-Null Count  Dtype  \n",
      "---  ------  --------------  -----  \n",
      " 0   Y       5000 non-null   float64\n",
      "dtypes: float64(1)\n",
      "memory usage: 39.2 KB\n"
     ]
    }
   ],
   "source": [
    "Y.info()"
   ]
  },
  {
   "cell_type": "code",
   "execution_count": 14,
   "metadata": {},
   "outputs": [],
   "source": [
    "## Create Processing pipeline for X"
   ]
  },
  {
   "cell_type": "code",
   "execution_count": 15,
   "metadata": {},
   "outputs": [],
   "source": [
    "from sklearn.pipeline import Pipeline\n",
    "from sklearn.impute import SimpleImputer\n",
    "from sklearn.preprocessing import StandardScaler"
   ]
  },
  {
   "cell_type": "code",
   "execution_count": 16,
   "metadata": {},
   "outputs": [],
   "source": [
    "num_pipe =Pipeline(steps=[('impute',SimpleImputer (strategy='mean')),\n",
    "                          ('scaler',StandardScaler())])"
   ]
  },
  {
   "cell_type": "code",
   "execution_count": 17,
   "metadata": {},
   "outputs": [
    {
     "data": {
      "text/html": [
       "<style>#sk-container-id-1 {color: black;}#sk-container-id-1 pre{padding: 0;}#sk-container-id-1 div.sk-toggleable {background-color: white;}#sk-container-id-1 label.sk-toggleable__label {cursor: pointer;display: block;width: 100%;margin-bottom: 0;padding: 0.3em;box-sizing: border-box;text-align: center;}#sk-container-id-1 label.sk-toggleable__label-arrow:before {content: \"▸\";float: left;margin-right: 0.25em;color: #696969;}#sk-container-id-1 label.sk-toggleable__label-arrow:hover:before {color: black;}#sk-container-id-1 div.sk-estimator:hover label.sk-toggleable__label-arrow:before {color: black;}#sk-container-id-1 div.sk-toggleable__content {max-height: 0;max-width: 0;overflow: hidden;text-align: left;background-color: #f0f8ff;}#sk-container-id-1 div.sk-toggleable__content pre {margin: 0.2em;color: black;border-radius: 0.25em;background-color: #f0f8ff;}#sk-container-id-1 input.sk-toggleable__control:checked~div.sk-toggleable__content {max-height: 200px;max-width: 100%;overflow: auto;}#sk-container-id-1 input.sk-toggleable__control:checked~label.sk-toggleable__label-arrow:before {content: \"▾\";}#sk-container-id-1 div.sk-estimator input.sk-toggleable__control:checked~label.sk-toggleable__label {background-color: #d4ebff;}#sk-container-id-1 div.sk-label input.sk-toggleable__control:checked~label.sk-toggleable__label {background-color: #d4ebff;}#sk-container-id-1 input.sk-hidden--visually {border: 0;clip: rect(1px 1px 1px 1px);clip: rect(1px, 1px, 1px, 1px);height: 1px;margin: -1px;overflow: hidden;padding: 0;position: absolute;width: 1px;}#sk-container-id-1 div.sk-estimator {font-family: monospace;background-color: #f0f8ff;border: 1px dotted black;border-radius: 0.25em;box-sizing: border-box;margin-bottom: 0.5em;}#sk-container-id-1 div.sk-estimator:hover {background-color: #d4ebff;}#sk-container-id-1 div.sk-parallel-item::after {content: \"\";width: 100%;border-bottom: 1px solid gray;flex-grow: 1;}#sk-container-id-1 div.sk-label:hover label.sk-toggleable__label {background-color: #d4ebff;}#sk-container-id-1 div.sk-serial::before {content: \"\";position: absolute;border-left: 1px solid gray;box-sizing: border-box;top: 0;bottom: 0;left: 50%;z-index: 0;}#sk-container-id-1 div.sk-serial {display: flex;flex-direction: column;align-items: center;background-color: white;padding-right: 0.2em;padding-left: 0.2em;position: relative;}#sk-container-id-1 div.sk-item {position: relative;z-index: 1;}#sk-container-id-1 div.sk-parallel {display: flex;align-items: stretch;justify-content: center;background-color: white;position: relative;}#sk-container-id-1 div.sk-item::before, #sk-container-id-1 div.sk-parallel-item::before {content: \"\";position: absolute;border-left: 1px solid gray;box-sizing: border-box;top: 0;bottom: 0;left: 50%;z-index: -1;}#sk-container-id-1 div.sk-parallel-item {display: flex;flex-direction: column;z-index: 1;position: relative;background-color: white;}#sk-container-id-1 div.sk-parallel-item:first-child::after {align-self: flex-end;width: 50%;}#sk-container-id-1 div.sk-parallel-item:last-child::after {align-self: flex-start;width: 50%;}#sk-container-id-1 div.sk-parallel-item:only-child::after {width: 0;}#sk-container-id-1 div.sk-dashed-wrapped {border: 1px dashed gray;margin: 0 0.4em 0.5em 0.4em;box-sizing: border-box;padding-bottom: 0.4em;background-color: white;}#sk-container-id-1 div.sk-label label {font-family: monospace;font-weight: bold;display: inline-block;line-height: 1.2em;}#sk-container-id-1 div.sk-label-container {text-align: center;}#sk-container-id-1 div.sk-container {/* jupyter's `normalize.less` sets `[hidden] { display: none; }` but bootstrap.min.css set `[hidden] { display: none !important; }` so we also need the `!important` here to be able to override the default hidden behavior on the sphinx rendered scikit-learn.org. See: https://github.com/scikit-learn/scikit-learn/issues/21755 */display: inline-block !important;position: relative;}#sk-container-id-1 div.sk-text-repr-fallback {display: none;}</style><div id=\"sk-container-id-1\" class=\"sk-top-container\"><div class=\"sk-text-repr-fallback\"><pre>Pipeline(steps=[(&#x27;impute&#x27;, SimpleImputer()), (&#x27;scaler&#x27;, StandardScaler())])</pre><b>In a Jupyter environment, please rerun this cell to show the HTML representation or trust the notebook. <br />On GitHub, the HTML representation is unable to render, please try loading this page with nbviewer.org.</b></div><div class=\"sk-container\" hidden><div class=\"sk-item sk-dashed-wrapped\"><div class=\"sk-label-container\"><div class=\"sk-label sk-toggleable\"><input class=\"sk-toggleable__control sk-hidden--visually\" id=\"sk-estimator-id-1\" type=\"checkbox\" ><label for=\"sk-estimator-id-1\" class=\"sk-toggleable__label sk-toggleable__label-arrow\">Pipeline</label><div class=\"sk-toggleable__content\"><pre>Pipeline(steps=[(&#x27;impute&#x27;, SimpleImputer()), (&#x27;scaler&#x27;, StandardScaler())])</pre></div></div></div><div class=\"sk-serial\"><div class=\"sk-item\"><div class=\"sk-estimator sk-toggleable\"><input class=\"sk-toggleable__control sk-hidden--visually\" id=\"sk-estimator-id-2\" type=\"checkbox\" ><label for=\"sk-estimator-id-2\" class=\"sk-toggleable__label sk-toggleable__label-arrow\">SimpleImputer</label><div class=\"sk-toggleable__content\"><pre>SimpleImputer()</pre></div></div></div><div class=\"sk-item\"><div class=\"sk-estimator sk-toggleable\"><input class=\"sk-toggleable__control sk-hidden--visually\" id=\"sk-estimator-id-3\" type=\"checkbox\" ><label for=\"sk-estimator-id-3\" class=\"sk-toggleable__label sk-toggleable__label-arrow\">StandardScaler</label><div class=\"sk-toggleable__content\"><pre>StandardScaler()</pre></div></div></div></div></div></div></div>"
      ],
      "text/plain": [
       "Pipeline(steps=[('impute', SimpleImputer()), ('scaler', StandardScaler())])"
      ]
     },
     "execution_count": 17,
     "metadata": {},
     "output_type": "execute_result"
    }
   ],
   "source": [
    "num_pipe"
   ]
  },
  {
   "cell_type": "code",
   "execution_count": 18,
   "metadata": {},
   "outputs": [
    {
     "data": {
      "text/plain": [
       "array([[-1.00877542, -0.96849615, -1.8356222 , ..., -1.84743596,\n",
       "        -0.06441693,  1.19633814],\n",
       "       [-0.80656544,  0.30321775,  0.22782616, ..., -0.25077076,\n",
       "        -0.67948802,  1.30863615],\n",
       "       [-0.90378611,  0.22265853, -1.6520021 , ..., -0.10301574,\n",
       "        -0.72813229, -2.22662492],\n",
       "       ...,\n",
       "       [-0.1885443 ,  1.13479811, -0.41856878, ..., -0.91409862,\n",
       "        -0.05912814, -0.25628963],\n",
       "       [-0.91376764,  0.01548293, -1.15947382, ..., -0.02116403,\n",
       "        -1.41559849,  0.62475162],\n",
       "       [ 1.52014196, -0.02001929, -1.29259762, ..., -0.16815292,\n",
       "         0.52209333,  1.18287849]])"
      ]
     },
     "execution_count": 18,
     "metadata": {},
     "output_type": "execute_result"
    }
   ],
   "source": [
    "X_pre= num_pipe.fit_transform(X)\n",
    "X_pre"
   ]
  },
  {
   "cell_type": "code",
   "execution_count": 19,
   "metadata": {},
   "outputs": [
    {
     "data": {
      "text/plain": [
       "array(['X1', 'X2', 'X3', 'X4', 'X5', 'X6', 'X7', 'X8', 'X9', 'X10', 'X11',\n",
       "       'X12', 'X13', 'X14', 'X15', 'X16', 'X17', 'X18', 'X19', 'X20',\n",
       "       'X21', 'X22', 'X23', 'X24', 'X25', 'X26', 'X27', 'X28', 'X29',\n",
       "       'X30'], dtype=object)"
      ]
     },
     "execution_count": 19,
     "metadata": {},
     "output_type": "execute_result"
    }
   ],
   "source": [
    "cols=num_pipe.get_feature_names_out()\n",
    "cols"
   ]
  },
  {
   "cell_type": "code",
   "execution_count": 20,
   "metadata": {},
   "outputs": [
    {
     "data": {
      "text/html": [
       "<div>\n",
       "<style scoped>\n",
       "    .dataframe tbody tr th:only-of-type {\n",
       "        vertical-align: middle;\n",
       "    }\n",
       "\n",
       "    .dataframe tbody tr th {\n",
       "        vertical-align: top;\n",
       "    }\n",
       "\n",
       "    .dataframe thead th {\n",
       "        text-align: right;\n",
       "    }\n",
       "</style>\n",
       "<table border=\"1\" class=\"dataframe\">\n",
       "  <thead>\n",
       "    <tr style=\"text-align: right;\">\n",
       "      <th></th>\n",
       "      <th>X1</th>\n",
       "      <th>X2</th>\n",
       "      <th>X3</th>\n",
       "      <th>X4</th>\n",
       "      <th>X5</th>\n",
       "      <th>X6</th>\n",
       "      <th>X7</th>\n",
       "      <th>X8</th>\n",
       "      <th>X9</th>\n",
       "      <th>X10</th>\n",
       "      <th>...</th>\n",
       "      <th>X21</th>\n",
       "      <th>X22</th>\n",
       "      <th>X23</th>\n",
       "      <th>X24</th>\n",
       "      <th>X25</th>\n",
       "      <th>X26</th>\n",
       "      <th>X27</th>\n",
       "      <th>X28</th>\n",
       "      <th>X29</th>\n",
       "      <th>X30</th>\n",
       "    </tr>\n",
       "  </thead>\n",
       "  <tbody>\n",
       "    <tr>\n",
       "      <th>0</th>\n",
       "      <td>-1.008775</td>\n",
       "      <td>-0.968496</td>\n",
       "      <td>-1.835622</td>\n",
       "      <td>-0.032196</td>\n",
       "      <td>-1.485420</td>\n",
       "      <td>1.614947</td>\n",
       "      <td>-0.747164</td>\n",
       "      <td>-0.627734</td>\n",
       "      <td>1.038359</td>\n",
       "      <td>-1.340893</td>\n",
       "      <td>...</td>\n",
       "      <td>-0.418507</td>\n",
       "      <td>0.322752</td>\n",
       "      <td>2.071710</td>\n",
       "      <td>-0.324901</td>\n",
       "      <td>-1.342910</td>\n",
       "      <td>1.406812</td>\n",
       "      <td>-0.052268</td>\n",
       "      <td>-1.847436</td>\n",
       "      <td>-0.064417</td>\n",
       "      <td>1.196338</td>\n",
       "    </tr>\n",
       "    <tr>\n",
       "      <th>1</th>\n",
       "      <td>-0.806565</td>\n",
       "      <td>0.303218</td>\n",
       "      <td>0.227826</td>\n",
       "      <td>0.179320</td>\n",
       "      <td>0.577043</td>\n",
       "      <td>-0.684461</td>\n",
       "      <td>0.585446</td>\n",
       "      <td>-0.053781</td>\n",
       "      <td>1.334905</td>\n",
       "      <td>-1.205877</td>\n",
       "      <td>...</td>\n",
       "      <td>-1.393646</td>\n",
       "      <td>-0.402106</td>\n",
       "      <td>0.132047</td>\n",
       "      <td>-1.271369</td>\n",
       "      <td>-0.027103</td>\n",
       "      <td>-0.319448</td>\n",
       "      <td>-0.496045</td>\n",
       "      <td>-0.250771</td>\n",
       "      <td>-0.679488</td>\n",
       "      <td>1.308636</td>\n",
       "    </tr>\n",
       "    <tr>\n",
       "      <th>2</th>\n",
       "      <td>-0.903786</td>\n",
       "      <td>0.222659</td>\n",
       "      <td>-1.652002</td>\n",
       "      <td>-2.256956</td>\n",
       "      <td>-1.054417</td>\n",
       "      <td>-0.003112</td>\n",
       "      <td>1.377584</td>\n",
       "      <td>0.952108</td>\n",
       "      <td>-0.271556</td>\n",
       "      <td>-0.393252</td>\n",
       "      <td>...</td>\n",
       "      <td>-0.420931</td>\n",
       "      <td>0.005548</td>\n",
       "      <td>0.227103</td>\n",
       "      <td>2.228029</td>\n",
       "      <td>0.759895</td>\n",
       "      <td>-0.202948</td>\n",
       "      <td>-1.129894</td>\n",
       "      <td>-0.103016</td>\n",
       "      <td>-0.728132</td>\n",
       "      <td>-2.226625</td>\n",
       "    </tr>\n",
       "    <tr>\n",
       "      <th>3</th>\n",
       "      <td>-0.330838</td>\n",
       "      <td>-0.012918</td>\n",
       "      <td>1.448387</td>\n",
       "      <td>1.657530</td>\n",
       "      <td>-3.141920</td>\n",
       "      <td>0.724120</td>\n",
       "      <td>1.643688</td>\n",
       "      <td>0.569500</td>\n",
       "      <td>0.334151</td>\n",
       "      <td>-0.526935</td>\n",
       "      <td>...</td>\n",
       "      <td>0.571991</td>\n",
       "      <td>0.048302</td>\n",
       "      <td>0.705328</td>\n",
       "      <td>0.483796</td>\n",
       "      <td>-0.102530</td>\n",
       "      <td>0.120436</td>\n",
       "      <td>-0.287843</td>\n",
       "      <td>0.998859</td>\n",
       "      <td>-0.761205</td>\n",
       "      <td>1.094508</td>\n",
       "    </tr>\n",
       "    <tr>\n",
       "      <th>4</th>\n",
       "      <td>-0.894998</td>\n",
       "      <td>0.021825</td>\n",
       "      <td>0.247303</td>\n",
       "      <td>-2.324897</td>\n",
       "      <td>-0.508906</td>\n",
       "      <td>1.284552</td>\n",
       "      <td>-0.449481</td>\n",
       "      <td>1.779248</td>\n",
       "      <td>-0.189376</td>\n",
       "      <td>0.080993</td>\n",
       "      <td>...</td>\n",
       "      <td>-1.008621</td>\n",
       "      <td>0.727476</td>\n",
       "      <td>-0.876193</td>\n",
       "      <td>0.304739</td>\n",
       "      <td>0.387677</td>\n",
       "      <td>-0.616143</td>\n",
       "      <td>-1.388281</td>\n",
       "      <td>1.252419</td>\n",
       "      <td>-0.650783</td>\n",
       "      <td>-0.059300</td>\n",
       "    </tr>\n",
       "  </tbody>\n",
       "</table>\n",
       "<p>5 rows × 30 columns</p>\n",
       "</div>"
      ],
      "text/plain": [
       "         X1        X2        X3        X4        X5        X6        X7  \\\n",
       "0 -1.008775 -0.968496 -1.835622 -0.032196 -1.485420  1.614947 -0.747164   \n",
       "1 -0.806565  0.303218  0.227826  0.179320  0.577043 -0.684461  0.585446   \n",
       "2 -0.903786  0.222659 -1.652002 -2.256956 -1.054417 -0.003112  1.377584   \n",
       "3 -0.330838 -0.012918  1.448387  1.657530 -3.141920  0.724120  1.643688   \n",
       "4 -0.894998  0.021825  0.247303 -2.324897 -0.508906  1.284552 -0.449481   \n",
       "\n",
       "         X8        X9       X10  ...       X21       X22       X23       X24  \\\n",
       "0 -0.627734  1.038359 -1.340893  ... -0.418507  0.322752  2.071710 -0.324901   \n",
       "1 -0.053781  1.334905 -1.205877  ... -1.393646 -0.402106  0.132047 -1.271369   \n",
       "2  0.952108 -0.271556 -0.393252  ... -0.420931  0.005548  0.227103  2.228029   \n",
       "3  0.569500  0.334151 -0.526935  ...  0.571991  0.048302  0.705328  0.483796   \n",
       "4  1.779248 -0.189376  0.080993  ... -1.008621  0.727476 -0.876193  0.304739   \n",
       "\n",
       "        X25       X26       X27       X28       X29       X30  \n",
       "0 -1.342910  1.406812 -0.052268 -1.847436 -0.064417  1.196338  \n",
       "1 -0.027103 -0.319448 -0.496045 -0.250771 -0.679488  1.308636  \n",
       "2  0.759895 -0.202948 -1.129894 -0.103016 -0.728132 -2.226625  \n",
       "3 -0.102530  0.120436 -0.287843  0.998859 -0.761205  1.094508  \n",
       "4  0.387677 -0.616143 -1.388281  1.252419 -0.650783 -0.059300  \n",
       "\n",
       "[5 rows x 30 columns]"
      ]
     },
     "execution_count": 20,
     "metadata": {},
     "output_type": "execute_result"
    }
   ],
   "source": [
    "X_pre=pd.DataFrame(X_pre, columns=cols)\n",
    "X_pre.head()"
   ]
  },
  {
   "cell_type": "code",
   "execution_count": 21,
   "metadata": {},
   "outputs": [],
   "source": [
    "## Train Test Sp;it"
   ]
  },
  {
   "cell_type": "code",
   "execution_count": 22,
   "metadata": {},
   "outputs": [],
   "source": [
    "from sklearn.model_selection import train_test_split"
   ]
  },
  {
   "cell_type": "code",
   "execution_count": 23,
   "metadata": {},
   "outputs": [],
   "source": [
    "Xtrain,Xtest,Ytrain,Ytest=train_test_split(X_pre,Y,test_size=0.2,random_state=42)"
   ]
  },
  {
   "cell_type": "code",
   "execution_count": 24,
   "metadata": {},
   "outputs": [
    {
     "data": {
      "text/html": [
       "<div>\n",
       "<style scoped>\n",
       "    .dataframe tbody tr th:only-of-type {\n",
       "        vertical-align: middle;\n",
       "    }\n",
       "\n",
       "    .dataframe tbody tr th {\n",
       "        vertical-align: top;\n",
       "    }\n",
       "\n",
       "    .dataframe thead th {\n",
       "        text-align: right;\n",
       "    }\n",
       "</style>\n",
       "<table border=\"1\" class=\"dataframe\">\n",
       "  <thead>\n",
       "    <tr style=\"text-align: right;\">\n",
       "      <th></th>\n",
       "      <th>X1</th>\n",
       "      <th>X2</th>\n",
       "      <th>X3</th>\n",
       "      <th>X4</th>\n",
       "      <th>X5</th>\n",
       "      <th>X6</th>\n",
       "      <th>X7</th>\n",
       "      <th>X8</th>\n",
       "      <th>X9</th>\n",
       "      <th>X10</th>\n",
       "      <th>...</th>\n",
       "      <th>X21</th>\n",
       "      <th>X22</th>\n",
       "      <th>X23</th>\n",
       "      <th>X24</th>\n",
       "      <th>X25</th>\n",
       "      <th>X26</th>\n",
       "      <th>X27</th>\n",
       "      <th>X28</th>\n",
       "      <th>X29</th>\n",
       "      <th>X30</th>\n",
       "    </tr>\n",
       "  </thead>\n",
       "  <tbody>\n",
       "    <tr>\n",
       "      <th>4227</th>\n",
       "      <td>0.274306</td>\n",
       "      <td>-2.243030</td>\n",
       "      <td>0.307393</td>\n",
       "      <td>2.279325</td>\n",
       "      <td>-0.849919</td>\n",
       "      <td>-0.499417</td>\n",
       "      <td>0.063387</td>\n",
       "      <td>0.322236</td>\n",
       "      <td>-0.279113</td>\n",
       "      <td>-1.485297</td>\n",
       "      <td>...</td>\n",
       "      <td>-0.435550</td>\n",
       "      <td>0.016456</td>\n",
       "      <td>-0.478773</td>\n",
       "      <td>0.826978</td>\n",
       "      <td>0.348374</td>\n",
       "      <td>0.203044</td>\n",
       "      <td>-0.974020</td>\n",
       "      <td>1.133163</td>\n",
       "      <td>0.644459</td>\n",
       "      <td>1.026561</td>\n",
       "    </tr>\n",
       "    <tr>\n",
       "      <th>4676</th>\n",
       "      <td>-0.110889</td>\n",
       "      <td>-2.308274</td>\n",
       "      <td>-0.306657</td>\n",
       "      <td>-2.797217</td>\n",
       "      <td>0.744218</td>\n",
       "      <td>-1.215240</td>\n",
       "      <td>0.092720</td>\n",
       "      <td>-0.881949</td>\n",
       "      <td>0.099739</td>\n",
       "      <td>-0.153516</td>\n",
       "      <td>...</td>\n",
       "      <td>0.684150</td>\n",
       "      <td>-0.050237</td>\n",
       "      <td>0.659385</td>\n",
       "      <td>0.950390</td>\n",
       "      <td>-2.264741</td>\n",
       "      <td>-0.934321</td>\n",
       "      <td>-0.207092</td>\n",
       "      <td>-1.429908</td>\n",
       "      <td>0.477449</td>\n",
       "      <td>-0.143864</td>\n",
       "    </tr>\n",
       "    <tr>\n",
       "      <th>800</th>\n",
       "      <td>-0.534724</td>\n",
       "      <td>0.341340</td>\n",
       "      <td>-0.318392</td>\n",
       "      <td>1.233363</td>\n",
       "      <td>1.778518</td>\n",
       "      <td>0.298750</td>\n",
       "      <td>0.083038</td>\n",
       "      <td>0.104657</td>\n",
       "      <td>0.121582</td>\n",
       "      <td>1.150535</td>\n",
       "      <td>...</td>\n",
       "      <td>2.105502</td>\n",
       "      <td>0.100787</td>\n",
       "      <td>0.150310</td>\n",
       "      <td>0.796843</td>\n",
       "      <td>0.088543</td>\n",
       "      <td>1.044029</td>\n",
       "      <td>-0.691462</td>\n",
       "      <td>0.027791</td>\n",
       "      <td>-0.467562</td>\n",
       "      <td>1.088671</td>\n",
       "    </tr>\n",
       "    <tr>\n",
       "      <th>3671</th>\n",
       "      <td>-0.366200</td>\n",
       "      <td>1.081039</td>\n",
       "      <td>-0.920495</td>\n",
       "      <td>-1.060692</td>\n",
       "      <td>-0.616689</td>\n",
       "      <td>0.923926</td>\n",
       "      <td>1.178280</td>\n",
       "      <td>-2.049797</td>\n",
       "      <td>-0.133985</td>\n",
       "      <td>-1.437462</td>\n",
       "      <td>...</td>\n",
       "      <td>0.375930</td>\n",
       "      <td>0.799287</td>\n",
       "      <td>-1.524107</td>\n",
       "      <td>-0.213573</td>\n",
       "      <td>1.841831</td>\n",
       "      <td>-0.235666</td>\n",
       "      <td>-1.623648</td>\n",
       "      <td>0.003545</td>\n",
       "      <td>2.453793</td>\n",
       "      <td>-0.826658</td>\n",
       "    </tr>\n",
       "    <tr>\n",
       "      <th>4193</th>\n",
       "      <td>-0.834782</td>\n",
       "      <td>1.471498</td>\n",
       "      <td>-1.414701</td>\n",
       "      <td>-0.704299</td>\n",
       "      <td>2.131088</td>\n",
       "      <td>-0.208189</td>\n",
       "      <td>0.823199</td>\n",
       "      <td>0.547557</td>\n",
       "      <td>0.462746</td>\n",
       "      <td>-1.556602</td>\n",
       "      <td>...</td>\n",
       "      <td>-1.605144</td>\n",
       "      <td>0.394171</td>\n",
       "      <td>0.414800</td>\n",
       "      <td>0.015313</td>\n",
       "      <td>-1.559552</td>\n",
       "      <td>0.776827</td>\n",
       "      <td>-1.919909</td>\n",
       "      <td>1.235952</td>\n",
       "      <td>-1.425568</td>\n",
       "      <td>0.749621</td>\n",
       "    </tr>\n",
       "  </tbody>\n",
       "</table>\n",
       "<p>5 rows × 30 columns</p>\n",
       "</div>"
      ],
      "text/plain": [
       "            X1        X2        X3        X4        X5        X6        X7  \\\n",
       "4227  0.274306 -2.243030  0.307393  2.279325 -0.849919 -0.499417  0.063387   \n",
       "4676 -0.110889 -2.308274 -0.306657 -2.797217  0.744218 -1.215240  0.092720   \n",
       "800  -0.534724  0.341340 -0.318392  1.233363  1.778518  0.298750  0.083038   \n",
       "3671 -0.366200  1.081039 -0.920495 -1.060692 -0.616689  0.923926  1.178280   \n",
       "4193 -0.834782  1.471498 -1.414701 -0.704299  2.131088 -0.208189  0.823199   \n",
       "\n",
       "            X8        X9       X10  ...       X21       X22       X23  \\\n",
       "4227  0.322236 -0.279113 -1.485297  ... -0.435550  0.016456 -0.478773   \n",
       "4676 -0.881949  0.099739 -0.153516  ...  0.684150 -0.050237  0.659385   \n",
       "800   0.104657  0.121582  1.150535  ...  2.105502  0.100787  0.150310   \n",
       "3671 -2.049797 -0.133985 -1.437462  ...  0.375930  0.799287 -1.524107   \n",
       "4193  0.547557  0.462746 -1.556602  ... -1.605144  0.394171  0.414800   \n",
       "\n",
       "           X24       X25       X26       X27       X28       X29       X30  \n",
       "4227  0.826978  0.348374  0.203044 -0.974020  1.133163  0.644459  1.026561  \n",
       "4676  0.950390 -2.264741 -0.934321 -0.207092 -1.429908  0.477449 -0.143864  \n",
       "800   0.796843  0.088543  1.044029 -0.691462  0.027791 -0.467562  1.088671  \n",
       "3671 -0.213573  1.841831 -0.235666 -1.623648  0.003545  2.453793 -0.826658  \n",
       "4193  0.015313 -1.559552  0.776827 -1.919909  1.235952 -1.425568  0.749621  \n",
       "\n",
       "[5 rows x 30 columns]"
      ]
     },
     "execution_count": 24,
     "metadata": {},
     "output_type": "execute_result"
    }
   ],
   "source": [
    "Xtrain.head()"
   ]
  },
  {
   "cell_type": "code",
   "execution_count": 25,
   "metadata": {},
   "outputs": [
    {
     "data": {
      "text/html": [
       "<div>\n",
       "<style scoped>\n",
       "    .dataframe tbody tr th:only-of-type {\n",
       "        vertical-align: middle;\n",
       "    }\n",
       "\n",
       "    .dataframe tbody tr th {\n",
       "        vertical-align: top;\n",
       "    }\n",
       "\n",
       "    .dataframe thead th {\n",
       "        text-align: right;\n",
       "    }\n",
       "</style>\n",
       "<table border=\"1\" class=\"dataframe\">\n",
       "  <thead>\n",
       "    <tr style=\"text-align: right;\">\n",
       "      <th></th>\n",
       "      <th>Y</th>\n",
       "    </tr>\n",
       "  </thead>\n",
       "  <tbody>\n",
       "    <tr>\n",
       "      <th>4227</th>\n",
       "      <td>421.295025</td>\n",
       "    </tr>\n",
       "    <tr>\n",
       "      <th>4676</th>\n",
       "      <td>-469.452726</td>\n",
       "    </tr>\n",
       "    <tr>\n",
       "      <th>800</th>\n",
       "      <td>42.172815</td>\n",
       "    </tr>\n",
       "    <tr>\n",
       "      <th>3671</th>\n",
       "      <td>114.083914</td>\n",
       "    </tr>\n",
       "    <tr>\n",
       "      <th>4193</th>\n",
       "      <td>-217.535707</td>\n",
       "    </tr>\n",
       "  </tbody>\n",
       "</table>\n",
       "</div>"
      ],
      "text/plain": [
       "               Y\n",
       "4227  421.295025\n",
       "4676 -469.452726\n",
       "800    42.172815\n",
       "3671  114.083914\n",
       "4193 -217.535707"
      ]
     },
     "execution_count": 25,
     "metadata": {},
     "output_type": "execute_result"
    }
   ],
   "source": [
    "Ytrain.head()"
   ]
  },
  {
   "cell_type": "code",
   "execution_count": 26,
   "metadata": {},
   "outputs": [
    {
     "data": {
      "text/html": [
       "<div>\n",
       "<style scoped>\n",
       "    .dataframe tbody tr th:only-of-type {\n",
       "        vertical-align: middle;\n",
       "    }\n",
       "\n",
       "    .dataframe tbody tr th {\n",
       "        vertical-align: top;\n",
       "    }\n",
       "\n",
       "    .dataframe thead th {\n",
       "        text-align: right;\n",
       "    }\n",
       "</style>\n",
       "<table border=\"1\" class=\"dataframe\">\n",
       "  <thead>\n",
       "    <tr style=\"text-align: right;\">\n",
       "      <th></th>\n",
       "      <th>X1</th>\n",
       "      <th>X2</th>\n",
       "      <th>X3</th>\n",
       "      <th>X4</th>\n",
       "      <th>X5</th>\n",
       "      <th>X6</th>\n",
       "      <th>X7</th>\n",
       "      <th>X8</th>\n",
       "      <th>X9</th>\n",
       "      <th>X10</th>\n",
       "      <th>...</th>\n",
       "      <th>X21</th>\n",
       "      <th>X22</th>\n",
       "      <th>X23</th>\n",
       "      <th>X24</th>\n",
       "      <th>X25</th>\n",
       "      <th>X26</th>\n",
       "      <th>X27</th>\n",
       "      <th>X28</th>\n",
       "      <th>X29</th>\n",
       "      <th>X30</th>\n",
       "    </tr>\n",
       "  </thead>\n",
       "  <tbody>\n",
       "    <tr>\n",
       "      <th>1501</th>\n",
       "      <td>0.523841</td>\n",
       "      <td>0.380018</td>\n",
       "      <td>1.397668</td>\n",
       "      <td>1.832757</td>\n",
       "      <td>-0.050539</td>\n",
       "      <td>-0.370155</td>\n",
       "      <td>-0.415394</td>\n",
       "      <td>-1.015830</td>\n",
       "      <td>-0.468665</td>\n",
       "      <td>1.118904</td>\n",
       "      <td>...</td>\n",
       "      <td>-1.087076</td>\n",
       "      <td>0.280815</td>\n",
       "      <td>1.197157</td>\n",
       "      <td>-0.330182</td>\n",
       "      <td>-0.384110</td>\n",
       "      <td>0.456972</td>\n",
       "      <td>0.408793</td>\n",
       "      <td>0.229924</td>\n",
       "      <td>0.065080</td>\n",
       "      <td>-0.460325</td>\n",
       "    </tr>\n",
       "    <tr>\n",
       "      <th>2586</th>\n",
       "      <td>0.427962</td>\n",
       "      <td>0.736934</td>\n",
       "      <td>-1.337873</td>\n",
       "      <td>-0.286005</td>\n",
       "      <td>1.022151</td>\n",
       "      <td>-1.001614</td>\n",
       "      <td>1.835519</td>\n",
       "      <td>-1.545811</td>\n",
       "      <td>0.770498</td>\n",
       "      <td>0.293343</td>\n",
       "      <td>...</td>\n",
       "      <td>-0.316910</td>\n",
       "      <td>0.912012</td>\n",
       "      <td>-0.200186</td>\n",
       "      <td>0.895191</td>\n",
       "      <td>-1.340780</td>\n",
       "      <td>-0.398981</td>\n",
       "      <td>-1.299802</td>\n",
       "      <td>-1.160043</td>\n",
       "      <td>0.238474</td>\n",
       "      <td>-0.353788</td>\n",
       "    </tr>\n",
       "    <tr>\n",
       "      <th>2653</th>\n",
       "      <td>-1.237790</td>\n",
       "      <td>0.022987</td>\n",
       "      <td>0.591727</td>\n",
       "      <td>0.153331</td>\n",
       "      <td>-1.080162</td>\n",
       "      <td>0.695919</td>\n",
       "      <td>-0.224618</td>\n",
       "      <td>-1.372016</td>\n",
       "      <td>-0.465166</td>\n",
       "      <td>2.577988</td>\n",
       "      <td>...</td>\n",
       "      <td>0.420588</td>\n",
       "      <td>-0.927035</td>\n",
       "      <td>-1.260994</td>\n",
       "      <td>-0.041976</td>\n",
       "      <td>0.559996</td>\n",
       "      <td>-0.025339</td>\n",
       "      <td>0.715960</td>\n",
       "      <td>-2.211627</td>\n",
       "      <td>-0.158048</td>\n",
       "      <td>0.088334</td>\n",
       "    </tr>\n",
       "    <tr>\n",
       "      <th>1055</th>\n",
       "      <td>1.163302</td>\n",
       "      <td>0.829281</td>\n",
       "      <td>-0.052936</td>\n",
       "      <td>0.871349</td>\n",
       "      <td>0.526932</td>\n",
       "      <td>-0.469475</td>\n",
       "      <td>0.681055</td>\n",
       "      <td>2.525169</td>\n",
       "      <td>0.805937</td>\n",
       "      <td>-0.311984</td>\n",
       "      <td>...</td>\n",
       "      <td>-0.363881</td>\n",
       "      <td>-1.270352</td>\n",
       "      <td>-0.114835</td>\n",
       "      <td>-0.838927</td>\n",
       "      <td>0.522602</td>\n",
       "      <td>0.531030</td>\n",
       "      <td>-0.113249</td>\n",
       "      <td>-0.130759</td>\n",
       "      <td>-1.530358</td>\n",
       "      <td>0.355058</td>\n",
       "    </tr>\n",
       "    <tr>\n",
       "      <th>705</th>\n",
       "      <td>-0.916867</td>\n",
       "      <td>-0.873641</td>\n",
       "      <td>0.964425</td>\n",
       "      <td>-3.404521</td>\n",
       "      <td>-0.352093</td>\n",
       "      <td>0.141089</td>\n",
       "      <td>0.059867</td>\n",
       "      <td>-0.401822</td>\n",
       "      <td>0.274345</td>\n",
       "      <td>1.985234</td>\n",
       "      <td>...</td>\n",
       "      <td>-0.846910</td>\n",
       "      <td>1.259358</td>\n",
       "      <td>-0.624477</td>\n",
       "      <td>0.947502</td>\n",
       "      <td>0.249482</td>\n",
       "      <td>-0.340038</td>\n",
       "      <td>-0.624088</td>\n",
       "      <td>0.983280</td>\n",
       "      <td>1.321964</td>\n",
       "      <td>0.613101</td>\n",
       "    </tr>\n",
       "  </tbody>\n",
       "</table>\n",
       "<p>5 rows × 30 columns</p>\n",
       "</div>"
      ],
      "text/plain": [
       "            X1        X2        X3        X4        X5        X6        X7  \\\n",
       "1501  0.523841  0.380018  1.397668  1.832757 -0.050539 -0.370155 -0.415394   \n",
       "2586  0.427962  0.736934 -1.337873 -0.286005  1.022151 -1.001614  1.835519   \n",
       "2653 -1.237790  0.022987  0.591727  0.153331 -1.080162  0.695919 -0.224618   \n",
       "1055  1.163302  0.829281 -0.052936  0.871349  0.526932 -0.469475  0.681055   \n",
       "705  -0.916867 -0.873641  0.964425 -3.404521 -0.352093  0.141089  0.059867   \n",
       "\n",
       "            X8        X9       X10  ...       X21       X22       X23  \\\n",
       "1501 -1.015830 -0.468665  1.118904  ... -1.087076  0.280815  1.197157   \n",
       "2586 -1.545811  0.770498  0.293343  ... -0.316910  0.912012 -0.200186   \n",
       "2653 -1.372016 -0.465166  2.577988  ...  0.420588 -0.927035 -1.260994   \n",
       "1055  2.525169  0.805937 -0.311984  ... -0.363881 -1.270352 -0.114835   \n",
       "705  -0.401822  0.274345  1.985234  ... -0.846910  1.259358 -0.624477   \n",
       "\n",
       "           X24       X25       X26       X27       X28       X29       X30  \n",
       "1501 -0.330182 -0.384110  0.456972  0.408793  0.229924  0.065080 -0.460325  \n",
       "2586  0.895191 -1.340780 -0.398981 -1.299802 -1.160043  0.238474 -0.353788  \n",
       "2653 -0.041976  0.559996 -0.025339  0.715960 -2.211627 -0.158048  0.088334  \n",
       "1055 -0.838927  0.522602  0.531030 -0.113249 -0.130759 -1.530358  0.355058  \n",
       "705   0.947502  0.249482 -0.340038 -0.624088  0.983280  1.321964  0.613101  \n",
       "\n",
       "[5 rows x 30 columns]"
      ]
     },
     "execution_count": 26,
     "metadata": {},
     "output_type": "execute_result"
    }
   ],
   "source": [
    "Xtest.head()"
   ]
  },
  {
   "cell_type": "code",
   "execution_count": 27,
   "metadata": {},
   "outputs": [
    {
     "data": {
      "text/html": [
       "<div>\n",
       "<style scoped>\n",
       "    .dataframe tbody tr th:only-of-type {\n",
       "        vertical-align: middle;\n",
       "    }\n",
       "\n",
       "    .dataframe tbody tr th {\n",
       "        vertical-align: top;\n",
       "    }\n",
       "\n",
       "    .dataframe thead th {\n",
       "        text-align: right;\n",
       "    }\n",
       "</style>\n",
       "<table border=\"1\" class=\"dataframe\">\n",
       "  <thead>\n",
       "    <tr style=\"text-align: right;\">\n",
       "      <th></th>\n",
       "      <th>Y</th>\n",
       "    </tr>\n",
       "  </thead>\n",
       "  <tbody>\n",
       "    <tr>\n",
       "      <th>1501</th>\n",
       "      <td>297.782677</td>\n",
       "    </tr>\n",
       "    <tr>\n",
       "      <th>2586</th>\n",
       "      <td>-55.418700</td>\n",
       "    </tr>\n",
       "    <tr>\n",
       "      <th>2653</th>\n",
       "      <td>-181.896454</td>\n",
       "    </tr>\n",
       "    <tr>\n",
       "      <th>1055</th>\n",
       "      <td>210.251382</td>\n",
       "    </tr>\n",
       "    <tr>\n",
       "      <th>705</th>\n",
       "      <td>188.412050</td>\n",
       "    </tr>\n",
       "  </tbody>\n",
       "</table>\n",
       "</div>"
      ],
      "text/plain": [
       "               Y\n",
       "1501  297.782677\n",
       "2586  -55.418700\n",
       "2653 -181.896454\n",
       "1055  210.251382\n",
       "705   188.412050"
      ]
     },
     "execution_count": 27,
     "metadata": {},
     "output_type": "execute_result"
    }
   ],
   "source": [
    "Ytest.head()"
   ]
  },
  {
   "cell_type": "code",
   "execution_count": 28,
   "metadata": {},
   "outputs": [
    {
     "data": {
      "text/plain": [
       "(4000, 30)"
      ]
     },
     "execution_count": 28,
     "metadata": {},
     "output_type": "execute_result"
    }
   ],
   "source": [
    "Xtrain.shape"
   ]
  },
  {
   "cell_type": "code",
   "execution_count": 29,
   "metadata": {},
   "outputs": [
    {
     "data": {
      "text/plain": [
       "(1000, 30)"
      ]
     },
     "execution_count": 29,
     "metadata": {},
     "output_type": "execute_result"
    }
   ],
   "source": [
    "Xtest.shape"
   ]
  },
  {
   "cell_type": "code",
   "execution_count": 30,
   "metadata": {},
   "outputs": [
    {
     "name": "stdout",
     "output_type": "stream",
     "text": [
      "WARNING:tensorflow:From d:\\Cources\\Deep Learning\\repository\\venv\\lib\\site-packages\\keras\\src\\losses.py:2976: The name tf.losses.sparse_softmax_cross_entropy is deprecated. Please use tf.compat.v1.losses.sparse_softmax_cross_entropy instead.\n",
      "\n"
     ]
    }
   ],
   "source": [
    "from keras.models import Sequential\n",
    "from keras.layers import Dense"
   ]
  },
  {
   "cell_type": "code",
   "execution_count": 31,
   "metadata": {},
   "outputs": [
    {
     "name": "stdout",
     "output_type": "stream",
     "text": [
      "WARNING:tensorflow:From d:\\Cources\\Deep Learning\\repository\\venv\\lib\\site-packages\\keras\\src\\backend.py:873: The name tf.get_default_graph is deprecated. Please use tf.compat.v1.get_default_graph instead.\n",
      "\n"
     ]
    }
   ],
   "source": [
    "# Initalize Sequential model\n",
    "model = Sequential()\n",
    "\n",
    "# Hidden Layer 1\n",
    "model.add(Dense(64, activation='relu', input_dim=Xtrain.shape[1]))\n",
    "# Hidden Layer 2\n",
    "model.add(Dense(32, activation='relu'))\n",
    "# Output Layer\n",
    "model.add(Dense(1, activation='linear'))"
   ]
  },
  {
   "cell_type": "code",
   "execution_count": 32,
   "metadata": {},
   "outputs": [
    {
     "name": "stdout",
     "output_type": "stream",
     "text": [
      "Model: \"sequential\"\n",
      "_________________________________________________________________\n",
      " Layer (type)                Output Shape              Param #   \n",
      "=================================================================\n",
      " dense (Dense)               (None, 64)                1984      \n",
      "                                                                 \n",
      " dense_1 (Dense)             (None, 32)                2080      \n",
      "                                                                 \n",
      " dense_2 (Dense)             (None, 1)                 33        \n",
      "                                                                 \n",
      "=================================================================\n",
      "Total params: 4097 (16.00 KB)\n",
      "Trainable params: 4097 (16.00 KB)\n",
      "Non-trainable params: 0 (0.00 Byte)\n",
      "_________________________________________________________________\n"
     ]
    }
   ],
   "source": [
    "model.summary()"
   ]
  },
  {
   "cell_type": "code",
   "execution_count": 33,
   "metadata": {},
   "outputs": [],
   "source": [
    "# Compile Model"
   ]
  },
  {
   "cell_type": "code",
   "execution_count": 34,
   "metadata": {},
   "outputs": [
    {
     "name": "stdout",
     "output_type": "stream",
     "text": [
      "WARNING:tensorflow:From d:\\Cources\\Deep Learning\\repository\\venv\\lib\\site-packages\\keras\\src\\optimizers\\__init__.py:309: The name tf.train.Optimizer is deprecated. Please use tf.compat.v1.train.Optimizer instead.\n",
      "\n"
     ]
    }
   ],
   "source": [
    "model.compile(optimizer='adam',loss='mse',metrics=['mae'])"
   ]
  },
  {
   "cell_type": "code",
   "execution_count": 35,
   "metadata": {},
   "outputs": [
    {
     "name": "stdout",
     "output_type": "stream",
     "text": [
      "Epoch 1/100\n",
      "WARNING:tensorflow:From d:\\Cources\\Deep Learning\\repository\\venv\\lib\\site-packages\\keras\\src\\utils\\tf_utils.py:492: The name tf.ragged.RaggedTensorValue is deprecated. Please use tf.compat.v1.ragged.RaggedTensorValue instead.\n",
      "\n",
      "WARNING:tensorflow:From d:\\Cources\\Deep Learning\\repository\\venv\\lib\\site-packages\\keras\\src\\engine\\base_layer_utils.py:384: The name tf.executing_eagerly_outside_functions is deprecated. Please use tf.compat.v1.executing_eagerly_outside_functions instead.\n",
      "\n",
      "100/100 [==============================] - 3s 8ms/step - loss: 66951.0938 - mae: 207.3579 - val_loss: 68351.2891 - val_mae: 208.4287\n",
      "Epoch 2/100\n",
      "100/100 [==============================] - 1s 6ms/step - loss: 56312.4688 - mae: 189.1104 - val_loss: 44789.7305 - val_mae: 166.1659\n",
      "Epoch 3/100\n",
      "100/100 [==============================] - 0s 5ms/step - loss: 23521.0723 - mae: 113.5897 - val_loss: 8382.8750 - val_mae: 64.7815\n",
      "Epoch 4/100\n",
      "100/100 [==============================] - 1s 5ms/step - loss: 2869.0283 - mae: 36.1486 - val_loss: 1204.1339 - val_mae: 26.1568\n",
      "Epoch 5/100\n",
      "100/100 [==============================] - 0s 5ms/step - loss: 774.9843 - mae: 21.3226 - val_loss: 646.2478 - val_mae: 19.3621\n",
      "Epoch 6/100\n",
      "100/100 [==============================] - 0s 4ms/step - loss: 500.6740 - mae: 17.2537 - val_loss: 481.7606 - val_mae: 16.7704\n",
      "Epoch 7/100\n",
      "100/100 [==============================] - 0s 5ms/step - loss: 410.0640 - mae: 15.8158 - val_loss: 439.2716 - val_mae: 16.1639\n",
      "Epoch 8/100\n",
      "100/100 [==============================] - 0s 5ms/step - loss: 379.8178 - mae: 15.2339 - val_loss: 406.5271 - val_mae: 15.9524\n",
      "Epoch 9/100\n",
      "100/100 [==============================] - 0s 5ms/step - loss: 360.6164 - mae: 14.8804 - val_loss: 381.5204 - val_mae: 15.4859\n",
      "Epoch 10/100\n",
      "100/100 [==============================] - 1s 5ms/step - loss: 338.7807 - mae: 14.4411 - val_loss: 362.2241 - val_mae: 14.8927\n",
      "Epoch 11/100\n",
      "100/100 [==============================] - 1s 5ms/step - loss: 321.9257 - mae: 13.9845 - val_loss: 348.7023 - val_mae: 14.6601\n",
      "Epoch 12/100\n",
      "100/100 [==============================] - 0s 5ms/step - loss: 305.0316 - mae: 13.7157 - val_loss: 340.6294 - val_mae: 14.2650\n",
      "Epoch 13/100\n",
      "100/100 [==============================] - 0s 5ms/step - loss: 285.8767 - mae: 13.2353 - val_loss: 315.9007 - val_mae: 14.0141\n",
      "Epoch 14/100\n",
      "100/100 [==============================] - 0s 5ms/step - loss: 267.9421 - mae: 12.7931 - val_loss: 300.5478 - val_mae: 13.5904\n",
      "Epoch 15/100\n",
      "100/100 [==============================] - 0s 5ms/step - loss: 250.6337 - mae: 12.3354 - val_loss: 283.9780 - val_mae: 13.5009\n",
      "Epoch 16/100\n",
      "100/100 [==============================] - 0s 4ms/step - loss: 236.7704 - mae: 12.0495 - val_loss: 279.0658 - val_mae: 13.0499\n",
      "Epoch 17/100\n",
      "100/100 [==============================] - 0s 5ms/step - loss: 221.9731 - mae: 11.6798 - val_loss: 256.4080 - val_mae: 12.6528\n",
      "Epoch 18/100\n",
      "100/100 [==============================] - 1s 5ms/step - loss: 206.5277 - mae: 11.1979 - val_loss: 244.3591 - val_mae: 12.4309\n",
      "Epoch 19/100\n",
      "100/100 [==============================] - 1s 5ms/step - loss: 195.0788 - mae: 10.9245 - val_loss: 234.2935 - val_mae: 12.2128\n",
      "Epoch 20/100\n",
      "100/100 [==============================] - 1s 6ms/step - loss: 183.1017 - mae: 10.5627 - val_loss: 220.3864 - val_mae: 11.9114\n",
      "Epoch 21/100\n",
      "100/100 [==============================] - 0s 5ms/step - loss: 171.3625 - mae: 10.2328 - val_loss: 210.9122 - val_mae: 11.5211\n",
      "Epoch 22/100\n",
      "100/100 [==============================] - 0s 4ms/step - loss: 160.7658 - mae: 9.9173 - val_loss: 199.2162 - val_mae: 11.2923\n",
      "Epoch 23/100\n",
      "100/100 [==============================] - 0s 4ms/step - loss: 150.8178 - mae: 9.6127 - val_loss: 194.9234 - val_mae: 11.0743\n",
      "Epoch 24/100\n",
      "100/100 [==============================] - 0s 4ms/step - loss: 142.6962 - mae: 9.3551 - val_loss: 184.7234 - val_mae: 10.8998\n",
      "Epoch 25/100\n",
      "100/100 [==============================] - 0s 4ms/step - loss: 135.0208 - mae: 9.1468 - val_loss: 177.7440 - val_mae: 10.7013\n",
      "Epoch 26/100\n",
      "100/100 [==============================] - 0s 5ms/step - loss: 127.5739 - mae: 8.9087 - val_loss: 168.3145 - val_mae: 10.4403\n",
      "Epoch 27/100\n",
      "100/100 [==============================] - 1s 5ms/step - loss: 122.6195 - mae: 8.7218 - val_loss: 167.1087 - val_mae: 10.3274\n",
      "Epoch 28/100\n",
      "100/100 [==============================] - 0s 4ms/step - loss: 116.5066 - mae: 8.4686 - val_loss: 159.7290 - val_mae: 10.1418\n",
      "Epoch 29/100\n",
      "100/100 [==============================] - 0s 5ms/step - loss: 111.5776 - mae: 8.3443 - val_loss: 155.2799 - val_mae: 9.9237\n",
      "Epoch 30/100\n",
      "100/100 [==============================] - 0s 5ms/step - loss: 106.9237 - mae: 8.1471 - val_loss: 150.9560 - val_mae: 9.8239\n",
      "Epoch 31/100\n",
      "100/100 [==============================] - 0s 5ms/step - loss: 103.6034 - mae: 8.0514 - val_loss: 145.9676 - val_mae: 9.6702\n",
      "Epoch 32/100\n",
      "100/100 [==============================] - 0s 5ms/step - loss: 100.8363 - mae: 7.9275 - val_loss: 144.7150 - val_mae: 9.5895\n",
      "Epoch 33/100\n",
      "100/100 [==============================] - 0s 4ms/step - loss: 97.6657 - mae: 7.8016 - val_loss: 149.5821 - val_mae: 9.7488\n",
      "Epoch 34/100\n",
      "100/100 [==============================] - 0s 5ms/step - loss: 95.6983 - mae: 7.6864 - val_loss: 143.2608 - val_mae: 9.6089\n",
      "Epoch 35/100\n",
      "100/100 [==============================] - 1s 5ms/step - loss: 92.7014 - mae: 7.6090 - val_loss: 140.7432 - val_mae: 9.4813\n",
      "Epoch 36/100\n",
      "100/100 [==============================] - 0s 4ms/step - loss: 90.6191 - mae: 7.5287 - val_loss: 140.3340 - val_mae: 9.4701\n",
      "Epoch 37/100\n",
      "100/100 [==============================] - 0s 5ms/step - loss: 89.6147 - mae: 7.4657 - val_loss: 136.9539 - val_mae: 9.3723\n",
      "Epoch 38/100\n",
      "100/100 [==============================] - 1s 5ms/step - loss: 87.5144 - mae: 7.3653 - val_loss: 140.2405 - val_mae: 9.4354\n",
      "Epoch 39/100\n",
      "100/100 [==============================] - 0s 5ms/step - loss: 86.7554 - mae: 7.3323 - val_loss: 139.4963 - val_mae: 9.3788\n",
      "Epoch 40/100\n",
      "100/100 [==============================] - 0s 4ms/step - loss: 85.2108 - mae: 7.2374 - val_loss: 137.1367 - val_mae: 9.3324\n",
      "Epoch 41/100\n",
      "100/100 [==============================] - 0s 5ms/step - loss: 83.8708 - mae: 7.1841 - val_loss: 134.5777 - val_mae: 9.2786\n",
      "Epoch 42/100\n",
      "100/100 [==============================] - 0s 5ms/step - loss: 82.8309 - mae: 7.1544 - val_loss: 135.3682 - val_mae: 9.2552\n",
      "Epoch 43/100\n",
      "100/100 [==============================] - 1s 5ms/step - loss: 82.2764 - mae: 7.1434 - val_loss: 135.8726 - val_mae: 9.2475\n",
      "Epoch 44/100\n",
      "100/100 [==============================] - 0s 4ms/step - loss: 80.2314 - mae: 7.0302 - val_loss: 139.1323 - val_mae: 9.2606\n",
      "Epoch 45/100\n",
      "100/100 [==============================] - 0s 4ms/step - loss: 80.0407 - mae: 7.0358 - val_loss: 134.1909 - val_mae: 9.2159\n",
      "Epoch 46/100\n",
      "100/100 [==============================] - 0s 5ms/step - loss: 79.5610 - mae: 7.0009 - val_loss: 133.0694 - val_mae: 9.1943\n",
      "Epoch 47/100\n",
      "100/100 [==============================] - 0s 5ms/step - loss: 79.1897 - mae: 6.9604 - val_loss: 140.2395 - val_mae: 9.3660\n",
      "Epoch 48/100\n",
      "100/100 [==============================] - 0s 5ms/step - loss: 79.0504 - mae: 6.9987 - val_loss: 134.4124 - val_mae: 9.1487\n",
      "Epoch 49/100\n",
      "100/100 [==============================] - 0s 5ms/step - loss: 76.4874 - mae: 6.8617 - val_loss: 136.4530 - val_mae: 9.2758\n",
      "Epoch 50/100\n",
      "100/100 [==============================] - 0s 5ms/step - loss: 76.8213 - mae: 6.8679 - val_loss: 133.3631 - val_mae: 9.1832\n",
      "Epoch 51/100\n",
      "100/100 [==============================] - 1s 5ms/step - loss: 75.4441 - mae: 6.8248 - val_loss: 138.0740 - val_mae: 9.3110\n",
      "Epoch 52/100\n",
      "100/100 [==============================] - 0s 4ms/step - loss: 74.8056 - mae: 6.7866 - val_loss: 134.0764 - val_mae: 9.2321\n",
      "Epoch 53/100\n",
      "100/100 [==============================] - 1s 5ms/step - loss: 73.8954 - mae: 6.7341 - val_loss: 136.3243 - val_mae: 9.2692\n",
      "Epoch 54/100\n",
      "100/100 [==============================] - 0s 5ms/step - loss: 73.6706 - mae: 6.7477 - val_loss: 136.1015 - val_mae: 9.2608\n",
      "Epoch 55/100\n",
      "100/100 [==============================] - 0s 5ms/step - loss: 74.7381 - mae: 6.7344 - val_loss: 136.9946 - val_mae: 9.3759\n",
      "Epoch 56/100\n",
      "100/100 [==============================] - 0s 5ms/step - loss: 73.1770 - mae: 6.7032 - val_loss: 136.1570 - val_mae: 9.1765\n",
      "Epoch 57/100\n",
      "100/100 [==============================] - 0s 4ms/step - loss: 71.6599 - mae: 6.6494 - val_loss: 137.2395 - val_mae: 9.2181\n",
      "Epoch 58/100\n",
      "100/100 [==============================] - 1s 7ms/step - loss: 72.8841 - mae: 6.6771 - val_loss: 135.4422 - val_mae: 9.2016\n",
      "Epoch 59/100\n",
      "100/100 [==============================] - 1s 5ms/step - loss: 71.6385 - mae: 6.6061 - val_loss: 136.9244 - val_mae: 9.2305\n",
      "Epoch 60/100\n",
      "100/100 [==============================] - 0s 4ms/step - loss: 70.2795 - mae: 6.5530 - val_loss: 133.4577 - val_mae: 9.1596\n",
      "Epoch 61/100\n",
      "100/100 [==============================] - 0s 4ms/step - loss: 70.7397 - mae: 6.5939 - val_loss: 137.4436 - val_mae: 9.2413\n",
      "Epoch 62/100\n",
      "100/100 [==============================] - 0s 4ms/step - loss: 69.4828 - mae: 6.5426 - val_loss: 137.6974 - val_mae: 9.2731\n",
      "Epoch 63/100\n",
      "100/100 [==============================] - 0s 5ms/step - loss: 70.2917 - mae: 6.5535 - val_loss: 135.2897 - val_mae: 9.2882\n",
      "Epoch 64/100\n",
      "100/100 [==============================] - 0s 4ms/step - loss: 68.9202 - mae: 6.5256 - val_loss: 135.6344 - val_mae: 9.2787\n",
      "Epoch 65/100\n",
      "100/100 [==============================] - 0s 4ms/step - loss: 68.7122 - mae: 6.4845 - val_loss: 137.0136 - val_mae: 9.2895\n",
      "Epoch 66/100\n",
      "100/100 [==============================] - 0s 5ms/step - loss: 68.2859 - mae: 6.4752 - val_loss: 137.6705 - val_mae: 9.2902\n",
      "Epoch 67/100\n",
      "100/100 [==============================] - 1s 7ms/step - loss: 66.7865 - mae: 6.4047 - val_loss: 136.0397 - val_mae: 9.1813\n",
      "Epoch 68/100\n",
      "100/100 [==============================] - 0s 5ms/step - loss: 67.2155 - mae: 6.3792 - val_loss: 134.8032 - val_mae: 9.1811\n",
      "Epoch 69/100\n",
      "100/100 [==============================] - 0s 4ms/step - loss: 66.1434 - mae: 6.3785 - val_loss: 135.8912 - val_mae: 9.2055\n",
      "Epoch 70/100\n",
      "100/100 [==============================] - 0s 4ms/step - loss: 66.8844 - mae: 6.3938 - val_loss: 133.4938 - val_mae: 9.1493\n",
      "Epoch 71/100\n",
      "100/100 [==============================] - 0s 4ms/step - loss: 67.1574 - mae: 6.4086 - val_loss: 134.2191 - val_mae: 9.2028\n",
      "Epoch 72/100\n",
      "100/100 [==============================] - 0s 4ms/step - loss: 66.5926 - mae: 6.3846 - val_loss: 135.3073 - val_mae: 9.2809\n",
      "Epoch 73/100\n",
      "100/100 [==============================] - 0s 4ms/step - loss: 65.4685 - mae: 6.3474 - val_loss: 133.9904 - val_mae: 9.1433\n",
      "Epoch 74/100\n",
      "100/100 [==============================] - 0s 5ms/step - loss: 65.1991 - mae: 6.3373 - val_loss: 134.0788 - val_mae: 9.1445\n",
      "Epoch 75/100\n",
      "100/100 [==============================] - 1s 5ms/step - loss: 64.8182 - mae: 6.2944 - val_loss: 142.9968 - val_mae: 9.4073\n",
      "Epoch 76/100\n",
      "100/100 [==============================] - 0s 5ms/step - loss: 63.5804 - mae: 6.2105 - val_loss: 134.1730 - val_mae: 9.1681\n",
      "Epoch 77/100\n",
      "100/100 [==============================] - 0s 4ms/step - loss: 63.3577 - mae: 6.2627 - val_loss: 140.9835 - val_mae: 9.3137\n",
      "Epoch 78/100\n",
      "100/100 [==============================] - 0s 5ms/step - loss: 63.8053 - mae: 6.2445 - val_loss: 141.2239 - val_mae: 9.4377\n",
      "Epoch 79/100\n",
      "100/100 [==============================] - 1s 5ms/step - loss: 62.3810 - mae: 6.1615 - val_loss: 138.0953 - val_mae: 9.4893\n",
      "Epoch 80/100\n",
      "100/100 [==============================] - 0s 5ms/step - loss: 64.6977 - mae: 6.2673 - val_loss: 139.5327 - val_mae: 9.3865\n",
      "Epoch 81/100\n",
      "100/100 [==============================] - 0s 4ms/step - loss: 63.2135 - mae: 6.2109 - val_loss: 144.6425 - val_mae: 9.4280\n",
      "Epoch 82/100\n",
      "100/100 [==============================] - 0s 5ms/step - loss: 62.5789 - mae: 6.1717 - val_loss: 136.7463 - val_mae: 9.3188\n",
      "Epoch 83/100\n",
      "100/100 [==============================] - 1s 5ms/step - loss: 62.0830 - mae: 6.1933 - val_loss: 136.5408 - val_mae: 9.2113\n",
      "Epoch 84/100\n",
      "100/100 [==============================] - 0s 5ms/step - loss: 61.8336 - mae: 6.1582 - val_loss: 136.3435 - val_mae: 9.2616\n",
      "Epoch 85/100\n",
      "100/100 [==============================] - 0s 4ms/step - loss: 62.0637 - mae: 6.1193 - val_loss: 142.9075 - val_mae: 9.3453\n",
      "Epoch 86/100\n",
      "100/100 [==============================] - 0s 4ms/step - loss: 62.4172 - mae: 6.1776 - val_loss: 137.2756 - val_mae: 9.2049\n",
      "Epoch 87/100\n",
      "100/100 [==============================] - 0s 4ms/step - loss: 62.2080 - mae: 6.1396 - val_loss: 139.9923 - val_mae: 9.2992\n",
      "Epoch 88/100\n",
      "100/100 [==============================] - 1s 6ms/step - loss: 61.5645 - mae: 6.1555 - val_loss: 138.8648 - val_mae: 9.2911\n",
      "Epoch 89/100\n",
      "100/100 [==============================] - 0s 5ms/step - loss: 60.7649 - mae: 6.0686 - val_loss: 137.7108 - val_mae: 9.2901\n",
      "Epoch 90/100\n",
      "100/100 [==============================] - 0s 5ms/step - loss: 59.8962 - mae: 6.0636 - val_loss: 138.5791 - val_mae: 9.4364\n",
      "Epoch 91/100\n",
      "100/100 [==============================] - 1s 5ms/step - loss: 59.4232 - mae: 6.0341 - val_loss: 136.1408 - val_mae: 9.2650\n",
      "Epoch 92/100\n",
      "100/100 [==============================] - 0s 5ms/step - loss: 59.3383 - mae: 5.9979 - val_loss: 132.8979 - val_mae: 9.1053\n",
      "Epoch 93/100\n",
      "100/100 [==============================] - 1s 5ms/step - loss: 59.6627 - mae: 6.0226 - val_loss: 134.9803 - val_mae: 9.2103\n",
      "Epoch 94/100\n",
      "100/100 [==============================] - 0s 5ms/step - loss: 59.1922 - mae: 6.0256 - val_loss: 141.0865 - val_mae: 9.3849\n",
      "Epoch 95/100\n",
      "100/100 [==============================] - 0s 5ms/step - loss: 58.6361 - mae: 6.0051 - val_loss: 143.1153 - val_mae: 9.3734\n",
      "Epoch 96/100\n",
      "100/100 [==============================] - 0s 4ms/step - loss: 59.5760 - mae: 6.0089 - val_loss: 143.8413 - val_mae: 9.3609\n",
      "Epoch 97/100\n",
      "100/100 [==============================] - 0s 5ms/step - loss: 59.1042 - mae: 6.0053 - val_loss: 138.1832 - val_mae: 9.2364\n",
      "Epoch 98/100\n",
      "100/100 [==============================] - 1s 5ms/step - loss: 58.8836 - mae: 6.0189 - val_loss: 138.9538 - val_mae: 9.3213\n",
      "Epoch 99/100\n",
      "100/100 [==============================] - 1s 5ms/step - loss: 59.5154 - mae: 6.0178 - val_loss: 142.9053 - val_mae: 9.5996\n",
      "Epoch 100/100\n",
      "100/100 [==============================] - 0s 4ms/step - loss: 58.4402 - mae: 5.9833 - val_loss: 139.7360 - val_mae: 9.4586\n"
     ]
    },
    {
     "data": {
      "text/plain": [
       "<keras.src.callbacks.History at 0x277b9d46500>"
      ]
     },
     "execution_count": 35,
     "metadata": {},
     "output_type": "execute_result"
    }
   ],
   "source": [
    "hist=model.fit(Xtrain,Ytrain,validation_split=0.2,epochs=100)\n",
    "hist"
   ]
  },
  {
   "cell_type": "code",
   "execution_count": 36,
   "metadata": {},
   "outputs": [
    {
     "data": {
      "text/plain": [
       "<keras.src.callbacks.History at 0x277b9d46500>"
      ]
     },
     "execution_count": 36,
     "metadata": {},
     "output_type": "execute_result"
    }
   ],
   "source": [
    "hist"
   ]
  },
  {
   "cell_type": "code",
   "execution_count": 37,
   "metadata": {},
   "outputs": [
    {
     "data": {
      "text/plain": [
       "[66951.09375,\n",
       " 56312.46875,\n",
       " 23521.072265625,\n",
       " 2869.0283203125,\n",
       " 774.9843139648438,\n",
       " 500.67401123046875,\n",
       " 410.06402587890625,\n",
       " 379.8178405761719,\n",
       " 360.6163635253906,\n",
       " 338.7806701660156,\n",
       " 321.9256896972656,\n",
       " 305.0316467285156,\n",
       " 285.876708984375,\n",
       " 267.94207763671875,\n",
       " 250.63365173339844,\n",
       " 236.77035522460938,\n",
       " 221.9730682373047,\n",
       " 206.52769470214844,\n",
       " 195.07876586914062,\n",
       " 183.10165405273438,\n",
       " 171.3625030517578,\n",
       " 160.76577758789062,\n",
       " 150.81777954101562,\n",
       " 142.69622802734375,\n",
       " 135.02084350585938,\n",
       " 127.5738754272461,\n",
       " 122.61946105957031,\n",
       " 116.5065689086914,\n",
       " 111.57759857177734,\n",
       " 106.92365264892578,\n",
       " 103.60343933105469,\n",
       " 100.83628845214844,\n",
       " 97.66570281982422,\n",
       " 95.69834899902344,\n",
       " 92.701416015625,\n",
       " 90.61914825439453,\n",
       " 89.61470794677734,\n",
       " 87.51435852050781,\n",
       " 86.75541687011719,\n",
       " 85.21075439453125,\n",
       " 83.87078094482422,\n",
       " 82.83087921142578,\n",
       " 82.2763671875,\n",
       " 80.2314224243164,\n",
       " 80.0407485961914,\n",
       " 79.56095886230469,\n",
       " 79.1896743774414,\n",
       " 79.05040740966797,\n",
       " 76.48741912841797,\n",
       " 76.82128143310547,\n",
       " 75.4441146850586,\n",
       " 74.80558776855469,\n",
       " 73.89541625976562,\n",
       " 73.6706314086914,\n",
       " 74.73810577392578,\n",
       " 73.17697143554688,\n",
       " 71.6598892211914,\n",
       " 72.88408660888672,\n",
       " 71.63850402832031,\n",
       " 70.27951049804688,\n",
       " 70.73966979980469,\n",
       " 69.4828109741211,\n",
       " 70.29174041748047,\n",
       " 68.92017364501953,\n",
       " 68.71215057373047,\n",
       " 68.28588104248047,\n",
       " 66.78654479980469,\n",
       " 67.21546173095703,\n",
       " 66.14338684082031,\n",
       " 66.88436889648438,\n",
       " 67.15741729736328,\n",
       " 66.59257507324219,\n",
       " 65.4684829711914,\n",
       " 65.1990737915039,\n",
       " 64.8182144165039,\n",
       " 63.58042907714844,\n",
       " 63.357704162597656,\n",
       " 63.80534744262695,\n",
       " 62.38102722167969,\n",
       " 64.69767761230469,\n",
       " 63.213478088378906,\n",
       " 62.578895568847656,\n",
       " 62.08298873901367,\n",
       " 61.833641052246094,\n",
       " 62.063655853271484,\n",
       " 62.41721725463867,\n",
       " 62.20799255371094,\n",
       " 61.564456939697266,\n",
       " 60.76494216918945,\n",
       " 59.89622497558594,\n",
       " 59.423187255859375,\n",
       " 59.33830261230469,\n",
       " 59.66270446777344,\n",
       " 59.19215774536133,\n",
       " 58.6361198425293,\n",
       " 59.57596206665039,\n",
       " 59.104225158691406,\n",
       " 58.88357925415039,\n",
       " 59.51543426513672,\n",
       " 58.440208435058594]"
      ]
     },
     "execution_count": 37,
     "metadata": {},
     "output_type": "execute_result"
    }
   ],
   "source": [
    "hist.history['loss']"
   ]
  },
  {
   "cell_type": "code",
   "execution_count": 38,
   "metadata": {},
   "outputs": [
    {
     "data": {
      "text/plain": [
       "[68351.2890625,\n",
       " 44789.73046875,\n",
       " 8382.875,\n",
       " 1204.1339111328125,\n",
       " 646.247802734375,\n",
       " 481.76055908203125,\n",
       " 439.2716369628906,\n",
       " 406.527099609375,\n",
       " 381.5204162597656,\n",
       " 362.22406005859375,\n",
       " 348.7022705078125,\n",
       " 340.6293640136719,\n",
       " 315.90069580078125,\n",
       " 300.5478210449219,\n",
       " 283.9779968261719,\n",
       " 279.0658264160156,\n",
       " 256.40802001953125,\n",
       " 244.35914611816406,\n",
       " 234.2935028076172,\n",
       " 220.3863525390625,\n",
       " 210.9121551513672,\n",
       " 199.2162322998047,\n",
       " 194.9234161376953,\n",
       " 184.72340393066406,\n",
       " 177.74398803710938,\n",
       " 168.314453125,\n",
       " 167.10867309570312,\n",
       " 159.72901916503906,\n",
       " 155.27989196777344,\n",
       " 150.95603942871094,\n",
       " 145.9676055908203,\n",
       " 144.7150115966797,\n",
       " 149.58212280273438,\n",
       " 143.26084899902344,\n",
       " 140.74317932128906,\n",
       " 140.33404541015625,\n",
       " 136.953857421875,\n",
       " 140.24049377441406,\n",
       " 139.4962921142578,\n",
       " 137.13670349121094,\n",
       " 134.57769775390625,\n",
       " 135.36822509765625,\n",
       " 135.8726043701172,\n",
       " 139.13230895996094,\n",
       " 134.19094848632812,\n",
       " 133.0694122314453,\n",
       " 140.23951721191406,\n",
       " 134.41236877441406,\n",
       " 136.45303344726562,\n",
       " 133.36312866210938,\n",
       " 138.07403564453125,\n",
       " 134.0763702392578,\n",
       " 136.3243408203125,\n",
       " 136.10145568847656,\n",
       " 136.99459838867188,\n",
       " 136.15704345703125,\n",
       " 137.2395477294922,\n",
       " 135.4422149658203,\n",
       " 136.92440795898438,\n",
       " 133.45774841308594,\n",
       " 137.44358825683594,\n",
       " 137.6973876953125,\n",
       " 135.28970336914062,\n",
       " 135.63442993164062,\n",
       " 137.01364135742188,\n",
       " 137.6704559326172,\n",
       " 136.0397491455078,\n",
       " 134.80316162109375,\n",
       " 135.89122009277344,\n",
       " 133.49375915527344,\n",
       " 134.21914672851562,\n",
       " 135.3072509765625,\n",
       " 133.9904327392578,\n",
       " 134.07879638671875,\n",
       " 142.99684143066406,\n",
       " 134.17298889160156,\n",
       " 140.98350524902344,\n",
       " 141.2239227294922,\n",
       " 138.09527587890625,\n",
       " 139.53268432617188,\n",
       " 144.64251708984375,\n",
       " 136.74632263183594,\n",
       " 136.54075622558594,\n",
       " 136.34349060058594,\n",
       " 142.90745544433594,\n",
       " 137.2755584716797,\n",
       " 139.9923095703125,\n",
       " 138.86476135253906,\n",
       " 137.71075439453125,\n",
       " 138.5791473388672,\n",
       " 136.14080810546875,\n",
       " 132.89794921875,\n",
       " 134.98025512695312,\n",
       " 141.0865478515625,\n",
       " 143.1152801513672,\n",
       " 143.84132385253906,\n",
       " 138.1832275390625,\n",
       " 138.95384216308594,\n",
       " 142.9053192138672,\n",
       " 139.73597717285156]"
      ]
     },
     "execution_count": 38,
     "metadata": {},
     "output_type": "execute_result"
    }
   ],
   "source": [
    "\n",
    "hist.history['val_loss']"
   ]
  },
  {
   "cell_type": "code",
   "execution_count": 39,
   "metadata": {},
   "outputs": [
    {
     "data": {
      "text/plain": [
       "[207.35792541503906,\n",
       " 189.1103515625,\n",
       " 113.58970642089844,\n",
       " 36.14860916137695,\n",
       " 21.322608947753906,\n",
       " 17.25368309020996,\n",
       " 15.815781593322754,\n",
       " 15.233887672424316,\n",
       " 14.880413055419922,\n",
       " 14.441106796264648,\n",
       " 13.984502792358398,\n",
       " 13.715682029724121,\n",
       " 13.235260009765625,\n",
       " 12.793074607849121,\n",
       " 12.33543586730957,\n",
       " 12.049490928649902,\n",
       " 11.679783821105957,\n",
       " 11.197861671447754,\n",
       " 10.924522399902344,\n",
       " 10.562702178955078,\n",
       " 10.232806205749512,\n",
       " 9.917290687561035,\n",
       " 9.612696647644043,\n",
       " 9.355116844177246,\n",
       " 9.146800994873047,\n",
       " 8.908686637878418,\n",
       " 8.721753120422363,\n",
       " 8.46860122680664,\n",
       " 8.34427261352539,\n",
       " 8.147089004516602,\n",
       " 8.051426887512207,\n",
       " 7.927477836608887,\n",
       " 7.801623344421387,\n",
       " 7.686406135559082,\n",
       " 7.609048366546631,\n",
       " 7.528657913208008,\n",
       " 7.465723991394043,\n",
       " 7.36528205871582,\n",
       " 7.332272529602051,\n",
       " 7.237354755401611,\n",
       " 7.1840620040893555,\n",
       " 7.154412269592285,\n",
       " 7.1433820724487305,\n",
       " 7.03021240234375,\n",
       " 7.0357584953308105,\n",
       " 7.000911712646484,\n",
       " 6.960435390472412,\n",
       " 6.998654365539551,\n",
       " 6.861710071563721,\n",
       " 6.8678741455078125,\n",
       " 6.824834823608398,\n",
       " 6.786600112915039,\n",
       " 6.734093189239502,\n",
       " 6.747702598571777,\n",
       " 6.734432220458984,\n",
       " 6.7032012939453125,\n",
       " 6.649445056915283,\n",
       " 6.67709493637085,\n",
       " 6.606103897094727,\n",
       " 6.552982807159424,\n",
       " 6.593893051147461,\n",
       " 6.542632579803467,\n",
       " 6.5535173416137695,\n",
       " 6.525626182556152,\n",
       " 6.484541416168213,\n",
       " 6.475232124328613,\n",
       " 6.404702663421631,\n",
       " 6.379152297973633,\n",
       " 6.378489971160889,\n",
       " 6.393834114074707,\n",
       " 6.4085845947265625,\n",
       " 6.3846282958984375,\n",
       " 6.34738826751709,\n",
       " 6.337274074554443,\n",
       " 6.294387340545654,\n",
       " 6.210458755493164,\n",
       " 6.262686729431152,\n",
       " 6.244528293609619,\n",
       " 6.161539077758789,\n",
       " 6.2672834396362305,\n",
       " 6.210866928100586,\n",
       " 6.171744346618652,\n",
       " 6.19328498840332,\n",
       " 6.1582465171813965,\n",
       " 6.119256973266602,\n",
       " 6.177577018737793,\n",
       " 6.139632701873779,\n",
       " 6.155456066131592,\n",
       " 6.068592071533203,\n",
       " 6.0636162757873535,\n",
       " 6.034097671508789,\n",
       " 5.997899055480957,\n",
       " 6.0225725173950195,\n",
       " 6.025609970092773,\n",
       " 6.005146503448486,\n",
       " 6.008923530578613,\n",
       " 6.005349159240723,\n",
       " 6.018868923187256,\n",
       " 6.017784595489502,\n",
       " 5.983275890350342]"
      ]
     },
     "execution_count": 39,
     "metadata": {},
     "output_type": "execute_result"
    }
   ],
   "source": [
    "hist.history['mae']"
   ]
  },
  {
   "cell_type": "code",
   "execution_count": 40,
   "metadata": {},
   "outputs": [
    {
     "data": {
      "text/plain": [
       "[208.42872619628906,\n",
       " 166.16586303710938,\n",
       " 64.78145599365234,\n",
       " 26.156841278076172,\n",
       " 19.36210060119629,\n",
       " 16.770370483398438,\n",
       " 16.16386604309082,\n",
       " 15.952392578125,\n",
       " 15.485901832580566,\n",
       " 14.892731666564941,\n",
       " 14.660053253173828,\n",
       " 14.264975547790527,\n",
       " 14.014110565185547,\n",
       " 13.590353012084961,\n",
       " 13.500884056091309,\n",
       " 13.049877166748047,\n",
       " 12.652775764465332,\n",
       " 12.430883407592773,\n",
       " 12.212808609008789,\n",
       " 11.91141128540039,\n",
       " 11.521082878112793,\n",
       " 11.292309761047363,\n",
       " 11.074346542358398,\n",
       " 10.899847030639648,\n",
       " 10.701321601867676,\n",
       " 10.440299987792969,\n",
       " 10.327361106872559,\n",
       " 10.141770362854004,\n",
       " 9.923664093017578,\n",
       " 9.82387638092041,\n",
       " 9.670184135437012,\n",
       " 9.589502334594727,\n",
       " 9.748814582824707,\n",
       " 9.608938217163086,\n",
       " 9.48128890991211,\n",
       " 9.470115661621094,\n",
       " 9.372304916381836,\n",
       " 9.435359001159668,\n",
       " 9.3787841796875,\n",
       " 9.332369804382324,\n",
       " 9.27856731414795,\n",
       " 9.255156517028809,\n",
       " 9.247464179992676,\n",
       " 9.260565757751465,\n",
       " 9.215860366821289,\n",
       " 9.194267272949219,\n",
       " 9.365992546081543,\n",
       " 9.148741722106934,\n",
       " 9.275754928588867,\n",
       " 9.183228492736816,\n",
       " 9.310973167419434,\n",
       " 9.232073783874512,\n",
       " 9.269219398498535,\n",
       " 9.260835647583008,\n",
       " 9.375853538513184,\n",
       " 9.176545143127441,\n",
       " 9.218069076538086,\n",
       " 9.201562881469727,\n",
       " 9.230474472045898,\n",
       " 9.159640312194824,\n",
       " 9.241299629211426,\n",
       " 9.273109436035156,\n",
       " 9.28819465637207,\n",
       " 9.278702735900879,\n",
       " 9.289471626281738,\n",
       " 9.290186882019043,\n",
       " 9.181334495544434,\n",
       " 9.181098937988281,\n",
       " 9.205462455749512,\n",
       " 9.149333953857422,\n",
       " 9.202814102172852,\n",
       " 9.280909538269043,\n",
       " 9.143336296081543,\n",
       " 9.144525527954102,\n",
       " 9.407330513000488,\n",
       " 9.168050765991211,\n",
       " 9.313653945922852,\n",
       " 9.437654495239258,\n",
       " 9.489348411560059,\n",
       " 9.38652229309082,\n",
       " 9.427957534790039,\n",
       " 9.318818092346191,\n",
       " 9.211318016052246,\n",
       " 9.261584281921387,\n",
       " 9.345327377319336,\n",
       " 9.204902648925781,\n",
       " 9.299162864685059,\n",
       " 9.291104316711426,\n",
       " 9.29006576538086,\n",
       " 9.436395645141602,\n",
       " 9.26504135131836,\n",
       " 9.105310440063477,\n",
       " 9.210309982299805,\n",
       " 9.384897232055664,\n",
       " 9.373444557189941,\n",
       " 9.360891342163086,\n",
       " 9.236414909362793,\n",
       " 9.321337699890137,\n",
       " 9.599628448486328,\n",
       " 9.458606719970703]"
      ]
     },
     "execution_count": 40,
     "metadata": {},
     "output_type": "execute_result"
    }
   ],
   "source": [
    "hist.history['val_mae']"
   ]
  },
  {
   "cell_type": "code",
   "execution_count": 41,
   "metadata": {},
   "outputs": [],
   "source": [
    "# Plot the learning curve"
   ]
  },
  {
   "cell_type": "code",
   "execution_count": 42,
   "metadata": {},
   "outputs": [
    {
     "data": {
      "image/png": "[encoded data removed]",
      "text/plain": [
       "<Figure size 1600x800 with 1 Axes>"
      ]
     },
     "metadata": {},
     "output_type": "display_data"
    }
   ],
   "source": [
    "import matplotlib.pyplot as plt\n",
    "plt.figure(figsize=(16,8))\n",
    "plt.plot(hist.history['loss'], label='Train MSE')\n",
    "plt.plot(hist.history['val_loss'], label='Validation MSE')\n",
    "plt.xlabel('Epochs')\n",
    "plt.ylabel('Mean Squared Error')\n",
    "plt.title('Learning Curve')\n",
    "plt.legend()\n",
    "plt.show()"
   ]
  },
  {
   "cell_type": "code",
   "execution_count": 43,
   "metadata": {},
   "outputs": [],
   "source": [
    "# Evaluation Model"
   ]
  },
  {
   "cell_type": "code",
   "execution_count": 44,
   "metadata": {},
   "outputs": [
    {
     "name": "stdout",
     "output_type": "stream",
     "text": [
      "125/125 [==============================] - 0s 3ms/step - loss: 73.1775 - mae: 6.5838\n"
     ]
    },
    {
     "data": {
      "text/plain": [
       "[73.17748260498047, 6.583801746368408]"
      ]
     },
     "execution_count": 44,
     "metadata": {},
     "output_type": "execute_result"
    }
   ],
   "source": [
    "model.evaluate (Xtrain,Ytrain)"
   ]
  },
  {
   "cell_type": "code",
   "execution_count": 45,
   "metadata": {},
   "outputs": [
    {
     "name": "stdout",
     "output_type": "stream",
     "text": [
      "32/32 [==============================] - 1s 5ms/step - loss: 127.7508 - mae: 9.0229\n"
     ]
    },
    {
     "data": {
      "text/plain": [
       "[127.75078582763672, 9.022899627685547]"
      ]
     },
     "execution_count": 45,
     "metadata": {},
     "output_type": "execute_result"
    }
   ],
   "source": [
    "model.evaluate(Xtest,Ytest)"
   ]
  },
  {
   "cell_type": "code",
   "execution_count": 46,
   "metadata": {},
   "outputs": [],
   "source": [
    "# PPredect Train & Test"
   ]
  },
  {
   "cell_type": "code",
   "execution_count": 47,
   "metadata": {},
   "outputs": [
    {
     "name": "stdout",
     "output_type": "stream",
     "text": [
      "125/125 [==============================] - 1s 4ms/step\n"
     ]
    }
   ],
   "source": [
    "Ypred_tr=model.predict(Xtrain)\n"
   ]
  },
  {
   "cell_type": "code",
   "execution_count": 48,
   "metadata": {},
   "outputs": [
    {
     "name": "stdout",
     "output_type": "stream",
     "text": [
      "32/32 [==============================] - 0s 4ms/step\n"
     ]
    }
   ],
   "source": [
    "Ypred_ts= model.predict(Xtest)"
   ]
  },
  {
   "cell_type": "code",
   "execution_count": 49,
   "metadata": {},
   "outputs": [
    {
     "data": {
      "text/plain": [
       "array([[ 412.54163 ],\n",
       "       [-456.21713 ],\n",
       "       [  41.589874],\n",
       "       [ 112.756874],\n",
       "       [-210.46277 ]], dtype=float32)"
      ]
     },
     "execution_count": 49,
     "metadata": {},
     "output_type": "execute_result"
    }
   ],
   "source": [
    "Ypred_tr[0:5]"
   ]
  },
  {
   "cell_type": "code",
   "execution_count": 50,
   "metadata": {},
   "outputs": [
    {
     "data": {
      "text/html": [
       "<div>\n",
       "<style scoped>\n",
       "    .dataframe tbody tr th:only-of-type {\n",
       "        vertical-align: middle;\n",
       "    }\n",
       "\n",
       "    .dataframe tbody tr th {\n",
       "        vertical-align: top;\n",
       "    }\n",
       "\n",
       "    .dataframe thead th {\n",
       "        text-align: right;\n",
       "    }\n",
       "</style>\n",
       "<table border=\"1\" class=\"dataframe\">\n",
       "  <thead>\n",
       "    <tr style=\"text-align: right;\">\n",
       "      <th></th>\n",
       "      <th>Y</th>\n",
       "    </tr>\n",
       "  </thead>\n",
       "  <tbody>\n",
       "    <tr>\n",
       "      <th>4227</th>\n",
       "      <td>421.295025</td>\n",
       "    </tr>\n",
       "    <tr>\n",
       "      <th>4676</th>\n",
       "      <td>-469.452726</td>\n",
       "    </tr>\n",
       "    <tr>\n",
       "      <th>800</th>\n",
       "      <td>42.172815</td>\n",
       "    </tr>\n",
       "    <tr>\n",
       "      <th>3671</th>\n",
       "      <td>114.083914</td>\n",
       "    </tr>\n",
       "    <tr>\n",
       "      <th>4193</th>\n",
       "      <td>-217.535707</td>\n",
       "    </tr>\n",
       "  </tbody>\n",
       "</table>\n",
       "</div>"
      ],
      "text/plain": [
       "               Y\n",
       "4227  421.295025\n",
       "4676 -469.452726\n",
       "800    42.172815\n",
       "3671  114.083914\n",
       "4193 -217.535707"
      ]
     },
     "execution_count": 50,
     "metadata": {},
     "output_type": "execute_result"
    }
   ],
   "source": [
    "Ytrain.head()"
   ]
  },
  {
   "cell_type": "code",
   "execution_count": 51,
   "metadata": {},
   "outputs": [
    {
     "data": {
      "text/plain": [
       "array([[ 297.26813],\n",
       "       [ -62.3435 ],\n",
       "       [-175.30643],\n",
       "       [ 232.23506],\n",
       "       [ 197.08208]], dtype=float32)"
      ]
     },
     "execution_count": 51,
     "metadata": {},
     "output_type": "execute_result"
    }
   ],
   "source": [
    "Ypred_ts[0:5]"
   ]
  },
  {
   "cell_type": "code",
   "execution_count": 53,
   "metadata": {},
   "outputs": [
    {
     "data": {
      "text/html": [
       "<div>\n",
       "<style scoped>\n",
       "    .dataframe tbody tr th:only-of-type {\n",
       "        vertical-align: middle;\n",
       "    }\n",
       "\n",
       "    .dataframe tbody tr th {\n",
       "        vertical-align: top;\n",
       "    }\n",
       "\n",
       "    .dataframe thead th {\n",
       "        text-align: right;\n",
       "    }\n",
       "</style>\n",
       "<table border=\"1\" class=\"dataframe\">\n",
       "  <thead>\n",
       "    <tr style=\"text-align: right;\">\n",
       "      <th></th>\n",
       "      <th>Y</th>\n",
       "    </tr>\n",
       "  </thead>\n",
       "  <tbody>\n",
       "    <tr>\n",
       "      <th>1501</th>\n",
       "      <td>297.782677</td>\n",
       "    </tr>\n",
       "    <tr>\n",
       "      <th>2586</th>\n",
       "      <td>-55.418700</td>\n",
       "    </tr>\n",
       "    <tr>\n",
       "      <th>2653</th>\n",
       "      <td>-181.896454</td>\n",
       "    </tr>\n",
       "    <tr>\n",
       "      <th>1055</th>\n",
       "      <td>210.251382</td>\n",
       "    </tr>\n",
       "    <tr>\n",
       "      <th>705</th>\n",
       "      <td>188.412050</td>\n",
       "    </tr>\n",
       "  </tbody>\n",
       "</table>\n",
       "</div>"
      ],
      "text/plain": [
       "               Y\n",
       "1501  297.782677\n",
       "2586  -55.418700\n",
       "2653 -181.896454\n",
       "1055  210.251382\n",
       "705   188.412050"
      ]
     },
     "execution_count": 53,
     "metadata": {},
     "output_type": "execute_result"
    }
   ],
   "source": [
    "Ytest.head()"
   ]
  },
  {
   "cell_type": "code",
   "execution_count": 54,
   "metadata": {},
   "outputs": [],
   "source": [
    "# Show R2 score in train & test"
   ]
  },
  {
   "cell_type": "code",
   "execution_count": 56,
   "metadata": {},
   "outputs": [],
   "source": [
    "from sklearn.metrics import r2_score"
   ]
  },
  {
   "cell_type": "code",
   "execution_count": 57,
   "metadata": {},
   "outputs": [
    {
     "data": {
      "text/plain": [
       "0.9989318120988981"
      ]
     },
     "execution_count": 57,
     "metadata": {},
     "output_type": "execute_result"
    }
   ],
   "source": [
    "tr_R2=r2_score (Ytrain,Ypred_tr)\n",
    "tr_R2"
   ]
  },
  {
   "cell_type": "code",
   "execution_count": 58,
   "metadata": {},
   "outputs": [
    {
     "data": {
      "text/plain": [
       "0.9982429576562798"
      ]
     },
     "execution_count": 58,
     "metadata": {},
     "output_type": "execute_result"
    }
   ],
   "source": [
    "ts_R2=r2_score (Ytest,Ypred_ts)\n",
    "ts_R2"
   ]
  },
  {
   "cell_type": "code",
   "execution_count": 59,
   "metadata": {},
   "outputs": [],
   "source": [
    "# Solve "
   ]
  },
  {
   "cell_type": "code",
   "execution_count": 61,
   "metadata": {},
   "outputs": [
    {
     "name": "stdout",
     "output_type": "stream",
     "text": [
      "INFO:tensorflow:Assets written to: Example Regression keras\\assets\n"
     ]
    },
    {
     "name": "stderr",
     "output_type": "stream",
     "text": [
      "INFO:tensorflow:Assets written to: Example Regression keras\\assets\n"
     ]
    }
   ],
   "source": [
    "model.save(\"Example Regression keras\")"
   ]
  },
  {
   "cell_type": "code",
   "execution_count": 62,
   "metadata": {},
   "outputs": [],
   "source": [
    "# Loading the model"
   ]
  },
  {
   "cell_type": "code",
   "execution_count": 63,
   "metadata": {},
   "outputs": [],
   "source": [
    "from keras.models import load_model"
   ]
  },
  {
   "cell_type": "code",
   "execution_count": 64,
   "metadata": {},
   "outputs": [
    {
     "name": "stdout",
     "output_type": "stream",
     "text": [
      "WARNING:tensorflow:From d:\\Cources\\Deep Learning\\repository\\venv\\lib\\site-packages\\keras\\src\\saving\\legacy\\saved_model\\load.py:107: The name tf.gfile.Exists is deprecated. Please use tf.io.gfile.exists instead.\n",
      "\n"
     ]
    },
    {
     "name": "stderr",
     "output_type": "stream",
     "text": [
      "WARNING:tensorflow:From d:\\Cources\\Deep Learning\\repository\\venv\\lib\\site-packages\\keras\\src\\saving\\legacy\\saved_model\\load.py:107: The name tf.gfile.Exists is deprecated. Please use tf.io.gfile.exists instead.\n",
      "\n"
     ]
    }
   ],
   "source": [
    "nn=load_model(\"Example Regression keras\")"
   ]
  },
  {
   "cell_type": "code",
   "execution_count": 66,
   "metadata": {},
   "outputs": [
    {
     "name": "stdout",
     "output_type": "stream",
     "text": [
      "Model: \"sequential\"\n",
      "_________________________________________________________________\n",
      " Layer (type)                Output Shape              Param #   \n",
      "=================================================================\n",
      " dense (Dense)               (None, 64)                1984      \n",
      "                                                                 \n",
      " dense_1 (Dense)             (None, 32)                2080      \n",
      "                                                                 \n",
      " dense_2 (Dense)             (None, 1)                 33        \n",
      "                                                                 \n",
      "=================================================================\n",
      "Total params: 4097 (16.00 KB)\n",
      "Trainable params: 4097 (16.00 KB)\n",
      "Non-trainable params: 0 (0.00 Byte)\n",
      "_________________________________________________________________\n"
     ]
    }
   ],
   "source": [
    "nn.summary()"
   ]
  },
  {
   "cell_type": "code",
   "execution_count": null,
   "metadata": {},
   "outputs": [],
   "source": []
  }
 ],
 "metadata": {
  "kernelspec": {
   "display_name": "venv",
   "language": "python",
   "name": "python3"
  },
  "language_info": {
   "codemirror_mode": {
    "name": "ipython",
    "version": 3
   },
   "file_extension": ".py",
   "mimetype": "text/x-python",
   "name": "python",
   "nbconvert_exporter": "python",
   "pygments_lexer": "ipython3",
   "version": "3.10.9"
  }
 },
 "nbformat": 4,
 "nbformat_minor": 2
}
